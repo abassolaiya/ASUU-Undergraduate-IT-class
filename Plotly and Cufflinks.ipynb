{
 "cells": [
  {
   "cell_type": "markdown",
   "metadata": {},
   "source": [
    "___\n",
    "\n",
    "___\n",
    "# Plotly and Cufflinks"
   ]
  },
  {
   "cell_type": "markdown",
   "metadata": {},
   "source": [
    "Plotly is a library that allows you to create interactive plots that you can use in dashboards or websites (you can save them as html files or static images).\n",
    "\n",
    "## Installation\n",
    "\n",
    "In order for this all to work, you'll need to install plotly and cufflinks to call plots directly off of a pandas dataframe. These libraries are not currently available through **conda** but are available through **pip**. Install the libraries at your command line/terminal using:\n",
    "\n",
    "    pip install plotly\n",
    "    pip install cufflinks\n",
    "\n",
    "** NOTE: Make sure you only have one installation of Python on your computer when you do this, otherwise the installation may not work. **\n",
    "\n",
    "## Imports and Set-up"
   ]
  },
  {
   "cell_type": "code",
   "execution_count": 1,
   "metadata": {
    "scrolled": false
   },
   "outputs": [],
   "source": [
    "# !pip install plotly\n",
    "# !pip install cufflinks\n",
    "import pandas as pd\n",
    "import numpy as np\n",
    "%matplotlib inline"
   ]
  },
  {
   "cell_type": "code",
   "execution_count": 2,
   "metadata": {},
   "outputs": [],
   "source": [
    "import pandas as pd\n",
    "import numpy as np\n",
    "%matplotlib inline"
   ]
  },
  {
   "cell_type": "code",
   "execution_count": 3,
   "metadata": {},
   "outputs": [
    {
     "name": "stdout",
     "output_type": "stream",
     "text": [
      "5.3.1\n"
     ]
    }
   ],
   "source": [
    "from plotly import __version__\n",
    "from plotly.offline import download_plotlyjs, init_notebook_mode, plot, iplot\n",
    "\n",
    "print(__version__) # requires version >= 1.9.0"
   ]
  },
  {
   "cell_type": "code",
   "execution_count": 4,
   "metadata": {},
   "outputs": [],
   "source": [
    "import cufflinks as cf"
   ]
  },
  {
   "cell_type": "code",
   "execution_count": 5,
   "metadata": {},
   "outputs": [
    {
     "data": {
      "text/html": [
       "        <script type=\"text/javascript\">\n",
       "        window.PlotlyConfig = {MathJaxConfig: 'local'};\n",
       "        if (window.MathJax) {MathJax.Hub.Config({SVG: {font: \"STIX-Web\"}});}\n",
       "        if (typeof require !== 'undefined') {\n",
       "        require.undef(\"plotly\");\n",
       "        requirejs.config({\n",
       "            paths: {\n",
       "                'plotly': ['https://cdn.plot.ly/plotly-2.4.2.min']\n",
       "            }\n",
       "        });\n",
       "        require(['plotly'], function(Plotly) {\n",
       "            window._Plotly = Plotly;\n",
       "        });\n",
       "        }\n",
       "        </script>\n",
       "        "
      ]
     },
     "metadata": {},
     "output_type": "display_data"
    }
   ],
   "source": [
    "# For Notebooks\n",
    "init_notebook_mode(connected=True)"
   ]
  },
  {
   "cell_type": "code",
   "execution_count": 6,
   "metadata": {},
   "outputs": [
    {
     "data": {
      "text/html": [
       "        <script type=\"text/javascript\">\n",
       "        window.PlotlyConfig = {MathJaxConfig: 'local'};\n",
       "        if (window.MathJax) {MathJax.Hub.Config({SVG: {font: \"STIX-Web\"}});}\n",
       "        if (typeof require !== 'undefined') {\n",
       "        require.undef(\"plotly\");\n",
       "        requirejs.config({\n",
       "            paths: {\n",
       "                'plotly': ['https://cdn.plot.ly/plotly-2.4.2.min']\n",
       "            }\n",
       "        });\n",
       "        require(['plotly'], function(Plotly) {\n",
       "            window._Plotly = Plotly;\n",
       "        });\n",
       "        }\n",
       "        </script>\n",
       "        "
      ]
     },
     "metadata": {},
     "output_type": "display_data"
    }
   ],
   "source": [
    "# For offline use\n",
    "cf.go_offline()"
   ]
  },
  {
   "cell_type": "markdown",
   "metadata": {},
   "source": [
    "### Fake Data"
   ]
  },
  {
   "cell_type": "code",
   "execution_count": 7,
   "metadata": {},
   "outputs": [],
   "source": [
    "df = pd.DataFrame(np.random.randn(100,4),columns='A B C D'.split())"
   ]
  },
  {
   "cell_type": "code",
   "execution_count": 8,
   "metadata": {},
   "outputs": [
    {
     "data": {
      "text/html": [
       "<div>\n",
       "<style scoped>\n",
       "    .dataframe tbody tr th:only-of-type {\n",
       "        vertical-align: middle;\n",
       "    }\n",
       "\n",
       "    .dataframe tbody tr th {\n",
       "        vertical-align: top;\n",
       "    }\n",
       "\n",
       "    .dataframe thead th {\n",
       "        text-align: right;\n",
       "    }\n",
       "</style>\n",
       "<table border=\"1\" class=\"dataframe\">\n",
       "  <thead>\n",
       "    <tr style=\"text-align: right;\">\n",
       "      <th></th>\n",
       "      <th>A</th>\n",
       "      <th>B</th>\n",
       "      <th>C</th>\n",
       "      <th>D</th>\n",
       "    </tr>\n",
       "  </thead>\n",
       "  <tbody>\n",
       "    <tr>\n",
       "      <th>0</th>\n",
       "      <td>0.027241</td>\n",
       "      <td>-1.229950</td>\n",
       "      <td>2.026932</td>\n",
       "      <td>-0.348386</td>\n",
       "    </tr>\n",
       "    <tr>\n",
       "      <th>1</th>\n",
       "      <td>0.461467</td>\n",
       "      <td>0.576125</td>\n",
       "      <td>0.390074</td>\n",
       "      <td>1.181842</td>\n",
       "    </tr>\n",
       "    <tr>\n",
       "      <th>2</th>\n",
       "      <td>0.373758</td>\n",
       "      <td>0.443922</td>\n",
       "      <td>-0.550970</td>\n",
       "      <td>1.127414</td>\n",
       "    </tr>\n",
       "    <tr>\n",
       "      <th>3</th>\n",
       "      <td>-1.456034</td>\n",
       "      <td>0.448269</td>\n",
       "      <td>0.412381</td>\n",
       "      <td>-0.850534</td>\n",
       "    </tr>\n",
       "    <tr>\n",
       "      <th>4</th>\n",
       "      <td>0.057340</td>\n",
       "      <td>0.439119</td>\n",
       "      <td>1.330038</td>\n",
       "      <td>-1.054505</td>\n",
       "    </tr>\n",
       "  </tbody>\n",
       "</table>\n",
       "</div>"
      ],
      "text/plain": [
       "          A         B         C         D\n",
       "0  0.027241 -1.229950  2.026932 -0.348386\n",
       "1  0.461467  0.576125  0.390074  1.181842\n",
       "2  0.373758  0.443922 -0.550970  1.127414\n",
       "3 -1.456034  0.448269  0.412381 -0.850534\n",
       "4  0.057340  0.439119  1.330038 -1.054505"
      ]
     },
     "execution_count": 8,
     "metadata": {},
     "output_type": "execute_result"
    }
   ],
   "source": [
    "df.head()"
   ]
  },
  {
   "cell_type": "code",
   "execution_count": 9,
   "metadata": {},
   "outputs": [],
   "source": [
    "df2 = pd.DataFrame({'Category':['A','B','C'],'Values':[32,43,50]})"
   ]
  },
  {
   "cell_type": "code",
   "execution_count": 10,
   "metadata": {},
   "outputs": [
    {
     "data": {
      "text/html": [
       "<div>\n",
       "<style scoped>\n",
       "    .dataframe tbody tr th:only-of-type {\n",
       "        vertical-align: middle;\n",
       "    }\n",
       "\n",
       "    .dataframe tbody tr th {\n",
       "        vertical-align: top;\n",
       "    }\n",
       "\n",
       "    .dataframe thead th {\n",
       "        text-align: right;\n",
       "    }\n",
       "</style>\n",
       "<table border=\"1\" class=\"dataframe\">\n",
       "  <thead>\n",
       "    <tr style=\"text-align: right;\">\n",
       "      <th></th>\n",
       "      <th>Category</th>\n",
       "      <th>Values</th>\n",
       "    </tr>\n",
       "  </thead>\n",
       "  <tbody>\n",
       "    <tr>\n",
       "      <th>0</th>\n",
       "      <td>A</td>\n",
       "      <td>32</td>\n",
       "    </tr>\n",
       "    <tr>\n",
       "      <th>1</th>\n",
       "      <td>B</td>\n",
       "      <td>43</td>\n",
       "    </tr>\n",
       "    <tr>\n",
       "      <th>2</th>\n",
       "      <td>C</td>\n",
       "      <td>50</td>\n",
       "    </tr>\n",
       "  </tbody>\n",
       "</table>\n",
       "</div>"
      ],
      "text/plain": [
       "  Category  Values\n",
       "0        A      32\n",
       "1        B      43\n",
       "2        C      50"
      ]
     },
     "execution_count": 10,
     "metadata": {},
     "output_type": "execute_result"
    }
   ],
   "source": [
    "df2.head()"
   ]
  },
  {
   "cell_type": "markdown",
   "metadata": {},
   "source": [
    "## Using Cufflinks and iplot()\n",
    "\n",
    "* scatter\n",
    "* bar\n",
    "* box\n",
    "* spread\n",
    "* ratio\n",
    "* heatmap\n",
    "* surface\n",
    "* histogram\n",
    "* bubble"
   ]
  },
  {
   "cell_type": "markdown",
   "metadata": {},
   "source": [
    "## Scatter"
   ]
  },
  {
   "cell_type": "code",
   "execution_count": 11,
   "metadata": {},
   "outputs": [
    {
     "data": {
      "application/vnd.plotly.v1+json": {
       "config": {
        "linkText": "Export to plot.ly",
        "plotlyServerURL": "https://plot.ly",
        "showLink": true
       },
       "data": [
        {
         "line": {
          "color": "rgba(255, 153, 51, 1.0)",
          "dash": "solid",
          "shape": "linear",
          "width": 1.3
         },
         "marker": {
          "size": 10,
          "symbol": "circle"
         },
         "mode": "markers",
         "name": "B",
         "text": "",
         "type": "scatter",
         "x": [
          0.027241215754599653,
          0.461466942154424,
          0.3737578251714141,
          -1.4560336370431364,
          0.05734000875052292,
          -0.6934160050389406,
          -0.12917756125043053,
          0.5419506235849016,
          -1.1012631192337687,
          0.24570141978914636,
          0.01087999684740408,
          0.8100012366208713,
          -0.7030304225159633,
          -0.5946926572342286,
          -0.44511995840997504,
          0.23427398696523208,
          0.4160578404859543,
          -3.2493969232153423,
          -0.4734991876936832,
          -0.07570748157761908,
          0.3528977639604107,
          -0.21581152640941356,
          0.13976768152913263,
          0.9467098790676365,
          -0.23273491103119384,
          0.0389850989077991,
          -0.22939906198068014,
          0.8637838686080933,
          -1.1369014503927326,
          0.7526257977466814,
          0.41974541451444486,
          -0.29463973256237136,
          -2.176829559215304,
          -1.5302922998315613,
          0.35842273997828183,
          1.7264403465548985,
          -0.3653450892096323,
          -0.31695509980092507,
          -1.0558192787782297,
          -1.304349636163735,
          2.257323133922572,
          -0.10041675052728624,
          -2.24397916062139,
          -0.5589838760811628,
          -1.20295960227409,
          0.0026320539461168204,
          -0.2865627041840873,
          0.541803777541615,
          0.6300582728619144,
          -2.5053795527591367,
          -0.46316045798202704,
          -1.8274300715054332,
          -0.5586514125300802,
          0.3189194724183755,
          -1.685811925308102,
          -0.8428118098322996,
          0.80016486621426,
          0.5459717323447757,
          0.8643649166999295,
          -0.5740222161144256,
          -0.7179033509334194,
          -2.5019769582607734,
          -0.03892926260196354,
          -0.5500802354222613,
          1.2596761814939812,
          0.7347475008736277,
          -0.48819951705315184,
          -0.7205060770260235,
          -0.38233687263659966,
          0.4165865401847979,
          0.08270946347414312,
          0.04582443872299958,
          -2.839154713525733,
          1.4345342033741435,
          0.2590541572647937,
          -0.7046726386164505,
          -0.9473258446696663,
          -0.6517931146311408,
          1.0110736188093266,
          -0.5833457105696599,
          0.8982890815734496,
          0.5013034542613344,
          2.464532736067224,
          1.2612335926418747,
          0.536455461831126,
          1.934995588665759,
          -2.5219462688804963,
          0.628745198471256,
          -2.4809074077695996,
          1.6053651644968228,
          -0.2464413181810761,
          -1.4132000544481975,
          0.1868646453584373,
          0.7744526830342858,
          -0.7831732804063224,
          -2.2172665385010206,
          0.6368751852482623,
          0.11593761473734172,
          0.6190387568185067,
          -1.2760951982159945
         ],
         "y": [
          -1.2299495303316792,
          0.5761251925679554,
          0.4439223748334115,
          0.4482693887595382,
          0.4391188657924199,
          -0.6090184804140729,
          0.7739033993514225,
          -0.1858044672741451,
          -1.5004542493562412,
          0.2661389565905993,
          -1.0307976300658042,
          -2.02562399847762,
          -0.7753946361284771,
          -0.024092807303725004,
          -1.5488851006659816,
          -0.40608690106156453,
          -1.7875493827221627,
          1.0978120233875932,
          1.2796131600904732,
          -0.24566124104260884,
          2.1512327284437016,
          1.0702943810199417,
          -0.16948194839928224,
          0.633425338273376,
          -0.12053714748320615,
          -0.7084391381390437,
          1.2122343306242827,
          -0.5531661180518929,
          0.6760646031687255,
          -0.8600719233782612,
          0.6307408183438546,
          0.736114624702335,
          0.8211645861435984,
          -0.9063307935843637,
          -0.4618678949453949,
          0.640819882423184,
          0.255985632683679,
          0.44050250308581096,
          -0.5098792189564512,
          0.6612370454506209,
          -0.4600852985179216,
          1.3928542342840358,
          0.8823525659375652,
          0.607283903701555,
          -2.4441288988197107,
          -0.8644188008705929,
          -0.532690495638404,
          0.12512387164939145,
          -0.7233303308661587,
          -0.23976137531649747,
          1.5587585887796735,
          -0.3530505109153326,
          -0.7056602818285378,
          0.4035688891271258,
          -0.8327362135840342,
          -1.313239469889929,
          -0.6277207975245217,
          -0.06658365119250485,
          -0.7808892284561406,
          -0.3748780636142635,
          -0.38299456605242604,
          -0.6325698902459843,
          -0.37089771726844656,
          0.32138636034575196,
          0.6727738971760795,
          -0.3945422734138908,
          2.9500615298764727,
          1.5519218449607535,
          0.4797694345031922,
          0.6423701460270103,
          -1.9708893650276542,
          1.1646789788732854,
          0.9515688528861517,
          1.4511554272385823,
          -0.20150822013810582,
          0.2606018888417338,
          -0.2510612853910099,
          2.130016703150938,
          1.63705915645,
          0.39847523494422377,
          1.0184562083723192,
          -0.5382357322422255,
          2.483246044560773,
          0.8526701202253368,
          -1.2948330224433153,
          1.3410500034685415,
          0.2624724820130176,
          0.42655832078624994,
          1.4132672701391868,
          -0.8391493300974192,
          -1.231514045828351,
          -2.0535105642667326,
          -0.8008456977267329,
          -0.38365075218860983,
          0.8430333327693967,
          1.1505882799513372,
          -1.3125282714743989,
          0.7942258301306302,
          -0.8030278933285362,
          0.023210838012871562
         ]
        }
       ],
       "layout": {
        "legend": {
         "bgcolor": "#F5F6F9",
         "font": {
          "color": "#4D5663"
         }
        },
        "paper_bgcolor": "#F5F6F9",
        "plot_bgcolor": "#F5F6F9",
        "template": {
         "data": {
          "bar": [
           {
            "error_x": {
             "color": "#2a3f5f"
            },
            "error_y": {
             "color": "#2a3f5f"
            },
            "marker": {
             "line": {
              "color": "#E5ECF6",
              "width": 0.5
             },
             "pattern": {
              "fillmode": "overlay",
              "size": 10,
              "solidity": 0.2
             }
            },
            "type": "bar"
           }
          ],
          "barpolar": [
           {
            "marker": {
             "line": {
              "color": "#E5ECF6",
              "width": 0.5
             },
             "pattern": {
              "fillmode": "overlay",
              "size": 10,
              "solidity": 0.2
             }
            },
            "type": "barpolar"
           }
          ],
          "carpet": [
           {
            "aaxis": {
             "endlinecolor": "#2a3f5f",
             "gridcolor": "white",
             "linecolor": "white",
             "minorgridcolor": "white",
             "startlinecolor": "#2a3f5f"
            },
            "baxis": {
             "endlinecolor": "#2a3f5f",
             "gridcolor": "white",
             "linecolor": "white",
             "minorgridcolor": "white",
             "startlinecolor": "#2a3f5f"
            },
            "type": "carpet"
           }
          ],
          "choropleth": [
           {
            "colorbar": {
             "outlinewidth": 0,
             "ticks": ""
            },
            "type": "choropleth"
           }
          ],
          "contour": [
           {
            "colorbar": {
             "outlinewidth": 0,
             "ticks": ""
            },
            "colorscale": [
             [
              0,
              "#0d0887"
             ],
             [
              0.1111111111111111,
              "#46039f"
             ],
             [
              0.2222222222222222,
              "#7201a8"
             ],
             [
              0.3333333333333333,
              "#9c179e"
             ],
             [
              0.4444444444444444,
              "#bd3786"
             ],
             [
              0.5555555555555556,
              "#d8576b"
             ],
             [
              0.6666666666666666,
              "#ed7953"
             ],
             [
              0.7777777777777778,
              "#fb9f3a"
             ],
             [
              0.8888888888888888,
              "#fdca26"
             ],
             [
              1,
              "#f0f921"
             ]
            ],
            "type": "contour"
           }
          ],
          "contourcarpet": [
           {
            "colorbar": {
             "outlinewidth": 0,
             "ticks": ""
            },
            "type": "contourcarpet"
           }
          ],
          "heatmap": [
           {
            "colorbar": {
             "outlinewidth": 0,
             "ticks": ""
            },
            "colorscale": [
             [
              0,
              "#0d0887"
             ],
             [
              0.1111111111111111,
              "#46039f"
             ],
             [
              0.2222222222222222,
              "#7201a8"
             ],
             [
              0.3333333333333333,
              "#9c179e"
             ],
             [
              0.4444444444444444,
              "#bd3786"
             ],
             [
              0.5555555555555556,
              "#d8576b"
             ],
             [
              0.6666666666666666,
              "#ed7953"
             ],
             [
              0.7777777777777778,
              "#fb9f3a"
             ],
             [
              0.8888888888888888,
              "#fdca26"
             ],
             [
              1,
              "#f0f921"
             ]
            ],
            "type": "heatmap"
           }
          ],
          "heatmapgl": [
           {
            "colorbar": {
             "outlinewidth": 0,
             "ticks": ""
            },
            "colorscale": [
             [
              0,
              "#0d0887"
             ],
             [
              0.1111111111111111,
              "#46039f"
             ],
             [
              0.2222222222222222,
              "#7201a8"
             ],
             [
              0.3333333333333333,
              "#9c179e"
             ],
             [
              0.4444444444444444,
              "#bd3786"
             ],
             [
              0.5555555555555556,
              "#d8576b"
             ],
             [
              0.6666666666666666,
              "#ed7953"
             ],
             [
              0.7777777777777778,
              "#fb9f3a"
             ],
             [
              0.8888888888888888,
              "#fdca26"
             ],
             [
              1,
              "#f0f921"
             ]
            ],
            "type": "heatmapgl"
           }
          ],
          "histogram": [
           {
            "marker": {
             "pattern": {
              "fillmode": "overlay",
              "size": 10,
              "solidity": 0.2
             }
            },
            "type": "histogram"
           }
          ],
          "histogram2d": [
           {
            "colorbar": {
             "outlinewidth": 0,
             "ticks": ""
            },
            "colorscale": [
             [
              0,
              "#0d0887"
             ],
             [
              0.1111111111111111,
              "#46039f"
             ],
             [
              0.2222222222222222,
              "#7201a8"
             ],
             [
              0.3333333333333333,
              "#9c179e"
             ],
             [
              0.4444444444444444,
              "#bd3786"
             ],
             [
              0.5555555555555556,
              "#d8576b"
             ],
             [
              0.6666666666666666,
              "#ed7953"
             ],
             [
              0.7777777777777778,
              "#fb9f3a"
             ],
             [
              0.8888888888888888,
              "#fdca26"
             ],
             [
              1,
              "#f0f921"
             ]
            ],
            "type": "histogram2d"
           }
          ],
          "histogram2dcontour": [
           {
            "colorbar": {
             "outlinewidth": 0,
             "ticks": ""
            },
            "colorscale": [
             [
              0,
              "#0d0887"
             ],
             [
              0.1111111111111111,
              "#46039f"
             ],
             [
              0.2222222222222222,
              "#7201a8"
             ],
             [
              0.3333333333333333,
              "#9c179e"
             ],
             [
              0.4444444444444444,
              "#bd3786"
             ],
             [
              0.5555555555555556,
              "#d8576b"
             ],
             [
              0.6666666666666666,
              "#ed7953"
             ],
             [
              0.7777777777777778,
              "#fb9f3a"
             ],
             [
              0.8888888888888888,
              "#fdca26"
             ],
             [
              1,
              "#f0f921"
             ]
            ],
            "type": "histogram2dcontour"
           }
          ],
          "mesh3d": [
           {
            "colorbar": {
             "outlinewidth": 0,
             "ticks": ""
            },
            "type": "mesh3d"
           }
          ],
          "parcoords": [
           {
            "line": {
             "colorbar": {
              "outlinewidth": 0,
              "ticks": ""
             }
            },
            "type": "parcoords"
           }
          ],
          "pie": [
           {
            "automargin": true,
            "type": "pie"
           }
          ],
          "scatter": [
           {
            "marker": {
             "colorbar": {
              "outlinewidth": 0,
              "ticks": ""
             }
            },
            "type": "scatter"
           }
          ],
          "scatter3d": [
           {
            "line": {
             "colorbar": {
              "outlinewidth": 0,
              "ticks": ""
             }
            },
            "marker": {
             "colorbar": {
              "outlinewidth": 0,
              "ticks": ""
             }
            },
            "type": "scatter3d"
           }
          ],
          "scattercarpet": [
           {
            "marker": {
             "colorbar": {
              "outlinewidth": 0,
              "ticks": ""
             }
            },
            "type": "scattercarpet"
           }
          ],
          "scattergeo": [
           {
            "marker": {
             "colorbar": {
              "outlinewidth": 0,
              "ticks": ""
             }
            },
            "type": "scattergeo"
           }
          ],
          "scattergl": [
           {
            "marker": {
             "colorbar": {
              "outlinewidth": 0,
              "ticks": ""
             }
            },
            "type": "scattergl"
           }
          ],
          "scattermapbox": [
           {
            "marker": {
             "colorbar": {
              "outlinewidth": 0,
              "ticks": ""
             }
            },
            "type": "scattermapbox"
           }
          ],
          "scatterpolar": [
           {
            "marker": {
             "colorbar": {
              "outlinewidth": 0,
              "ticks": ""
             }
            },
            "type": "scatterpolar"
           }
          ],
          "scatterpolargl": [
           {
            "marker": {
             "colorbar": {
              "outlinewidth": 0,
              "ticks": ""
             }
            },
            "type": "scatterpolargl"
           }
          ],
          "scatterternary": [
           {
            "marker": {
             "colorbar": {
              "outlinewidth": 0,
              "ticks": ""
             }
            },
            "type": "scatterternary"
           }
          ],
          "surface": [
           {
            "colorbar": {
             "outlinewidth": 0,
             "ticks": ""
            },
            "colorscale": [
             [
              0,
              "#0d0887"
             ],
             [
              0.1111111111111111,
              "#46039f"
             ],
             [
              0.2222222222222222,
              "#7201a8"
             ],
             [
              0.3333333333333333,
              "#9c179e"
             ],
             [
              0.4444444444444444,
              "#bd3786"
             ],
             [
              0.5555555555555556,
              "#d8576b"
             ],
             [
              0.6666666666666666,
              "#ed7953"
             ],
             [
              0.7777777777777778,
              "#fb9f3a"
             ],
             [
              0.8888888888888888,
              "#fdca26"
             ],
             [
              1,
              "#f0f921"
             ]
            ],
            "type": "surface"
           }
          ],
          "table": [
           {
            "cells": {
             "fill": {
              "color": "#EBF0F8"
             },
             "line": {
              "color": "white"
             }
            },
            "header": {
             "fill": {
              "color": "#C8D4E3"
             },
             "line": {
              "color": "white"
             }
            },
            "type": "table"
           }
          ]
         },
         "layout": {
          "annotationdefaults": {
           "arrowcolor": "#2a3f5f",
           "arrowhead": 0,
           "arrowwidth": 1
          },
          "autotypenumbers": "strict",
          "coloraxis": {
           "colorbar": {
            "outlinewidth": 0,
            "ticks": ""
           }
          },
          "colorscale": {
           "diverging": [
            [
             0,
             "#8e0152"
            ],
            [
             0.1,
             "#c51b7d"
            ],
            [
             0.2,
             "#de77ae"
            ],
            [
             0.3,
             "#f1b6da"
            ],
            [
             0.4,
             "#fde0ef"
            ],
            [
             0.5,
             "#f7f7f7"
            ],
            [
             0.6,
             "#e6f5d0"
            ],
            [
             0.7,
             "#b8e186"
            ],
            [
             0.8,
             "#7fbc41"
            ],
            [
             0.9,
             "#4d9221"
            ],
            [
             1,
             "#276419"
            ]
           ],
           "sequential": [
            [
             0,
             "#0d0887"
            ],
            [
             0.1111111111111111,
             "#46039f"
            ],
            [
             0.2222222222222222,
             "#7201a8"
            ],
            [
             0.3333333333333333,
             "#9c179e"
            ],
            [
             0.4444444444444444,
             "#bd3786"
            ],
            [
             0.5555555555555556,
             "#d8576b"
            ],
            [
             0.6666666666666666,
             "#ed7953"
            ],
            [
             0.7777777777777778,
             "#fb9f3a"
            ],
            [
             0.8888888888888888,
             "#fdca26"
            ],
            [
             1,
             "#f0f921"
            ]
           ],
           "sequentialminus": [
            [
             0,
             "#0d0887"
            ],
            [
             0.1111111111111111,
             "#46039f"
            ],
            [
             0.2222222222222222,
             "#7201a8"
            ],
            [
             0.3333333333333333,
             "#9c179e"
            ],
            [
             0.4444444444444444,
             "#bd3786"
            ],
            [
             0.5555555555555556,
             "#d8576b"
            ],
            [
             0.6666666666666666,
             "#ed7953"
            ],
            [
             0.7777777777777778,
             "#fb9f3a"
            ],
            [
             0.8888888888888888,
             "#fdca26"
            ],
            [
             1,
             "#f0f921"
            ]
           ]
          },
          "colorway": [
           "#636efa",
           "#EF553B",
           "#00cc96",
           "#ab63fa",
           "#FFA15A",
           "#19d3f3",
           "#FF6692",
           "#B6E880",
           "#FF97FF",
           "#FECB52"
          ],
          "font": {
           "color": "#2a3f5f"
          },
          "geo": {
           "bgcolor": "white",
           "lakecolor": "white",
           "landcolor": "#E5ECF6",
           "showlakes": true,
           "showland": true,
           "subunitcolor": "white"
          },
          "hoverlabel": {
           "align": "left"
          },
          "hovermode": "closest",
          "mapbox": {
           "style": "light"
          },
          "paper_bgcolor": "white",
          "plot_bgcolor": "#E5ECF6",
          "polar": {
           "angularaxis": {
            "gridcolor": "white",
            "linecolor": "white",
            "ticks": ""
           },
           "bgcolor": "#E5ECF6",
           "radialaxis": {
            "gridcolor": "white",
            "linecolor": "white",
            "ticks": ""
           }
          },
          "scene": {
           "xaxis": {
            "backgroundcolor": "#E5ECF6",
            "gridcolor": "white",
            "gridwidth": 2,
            "linecolor": "white",
            "showbackground": true,
            "ticks": "",
            "zerolinecolor": "white"
           },
           "yaxis": {
            "backgroundcolor": "#E5ECF6",
            "gridcolor": "white",
            "gridwidth": 2,
            "linecolor": "white",
            "showbackground": true,
            "ticks": "",
            "zerolinecolor": "white"
           },
           "zaxis": {
            "backgroundcolor": "#E5ECF6",
            "gridcolor": "white",
            "gridwidth": 2,
            "linecolor": "white",
            "showbackground": true,
            "ticks": "",
            "zerolinecolor": "white"
           }
          },
          "shapedefaults": {
           "line": {
            "color": "#2a3f5f"
           }
          },
          "ternary": {
           "aaxis": {
            "gridcolor": "white",
            "linecolor": "white",
            "ticks": ""
           },
           "baxis": {
            "gridcolor": "white",
            "linecolor": "white",
            "ticks": ""
           },
           "bgcolor": "#E5ECF6",
           "caxis": {
            "gridcolor": "white",
            "linecolor": "white",
            "ticks": ""
           }
          },
          "title": {
           "x": 0.05
          },
          "xaxis": {
           "automargin": true,
           "gridcolor": "white",
           "linecolor": "white",
           "ticks": "",
           "title": {
            "standoff": 15
           },
           "zerolinecolor": "white",
           "zerolinewidth": 2
          },
          "yaxis": {
           "automargin": true,
           "gridcolor": "white",
           "linecolor": "white",
           "ticks": "",
           "title": {
            "standoff": 15
           },
           "zerolinecolor": "white",
           "zerolinewidth": 2
          }
         }
        },
        "title": {
         "font": {
          "color": "#4D5663"
         }
        },
        "xaxis": {
         "gridcolor": "#E1E5ED",
         "showgrid": true,
         "tickfont": {
          "color": "#4D5663"
         },
         "title": {
          "font": {
           "color": "#4D5663"
          },
          "text": ""
         },
         "zerolinecolor": "#E1E5ED"
        },
        "yaxis": {
         "gridcolor": "#E1E5ED",
         "showgrid": true,
         "tickfont": {
          "color": "#4D5663"
         },
         "title": {
          "font": {
           "color": "#4D5663"
          },
          "text": ""
         },
         "zerolinecolor": "#E1E5ED"
        }
       }
      },
      "text/html": [
       "<div>                            <div id=\"dae12391-2171-4366-b3b8-503630606484\" class=\"plotly-graph-div\" style=\"height:525px; width:100%;\"></div>            <script type=\"text/javascript\">                require([\"plotly\"], function(Plotly) {                    window.PLOTLYENV=window.PLOTLYENV || {};\n",
       "                    window.PLOTLYENV.BASE_URL='https://plot.ly';                                    if (document.getElementById(\"dae12391-2171-4366-b3b8-503630606484\")) {                    Plotly.newPlot(                        \"dae12391-2171-4366-b3b8-503630606484\",                        [{\"line\":{\"color\":\"rgba(255, 153, 51, 1.0)\",\"dash\":\"solid\",\"shape\":\"linear\",\"width\":1.3},\"marker\":{\"size\":10,\"symbol\":\"circle\"},\"mode\":\"markers\",\"name\":\"B\",\"text\":\"\",\"type\":\"scatter\",\"x\":[0.027241215754599653,0.461466942154424,0.3737578251714141,-1.4560336370431364,0.05734000875052292,-0.6934160050389406,-0.12917756125043053,0.5419506235849016,-1.1012631192337687,0.24570141978914636,0.01087999684740408,0.8100012366208713,-0.7030304225159633,-0.5946926572342286,-0.44511995840997504,0.23427398696523208,0.4160578404859543,-3.2493969232153423,-0.4734991876936832,-0.07570748157761908,0.3528977639604107,-0.21581152640941356,0.13976768152913263,0.9467098790676365,-0.23273491103119384,0.0389850989077991,-0.22939906198068014,0.8637838686080933,-1.1369014503927326,0.7526257977466814,0.41974541451444486,-0.29463973256237136,-2.176829559215304,-1.5302922998315613,0.35842273997828183,1.7264403465548985,-0.3653450892096323,-0.31695509980092507,-1.0558192787782297,-1.304349636163735,2.257323133922572,-0.10041675052728624,-2.24397916062139,-0.5589838760811628,-1.20295960227409,0.0026320539461168204,-0.2865627041840873,0.541803777541615,0.6300582728619144,-2.5053795527591367,-0.46316045798202704,-1.8274300715054332,-0.5586514125300802,0.3189194724183755,-1.685811925308102,-0.8428118098322996,0.80016486621426,0.5459717323447757,0.8643649166999295,-0.5740222161144256,-0.7179033509334194,-2.5019769582607734,-0.03892926260196354,-0.5500802354222613,1.2596761814939812,0.7347475008736277,-0.48819951705315184,-0.7205060770260235,-0.38233687263659966,0.4165865401847979,0.08270946347414312,0.04582443872299958,-2.839154713525733,1.4345342033741435,0.2590541572647937,-0.7046726386164505,-0.9473258446696663,-0.6517931146311408,1.0110736188093266,-0.5833457105696599,0.8982890815734496,0.5013034542613344,2.464532736067224,1.2612335926418747,0.536455461831126,1.934995588665759,-2.5219462688804963,0.628745198471256,-2.4809074077695996,1.6053651644968228,-0.2464413181810761,-1.4132000544481975,0.1868646453584373,0.7744526830342858,-0.7831732804063224,-2.2172665385010206,0.6368751852482623,0.11593761473734172,0.6190387568185067,-1.2760951982159945],\"y\":[-1.2299495303316792,0.5761251925679554,0.4439223748334115,0.4482693887595382,0.4391188657924199,-0.6090184804140729,0.7739033993514225,-0.1858044672741451,-1.5004542493562412,0.2661389565905993,-1.0307976300658042,-2.02562399847762,-0.7753946361284771,-0.024092807303725004,-1.5488851006659816,-0.40608690106156453,-1.7875493827221627,1.0978120233875932,1.2796131600904732,-0.24566124104260884,2.1512327284437016,1.0702943810199417,-0.16948194839928224,0.633425338273376,-0.12053714748320615,-0.7084391381390437,1.2122343306242827,-0.5531661180518929,0.6760646031687255,-0.8600719233782612,0.6307408183438546,0.736114624702335,0.8211645861435984,-0.9063307935843637,-0.4618678949453949,0.640819882423184,0.255985632683679,0.44050250308581096,-0.5098792189564512,0.6612370454506209,-0.4600852985179216,1.3928542342840358,0.8823525659375652,0.607283903701555,-2.4441288988197107,-0.8644188008705929,-0.532690495638404,0.12512387164939145,-0.7233303308661587,-0.23976137531649747,1.5587585887796735,-0.3530505109153326,-0.7056602818285378,0.4035688891271258,-0.8327362135840342,-1.313239469889929,-0.6277207975245217,-0.06658365119250485,-0.7808892284561406,-0.3748780636142635,-0.38299456605242604,-0.6325698902459843,-0.37089771726844656,0.32138636034575196,0.6727738971760795,-0.3945422734138908,2.9500615298764727,1.5519218449607535,0.4797694345031922,0.6423701460270103,-1.9708893650276542,1.1646789788732854,0.9515688528861517,1.4511554272385823,-0.20150822013810582,0.2606018888417338,-0.2510612853910099,2.130016703150938,1.63705915645,0.39847523494422377,1.0184562083723192,-0.5382357322422255,2.483246044560773,0.8526701202253368,-1.2948330224433153,1.3410500034685415,0.2624724820130176,0.42655832078624994,1.4132672701391868,-0.8391493300974192,-1.231514045828351,-2.0535105642667326,-0.8008456977267329,-0.38365075218860983,0.8430333327693967,1.1505882799513372,-1.3125282714743989,0.7942258301306302,-0.8030278933285362,0.023210838012871562]}],                        {\"legend\":{\"bgcolor\":\"#F5F6F9\",\"font\":{\"color\":\"#4D5663\"}},\"paper_bgcolor\":\"#F5F6F9\",\"plot_bgcolor\":\"#F5F6F9\",\"template\":{\"data\":{\"bar\":[{\"error_x\":{\"color\":\"#2a3f5f\"},\"error_y\":{\"color\":\"#2a3f5f\"},\"marker\":{\"line\":{\"color\":\"#E5ECF6\",\"width\":0.5},\"pattern\":{\"fillmode\":\"overlay\",\"size\":10,\"solidity\":0.2}},\"type\":\"bar\"}],\"barpolar\":[{\"marker\":{\"line\":{\"color\":\"#E5ECF6\",\"width\":0.5},\"pattern\":{\"fillmode\":\"overlay\",\"size\":10,\"solidity\":0.2}},\"type\":\"barpolar\"}],\"carpet\":[{\"aaxis\":{\"endlinecolor\":\"#2a3f5f\",\"gridcolor\":\"white\",\"linecolor\":\"white\",\"minorgridcolor\":\"white\",\"startlinecolor\":\"#2a3f5f\"},\"baxis\":{\"endlinecolor\":\"#2a3f5f\",\"gridcolor\":\"white\",\"linecolor\":\"white\",\"minorgridcolor\":\"white\",\"startlinecolor\":\"#2a3f5f\"},\"type\":\"carpet\"}],\"choropleth\":[{\"colorbar\":{\"outlinewidth\":0,\"ticks\":\"\"},\"type\":\"choropleth\"}],\"contour\":[{\"colorbar\":{\"outlinewidth\":0,\"ticks\":\"\"},\"colorscale\":[[0.0,\"#0d0887\"],[0.1111111111111111,\"#46039f\"],[0.2222222222222222,\"#7201a8\"],[0.3333333333333333,\"#9c179e\"],[0.4444444444444444,\"#bd3786\"],[0.5555555555555556,\"#d8576b\"],[0.6666666666666666,\"#ed7953\"],[0.7777777777777778,\"#fb9f3a\"],[0.8888888888888888,\"#fdca26\"],[1.0,\"#f0f921\"]],\"type\":\"contour\"}],\"contourcarpet\":[{\"colorbar\":{\"outlinewidth\":0,\"ticks\":\"\"},\"type\":\"contourcarpet\"}],\"heatmap\":[{\"colorbar\":{\"outlinewidth\":0,\"ticks\":\"\"},\"colorscale\":[[0.0,\"#0d0887\"],[0.1111111111111111,\"#46039f\"],[0.2222222222222222,\"#7201a8\"],[0.3333333333333333,\"#9c179e\"],[0.4444444444444444,\"#bd3786\"],[0.5555555555555556,\"#d8576b\"],[0.6666666666666666,\"#ed7953\"],[0.7777777777777778,\"#fb9f3a\"],[0.8888888888888888,\"#fdca26\"],[1.0,\"#f0f921\"]],\"type\":\"heatmap\"}],\"heatmapgl\":[{\"colorbar\":{\"outlinewidth\":0,\"ticks\":\"\"},\"colorscale\":[[0.0,\"#0d0887\"],[0.1111111111111111,\"#46039f\"],[0.2222222222222222,\"#7201a8\"],[0.3333333333333333,\"#9c179e\"],[0.4444444444444444,\"#bd3786\"],[0.5555555555555556,\"#d8576b\"],[0.6666666666666666,\"#ed7953\"],[0.7777777777777778,\"#fb9f3a\"],[0.8888888888888888,\"#fdca26\"],[1.0,\"#f0f921\"]],\"type\":\"heatmapgl\"}],\"histogram\":[{\"marker\":{\"pattern\":{\"fillmode\":\"overlay\",\"size\":10,\"solidity\":0.2}},\"type\":\"histogram\"}],\"histogram2d\":[{\"colorbar\":{\"outlinewidth\":0,\"ticks\":\"\"},\"colorscale\":[[0.0,\"#0d0887\"],[0.1111111111111111,\"#46039f\"],[0.2222222222222222,\"#7201a8\"],[0.3333333333333333,\"#9c179e\"],[0.4444444444444444,\"#bd3786\"],[0.5555555555555556,\"#d8576b\"],[0.6666666666666666,\"#ed7953\"],[0.7777777777777778,\"#fb9f3a\"],[0.8888888888888888,\"#fdca26\"],[1.0,\"#f0f921\"]],\"type\":\"histogram2d\"}],\"histogram2dcontour\":[{\"colorbar\":{\"outlinewidth\":0,\"ticks\":\"\"},\"colorscale\":[[0.0,\"#0d0887\"],[0.1111111111111111,\"#46039f\"],[0.2222222222222222,\"#7201a8\"],[0.3333333333333333,\"#9c179e\"],[0.4444444444444444,\"#bd3786\"],[0.5555555555555556,\"#d8576b\"],[0.6666666666666666,\"#ed7953\"],[0.7777777777777778,\"#fb9f3a\"],[0.8888888888888888,\"#fdca26\"],[1.0,\"#f0f921\"]],\"type\":\"histogram2dcontour\"}],\"mesh3d\":[{\"colorbar\":{\"outlinewidth\":0,\"ticks\":\"\"},\"type\":\"mesh3d\"}],\"parcoords\":[{\"line\":{\"colorbar\":{\"outlinewidth\":0,\"ticks\":\"\"}},\"type\":\"parcoords\"}],\"pie\":[{\"automargin\":true,\"type\":\"pie\"}],\"scatter\":[{\"marker\":{\"colorbar\":{\"outlinewidth\":0,\"ticks\":\"\"}},\"type\":\"scatter\"}],\"scatter3d\":[{\"line\":{\"colorbar\":{\"outlinewidth\":0,\"ticks\":\"\"}},\"marker\":{\"colorbar\":{\"outlinewidth\":0,\"ticks\":\"\"}},\"type\":\"scatter3d\"}],\"scattercarpet\":[{\"marker\":{\"colorbar\":{\"outlinewidth\":0,\"ticks\":\"\"}},\"type\":\"scattercarpet\"}],\"scattergeo\":[{\"marker\":{\"colorbar\":{\"outlinewidth\":0,\"ticks\":\"\"}},\"type\":\"scattergeo\"}],\"scattergl\":[{\"marker\":{\"colorbar\":{\"outlinewidth\":0,\"ticks\":\"\"}},\"type\":\"scattergl\"}],\"scattermapbox\":[{\"marker\":{\"colorbar\":{\"outlinewidth\":0,\"ticks\":\"\"}},\"type\":\"scattermapbox\"}],\"scatterpolar\":[{\"marker\":{\"colorbar\":{\"outlinewidth\":0,\"ticks\":\"\"}},\"type\":\"scatterpolar\"}],\"scatterpolargl\":[{\"marker\":{\"colorbar\":{\"outlinewidth\":0,\"ticks\":\"\"}},\"type\":\"scatterpolargl\"}],\"scatterternary\":[{\"marker\":{\"colorbar\":{\"outlinewidth\":0,\"ticks\":\"\"}},\"type\":\"scatterternary\"}],\"surface\":[{\"colorbar\":{\"outlinewidth\":0,\"ticks\":\"\"},\"colorscale\":[[0.0,\"#0d0887\"],[0.1111111111111111,\"#46039f\"],[0.2222222222222222,\"#7201a8\"],[0.3333333333333333,\"#9c179e\"],[0.4444444444444444,\"#bd3786\"],[0.5555555555555556,\"#d8576b\"],[0.6666666666666666,\"#ed7953\"],[0.7777777777777778,\"#fb9f3a\"],[0.8888888888888888,\"#fdca26\"],[1.0,\"#f0f921\"]],\"type\":\"surface\"}],\"table\":[{\"cells\":{\"fill\":{\"color\":\"#EBF0F8\"},\"line\":{\"color\":\"white\"}},\"header\":{\"fill\":{\"color\":\"#C8D4E3\"},\"line\":{\"color\":\"white\"}},\"type\":\"table\"}]},\"layout\":{\"annotationdefaults\":{\"arrowcolor\":\"#2a3f5f\",\"arrowhead\":0,\"arrowwidth\":1},\"autotypenumbers\":\"strict\",\"coloraxis\":{\"colorbar\":{\"outlinewidth\":0,\"ticks\":\"\"}},\"colorscale\":{\"diverging\":[[0,\"#8e0152\"],[0.1,\"#c51b7d\"],[0.2,\"#de77ae\"],[0.3,\"#f1b6da\"],[0.4,\"#fde0ef\"],[0.5,\"#f7f7f7\"],[0.6,\"#e6f5d0\"],[0.7,\"#b8e186\"],[0.8,\"#7fbc41\"],[0.9,\"#4d9221\"],[1,\"#276419\"]],\"sequential\":[[0.0,\"#0d0887\"],[0.1111111111111111,\"#46039f\"],[0.2222222222222222,\"#7201a8\"],[0.3333333333333333,\"#9c179e\"],[0.4444444444444444,\"#bd3786\"],[0.5555555555555556,\"#d8576b\"],[0.6666666666666666,\"#ed7953\"],[0.7777777777777778,\"#fb9f3a\"],[0.8888888888888888,\"#fdca26\"],[1.0,\"#f0f921\"]],\"sequentialminus\":[[0.0,\"#0d0887\"],[0.1111111111111111,\"#46039f\"],[0.2222222222222222,\"#7201a8\"],[0.3333333333333333,\"#9c179e\"],[0.4444444444444444,\"#bd3786\"],[0.5555555555555556,\"#d8576b\"],[0.6666666666666666,\"#ed7953\"],[0.7777777777777778,\"#fb9f3a\"],[0.8888888888888888,\"#fdca26\"],[1.0,\"#f0f921\"]]},\"colorway\":[\"#636efa\",\"#EF553B\",\"#00cc96\",\"#ab63fa\",\"#FFA15A\",\"#19d3f3\",\"#FF6692\",\"#B6E880\",\"#FF97FF\",\"#FECB52\"],\"font\":{\"color\":\"#2a3f5f\"},\"geo\":{\"bgcolor\":\"white\",\"lakecolor\":\"white\",\"landcolor\":\"#E5ECF6\",\"showlakes\":true,\"showland\":true,\"subunitcolor\":\"white\"},\"hoverlabel\":{\"align\":\"left\"},\"hovermode\":\"closest\",\"mapbox\":{\"style\":\"light\"},\"paper_bgcolor\":\"white\",\"plot_bgcolor\":\"#E5ECF6\",\"polar\":{\"angularaxis\":{\"gridcolor\":\"white\",\"linecolor\":\"white\",\"ticks\":\"\"},\"bgcolor\":\"#E5ECF6\",\"radialaxis\":{\"gridcolor\":\"white\",\"linecolor\":\"white\",\"ticks\":\"\"}},\"scene\":{\"xaxis\":{\"backgroundcolor\":\"#E5ECF6\",\"gridcolor\":\"white\",\"gridwidth\":2,\"linecolor\":\"white\",\"showbackground\":true,\"ticks\":\"\",\"zerolinecolor\":\"white\"},\"yaxis\":{\"backgroundcolor\":\"#E5ECF6\",\"gridcolor\":\"white\",\"gridwidth\":2,\"linecolor\":\"white\",\"showbackground\":true,\"ticks\":\"\",\"zerolinecolor\":\"white\"},\"zaxis\":{\"backgroundcolor\":\"#E5ECF6\",\"gridcolor\":\"white\",\"gridwidth\":2,\"linecolor\":\"white\",\"showbackground\":true,\"ticks\":\"\",\"zerolinecolor\":\"white\"}},\"shapedefaults\":{\"line\":{\"color\":\"#2a3f5f\"}},\"ternary\":{\"aaxis\":{\"gridcolor\":\"white\",\"linecolor\":\"white\",\"ticks\":\"\"},\"baxis\":{\"gridcolor\":\"white\",\"linecolor\":\"white\",\"ticks\":\"\"},\"bgcolor\":\"#E5ECF6\",\"caxis\":{\"gridcolor\":\"white\",\"linecolor\":\"white\",\"ticks\":\"\"}},\"title\":{\"x\":0.05},\"xaxis\":{\"automargin\":true,\"gridcolor\":\"white\",\"linecolor\":\"white\",\"ticks\":\"\",\"title\":{\"standoff\":15},\"zerolinecolor\":\"white\",\"zerolinewidth\":2},\"yaxis\":{\"automargin\":true,\"gridcolor\":\"white\",\"linecolor\":\"white\",\"ticks\":\"\",\"title\":{\"standoff\":15},\"zerolinecolor\":\"white\",\"zerolinewidth\":2}}},\"title\":{\"font\":{\"color\":\"#4D5663\"}},\"xaxis\":{\"gridcolor\":\"#E1E5ED\",\"showgrid\":true,\"tickfont\":{\"color\":\"#4D5663\"},\"title\":{\"font\":{\"color\":\"#4D5663\"},\"text\":\"\"},\"zerolinecolor\":\"#E1E5ED\"},\"yaxis\":{\"gridcolor\":\"#E1E5ED\",\"showgrid\":true,\"tickfont\":{\"color\":\"#4D5663\"},\"title\":{\"font\":{\"color\":\"#4D5663\"},\"text\":\"\"},\"zerolinecolor\":\"#E1E5ED\"}},                        {\"showLink\": true, \"linkText\": \"Export to plot.ly\", \"plotlyServerURL\": \"https://plot.ly\", \"responsive\": true}                    ).then(function(){\n",
       "                            \n",
       "var gd = document.getElementById('dae12391-2171-4366-b3b8-503630606484');\n",
       "var x = new MutationObserver(function (mutations, observer) {{\n",
       "        var display = window.getComputedStyle(gd).display;\n",
       "        if (!display || display === 'none') {{\n",
       "            console.log([gd, 'removed!']);\n",
       "            Plotly.purge(gd);\n",
       "            observer.disconnect();\n",
       "        }}\n",
       "}});\n",
       "\n",
       "// Listen for the removal of the full notebook cells\n",
       "var notebookContainer = gd.closest('#notebook-container');\n",
       "if (notebookContainer) {{\n",
       "    x.observe(notebookContainer, {childList: true});\n",
       "}}\n",
       "\n",
       "// Listen for the clearing of the current output cell\n",
       "var outputEl = gd.closest('.output');\n",
       "if (outputEl) {{\n",
       "    x.observe(outputEl, {childList: true});\n",
       "}}\n",
       "\n",
       "                        })                };                });            </script>        </div>"
      ]
     },
     "metadata": {},
     "output_type": "display_data"
    }
   ],
   "source": [
    "df.iplot(kind='scatter',x='A',y='B',mode='markers',size=10)"
   ]
  },
  {
   "cell_type": "markdown",
   "metadata": {},
   "source": [
    "## Bar Plots"
   ]
  },
  {
   "cell_type": "code",
   "execution_count": 12,
   "metadata": {},
   "outputs": [
    {
     "data": {
      "application/vnd.plotly.v1+json": {
       "config": {
        "linkText": "Export to plot.ly",
        "plotlyServerURL": "https://plot.ly",
        "showLink": true
       },
       "data": [
        {
         "marker": {
          "color": "rgba(255, 153, 51, 0.6)",
          "line": {
           "color": "rgba(255, 153, 51, 1.0)",
           "width": 1
          }
         },
         "name": "Values",
         "orientation": "v",
         "text": "",
         "type": "bar",
         "x": [
          "A",
          "B",
          "C"
         ],
         "y": [
          32,
          43,
          50
         ]
        }
       ],
       "layout": {
        "legend": {
         "bgcolor": "#F5F6F9",
         "font": {
          "color": "#4D5663"
         }
        },
        "paper_bgcolor": "#F5F6F9",
        "plot_bgcolor": "#F5F6F9",
        "template": {
         "data": {
          "bar": [
           {
            "error_x": {
             "color": "#2a3f5f"
            },
            "error_y": {
             "color": "#2a3f5f"
            },
            "marker": {
             "line": {
              "color": "#E5ECF6",
              "width": 0.5
             },
             "pattern": {
              "fillmode": "overlay",
              "size": 10,
              "solidity": 0.2
             }
            },
            "type": "bar"
           }
          ],
          "barpolar": [
           {
            "marker": {
             "line": {
              "color": "#E5ECF6",
              "width": 0.5
             },
             "pattern": {
              "fillmode": "overlay",
              "size": 10,
              "solidity": 0.2
             }
            },
            "type": "barpolar"
           }
          ],
          "carpet": [
           {
            "aaxis": {
             "endlinecolor": "#2a3f5f",
             "gridcolor": "white",
             "linecolor": "white",
             "minorgridcolor": "white",
             "startlinecolor": "#2a3f5f"
            },
            "baxis": {
             "endlinecolor": "#2a3f5f",
             "gridcolor": "white",
             "linecolor": "white",
             "minorgridcolor": "white",
             "startlinecolor": "#2a3f5f"
            },
            "type": "carpet"
           }
          ],
          "choropleth": [
           {
            "colorbar": {
             "outlinewidth": 0,
             "ticks": ""
            },
            "type": "choropleth"
           }
          ],
          "contour": [
           {
            "colorbar": {
             "outlinewidth": 0,
             "ticks": ""
            },
            "colorscale": [
             [
              0,
              "#0d0887"
             ],
             [
              0.1111111111111111,
              "#46039f"
             ],
             [
              0.2222222222222222,
              "#7201a8"
             ],
             [
              0.3333333333333333,
              "#9c179e"
             ],
             [
              0.4444444444444444,
              "#bd3786"
             ],
             [
              0.5555555555555556,
              "#d8576b"
             ],
             [
              0.6666666666666666,
              "#ed7953"
             ],
             [
              0.7777777777777778,
              "#fb9f3a"
             ],
             [
              0.8888888888888888,
              "#fdca26"
             ],
             [
              1,
              "#f0f921"
             ]
            ],
            "type": "contour"
           }
          ],
          "contourcarpet": [
           {
            "colorbar": {
             "outlinewidth": 0,
             "ticks": ""
            },
            "type": "contourcarpet"
           }
          ],
          "heatmap": [
           {
            "colorbar": {
             "outlinewidth": 0,
             "ticks": ""
            },
            "colorscale": [
             [
              0,
              "#0d0887"
             ],
             [
              0.1111111111111111,
              "#46039f"
             ],
             [
              0.2222222222222222,
              "#7201a8"
             ],
             [
              0.3333333333333333,
              "#9c179e"
             ],
             [
              0.4444444444444444,
              "#bd3786"
             ],
             [
              0.5555555555555556,
              "#d8576b"
             ],
             [
              0.6666666666666666,
              "#ed7953"
             ],
             [
              0.7777777777777778,
              "#fb9f3a"
             ],
             [
              0.8888888888888888,
              "#fdca26"
             ],
             [
              1,
              "#f0f921"
             ]
            ],
            "type": "heatmap"
           }
          ],
          "heatmapgl": [
           {
            "colorbar": {
             "outlinewidth": 0,
             "ticks": ""
            },
            "colorscale": [
             [
              0,
              "#0d0887"
             ],
             [
              0.1111111111111111,
              "#46039f"
             ],
             [
              0.2222222222222222,
              "#7201a8"
             ],
             [
              0.3333333333333333,
              "#9c179e"
             ],
             [
              0.4444444444444444,
              "#bd3786"
             ],
             [
              0.5555555555555556,
              "#d8576b"
             ],
             [
              0.6666666666666666,
              "#ed7953"
             ],
             [
              0.7777777777777778,
              "#fb9f3a"
             ],
             [
              0.8888888888888888,
              "#fdca26"
             ],
             [
              1,
              "#f0f921"
             ]
            ],
            "type": "heatmapgl"
           }
          ],
          "histogram": [
           {
            "marker": {
             "pattern": {
              "fillmode": "overlay",
              "size": 10,
              "solidity": 0.2
             }
            },
            "type": "histogram"
           }
          ],
          "histogram2d": [
           {
            "colorbar": {
             "outlinewidth": 0,
             "ticks": ""
            },
            "colorscale": [
             [
              0,
              "#0d0887"
             ],
             [
              0.1111111111111111,
              "#46039f"
             ],
             [
              0.2222222222222222,
              "#7201a8"
             ],
             [
              0.3333333333333333,
              "#9c179e"
             ],
             [
              0.4444444444444444,
              "#bd3786"
             ],
             [
              0.5555555555555556,
              "#d8576b"
             ],
             [
              0.6666666666666666,
              "#ed7953"
             ],
             [
              0.7777777777777778,
              "#fb9f3a"
             ],
             [
              0.8888888888888888,
              "#fdca26"
             ],
             [
              1,
              "#f0f921"
             ]
            ],
            "type": "histogram2d"
           }
          ],
          "histogram2dcontour": [
           {
            "colorbar": {
             "outlinewidth": 0,
             "ticks": ""
            },
            "colorscale": [
             [
              0,
              "#0d0887"
             ],
             [
              0.1111111111111111,
              "#46039f"
             ],
             [
              0.2222222222222222,
              "#7201a8"
             ],
             [
              0.3333333333333333,
              "#9c179e"
             ],
             [
              0.4444444444444444,
              "#bd3786"
             ],
             [
              0.5555555555555556,
              "#d8576b"
             ],
             [
              0.6666666666666666,
              "#ed7953"
             ],
             [
              0.7777777777777778,
              "#fb9f3a"
             ],
             [
              0.8888888888888888,
              "#fdca26"
             ],
             [
              1,
              "#f0f921"
             ]
            ],
            "type": "histogram2dcontour"
           }
          ],
          "mesh3d": [
           {
            "colorbar": {
             "outlinewidth": 0,
             "ticks": ""
            },
            "type": "mesh3d"
           }
          ],
          "parcoords": [
           {
            "line": {
             "colorbar": {
              "outlinewidth": 0,
              "ticks": ""
             }
            },
            "type": "parcoords"
           }
          ],
          "pie": [
           {
            "automargin": true,
            "type": "pie"
           }
          ],
          "scatter": [
           {
            "marker": {
             "colorbar": {
              "outlinewidth": 0,
              "ticks": ""
             }
            },
            "type": "scatter"
           }
          ],
          "scatter3d": [
           {
            "line": {
             "colorbar": {
              "outlinewidth": 0,
              "ticks": ""
             }
            },
            "marker": {
             "colorbar": {
              "outlinewidth": 0,
              "ticks": ""
             }
            },
            "type": "scatter3d"
           }
          ],
          "scattercarpet": [
           {
            "marker": {
             "colorbar": {
              "outlinewidth": 0,
              "ticks": ""
             }
            },
            "type": "scattercarpet"
           }
          ],
          "scattergeo": [
           {
            "marker": {
             "colorbar": {
              "outlinewidth": 0,
              "ticks": ""
             }
            },
            "type": "scattergeo"
           }
          ],
          "scattergl": [
           {
            "marker": {
             "colorbar": {
              "outlinewidth": 0,
              "ticks": ""
             }
            },
            "type": "scattergl"
           }
          ],
          "scattermapbox": [
           {
            "marker": {
             "colorbar": {
              "outlinewidth": 0,
              "ticks": ""
             }
            },
            "type": "scattermapbox"
           }
          ],
          "scatterpolar": [
           {
            "marker": {
             "colorbar": {
              "outlinewidth": 0,
              "ticks": ""
             }
            },
            "type": "scatterpolar"
           }
          ],
          "scatterpolargl": [
           {
            "marker": {
             "colorbar": {
              "outlinewidth": 0,
              "ticks": ""
             }
            },
            "type": "scatterpolargl"
           }
          ],
          "scatterternary": [
           {
            "marker": {
             "colorbar": {
              "outlinewidth": 0,
              "ticks": ""
             }
            },
            "type": "scatterternary"
           }
          ],
          "surface": [
           {
            "colorbar": {
             "outlinewidth": 0,
             "ticks": ""
            },
            "colorscale": [
             [
              0,
              "#0d0887"
             ],
             [
              0.1111111111111111,
              "#46039f"
             ],
             [
              0.2222222222222222,
              "#7201a8"
             ],
             [
              0.3333333333333333,
              "#9c179e"
             ],
             [
              0.4444444444444444,
              "#bd3786"
             ],
             [
              0.5555555555555556,
              "#d8576b"
             ],
             [
              0.6666666666666666,
              "#ed7953"
             ],
             [
              0.7777777777777778,
              "#fb9f3a"
             ],
             [
              0.8888888888888888,
              "#fdca26"
             ],
             [
              1,
              "#f0f921"
             ]
            ],
            "type": "surface"
           }
          ],
          "table": [
           {
            "cells": {
             "fill": {
              "color": "#EBF0F8"
             },
             "line": {
              "color": "white"
             }
            },
            "header": {
             "fill": {
              "color": "#C8D4E3"
             },
             "line": {
              "color": "white"
             }
            },
            "type": "table"
           }
          ]
         },
         "layout": {
          "annotationdefaults": {
           "arrowcolor": "#2a3f5f",
           "arrowhead": 0,
           "arrowwidth": 1
          },
          "autotypenumbers": "strict",
          "coloraxis": {
           "colorbar": {
            "outlinewidth": 0,
            "ticks": ""
           }
          },
          "colorscale": {
           "diverging": [
            [
             0,
             "#8e0152"
            ],
            [
             0.1,
             "#c51b7d"
            ],
            [
             0.2,
             "#de77ae"
            ],
            [
             0.3,
             "#f1b6da"
            ],
            [
             0.4,
             "#fde0ef"
            ],
            [
             0.5,
             "#f7f7f7"
            ],
            [
             0.6,
             "#e6f5d0"
            ],
            [
             0.7,
             "#b8e186"
            ],
            [
             0.8,
             "#7fbc41"
            ],
            [
             0.9,
             "#4d9221"
            ],
            [
             1,
             "#276419"
            ]
           ],
           "sequential": [
            [
             0,
             "#0d0887"
            ],
            [
             0.1111111111111111,
             "#46039f"
            ],
            [
             0.2222222222222222,
             "#7201a8"
            ],
            [
             0.3333333333333333,
             "#9c179e"
            ],
            [
             0.4444444444444444,
             "#bd3786"
            ],
            [
             0.5555555555555556,
             "#d8576b"
            ],
            [
             0.6666666666666666,
             "#ed7953"
            ],
            [
             0.7777777777777778,
             "#fb9f3a"
            ],
            [
             0.8888888888888888,
             "#fdca26"
            ],
            [
             1,
             "#f0f921"
            ]
           ],
           "sequentialminus": [
            [
             0,
             "#0d0887"
            ],
            [
             0.1111111111111111,
             "#46039f"
            ],
            [
             0.2222222222222222,
             "#7201a8"
            ],
            [
             0.3333333333333333,
             "#9c179e"
            ],
            [
             0.4444444444444444,
             "#bd3786"
            ],
            [
             0.5555555555555556,
             "#d8576b"
            ],
            [
             0.6666666666666666,
             "#ed7953"
            ],
            [
             0.7777777777777778,
             "#fb9f3a"
            ],
            [
             0.8888888888888888,
             "#fdca26"
            ],
            [
             1,
             "#f0f921"
            ]
           ]
          },
          "colorway": [
           "#636efa",
           "#EF553B",
           "#00cc96",
           "#ab63fa",
           "#FFA15A",
           "#19d3f3",
           "#FF6692",
           "#B6E880",
           "#FF97FF",
           "#FECB52"
          ],
          "font": {
           "color": "#2a3f5f"
          },
          "geo": {
           "bgcolor": "white",
           "lakecolor": "white",
           "landcolor": "#E5ECF6",
           "showlakes": true,
           "showland": true,
           "subunitcolor": "white"
          },
          "hoverlabel": {
           "align": "left"
          },
          "hovermode": "closest",
          "mapbox": {
           "style": "light"
          },
          "paper_bgcolor": "white",
          "plot_bgcolor": "#E5ECF6",
          "polar": {
           "angularaxis": {
            "gridcolor": "white",
            "linecolor": "white",
            "ticks": ""
           },
           "bgcolor": "#E5ECF6",
           "radialaxis": {
            "gridcolor": "white",
            "linecolor": "white",
            "ticks": ""
           }
          },
          "scene": {
           "xaxis": {
            "backgroundcolor": "#E5ECF6",
            "gridcolor": "white",
            "gridwidth": 2,
            "linecolor": "white",
            "showbackground": true,
            "ticks": "",
            "zerolinecolor": "white"
           },
           "yaxis": {
            "backgroundcolor": "#E5ECF6",
            "gridcolor": "white",
            "gridwidth": 2,
            "linecolor": "white",
            "showbackground": true,
            "ticks": "",
            "zerolinecolor": "white"
           },
           "zaxis": {
            "backgroundcolor": "#E5ECF6",
            "gridcolor": "white",
            "gridwidth": 2,
            "linecolor": "white",
            "showbackground": true,
            "ticks": "",
            "zerolinecolor": "white"
           }
          },
          "shapedefaults": {
           "line": {
            "color": "#2a3f5f"
           }
          },
          "ternary": {
           "aaxis": {
            "gridcolor": "white",
            "linecolor": "white",
            "ticks": ""
           },
           "baxis": {
            "gridcolor": "white",
            "linecolor": "white",
            "ticks": ""
           },
           "bgcolor": "#E5ECF6",
           "caxis": {
            "gridcolor": "white",
            "linecolor": "white",
            "ticks": ""
           }
          },
          "title": {
           "x": 0.05
          },
          "xaxis": {
           "automargin": true,
           "gridcolor": "white",
           "linecolor": "white",
           "ticks": "",
           "title": {
            "standoff": 15
           },
           "zerolinecolor": "white",
           "zerolinewidth": 2
          },
          "yaxis": {
           "automargin": true,
           "gridcolor": "white",
           "linecolor": "white",
           "ticks": "",
           "title": {
            "standoff": 15
           },
           "zerolinecolor": "white",
           "zerolinewidth": 2
          }
         }
        },
        "title": {
         "font": {
          "color": "#4D5663"
         }
        },
        "xaxis": {
         "gridcolor": "#E1E5ED",
         "showgrid": true,
         "tickfont": {
          "color": "#4D5663"
         },
         "title": {
          "font": {
           "color": "#4D5663"
          },
          "text": ""
         },
         "zerolinecolor": "#E1E5ED"
        },
        "yaxis": {
         "gridcolor": "#E1E5ED",
         "showgrid": true,
         "tickfont": {
          "color": "#4D5663"
         },
         "title": {
          "font": {
           "color": "#4D5663"
          },
          "text": ""
         },
         "zerolinecolor": "#E1E5ED"
        }
       }
      },
      "text/html": [
       "<div>                            <div id=\"7b10c676-2656-492b-981a-34e256bee1d8\" class=\"plotly-graph-div\" style=\"height:525px; width:100%;\"></div>            <script type=\"text/javascript\">                require([\"plotly\"], function(Plotly) {                    window.PLOTLYENV=window.PLOTLYENV || {};\n",
       "                    window.PLOTLYENV.BASE_URL='https://plot.ly';                                    if (document.getElementById(\"7b10c676-2656-492b-981a-34e256bee1d8\")) {                    Plotly.newPlot(                        \"7b10c676-2656-492b-981a-34e256bee1d8\",                        [{\"marker\":{\"color\":\"rgba(255, 153, 51, 0.6)\",\"line\":{\"color\":\"rgba(255, 153, 51, 1.0)\",\"width\":1}},\"name\":\"Values\",\"orientation\":\"v\",\"text\":\"\",\"type\":\"bar\",\"x\":[\"A\",\"B\",\"C\"],\"y\":[32,43,50]}],                        {\"legend\":{\"bgcolor\":\"#F5F6F9\",\"font\":{\"color\":\"#4D5663\"}},\"paper_bgcolor\":\"#F5F6F9\",\"plot_bgcolor\":\"#F5F6F9\",\"template\":{\"data\":{\"bar\":[{\"error_x\":{\"color\":\"#2a3f5f\"},\"error_y\":{\"color\":\"#2a3f5f\"},\"marker\":{\"line\":{\"color\":\"#E5ECF6\",\"width\":0.5},\"pattern\":{\"fillmode\":\"overlay\",\"size\":10,\"solidity\":0.2}},\"type\":\"bar\"}],\"barpolar\":[{\"marker\":{\"line\":{\"color\":\"#E5ECF6\",\"width\":0.5},\"pattern\":{\"fillmode\":\"overlay\",\"size\":10,\"solidity\":0.2}},\"type\":\"barpolar\"}],\"carpet\":[{\"aaxis\":{\"endlinecolor\":\"#2a3f5f\",\"gridcolor\":\"white\",\"linecolor\":\"white\",\"minorgridcolor\":\"white\",\"startlinecolor\":\"#2a3f5f\"},\"baxis\":{\"endlinecolor\":\"#2a3f5f\",\"gridcolor\":\"white\",\"linecolor\":\"white\",\"minorgridcolor\":\"white\",\"startlinecolor\":\"#2a3f5f\"},\"type\":\"carpet\"}],\"choropleth\":[{\"colorbar\":{\"outlinewidth\":0,\"ticks\":\"\"},\"type\":\"choropleth\"}],\"contour\":[{\"colorbar\":{\"outlinewidth\":0,\"ticks\":\"\"},\"colorscale\":[[0.0,\"#0d0887\"],[0.1111111111111111,\"#46039f\"],[0.2222222222222222,\"#7201a8\"],[0.3333333333333333,\"#9c179e\"],[0.4444444444444444,\"#bd3786\"],[0.5555555555555556,\"#d8576b\"],[0.6666666666666666,\"#ed7953\"],[0.7777777777777778,\"#fb9f3a\"],[0.8888888888888888,\"#fdca26\"],[1.0,\"#f0f921\"]],\"type\":\"contour\"}],\"contourcarpet\":[{\"colorbar\":{\"outlinewidth\":0,\"ticks\":\"\"},\"type\":\"contourcarpet\"}],\"heatmap\":[{\"colorbar\":{\"outlinewidth\":0,\"ticks\":\"\"},\"colorscale\":[[0.0,\"#0d0887\"],[0.1111111111111111,\"#46039f\"],[0.2222222222222222,\"#7201a8\"],[0.3333333333333333,\"#9c179e\"],[0.4444444444444444,\"#bd3786\"],[0.5555555555555556,\"#d8576b\"],[0.6666666666666666,\"#ed7953\"],[0.7777777777777778,\"#fb9f3a\"],[0.8888888888888888,\"#fdca26\"],[1.0,\"#f0f921\"]],\"type\":\"heatmap\"}],\"heatmapgl\":[{\"colorbar\":{\"outlinewidth\":0,\"ticks\":\"\"},\"colorscale\":[[0.0,\"#0d0887\"],[0.1111111111111111,\"#46039f\"],[0.2222222222222222,\"#7201a8\"],[0.3333333333333333,\"#9c179e\"],[0.4444444444444444,\"#bd3786\"],[0.5555555555555556,\"#d8576b\"],[0.6666666666666666,\"#ed7953\"],[0.7777777777777778,\"#fb9f3a\"],[0.8888888888888888,\"#fdca26\"],[1.0,\"#f0f921\"]],\"type\":\"heatmapgl\"}],\"histogram\":[{\"marker\":{\"pattern\":{\"fillmode\":\"overlay\",\"size\":10,\"solidity\":0.2}},\"type\":\"histogram\"}],\"histogram2d\":[{\"colorbar\":{\"outlinewidth\":0,\"ticks\":\"\"},\"colorscale\":[[0.0,\"#0d0887\"],[0.1111111111111111,\"#46039f\"],[0.2222222222222222,\"#7201a8\"],[0.3333333333333333,\"#9c179e\"],[0.4444444444444444,\"#bd3786\"],[0.5555555555555556,\"#d8576b\"],[0.6666666666666666,\"#ed7953\"],[0.7777777777777778,\"#fb9f3a\"],[0.8888888888888888,\"#fdca26\"],[1.0,\"#f0f921\"]],\"type\":\"histogram2d\"}],\"histogram2dcontour\":[{\"colorbar\":{\"outlinewidth\":0,\"ticks\":\"\"},\"colorscale\":[[0.0,\"#0d0887\"],[0.1111111111111111,\"#46039f\"],[0.2222222222222222,\"#7201a8\"],[0.3333333333333333,\"#9c179e\"],[0.4444444444444444,\"#bd3786\"],[0.5555555555555556,\"#d8576b\"],[0.6666666666666666,\"#ed7953\"],[0.7777777777777778,\"#fb9f3a\"],[0.8888888888888888,\"#fdca26\"],[1.0,\"#f0f921\"]],\"type\":\"histogram2dcontour\"}],\"mesh3d\":[{\"colorbar\":{\"outlinewidth\":0,\"ticks\":\"\"},\"type\":\"mesh3d\"}],\"parcoords\":[{\"line\":{\"colorbar\":{\"outlinewidth\":0,\"ticks\":\"\"}},\"type\":\"parcoords\"}],\"pie\":[{\"automargin\":true,\"type\":\"pie\"}],\"scatter\":[{\"marker\":{\"colorbar\":{\"outlinewidth\":0,\"ticks\":\"\"}},\"type\":\"scatter\"}],\"scatter3d\":[{\"line\":{\"colorbar\":{\"outlinewidth\":0,\"ticks\":\"\"}},\"marker\":{\"colorbar\":{\"outlinewidth\":0,\"ticks\":\"\"}},\"type\":\"scatter3d\"}],\"scattercarpet\":[{\"marker\":{\"colorbar\":{\"outlinewidth\":0,\"ticks\":\"\"}},\"type\":\"scattercarpet\"}],\"scattergeo\":[{\"marker\":{\"colorbar\":{\"outlinewidth\":0,\"ticks\":\"\"}},\"type\":\"scattergeo\"}],\"scattergl\":[{\"marker\":{\"colorbar\":{\"outlinewidth\":0,\"ticks\":\"\"}},\"type\":\"scattergl\"}],\"scattermapbox\":[{\"marker\":{\"colorbar\":{\"outlinewidth\":0,\"ticks\":\"\"}},\"type\":\"scattermapbox\"}],\"scatterpolar\":[{\"marker\":{\"colorbar\":{\"outlinewidth\":0,\"ticks\":\"\"}},\"type\":\"scatterpolar\"}],\"scatterpolargl\":[{\"marker\":{\"colorbar\":{\"outlinewidth\":0,\"ticks\":\"\"}},\"type\":\"scatterpolargl\"}],\"scatterternary\":[{\"marker\":{\"colorbar\":{\"outlinewidth\":0,\"ticks\":\"\"}},\"type\":\"scatterternary\"}],\"surface\":[{\"colorbar\":{\"outlinewidth\":0,\"ticks\":\"\"},\"colorscale\":[[0.0,\"#0d0887\"],[0.1111111111111111,\"#46039f\"],[0.2222222222222222,\"#7201a8\"],[0.3333333333333333,\"#9c179e\"],[0.4444444444444444,\"#bd3786\"],[0.5555555555555556,\"#d8576b\"],[0.6666666666666666,\"#ed7953\"],[0.7777777777777778,\"#fb9f3a\"],[0.8888888888888888,\"#fdca26\"],[1.0,\"#f0f921\"]],\"type\":\"surface\"}],\"table\":[{\"cells\":{\"fill\":{\"color\":\"#EBF0F8\"},\"line\":{\"color\":\"white\"}},\"header\":{\"fill\":{\"color\":\"#C8D4E3\"},\"line\":{\"color\":\"white\"}},\"type\":\"table\"}]},\"layout\":{\"annotationdefaults\":{\"arrowcolor\":\"#2a3f5f\",\"arrowhead\":0,\"arrowwidth\":1},\"autotypenumbers\":\"strict\",\"coloraxis\":{\"colorbar\":{\"outlinewidth\":0,\"ticks\":\"\"}},\"colorscale\":{\"diverging\":[[0,\"#8e0152\"],[0.1,\"#c51b7d\"],[0.2,\"#de77ae\"],[0.3,\"#f1b6da\"],[0.4,\"#fde0ef\"],[0.5,\"#f7f7f7\"],[0.6,\"#e6f5d0\"],[0.7,\"#b8e186\"],[0.8,\"#7fbc41\"],[0.9,\"#4d9221\"],[1,\"#276419\"]],\"sequential\":[[0.0,\"#0d0887\"],[0.1111111111111111,\"#46039f\"],[0.2222222222222222,\"#7201a8\"],[0.3333333333333333,\"#9c179e\"],[0.4444444444444444,\"#bd3786\"],[0.5555555555555556,\"#d8576b\"],[0.6666666666666666,\"#ed7953\"],[0.7777777777777778,\"#fb9f3a\"],[0.8888888888888888,\"#fdca26\"],[1.0,\"#f0f921\"]],\"sequentialminus\":[[0.0,\"#0d0887\"],[0.1111111111111111,\"#46039f\"],[0.2222222222222222,\"#7201a8\"],[0.3333333333333333,\"#9c179e\"],[0.4444444444444444,\"#bd3786\"],[0.5555555555555556,\"#d8576b\"],[0.6666666666666666,\"#ed7953\"],[0.7777777777777778,\"#fb9f3a\"],[0.8888888888888888,\"#fdca26\"],[1.0,\"#f0f921\"]]},\"colorway\":[\"#636efa\",\"#EF553B\",\"#00cc96\",\"#ab63fa\",\"#FFA15A\",\"#19d3f3\",\"#FF6692\",\"#B6E880\",\"#FF97FF\",\"#FECB52\"],\"font\":{\"color\":\"#2a3f5f\"},\"geo\":{\"bgcolor\":\"white\",\"lakecolor\":\"white\",\"landcolor\":\"#E5ECF6\",\"showlakes\":true,\"showland\":true,\"subunitcolor\":\"white\"},\"hoverlabel\":{\"align\":\"left\"},\"hovermode\":\"closest\",\"mapbox\":{\"style\":\"light\"},\"paper_bgcolor\":\"white\",\"plot_bgcolor\":\"#E5ECF6\",\"polar\":{\"angularaxis\":{\"gridcolor\":\"white\",\"linecolor\":\"white\",\"ticks\":\"\"},\"bgcolor\":\"#E5ECF6\",\"radialaxis\":{\"gridcolor\":\"white\",\"linecolor\":\"white\",\"ticks\":\"\"}},\"scene\":{\"xaxis\":{\"backgroundcolor\":\"#E5ECF6\",\"gridcolor\":\"white\",\"gridwidth\":2,\"linecolor\":\"white\",\"showbackground\":true,\"ticks\":\"\",\"zerolinecolor\":\"white\"},\"yaxis\":{\"backgroundcolor\":\"#E5ECF6\",\"gridcolor\":\"white\",\"gridwidth\":2,\"linecolor\":\"white\",\"showbackground\":true,\"ticks\":\"\",\"zerolinecolor\":\"white\"},\"zaxis\":{\"backgroundcolor\":\"#E5ECF6\",\"gridcolor\":\"white\",\"gridwidth\":2,\"linecolor\":\"white\",\"showbackground\":true,\"ticks\":\"\",\"zerolinecolor\":\"white\"}},\"shapedefaults\":{\"line\":{\"color\":\"#2a3f5f\"}},\"ternary\":{\"aaxis\":{\"gridcolor\":\"white\",\"linecolor\":\"white\",\"ticks\":\"\"},\"baxis\":{\"gridcolor\":\"white\",\"linecolor\":\"white\",\"ticks\":\"\"},\"bgcolor\":\"#E5ECF6\",\"caxis\":{\"gridcolor\":\"white\",\"linecolor\":\"white\",\"ticks\":\"\"}},\"title\":{\"x\":0.05},\"xaxis\":{\"automargin\":true,\"gridcolor\":\"white\",\"linecolor\":\"white\",\"ticks\":\"\",\"title\":{\"standoff\":15},\"zerolinecolor\":\"white\",\"zerolinewidth\":2},\"yaxis\":{\"automargin\":true,\"gridcolor\":\"white\",\"linecolor\":\"white\",\"ticks\":\"\",\"title\":{\"standoff\":15},\"zerolinecolor\":\"white\",\"zerolinewidth\":2}}},\"title\":{\"font\":{\"color\":\"#4D5663\"}},\"xaxis\":{\"gridcolor\":\"#E1E5ED\",\"showgrid\":true,\"tickfont\":{\"color\":\"#4D5663\"},\"title\":{\"font\":{\"color\":\"#4D5663\"},\"text\":\"\"},\"zerolinecolor\":\"#E1E5ED\"},\"yaxis\":{\"gridcolor\":\"#E1E5ED\",\"showgrid\":true,\"tickfont\":{\"color\":\"#4D5663\"},\"title\":{\"font\":{\"color\":\"#4D5663\"},\"text\":\"\"},\"zerolinecolor\":\"#E1E5ED\"}},                        {\"showLink\": true, \"linkText\": \"Export to plot.ly\", \"plotlyServerURL\": \"https://plot.ly\", \"responsive\": true}                    ).then(function(){\n",
       "                            \n",
       "var gd = document.getElementById('7b10c676-2656-492b-981a-34e256bee1d8');\n",
       "var x = new MutationObserver(function (mutations, observer) {{\n",
       "        var display = window.getComputedStyle(gd).display;\n",
       "        if (!display || display === 'none') {{\n",
       "            console.log([gd, 'removed!']);\n",
       "            Plotly.purge(gd);\n",
       "            observer.disconnect();\n",
       "        }}\n",
       "}});\n",
       "\n",
       "// Listen for the removal of the full notebook cells\n",
       "var notebookContainer = gd.closest('#notebook-container');\n",
       "if (notebookContainer) {{\n",
       "    x.observe(notebookContainer, {childList: true});\n",
       "}}\n",
       "\n",
       "// Listen for the clearing of the current output cell\n",
       "var outputEl = gd.closest('.output');\n",
       "if (outputEl) {{\n",
       "    x.observe(outputEl, {childList: true});\n",
       "}}\n",
       "\n",
       "                        })                };                });            </script>        </div>"
      ]
     },
     "metadata": {},
     "output_type": "display_data"
    }
   ],
   "source": [
    "df2.iplot(kind='bar',x='Category',y='Values')"
   ]
  },
  {
   "cell_type": "code",
   "execution_count": 13,
   "metadata": {},
   "outputs": [
    {
     "data": {
      "application/vnd.plotly.v1+json": {
       "config": {
        "linkText": "Export to plot.ly",
        "plotlyServerURL": "https://plot.ly",
        "showLink": true
       },
       "data": [
        {
         "marker": {
          "color": "rgba(255, 153, 51, 0.6)",
          "line": {
           "color": "rgba(255, 153, 51, 1.0)",
           "width": 1
          }
         },
         "name": "None",
         "orientation": "v",
         "text": "",
         "type": "bar",
         "x": [
          "A",
          "B",
          "C",
          "D"
         ],
         "y": [
          100,
          100,
          100,
          100
         ]
        }
       ],
       "layout": {
        "legend": {
         "bgcolor": "#F5F6F9",
         "font": {
          "color": "#4D5663"
         }
        },
        "paper_bgcolor": "#F5F6F9",
        "plot_bgcolor": "#F5F6F9",
        "template": {
         "data": {
          "bar": [
           {
            "error_x": {
             "color": "#2a3f5f"
            },
            "error_y": {
             "color": "#2a3f5f"
            },
            "marker": {
             "line": {
              "color": "#E5ECF6",
              "width": 0.5
             },
             "pattern": {
              "fillmode": "overlay",
              "size": 10,
              "solidity": 0.2
             }
            },
            "type": "bar"
           }
          ],
          "barpolar": [
           {
            "marker": {
             "line": {
              "color": "#E5ECF6",
              "width": 0.5
             },
             "pattern": {
              "fillmode": "overlay",
              "size": 10,
              "solidity": 0.2
             }
            },
            "type": "barpolar"
           }
          ],
          "carpet": [
           {
            "aaxis": {
             "endlinecolor": "#2a3f5f",
             "gridcolor": "white",
             "linecolor": "white",
             "minorgridcolor": "white",
             "startlinecolor": "#2a3f5f"
            },
            "baxis": {
             "endlinecolor": "#2a3f5f",
             "gridcolor": "white",
             "linecolor": "white",
             "minorgridcolor": "white",
             "startlinecolor": "#2a3f5f"
            },
            "type": "carpet"
           }
          ],
          "choropleth": [
           {
            "colorbar": {
             "outlinewidth": 0,
             "ticks": ""
            },
            "type": "choropleth"
           }
          ],
          "contour": [
           {
            "colorbar": {
             "outlinewidth": 0,
             "ticks": ""
            },
            "colorscale": [
             [
              0,
              "#0d0887"
             ],
             [
              0.1111111111111111,
              "#46039f"
             ],
             [
              0.2222222222222222,
              "#7201a8"
             ],
             [
              0.3333333333333333,
              "#9c179e"
             ],
             [
              0.4444444444444444,
              "#bd3786"
             ],
             [
              0.5555555555555556,
              "#d8576b"
             ],
             [
              0.6666666666666666,
              "#ed7953"
             ],
             [
              0.7777777777777778,
              "#fb9f3a"
             ],
             [
              0.8888888888888888,
              "#fdca26"
             ],
             [
              1,
              "#f0f921"
             ]
            ],
            "type": "contour"
           }
          ],
          "contourcarpet": [
           {
            "colorbar": {
             "outlinewidth": 0,
             "ticks": ""
            },
            "type": "contourcarpet"
           }
          ],
          "heatmap": [
           {
            "colorbar": {
             "outlinewidth": 0,
             "ticks": ""
            },
            "colorscale": [
             [
              0,
              "#0d0887"
             ],
             [
              0.1111111111111111,
              "#46039f"
             ],
             [
              0.2222222222222222,
              "#7201a8"
             ],
             [
              0.3333333333333333,
              "#9c179e"
             ],
             [
              0.4444444444444444,
              "#bd3786"
             ],
             [
              0.5555555555555556,
              "#d8576b"
             ],
             [
              0.6666666666666666,
              "#ed7953"
             ],
             [
              0.7777777777777778,
              "#fb9f3a"
             ],
             [
              0.8888888888888888,
              "#fdca26"
             ],
             [
              1,
              "#f0f921"
             ]
            ],
            "type": "heatmap"
           }
          ],
          "heatmapgl": [
           {
            "colorbar": {
             "outlinewidth": 0,
             "ticks": ""
            },
            "colorscale": [
             [
              0,
              "#0d0887"
             ],
             [
              0.1111111111111111,
              "#46039f"
             ],
             [
              0.2222222222222222,
              "#7201a8"
             ],
             [
              0.3333333333333333,
              "#9c179e"
             ],
             [
              0.4444444444444444,
              "#bd3786"
             ],
             [
              0.5555555555555556,
              "#d8576b"
             ],
             [
              0.6666666666666666,
              "#ed7953"
             ],
             [
              0.7777777777777778,
              "#fb9f3a"
             ],
             [
              0.8888888888888888,
              "#fdca26"
             ],
             [
              1,
              "#f0f921"
             ]
            ],
            "type": "heatmapgl"
           }
          ],
          "histogram": [
           {
            "marker": {
             "pattern": {
              "fillmode": "overlay",
              "size": 10,
              "solidity": 0.2
             }
            },
            "type": "histogram"
           }
          ],
          "histogram2d": [
           {
            "colorbar": {
             "outlinewidth": 0,
             "ticks": ""
            },
            "colorscale": [
             [
              0,
              "#0d0887"
             ],
             [
              0.1111111111111111,
              "#46039f"
             ],
             [
              0.2222222222222222,
              "#7201a8"
             ],
             [
              0.3333333333333333,
              "#9c179e"
             ],
             [
              0.4444444444444444,
              "#bd3786"
             ],
             [
              0.5555555555555556,
              "#d8576b"
             ],
             [
              0.6666666666666666,
              "#ed7953"
             ],
             [
              0.7777777777777778,
              "#fb9f3a"
             ],
             [
              0.8888888888888888,
              "#fdca26"
             ],
             [
              1,
              "#f0f921"
             ]
            ],
            "type": "histogram2d"
           }
          ],
          "histogram2dcontour": [
           {
            "colorbar": {
             "outlinewidth": 0,
             "ticks": ""
            },
            "colorscale": [
             [
              0,
              "#0d0887"
             ],
             [
              0.1111111111111111,
              "#46039f"
             ],
             [
              0.2222222222222222,
              "#7201a8"
             ],
             [
              0.3333333333333333,
              "#9c179e"
             ],
             [
              0.4444444444444444,
              "#bd3786"
             ],
             [
              0.5555555555555556,
              "#d8576b"
             ],
             [
              0.6666666666666666,
              "#ed7953"
             ],
             [
              0.7777777777777778,
              "#fb9f3a"
             ],
             [
              0.8888888888888888,
              "#fdca26"
             ],
             [
              1,
              "#f0f921"
             ]
            ],
            "type": "histogram2dcontour"
           }
          ],
          "mesh3d": [
           {
            "colorbar": {
             "outlinewidth": 0,
             "ticks": ""
            },
            "type": "mesh3d"
           }
          ],
          "parcoords": [
           {
            "line": {
             "colorbar": {
              "outlinewidth": 0,
              "ticks": ""
             }
            },
            "type": "parcoords"
           }
          ],
          "pie": [
           {
            "automargin": true,
            "type": "pie"
           }
          ],
          "scatter": [
           {
            "marker": {
             "colorbar": {
              "outlinewidth": 0,
              "ticks": ""
             }
            },
            "type": "scatter"
           }
          ],
          "scatter3d": [
           {
            "line": {
             "colorbar": {
              "outlinewidth": 0,
              "ticks": ""
             }
            },
            "marker": {
             "colorbar": {
              "outlinewidth": 0,
              "ticks": ""
             }
            },
            "type": "scatter3d"
           }
          ],
          "scattercarpet": [
           {
            "marker": {
             "colorbar": {
              "outlinewidth": 0,
              "ticks": ""
             }
            },
            "type": "scattercarpet"
           }
          ],
          "scattergeo": [
           {
            "marker": {
             "colorbar": {
              "outlinewidth": 0,
              "ticks": ""
             }
            },
            "type": "scattergeo"
           }
          ],
          "scattergl": [
           {
            "marker": {
             "colorbar": {
              "outlinewidth": 0,
              "ticks": ""
             }
            },
            "type": "scattergl"
           }
          ],
          "scattermapbox": [
           {
            "marker": {
             "colorbar": {
              "outlinewidth": 0,
              "ticks": ""
             }
            },
            "type": "scattermapbox"
           }
          ],
          "scatterpolar": [
           {
            "marker": {
             "colorbar": {
              "outlinewidth": 0,
              "ticks": ""
             }
            },
            "type": "scatterpolar"
           }
          ],
          "scatterpolargl": [
           {
            "marker": {
             "colorbar": {
              "outlinewidth": 0,
              "ticks": ""
             }
            },
            "type": "scatterpolargl"
           }
          ],
          "scatterternary": [
           {
            "marker": {
             "colorbar": {
              "outlinewidth": 0,
              "ticks": ""
             }
            },
            "type": "scatterternary"
           }
          ],
          "surface": [
           {
            "colorbar": {
             "outlinewidth": 0,
             "ticks": ""
            },
            "colorscale": [
             [
              0,
              "#0d0887"
             ],
             [
              0.1111111111111111,
              "#46039f"
             ],
             [
              0.2222222222222222,
              "#7201a8"
             ],
             [
              0.3333333333333333,
              "#9c179e"
             ],
             [
              0.4444444444444444,
              "#bd3786"
             ],
             [
              0.5555555555555556,
              "#d8576b"
             ],
             [
              0.6666666666666666,
              "#ed7953"
             ],
             [
              0.7777777777777778,
              "#fb9f3a"
             ],
             [
              0.8888888888888888,
              "#fdca26"
             ],
             [
              1,
              "#f0f921"
             ]
            ],
            "type": "surface"
           }
          ],
          "table": [
           {
            "cells": {
             "fill": {
              "color": "#EBF0F8"
             },
             "line": {
              "color": "white"
             }
            },
            "header": {
             "fill": {
              "color": "#C8D4E3"
             },
             "line": {
              "color": "white"
             }
            },
            "type": "table"
           }
          ]
         },
         "layout": {
          "annotationdefaults": {
           "arrowcolor": "#2a3f5f",
           "arrowhead": 0,
           "arrowwidth": 1
          },
          "autotypenumbers": "strict",
          "coloraxis": {
           "colorbar": {
            "outlinewidth": 0,
            "ticks": ""
           }
          },
          "colorscale": {
           "diverging": [
            [
             0,
             "#8e0152"
            ],
            [
             0.1,
             "#c51b7d"
            ],
            [
             0.2,
             "#de77ae"
            ],
            [
             0.3,
             "#f1b6da"
            ],
            [
             0.4,
             "#fde0ef"
            ],
            [
             0.5,
             "#f7f7f7"
            ],
            [
             0.6,
             "#e6f5d0"
            ],
            [
             0.7,
             "#b8e186"
            ],
            [
             0.8,
             "#7fbc41"
            ],
            [
             0.9,
             "#4d9221"
            ],
            [
             1,
             "#276419"
            ]
           ],
           "sequential": [
            [
             0,
             "#0d0887"
            ],
            [
             0.1111111111111111,
             "#46039f"
            ],
            [
             0.2222222222222222,
             "#7201a8"
            ],
            [
             0.3333333333333333,
             "#9c179e"
            ],
            [
             0.4444444444444444,
             "#bd3786"
            ],
            [
             0.5555555555555556,
             "#d8576b"
            ],
            [
             0.6666666666666666,
             "#ed7953"
            ],
            [
             0.7777777777777778,
             "#fb9f3a"
            ],
            [
             0.8888888888888888,
             "#fdca26"
            ],
            [
             1,
             "#f0f921"
            ]
           ],
           "sequentialminus": [
            [
             0,
             "#0d0887"
            ],
            [
             0.1111111111111111,
             "#46039f"
            ],
            [
             0.2222222222222222,
             "#7201a8"
            ],
            [
             0.3333333333333333,
             "#9c179e"
            ],
            [
             0.4444444444444444,
             "#bd3786"
            ],
            [
             0.5555555555555556,
             "#d8576b"
            ],
            [
             0.6666666666666666,
             "#ed7953"
            ],
            [
             0.7777777777777778,
             "#fb9f3a"
            ],
            [
             0.8888888888888888,
             "#fdca26"
            ],
            [
             1,
             "#f0f921"
            ]
           ]
          },
          "colorway": [
           "#636efa",
           "#EF553B",
           "#00cc96",
           "#ab63fa",
           "#FFA15A",
           "#19d3f3",
           "#FF6692",
           "#B6E880",
           "#FF97FF",
           "#FECB52"
          ],
          "font": {
           "color": "#2a3f5f"
          },
          "geo": {
           "bgcolor": "white",
           "lakecolor": "white",
           "landcolor": "#E5ECF6",
           "showlakes": true,
           "showland": true,
           "subunitcolor": "white"
          },
          "hoverlabel": {
           "align": "left"
          },
          "hovermode": "closest",
          "mapbox": {
           "style": "light"
          },
          "paper_bgcolor": "white",
          "plot_bgcolor": "#E5ECF6",
          "polar": {
           "angularaxis": {
            "gridcolor": "white",
            "linecolor": "white",
            "ticks": ""
           },
           "bgcolor": "#E5ECF6",
           "radialaxis": {
            "gridcolor": "white",
            "linecolor": "white",
            "ticks": ""
           }
          },
          "scene": {
           "xaxis": {
            "backgroundcolor": "#E5ECF6",
            "gridcolor": "white",
            "gridwidth": 2,
            "linecolor": "white",
            "showbackground": true,
            "ticks": "",
            "zerolinecolor": "white"
           },
           "yaxis": {
            "backgroundcolor": "#E5ECF6",
            "gridcolor": "white",
            "gridwidth": 2,
            "linecolor": "white",
            "showbackground": true,
            "ticks": "",
            "zerolinecolor": "white"
           },
           "zaxis": {
            "backgroundcolor": "#E5ECF6",
            "gridcolor": "white",
            "gridwidth": 2,
            "linecolor": "white",
            "showbackground": true,
            "ticks": "",
            "zerolinecolor": "white"
           }
          },
          "shapedefaults": {
           "line": {
            "color": "#2a3f5f"
           }
          },
          "ternary": {
           "aaxis": {
            "gridcolor": "white",
            "linecolor": "white",
            "ticks": ""
           },
           "baxis": {
            "gridcolor": "white",
            "linecolor": "white",
            "ticks": ""
           },
           "bgcolor": "#E5ECF6",
           "caxis": {
            "gridcolor": "white",
            "linecolor": "white",
            "ticks": ""
           }
          },
          "title": {
           "x": 0.05
          },
          "xaxis": {
           "automargin": true,
           "gridcolor": "white",
           "linecolor": "white",
           "ticks": "",
           "title": {
            "standoff": 15
           },
           "zerolinecolor": "white",
           "zerolinewidth": 2
          },
          "yaxis": {
           "automargin": true,
           "gridcolor": "white",
           "linecolor": "white",
           "ticks": "",
           "title": {
            "standoff": 15
           },
           "zerolinecolor": "white",
           "zerolinewidth": 2
          }
         }
        },
        "title": {
         "font": {
          "color": "#4D5663"
         }
        },
        "xaxis": {
         "gridcolor": "#E1E5ED",
         "showgrid": true,
         "tickfont": {
          "color": "#4D5663"
         },
         "title": {
          "font": {
           "color": "#4D5663"
          },
          "text": ""
         },
         "zerolinecolor": "#E1E5ED"
        },
        "yaxis": {
         "gridcolor": "#E1E5ED",
         "showgrid": true,
         "tickfont": {
          "color": "#4D5663"
         },
         "title": {
          "font": {
           "color": "#4D5663"
          },
          "text": ""
         },
         "zerolinecolor": "#E1E5ED"
        }
       }
      },
      "text/html": [
       "<div>                            <div id=\"dc196424-9a53-4109-9d7d-12ef133eb804\" class=\"plotly-graph-div\" style=\"height:525px; width:100%;\"></div>            <script type=\"text/javascript\">                require([\"plotly\"], function(Plotly) {                    window.PLOTLYENV=window.PLOTLYENV || {};\n",
       "                    window.PLOTLYENV.BASE_URL='https://plot.ly';                                    if (document.getElementById(\"dc196424-9a53-4109-9d7d-12ef133eb804\")) {                    Plotly.newPlot(                        \"dc196424-9a53-4109-9d7d-12ef133eb804\",                        [{\"marker\":{\"color\":\"rgba(255, 153, 51, 0.6)\",\"line\":{\"color\":\"rgba(255, 153, 51, 1.0)\",\"width\":1}},\"name\":\"None\",\"orientation\":\"v\",\"text\":\"\",\"type\":\"bar\",\"x\":[\"A\",\"B\",\"C\",\"D\"],\"y\":[100,100,100,100]}],                        {\"legend\":{\"bgcolor\":\"#F5F6F9\",\"font\":{\"color\":\"#4D5663\"}},\"paper_bgcolor\":\"#F5F6F9\",\"plot_bgcolor\":\"#F5F6F9\",\"template\":{\"data\":{\"bar\":[{\"error_x\":{\"color\":\"#2a3f5f\"},\"error_y\":{\"color\":\"#2a3f5f\"},\"marker\":{\"line\":{\"color\":\"#E5ECF6\",\"width\":0.5},\"pattern\":{\"fillmode\":\"overlay\",\"size\":10,\"solidity\":0.2}},\"type\":\"bar\"}],\"barpolar\":[{\"marker\":{\"line\":{\"color\":\"#E5ECF6\",\"width\":0.5},\"pattern\":{\"fillmode\":\"overlay\",\"size\":10,\"solidity\":0.2}},\"type\":\"barpolar\"}],\"carpet\":[{\"aaxis\":{\"endlinecolor\":\"#2a3f5f\",\"gridcolor\":\"white\",\"linecolor\":\"white\",\"minorgridcolor\":\"white\",\"startlinecolor\":\"#2a3f5f\"},\"baxis\":{\"endlinecolor\":\"#2a3f5f\",\"gridcolor\":\"white\",\"linecolor\":\"white\",\"minorgridcolor\":\"white\",\"startlinecolor\":\"#2a3f5f\"},\"type\":\"carpet\"}],\"choropleth\":[{\"colorbar\":{\"outlinewidth\":0,\"ticks\":\"\"},\"type\":\"choropleth\"}],\"contour\":[{\"colorbar\":{\"outlinewidth\":0,\"ticks\":\"\"},\"colorscale\":[[0.0,\"#0d0887\"],[0.1111111111111111,\"#46039f\"],[0.2222222222222222,\"#7201a8\"],[0.3333333333333333,\"#9c179e\"],[0.4444444444444444,\"#bd3786\"],[0.5555555555555556,\"#d8576b\"],[0.6666666666666666,\"#ed7953\"],[0.7777777777777778,\"#fb9f3a\"],[0.8888888888888888,\"#fdca26\"],[1.0,\"#f0f921\"]],\"type\":\"contour\"}],\"contourcarpet\":[{\"colorbar\":{\"outlinewidth\":0,\"ticks\":\"\"},\"type\":\"contourcarpet\"}],\"heatmap\":[{\"colorbar\":{\"outlinewidth\":0,\"ticks\":\"\"},\"colorscale\":[[0.0,\"#0d0887\"],[0.1111111111111111,\"#46039f\"],[0.2222222222222222,\"#7201a8\"],[0.3333333333333333,\"#9c179e\"],[0.4444444444444444,\"#bd3786\"],[0.5555555555555556,\"#d8576b\"],[0.6666666666666666,\"#ed7953\"],[0.7777777777777778,\"#fb9f3a\"],[0.8888888888888888,\"#fdca26\"],[1.0,\"#f0f921\"]],\"type\":\"heatmap\"}],\"heatmapgl\":[{\"colorbar\":{\"outlinewidth\":0,\"ticks\":\"\"},\"colorscale\":[[0.0,\"#0d0887\"],[0.1111111111111111,\"#46039f\"],[0.2222222222222222,\"#7201a8\"],[0.3333333333333333,\"#9c179e\"],[0.4444444444444444,\"#bd3786\"],[0.5555555555555556,\"#d8576b\"],[0.6666666666666666,\"#ed7953\"],[0.7777777777777778,\"#fb9f3a\"],[0.8888888888888888,\"#fdca26\"],[1.0,\"#f0f921\"]],\"type\":\"heatmapgl\"}],\"histogram\":[{\"marker\":{\"pattern\":{\"fillmode\":\"overlay\",\"size\":10,\"solidity\":0.2}},\"type\":\"histogram\"}],\"histogram2d\":[{\"colorbar\":{\"outlinewidth\":0,\"ticks\":\"\"},\"colorscale\":[[0.0,\"#0d0887\"],[0.1111111111111111,\"#46039f\"],[0.2222222222222222,\"#7201a8\"],[0.3333333333333333,\"#9c179e\"],[0.4444444444444444,\"#bd3786\"],[0.5555555555555556,\"#d8576b\"],[0.6666666666666666,\"#ed7953\"],[0.7777777777777778,\"#fb9f3a\"],[0.8888888888888888,\"#fdca26\"],[1.0,\"#f0f921\"]],\"type\":\"histogram2d\"}],\"histogram2dcontour\":[{\"colorbar\":{\"outlinewidth\":0,\"ticks\":\"\"},\"colorscale\":[[0.0,\"#0d0887\"],[0.1111111111111111,\"#46039f\"],[0.2222222222222222,\"#7201a8\"],[0.3333333333333333,\"#9c179e\"],[0.4444444444444444,\"#bd3786\"],[0.5555555555555556,\"#d8576b\"],[0.6666666666666666,\"#ed7953\"],[0.7777777777777778,\"#fb9f3a\"],[0.8888888888888888,\"#fdca26\"],[1.0,\"#f0f921\"]],\"type\":\"histogram2dcontour\"}],\"mesh3d\":[{\"colorbar\":{\"outlinewidth\":0,\"ticks\":\"\"},\"type\":\"mesh3d\"}],\"parcoords\":[{\"line\":{\"colorbar\":{\"outlinewidth\":0,\"ticks\":\"\"}},\"type\":\"parcoords\"}],\"pie\":[{\"automargin\":true,\"type\":\"pie\"}],\"scatter\":[{\"marker\":{\"colorbar\":{\"outlinewidth\":0,\"ticks\":\"\"}},\"type\":\"scatter\"}],\"scatter3d\":[{\"line\":{\"colorbar\":{\"outlinewidth\":0,\"ticks\":\"\"}},\"marker\":{\"colorbar\":{\"outlinewidth\":0,\"ticks\":\"\"}},\"type\":\"scatter3d\"}],\"scattercarpet\":[{\"marker\":{\"colorbar\":{\"outlinewidth\":0,\"ticks\":\"\"}},\"type\":\"scattercarpet\"}],\"scattergeo\":[{\"marker\":{\"colorbar\":{\"outlinewidth\":0,\"ticks\":\"\"}},\"type\":\"scattergeo\"}],\"scattergl\":[{\"marker\":{\"colorbar\":{\"outlinewidth\":0,\"ticks\":\"\"}},\"type\":\"scattergl\"}],\"scattermapbox\":[{\"marker\":{\"colorbar\":{\"outlinewidth\":0,\"ticks\":\"\"}},\"type\":\"scattermapbox\"}],\"scatterpolar\":[{\"marker\":{\"colorbar\":{\"outlinewidth\":0,\"ticks\":\"\"}},\"type\":\"scatterpolar\"}],\"scatterpolargl\":[{\"marker\":{\"colorbar\":{\"outlinewidth\":0,\"ticks\":\"\"}},\"type\":\"scatterpolargl\"}],\"scatterternary\":[{\"marker\":{\"colorbar\":{\"outlinewidth\":0,\"ticks\":\"\"}},\"type\":\"scatterternary\"}],\"surface\":[{\"colorbar\":{\"outlinewidth\":0,\"ticks\":\"\"},\"colorscale\":[[0.0,\"#0d0887\"],[0.1111111111111111,\"#46039f\"],[0.2222222222222222,\"#7201a8\"],[0.3333333333333333,\"#9c179e\"],[0.4444444444444444,\"#bd3786\"],[0.5555555555555556,\"#d8576b\"],[0.6666666666666666,\"#ed7953\"],[0.7777777777777778,\"#fb9f3a\"],[0.8888888888888888,\"#fdca26\"],[1.0,\"#f0f921\"]],\"type\":\"surface\"}],\"table\":[{\"cells\":{\"fill\":{\"color\":\"#EBF0F8\"},\"line\":{\"color\":\"white\"}},\"header\":{\"fill\":{\"color\":\"#C8D4E3\"},\"line\":{\"color\":\"white\"}},\"type\":\"table\"}]},\"layout\":{\"annotationdefaults\":{\"arrowcolor\":\"#2a3f5f\",\"arrowhead\":0,\"arrowwidth\":1},\"autotypenumbers\":\"strict\",\"coloraxis\":{\"colorbar\":{\"outlinewidth\":0,\"ticks\":\"\"}},\"colorscale\":{\"diverging\":[[0,\"#8e0152\"],[0.1,\"#c51b7d\"],[0.2,\"#de77ae\"],[0.3,\"#f1b6da\"],[0.4,\"#fde0ef\"],[0.5,\"#f7f7f7\"],[0.6,\"#e6f5d0\"],[0.7,\"#b8e186\"],[0.8,\"#7fbc41\"],[0.9,\"#4d9221\"],[1,\"#276419\"]],\"sequential\":[[0.0,\"#0d0887\"],[0.1111111111111111,\"#46039f\"],[0.2222222222222222,\"#7201a8\"],[0.3333333333333333,\"#9c179e\"],[0.4444444444444444,\"#bd3786\"],[0.5555555555555556,\"#d8576b\"],[0.6666666666666666,\"#ed7953\"],[0.7777777777777778,\"#fb9f3a\"],[0.8888888888888888,\"#fdca26\"],[1.0,\"#f0f921\"]],\"sequentialminus\":[[0.0,\"#0d0887\"],[0.1111111111111111,\"#46039f\"],[0.2222222222222222,\"#7201a8\"],[0.3333333333333333,\"#9c179e\"],[0.4444444444444444,\"#bd3786\"],[0.5555555555555556,\"#d8576b\"],[0.6666666666666666,\"#ed7953\"],[0.7777777777777778,\"#fb9f3a\"],[0.8888888888888888,\"#fdca26\"],[1.0,\"#f0f921\"]]},\"colorway\":[\"#636efa\",\"#EF553B\",\"#00cc96\",\"#ab63fa\",\"#FFA15A\",\"#19d3f3\",\"#FF6692\",\"#B6E880\",\"#FF97FF\",\"#FECB52\"],\"font\":{\"color\":\"#2a3f5f\"},\"geo\":{\"bgcolor\":\"white\",\"lakecolor\":\"white\",\"landcolor\":\"#E5ECF6\",\"showlakes\":true,\"showland\":true,\"subunitcolor\":\"white\"},\"hoverlabel\":{\"align\":\"left\"},\"hovermode\":\"closest\",\"mapbox\":{\"style\":\"light\"},\"paper_bgcolor\":\"white\",\"plot_bgcolor\":\"#E5ECF6\",\"polar\":{\"angularaxis\":{\"gridcolor\":\"white\",\"linecolor\":\"white\",\"ticks\":\"\"},\"bgcolor\":\"#E5ECF6\",\"radialaxis\":{\"gridcolor\":\"white\",\"linecolor\":\"white\",\"ticks\":\"\"}},\"scene\":{\"xaxis\":{\"backgroundcolor\":\"#E5ECF6\",\"gridcolor\":\"white\",\"gridwidth\":2,\"linecolor\":\"white\",\"showbackground\":true,\"ticks\":\"\",\"zerolinecolor\":\"white\"},\"yaxis\":{\"backgroundcolor\":\"#E5ECF6\",\"gridcolor\":\"white\",\"gridwidth\":2,\"linecolor\":\"white\",\"showbackground\":true,\"ticks\":\"\",\"zerolinecolor\":\"white\"},\"zaxis\":{\"backgroundcolor\":\"#E5ECF6\",\"gridcolor\":\"white\",\"gridwidth\":2,\"linecolor\":\"white\",\"showbackground\":true,\"ticks\":\"\",\"zerolinecolor\":\"white\"}},\"shapedefaults\":{\"line\":{\"color\":\"#2a3f5f\"}},\"ternary\":{\"aaxis\":{\"gridcolor\":\"white\",\"linecolor\":\"white\",\"ticks\":\"\"},\"baxis\":{\"gridcolor\":\"white\",\"linecolor\":\"white\",\"ticks\":\"\"},\"bgcolor\":\"#E5ECF6\",\"caxis\":{\"gridcolor\":\"white\",\"linecolor\":\"white\",\"ticks\":\"\"}},\"title\":{\"x\":0.05},\"xaxis\":{\"automargin\":true,\"gridcolor\":\"white\",\"linecolor\":\"white\",\"ticks\":\"\",\"title\":{\"standoff\":15},\"zerolinecolor\":\"white\",\"zerolinewidth\":2},\"yaxis\":{\"automargin\":true,\"gridcolor\":\"white\",\"linecolor\":\"white\",\"ticks\":\"\",\"title\":{\"standoff\":15},\"zerolinecolor\":\"white\",\"zerolinewidth\":2}}},\"title\":{\"font\":{\"color\":\"#4D5663\"}},\"xaxis\":{\"gridcolor\":\"#E1E5ED\",\"showgrid\":true,\"tickfont\":{\"color\":\"#4D5663\"},\"title\":{\"font\":{\"color\":\"#4D5663\"},\"text\":\"\"},\"zerolinecolor\":\"#E1E5ED\"},\"yaxis\":{\"gridcolor\":\"#E1E5ED\",\"showgrid\":true,\"tickfont\":{\"color\":\"#4D5663\"},\"title\":{\"font\":{\"color\":\"#4D5663\"},\"text\":\"\"},\"zerolinecolor\":\"#E1E5ED\"}},                        {\"showLink\": true, \"linkText\": \"Export to plot.ly\", \"plotlyServerURL\": \"https://plot.ly\", \"responsive\": true}                    ).then(function(){\n",
       "                            \n",
       "var gd = document.getElementById('dc196424-9a53-4109-9d7d-12ef133eb804');\n",
       "var x = new MutationObserver(function (mutations, observer) {{\n",
       "        var display = window.getComputedStyle(gd).display;\n",
       "        if (!display || display === 'none') {{\n",
       "            console.log([gd, 'removed!']);\n",
       "            Plotly.purge(gd);\n",
       "            observer.disconnect();\n",
       "        }}\n",
       "}});\n",
       "\n",
       "// Listen for the removal of the full notebook cells\n",
       "var notebookContainer = gd.closest('#notebook-container');\n",
       "if (notebookContainer) {{\n",
       "    x.observe(notebookContainer, {childList: true});\n",
       "}}\n",
       "\n",
       "// Listen for the clearing of the current output cell\n",
       "var outputEl = gd.closest('.output');\n",
       "if (outputEl) {{\n",
       "    x.observe(outputEl, {childList: true});\n",
       "}}\n",
       "\n",
       "                        })                };                });            </script>        </div>"
      ]
     },
     "metadata": {},
     "output_type": "display_data"
    }
   ],
   "source": [
    "df.count().iplot(kind='bar')"
   ]
  },
  {
   "cell_type": "markdown",
   "metadata": {},
   "source": [
    "## Boxplots"
   ]
  },
  {
   "cell_type": "code",
   "execution_count": 14,
   "metadata": {},
   "outputs": [
    {
     "data": {
      "application/vnd.plotly.v1+json": {
       "config": {
        "linkText": "Export to plot.ly",
        "plotlyServerURL": "https://plot.ly",
        "showLink": true
       },
       "data": [
        {
         "boxpoints": false,
         "line": {
          "width": 1.3
         },
         "marker": {
          "color": "rgba(255, 153, 51, 1.0)"
         },
         "name": "A",
         "orientation": "v",
         "type": "box",
         "y": [
          0.027241215754599653,
          0.461466942154424,
          0.3737578251714141,
          -1.4560336370431364,
          0.05734000875052292,
          -0.6934160050389406,
          -0.12917756125043053,
          0.5419506235849016,
          -1.1012631192337687,
          0.24570141978914636,
          0.01087999684740408,
          0.8100012366208713,
          -0.7030304225159633,
          -0.5946926572342286,
          -0.44511995840997504,
          0.23427398696523208,
          0.4160578404859543,
          -3.2493969232153423,
          -0.4734991876936832,
          -0.07570748157761908,
          0.3528977639604107,
          -0.21581152640941356,
          0.13976768152913263,
          0.9467098790676365,
          -0.23273491103119384,
          0.0389850989077991,
          -0.22939906198068014,
          0.8637838686080933,
          -1.1369014503927326,
          0.7526257977466814,
          0.41974541451444486,
          -0.29463973256237136,
          -2.176829559215304,
          -1.5302922998315613,
          0.35842273997828183,
          1.7264403465548985,
          -0.3653450892096323,
          -0.31695509980092507,
          -1.0558192787782297,
          -1.304349636163735,
          2.257323133922572,
          -0.10041675052728624,
          -2.24397916062139,
          -0.5589838760811628,
          -1.20295960227409,
          0.0026320539461168204,
          -0.2865627041840873,
          0.541803777541615,
          0.6300582728619144,
          -2.5053795527591367,
          -0.46316045798202704,
          -1.8274300715054332,
          -0.5586514125300802,
          0.3189194724183755,
          -1.685811925308102,
          -0.8428118098322996,
          0.80016486621426,
          0.5459717323447757,
          0.8643649166999295,
          -0.5740222161144256,
          -0.7179033509334194,
          -2.5019769582607734,
          -0.03892926260196354,
          -0.5500802354222613,
          1.2596761814939812,
          0.7347475008736277,
          -0.48819951705315184,
          -0.7205060770260235,
          -0.38233687263659966,
          0.4165865401847979,
          0.08270946347414312,
          0.04582443872299958,
          -2.839154713525733,
          1.4345342033741435,
          0.2590541572647937,
          -0.7046726386164505,
          -0.9473258446696663,
          -0.6517931146311408,
          1.0110736188093266,
          -0.5833457105696599,
          0.8982890815734496,
          0.5013034542613344,
          2.464532736067224,
          1.2612335926418747,
          0.536455461831126,
          1.934995588665759,
          -2.5219462688804963,
          0.628745198471256,
          -2.4809074077695996,
          1.6053651644968228,
          -0.2464413181810761,
          -1.4132000544481975,
          0.1868646453584373,
          0.7744526830342858,
          -0.7831732804063224,
          -2.2172665385010206,
          0.6368751852482623,
          0.11593761473734172,
          0.6190387568185067,
          -1.2760951982159945
         ]
        },
        {
         "boxpoints": false,
         "line": {
          "width": 1.3
         },
         "marker": {
          "color": "rgba(55, 128, 191, 1.0)"
         },
         "name": "B",
         "orientation": "v",
         "type": "box",
         "y": [
          -1.2299495303316792,
          0.5761251925679554,
          0.4439223748334115,
          0.4482693887595382,
          0.4391188657924199,
          -0.6090184804140729,
          0.7739033993514225,
          -0.1858044672741451,
          -1.5004542493562412,
          0.2661389565905993,
          -1.0307976300658042,
          -2.02562399847762,
          -0.7753946361284771,
          -0.024092807303725004,
          -1.5488851006659816,
          -0.40608690106156453,
          -1.7875493827221627,
          1.0978120233875932,
          1.2796131600904732,
          -0.24566124104260884,
          2.1512327284437016,
          1.0702943810199417,
          -0.16948194839928224,
          0.633425338273376,
          -0.12053714748320615,
          -0.7084391381390437,
          1.2122343306242827,
          -0.5531661180518929,
          0.6760646031687255,
          -0.8600719233782612,
          0.6307408183438546,
          0.736114624702335,
          0.8211645861435984,
          -0.9063307935843637,
          -0.4618678949453949,
          0.640819882423184,
          0.255985632683679,
          0.44050250308581096,
          -0.5098792189564512,
          0.6612370454506209,
          -0.4600852985179216,
          1.3928542342840358,
          0.8823525659375652,
          0.607283903701555,
          -2.4441288988197107,
          -0.8644188008705929,
          -0.532690495638404,
          0.12512387164939145,
          -0.7233303308661587,
          -0.23976137531649747,
          1.5587585887796735,
          -0.3530505109153326,
          -0.7056602818285378,
          0.4035688891271258,
          -0.8327362135840342,
          -1.313239469889929,
          -0.6277207975245217,
          -0.06658365119250485,
          -0.7808892284561406,
          -0.3748780636142635,
          -0.38299456605242604,
          -0.6325698902459843,
          -0.37089771726844656,
          0.32138636034575196,
          0.6727738971760795,
          -0.3945422734138908,
          2.9500615298764727,
          1.5519218449607535,
          0.4797694345031922,
          0.6423701460270103,
          -1.9708893650276542,
          1.1646789788732854,
          0.9515688528861517,
          1.4511554272385823,
          -0.20150822013810582,
          0.2606018888417338,
          -0.2510612853910099,
          2.130016703150938,
          1.63705915645,
          0.39847523494422377,
          1.0184562083723192,
          -0.5382357322422255,
          2.483246044560773,
          0.8526701202253368,
          -1.2948330224433153,
          1.3410500034685415,
          0.2624724820130176,
          0.42655832078624994,
          1.4132672701391868,
          -0.8391493300974192,
          -1.231514045828351,
          -2.0535105642667326,
          -0.8008456977267329,
          -0.38365075218860983,
          0.8430333327693967,
          1.1505882799513372,
          -1.3125282714743989,
          0.7942258301306302,
          -0.8030278933285362,
          0.023210838012871562
         ]
        },
        {
         "boxpoints": false,
         "line": {
          "width": 1.3
         },
         "marker": {
          "color": "rgba(50, 171, 96, 1.0)"
         },
         "name": "C",
         "orientation": "v",
         "type": "box",
         "y": [
          2.0269316731802673,
          0.3900738440870191,
          -0.5509704357907378,
          0.41238086371051214,
          1.3300384472698463,
          0.5094694905062215,
          1.0536919301420062,
          0.8334293454329205,
          1.1495346482242275,
          -0.8161796856150146,
          0.4621058636690486,
          0.5294813648253962,
          -0.8540906796983768,
          -1.0185814721037045,
          0.6627503077156954,
          -2.2718238272262266,
          -0.4215552608509096,
          -0.3563238694174239,
          -2.235723176981178,
          -0.0727382904398685,
          0.20698870964541172,
          1.5050735780324862,
          -0.09206585334279284,
          -0.13800615635486052,
          0.19254933126935822,
          0.5754127438818876,
          0.760219269687592,
          -0.8187273135993184,
          -0.6278746156930031,
          1.2458098868830387,
          -0.3012839116102563,
          1.2315211639397226,
          1.6939271522092885,
          -0.02336099170503781,
          0.5468940772555165,
          -0.18112666047871426,
          -0.8670913328228448,
          -0.12303348374833262,
          0.827600075731781,
          -1.4126556937840686,
          0.2961505500818118,
          1.3707393938345103,
          1.1221808269822853,
          1.3375914046745596,
          0.6112363303316156,
          0.7554927668559361,
          0.18833222037663072,
          -0.9969144284594557,
          -0.5519265291687282,
          -0.22306353873462406,
          -0.2563451918380548,
          -0.3603452681361516,
          0.9011910994483247,
          -0.533939761106292,
          0.7071983930222037,
          0.9178877931296235,
          1.2179086647333313,
          -0.7150397928951028,
          -0.5829409809514536,
          -0.9061458306370328,
          0.5694329795337395,
          1.829626058008287,
          1.9429109542822776,
          -0.49476002069023667,
          2.066978384385359,
          0.17767635307027307,
          -0.8304743101055881,
          -0.2265963040959604,
          -0.7773926224598035,
          -0.44067000289883007,
          -0.9450696730766448,
          0.48128100200464896,
          -0.49487203558974524,
          -0.6018275073423531,
          -0.5179025798437809,
          0.6565329532524697,
          -1.8662061816335884,
          1.2949345333948852,
          1.4123076140162585,
          0.7524739263061787,
          -0.0031613521859595126,
          -0.5833576432659269,
          -0.4713320882377061,
          0.30712786965241107,
          -0.619678940804528,
          -0.5930332641931113,
          1.962935237824439,
          1.2176673108805502,
          -0.2411113726519649,
          -0.3527909849181242,
          -0.1527911735003672,
          0.7915524214048402,
          -0.12748782013816512,
          0.9105749360568643,
          0.25822859450953034,
          -1.125534337375841,
          -0.8310329535110081,
          0.9578111567739361,
          -0.788743587272034,
          -0.6557483895085895
         ]
        },
        {
         "boxpoints": false,
         "line": {
          "width": 1.3
         },
         "marker": {
          "color": "rgba(128, 0, 128, 1.0)"
         },
         "name": "D",
         "orientation": "v",
         "type": "box",
         "y": [
          -0.34838642465310976,
          1.181842041223677,
          1.1274135164978363,
          -0.8505335468790323,
          -1.0545048061462534,
          0.9648968501508846,
          1.359512881108927,
          0.031319299346180704,
          -1.0544546453516068,
          -0.19415686511112226,
          -0.8782025088237447,
          0.2979572393155649,
          -0.25164257647585614,
          0.18006007456588874,
          1.5948180741168454,
          -0.11016365987717315,
          0.026912490823449833,
          -0.17314469919793413,
          -0.44698980561488744,
          -0.5223704821693409,
          1.2019422992338886,
          -0.9108856674435171,
          0.17289876018881567,
          0.9434915597651907,
          0.41427151570218734,
          0.18346300209250066,
          -1.045725467277624,
          1.0958361772136858,
          0.5154146534001802,
          0.7486792070848206,
          0.8061256766986518,
          0.2032447540621425,
          -1.6844965037132096,
          -1.0041452619752393,
          0.01302553469071673,
          -0.7734146255293952,
          0.2634141956378256,
          0.712908872570988,
          0.977766969094656,
          -0.35347025671809845,
          0.3319287536417015,
          0.19638539974491476,
          0.981980062458202,
          -1.4079859998371953,
          -0.1646834085274142,
          -0.3605965515725068,
          -0.1143569728769469,
          0.6485213215837613,
          -0.6296574194265816,
          -2.0186763437497297,
          0.9053199943270607,
          1.192836886917903,
          1.4661736115872215,
          -0.9820446114331933,
          0.4563239961336419,
          -1.3723818383770405,
          0.6094619537747207,
          -1.7935388851300191,
          -0.2507027537011104,
          1.3864089231885277,
          0.47037988777239864,
          -0.6018490239023988,
          -0.9625010436209301,
          0.2372870957932504,
          -0.09723830548886282,
          0.8069547308099078,
          -0.42105820077670625,
          1.0296767830467521,
          0.037600022632975905,
          0.07138464928075697,
          0.2796654273799903,
          -2.49408432595785,
          -0.30580333153477673,
          2.126316413474627,
          0.5927685525299955,
          0.013736794392062983,
          1.1106767069672834,
          -0.6773361907310395,
          -0.46290553372163307,
          1.2232290731098865,
          -0.14194727709821015,
          0.2707178806404906,
          -0.09855395233826988,
          -1.4312626397496775,
          -0.20452270125593489,
          -0.7052409656017552,
          -1.4274348225640827,
          0.7140966200329959,
          -0.9247066437972612,
          -0.26388909407647126,
          0.1041322303504204,
          0.7960006430313149,
          -0.05142318837511502,
          -0.6128088687539949,
          0.03981581787309479,
          -0.35908397951782045,
          -0.035824028085450044,
          -0.07966456102769102,
          0.23852400839790286,
          -1.0089027578041012
         ]
        }
       ],
       "layout": {
        "legend": {
         "bgcolor": "#F5F6F9",
         "font": {
          "color": "#4D5663"
         }
        },
        "paper_bgcolor": "#F5F6F9",
        "plot_bgcolor": "#F5F6F9",
        "template": {
         "data": {
          "bar": [
           {
            "error_x": {
             "color": "#2a3f5f"
            },
            "error_y": {
             "color": "#2a3f5f"
            },
            "marker": {
             "line": {
              "color": "#E5ECF6",
              "width": 0.5
             },
             "pattern": {
              "fillmode": "overlay",
              "size": 10,
              "solidity": 0.2
             }
            },
            "type": "bar"
           }
          ],
          "barpolar": [
           {
            "marker": {
             "line": {
              "color": "#E5ECF6",
              "width": 0.5
             },
             "pattern": {
              "fillmode": "overlay",
              "size": 10,
              "solidity": 0.2
             }
            },
            "type": "barpolar"
           }
          ],
          "carpet": [
           {
            "aaxis": {
             "endlinecolor": "#2a3f5f",
             "gridcolor": "white",
             "linecolor": "white",
             "minorgridcolor": "white",
             "startlinecolor": "#2a3f5f"
            },
            "baxis": {
             "endlinecolor": "#2a3f5f",
             "gridcolor": "white",
             "linecolor": "white",
             "minorgridcolor": "white",
             "startlinecolor": "#2a3f5f"
            },
            "type": "carpet"
           }
          ],
          "choropleth": [
           {
            "colorbar": {
             "outlinewidth": 0,
             "ticks": ""
            },
            "type": "choropleth"
           }
          ],
          "contour": [
           {
            "colorbar": {
             "outlinewidth": 0,
             "ticks": ""
            },
            "colorscale": [
             [
              0,
              "#0d0887"
             ],
             [
              0.1111111111111111,
              "#46039f"
             ],
             [
              0.2222222222222222,
              "#7201a8"
             ],
             [
              0.3333333333333333,
              "#9c179e"
             ],
             [
              0.4444444444444444,
              "#bd3786"
             ],
             [
              0.5555555555555556,
              "#d8576b"
             ],
             [
              0.6666666666666666,
              "#ed7953"
             ],
             [
              0.7777777777777778,
              "#fb9f3a"
             ],
             [
              0.8888888888888888,
              "#fdca26"
             ],
             [
              1,
              "#f0f921"
             ]
            ],
            "type": "contour"
           }
          ],
          "contourcarpet": [
           {
            "colorbar": {
             "outlinewidth": 0,
             "ticks": ""
            },
            "type": "contourcarpet"
           }
          ],
          "heatmap": [
           {
            "colorbar": {
             "outlinewidth": 0,
             "ticks": ""
            },
            "colorscale": [
             [
              0,
              "#0d0887"
             ],
             [
              0.1111111111111111,
              "#46039f"
             ],
             [
              0.2222222222222222,
              "#7201a8"
             ],
             [
              0.3333333333333333,
              "#9c179e"
             ],
             [
              0.4444444444444444,
              "#bd3786"
             ],
             [
              0.5555555555555556,
              "#d8576b"
             ],
             [
              0.6666666666666666,
              "#ed7953"
             ],
             [
              0.7777777777777778,
              "#fb9f3a"
             ],
             [
              0.8888888888888888,
              "#fdca26"
             ],
             [
              1,
              "#f0f921"
             ]
            ],
            "type": "heatmap"
           }
          ],
          "heatmapgl": [
           {
            "colorbar": {
             "outlinewidth": 0,
             "ticks": ""
            },
            "colorscale": [
             [
              0,
              "#0d0887"
             ],
             [
              0.1111111111111111,
              "#46039f"
             ],
             [
              0.2222222222222222,
              "#7201a8"
             ],
             [
              0.3333333333333333,
              "#9c179e"
             ],
             [
              0.4444444444444444,
              "#bd3786"
             ],
             [
              0.5555555555555556,
              "#d8576b"
             ],
             [
              0.6666666666666666,
              "#ed7953"
             ],
             [
              0.7777777777777778,
              "#fb9f3a"
             ],
             [
              0.8888888888888888,
              "#fdca26"
             ],
             [
              1,
              "#f0f921"
             ]
            ],
            "type": "heatmapgl"
           }
          ],
          "histogram": [
           {
            "marker": {
             "pattern": {
              "fillmode": "overlay",
              "size": 10,
              "solidity": 0.2
             }
            },
            "type": "histogram"
           }
          ],
          "histogram2d": [
           {
            "colorbar": {
             "outlinewidth": 0,
             "ticks": ""
            },
            "colorscale": [
             [
              0,
              "#0d0887"
             ],
             [
              0.1111111111111111,
              "#46039f"
             ],
             [
              0.2222222222222222,
              "#7201a8"
             ],
             [
              0.3333333333333333,
              "#9c179e"
             ],
             [
              0.4444444444444444,
              "#bd3786"
             ],
             [
              0.5555555555555556,
              "#d8576b"
             ],
             [
              0.6666666666666666,
              "#ed7953"
             ],
             [
              0.7777777777777778,
              "#fb9f3a"
             ],
             [
              0.8888888888888888,
              "#fdca26"
             ],
             [
              1,
              "#f0f921"
             ]
            ],
            "type": "histogram2d"
           }
          ],
          "histogram2dcontour": [
           {
            "colorbar": {
             "outlinewidth": 0,
             "ticks": ""
            },
            "colorscale": [
             [
              0,
              "#0d0887"
             ],
             [
              0.1111111111111111,
              "#46039f"
             ],
             [
              0.2222222222222222,
              "#7201a8"
             ],
             [
              0.3333333333333333,
              "#9c179e"
             ],
             [
              0.4444444444444444,
              "#bd3786"
             ],
             [
              0.5555555555555556,
              "#d8576b"
             ],
             [
              0.6666666666666666,
              "#ed7953"
             ],
             [
              0.7777777777777778,
              "#fb9f3a"
             ],
             [
              0.8888888888888888,
              "#fdca26"
             ],
             [
              1,
              "#f0f921"
             ]
            ],
            "type": "histogram2dcontour"
           }
          ],
          "mesh3d": [
           {
            "colorbar": {
             "outlinewidth": 0,
             "ticks": ""
            },
            "type": "mesh3d"
           }
          ],
          "parcoords": [
           {
            "line": {
             "colorbar": {
              "outlinewidth": 0,
              "ticks": ""
             }
            },
            "type": "parcoords"
           }
          ],
          "pie": [
           {
            "automargin": true,
            "type": "pie"
           }
          ],
          "scatter": [
           {
            "marker": {
             "colorbar": {
              "outlinewidth": 0,
              "ticks": ""
             }
            },
            "type": "scatter"
           }
          ],
          "scatter3d": [
           {
            "line": {
             "colorbar": {
              "outlinewidth": 0,
              "ticks": ""
             }
            },
            "marker": {
             "colorbar": {
              "outlinewidth": 0,
              "ticks": ""
             }
            },
            "type": "scatter3d"
           }
          ],
          "scattercarpet": [
           {
            "marker": {
             "colorbar": {
              "outlinewidth": 0,
              "ticks": ""
             }
            },
            "type": "scattercarpet"
           }
          ],
          "scattergeo": [
           {
            "marker": {
             "colorbar": {
              "outlinewidth": 0,
              "ticks": ""
             }
            },
            "type": "scattergeo"
           }
          ],
          "scattergl": [
           {
            "marker": {
             "colorbar": {
              "outlinewidth": 0,
              "ticks": ""
             }
            },
            "type": "scattergl"
           }
          ],
          "scattermapbox": [
           {
            "marker": {
             "colorbar": {
              "outlinewidth": 0,
              "ticks": ""
             }
            },
            "type": "scattermapbox"
           }
          ],
          "scatterpolar": [
           {
            "marker": {
             "colorbar": {
              "outlinewidth": 0,
              "ticks": ""
             }
            },
            "type": "scatterpolar"
           }
          ],
          "scatterpolargl": [
           {
            "marker": {
             "colorbar": {
              "outlinewidth": 0,
              "ticks": ""
             }
            },
            "type": "scatterpolargl"
           }
          ],
          "scatterternary": [
           {
            "marker": {
             "colorbar": {
              "outlinewidth": 0,
              "ticks": ""
             }
            },
            "type": "scatterternary"
           }
          ],
          "surface": [
           {
            "colorbar": {
             "outlinewidth": 0,
             "ticks": ""
            },
            "colorscale": [
             [
              0,
              "#0d0887"
             ],
             [
              0.1111111111111111,
              "#46039f"
             ],
             [
              0.2222222222222222,
              "#7201a8"
             ],
             [
              0.3333333333333333,
              "#9c179e"
             ],
             [
              0.4444444444444444,
              "#bd3786"
             ],
             [
              0.5555555555555556,
              "#d8576b"
             ],
             [
              0.6666666666666666,
              "#ed7953"
             ],
             [
              0.7777777777777778,
              "#fb9f3a"
             ],
             [
              0.8888888888888888,
              "#fdca26"
             ],
             [
              1,
              "#f0f921"
             ]
            ],
            "type": "surface"
           }
          ],
          "table": [
           {
            "cells": {
             "fill": {
              "color": "#EBF0F8"
             },
             "line": {
              "color": "white"
             }
            },
            "header": {
             "fill": {
              "color": "#C8D4E3"
             },
             "line": {
              "color": "white"
             }
            },
            "type": "table"
           }
          ]
         },
         "layout": {
          "annotationdefaults": {
           "arrowcolor": "#2a3f5f",
           "arrowhead": 0,
           "arrowwidth": 1
          },
          "autotypenumbers": "strict",
          "coloraxis": {
           "colorbar": {
            "outlinewidth": 0,
            "ticks": ""
           }
          },
          "colorscale": {
           "diverging": [
            [
             0,
             "#8e0152"
            ],
            [
             0.1,
             "#c51b7d"
            ],
            [
             0.2,
             "#de77ae"
            ],
            [
             0.3,
             "#f1b6da"
            ],
            [
             0.4,
             "#fde0ef"
            ],
            [
             0.5,
             "#f7f7f7"
            ],
            [
             0.6,
             "#e6f5d0"
            ],
            [
             0.7,
             "#b8e186"
            ],
            [
             0.8,
             "#7fbc41"
            ],
            [
             0.9,
             "#4d9221"
            ],
            [
             1,
             "#276419"
            ]
           ],
           "sequential": [
            [
             0,
             "#0d0887"
            ],
            [
             0.1111111111111111,
             "#46039f"
            ],
            [
             0.2222222222222222,
             "#7201a8"
            ],
            [
             0.3333333333333333,
             "#9c179e"
            ],
            [
             0.4444444444444444,
             "#bd3786"
            ],
            [
             0.5555555555555556,
             "#d8576b"
            ],
            [
             0.6666666666666666,
             "#ed7953"
            ],
            [
             0.7777777777777778,
             "#fb9f3a"
            ],
            [
             0.8888888888888888,
             "#fdca26"
            ],
            [
             1,
             "#f0f921"
            ]
           ],
           "sequentialminus": [
            [
             0,
             "#0d0887"
            ],
            [
             0.1111111111111111,
             "#46039f"
            ],
            [
             0.2222222222222222,
             "#7201a8"
            ],
            [
             0.3333333333333333,
             "#9c179e"
            ],
            [
             0.4444444444444444,
             "#bd3786"
            ],
            [
             0.5555555555555556,
             "#d8576b"
            ],
            [
             0.6666666666666666,
             "#ed7953"
            ],
            [
             0.7777777777777778,
             "#fb9f3a"
            ],
            [
             0.8888888888888888,
             "#fdca26"
            ],
            [
             1,
             "#f0f921"
            ]
           ]
          },
          "colorway": [
           "#636efa",
           "#EF553B",
           "#00cc96",
           "#ab63fa",
           "#FFA15A",
           "#19d3f3",
           "#FF6692",
           "#B6E880",
           "#FF97FF",
           "#FECB52"
          ],
          "font": {
           "color": "#2a3f5f"
          },
          "geo": {
           "bgcolor": "white",
           "lakecolor": "white",
           "landcolor": "#E5ECF6",
           "showlakes": true,
           "showland": true,
           "subunitcolor": "white"
          },
          "hoverlabel": {
           "align": "left"
          },
          "hovermode": "closest",
          "mapbox": {
           "style": "light"
          },
          "paper_bgcolor": "white",
          "plot_bgcolor": "#E5ECF6",
          "polar": {
           "angularaxis": {
            "gridcolor": "white",
            "linecolor": "white",
            "ticks": ""
           },
           "bgcolor": "#E5ECF6",
           "radialaxis": {
            "gridcolor": "white",
            "linecolor": "white",
            "ticks": ""
           }
          },
          "scene": {
           "xaxis": {
            "backgroundcolor": "#E5ECF6",
            "gridcolor": "white",
            "gridwidth": 2,
            "linecolor": "white",
            "showbackground": true,
            "ticks": "",
            "zerolinecolor": "white"
           },
           "yaxis": {
            "backgroundcolor": "#E5ECF6",
            "gridcolor": "white",
            "gridwidth": 2,
            "linecolor": "white",
            "showbackground": true,
            "ticks": "",
            "zerolinecolor": "white"
           },
           "zaxis": {
            "backgroundcolor": "#E5ECF6",
            "gridcolor": "white",
            "gridwidth": 2,
            "linecolor": "white",
            "showbackground": true,
            "ticks": "",
            "zerolinecolor": "white"
           }
          },
          "shapedefaults": {
           "line": {
            "color": "#2a3f5f"
           }
          },
          "ternary": {
           "aaxis": {
            "gridcolor": "white",
            "linecolor": "white",
            "ticks": ""
           },
           "baxis": {
            "gridcolor": "white",
            "linecolor": "white",
            "ticks": ""
           },
           "bgcolor": "#E5ECF6",
           "caxis": {
            "gridcolor": "white",
            "linecolor": "white",
            "ticks": ""
           }
          },
          "title": {
           "x": 0.05
          },
          "xaxis": {
           "automargin": true,
           "gridcolor": "white",
           "linecolor": "white",
           "ticks": "",
           "title": {
            "standoff": 15
           },
           "zerolinecolor": "white",
           "zerolinewidth": 2
          },
          "yaxis": {
           "automargin": true,
           "gridcolor": "white",
           "linecolor": "white",
           "ticks": "",
           "title": {
            "standoff": 15
           },
           "zerolinecolor": "white",
           "zerolinewidth": 2
          }
         }
        },
        "title": {
         "font": {
          "color": "#4D5663"
         }
        },
        "xaxis": {
         "gridcolor": "#E1E5ED",
         "showgrid": true,
         "tickfont": {
          "color": "#4D5663"
         },
         "title": {
          "font": {
           "color": "#4D5663"
          },
          "text": ""
         },
         "zerolinecolor": "#E1E5ED"
        },
        "yaxis": {
         "gridcolor": "#E1E5ED",
         "showgrid": true,
         "tickfont": {
          "color": "#4D5663"
         },
         "title": {
          "font": {
           "color": "#4D5663"
          },
          "text": ""
         },
         "zerolinecolor": "#E1E5ED"
        }
       }
      },
      "text/html": [
       "<div>                            <div id=\"05166826-a890-4010-ab44-01369b1a6ee4\" class=\"plotly-graph-div\" style=\"height:525px; width:100%;\"></div>            <script type=\"text/javascript\">                require([\"plotly\"], function(Plotly) {                    window.PLOTLYENV=window.PLOTLYENV || {};\n",
       "                    window.PLOTLYENV.BASE_URL='https://plot.ly';                                    if (document.getElementById(\"05166826-a890-4010-ab44-01369b1a6ee4\")) {                    Plotly.newPlot(                        \"05166826-a890-4010-ab44-01369b1a6ee4\",                        [{\"boxpoints\":false,\"line\":{\"width\":1.3},\"marker\":{\"color\":\"rgba(255, 153, 51, 1.0)\"},\"name\":\"A\",\"orientation\":\"v\",\"type\":\"box\",\"y\":[0.027241215754599653,0.461466942154424,0.3737578251714141,-1.4560336370431364,0.05734000875052292,-0.6934160050389406,-0.12917756125043053,0.5419506235849016,-1.1012631192337687,0.24570141978914636,0.01087999684740408,0.8100012366208713,-0.7030304225159633,-0.5946926572342286,-0.44511995840997504,0.23427398696523208,0.4160578404859543,-3.2493969232153423,-0.4734991876936832,-0.07570748157761908,0.3528977639604107,-0.21581152640941356,0.13976768152913263,0.9467098790676365,-0.23273491103119384,0.0389850989077991,-0.22939906198068014,0.8637838686080933,-1.1369014503927326,0.7526257977466814,0.41974541451444486,-0.29463973256237136,-2.176829559215304,-1.5302922998315613,0.35842273997828183,1.7264403465548985,-0.3653450892096323,-0.31695509980092507,-1.0558192787782297,-1.304349636163735,2.257323133922572,-0.10041675052728624,-2.24397916062139,-0.5589838760811628,-1.20295960227409,0.0026320539461168204,-0.2865627041840873,0.541803777541615,0.6300582728619144,-2.5053795527591367,-0.46316045798202704,-1.8274300715054332,-0.5586514125300802,0.3189194724183755,-1.685811925308102,-0.8428118098322996,0.80016486621426,0.5459717323447757,0.8643649166999295,-0.5740222161144256,-0.7179033509334194,-2.5019769582607734,-0.03892926260196354,-0.5500802354222613,1.2596761814939812,0.7347475008736277,-0.48819951705315184,-0.7205060770260235,-0.38233687263659966,0.4165865401847979,0.08270946347414312,0.04582443872299958,-2.839154713525733,1.4345342033741435,0.2590541572647937,-0.7046726386164505,-0.9473258446696663,-0.6517931146311408,1.0110736188093266,-0.5833457105696599,0.8982890815734496,0.5013034542613344,2.464532736067224,1.2612335926418747,0.536455461831126,1.934995588665759,-2.5219462688804963,0.628745198471256,-2.4809074077695996,1.6053651644968228,-0.2464413181810761,-1.4132000544481975,0.1868646453584373,0.7744526830342858,-0.7831732804063224,-2.2172665385010206,0.6368751852482623,0.11593761473734172,0.6190387568185067,-1.2760951982159945]},{\"boxpoints\":false,\"line\":{\"width\":1.3},\"marker\":{\"color\":\"rgba(55, 128, 191, 1.0)\"},\"name\":\"B\",\"orientation\":\"v\",\"type\":\"box\",\"y\":[-1.2299495303316792,0.5761251925679554,0.4439223748334115,0.4482693887595382,0.4391188657924199,-0.6090184804140729,0.7739033993514225,-0.1858044672741451,-1.5004542493562412,0.2661389565905993,-1.0307976300658042,-2.02562399847762,-0.7753946361284771,-0.024092807303725004,-1.5488851006659816,-0.40608690106156453,-1.7875493827221627,1.0978120233875932,1.2796131600904732,-0.24566124104260884,2.1512327284437016,1.0702943810199417,-0.16948194839928224,0.633425338273376,-0.12053714748320615,-0.7084391381390437,1.2122343306242827,-0.5531661180518929,0.6760646031687255,-0.8600719233782612,0.6307408183438546,0.736114624702335,0.8211645861435984,-0.9063307935843637,-0.4618678949453949,0.640819882423184,0.255985632683679,0.44050250308581096,-0.5098792189564512,0.6612370454506209,-0.4600852985179216,1.3928542342840358,0.8823525659375652,0.607283903701555,-2.4441288988197107,-0.8644188008705929,-0.532690495638404,0.12512387164939145,-0.7233303308661587,-0.23976137531649747,1.5587585887796735,-0.3530505109153326,-0.7056602818285378,0.4035688891271258,-0.8327362135840342,-1.313239469889929,-0.6277207975245217,-0.06658365119250485,-0.7808892284561406,-0.3748780636142635,-0.38299456605242604,-0.6325698902459843,-0.37089771726844656,0.32138636034575196,0.6727738971760795,-0.3945422734138908,2.9500615298764727,1.5519218449607535,0.4797694345031922,0.6423701460270103,-1.9708893650276542,1.1646789788732854,0.9515688528861517,1.4511554272385823,-0.20150822013810582,0.2606018888417338,-0.2510612853910099,2.130016703150938,1.63705915645,0.39847523494422377,1.0184562083723192,-0.5382357322422255,2.483246044560773,0.8526701202253368,-1.2948330224433153,1.3410500034685415,0.2624724820130176,0.42655832078624994,1.4132672701391868,-0.8391493300974192,-1.231514045828351,-2.0535105642667326,-0.8008456977267329,-0.38365075218860983,0.8430333327693967,1.1505882799513372,-1.3125282714743989,0.7942258301306302,-0.8030278933285362,0.023210838012871562]},{\"boxpoints\":false,\"line\":{\"width\":1.3},\"marker\":{\"color\":\"rgba(50, 171, 96, 1.0)\"},\"name\":\"C\",\"orientation\":\"v\",\"type\":\"box\",\"y\":[2.0269316731802673,0.3900738440870191,-0.5509704357907378,0.41238086371051214,1.3300384472698463,0.5094694905062215,1.0536919301420062,0.8334293454329205,1.1495346482242275,-0.8161796856150146,0.4621058636690486,0.5294813648253962,-0.8540906796983768,-1.0185814721037045,0.6627503077156954,-2.2718238272262266,-0.4215552608509096,-0.3563238694174239,-2.235723176981178,-0.0727382904398685,0.20698870964541172,1.5050735780324862,-0.09206585334279284,-0.13800615635486052,0.19254933126935822,0.5754127438818876,0.760219269687592,-0.8187273135993184,-0.6278746156930031,1.2458098868830387,-0.3012839116102563,1.2315211639397226,1.6939271522092885,-0.02336099170503781,0.5468940772555165,-0.18112666047871426,-0.8670913328228448,-0.12303348374833262,0.827600075731781,-1.4126556937840686,0.2961505500818118,1.3707393938345103,1.1221808269822853,1.3375914046745596,0.6112363303316156,0.7554927668559361,0.18833222037663072,-0.9969144284594557,-0.5519265291687282,-0.22306353873462406,-0.2563451918380548,-0.3603452681361516,0.9011910994483247,-0.533939761106292,0.7071983930222037,0.9178877931296235,1.2179086647333313,-0.7150397928951028,-0.5829409809514536,-0.9061458306370328,0.5694329795337395,1.829626058008287,1.9429109542822776,-0.49476002069023667,2.066978384385359,0.17767635307027307,-0.8304743101055881,-0.2265963040959604,-0.7773926224598035,-0.44067000289883007,-0.9450696730766448,0.48128100200464896,-0.49487203558974524,-0.6018275073423531,-0.5179025798437809,0.6565329532524697,-1.8662061816335884,1.2949345333948852,1.4123076140162585,0.7524739263061787,-0.0031613521859595126,-0.5833576432659269,-0.4713320882377061,0.30712786965241107,-0.619678940804528,-0.5930332641931113,1.962935237824439,1.2176673108805502,-0.2411113726519649,-0.3527909849181242,-0.1527911735003672,0.7915524214048402,-0.12748782013816512,0.9105749360568643,0.25822859450953034,-1.125534337375841,-0.8310329535110081,0.9578111567739361,-0.788743587272034,-0.6557483895085895]},{\"boxpoints\":false,\"line\":{\"width\":1.3},\"marker\":{\"color\":\"rgba(128, 0, 128, 1.0)\"},\"name\":\"D\",\"orientation\":\"v\",\"type\":\"box\",\"y\":[-0.34838642465310976,1.181842041223677,1.1274135164978363,-0.8505335468790323,-1.0545048061462534,0.9648968501508846,1.359512881108927,0.031319299346180704,-1.0544546453516068,-0.19415686511112226,-0.8782025088237447,0.2979572393155649,-0.25164257647585614,0.18006007456588874,1.5948180741168454,-0.11016365987717315,0.026912490823449833,-0.17314469919793413,-0.44698980561488744,-0.5223704821693409,1.2019422992338886,-0.9108856674435171,0.17289876018881567,0.9434915597651907,0.41427151570218734,0.18346300209250066,-1.045725467277624,1.0958361772136858,0.5154146534001802,0.7486792070848206,0.8061256766986518,0.2032447540621425,-1.6844965037132096,-1.0041452619752393,0.01302553469071673,-0.7734146255293952,0.2634141956378256,0.712908872570988,0.977766969094656,-0.35347025671809845,0.3319287536417015,0.19638539974491476,0.981980062458202,-1.4079859998371953,-0.1646834085274142,-0.3605965515725068,-0.1143569728769469,0.6485213215837613,-0.6296574194265816,-2.0186763437497297,0.9053199943270607,1.192836886917903,1.4661736115872215,-0.9820446114331933,0.4563239961336419,-1.3723818383770405,0.6094619537747207,-1.7935388851300191,-0.2507027537011104,1.3864089231885277,0.47037988777239864,-0.6018490239023988,-0.9625010436209301,0.2372870957932504,-0.09723830548886282,0.8069547308099078,-0.42105820077670625,1.0296767830467521,0.037600022632975905,0.07138464928075697,0.2796654273799903,-2.49408432595785,-0.30580333153477673,2.126316413474627,0.5927685525299955,0.013736794392062983,1.1106767069672834,-0.6773361907310395,-0.46290553372163307,1.2232290731098865,-0.14194727709821015,0.2707178806404906,-0.09855395233826988,-1.4312626397496775,-0.20452270125593489,-0.7052409656017552,-1.4274348225640827,0.7140966200329959,-0.9247066437972612,-0.26388909407647126,0.1041322303504204,0.7960006430313149,-0.05142318837511502,-0.6128088687539949,0.03981581787309479,-0.35908397951782045,-0.035824028085450044,-0.07966456102769102,0.23852400839790286,-1.0089027578041012]}],                        {\"legend\":{\"bgcolor\":\"#F5F6F9\",\"font\":{\"color\":\"#4D5663\"}},\"paper_bgcolor\":\"#F5F6F9\",\"plot_bgcolor\":\"#F5F6F9\",\"template\":{\"data\":{\"bar\":[{\"error_x\":{\"color\":\"#2a3f5f\"},\"error_y\":{\"color\":\"#2a3f5f\"},\"marker\":{\"line\":{\"color\":\"#E5ECF6\",\"width\":0.5},\"pattern\":{\"fillmode\":\"overlay\",\"size\":10,\"solidity\":0.2}},\"type\":\"bar\"}],\"barpolar\":[{\"marker\":{\"line\":{\"color\":\"#E5ECF6\",\"width\":0.5},\"pattern\":{\"fillmode\":\"overlay\",\"size\":10,\"solidity\":0.2}},\"type\":\"barpolar\"}],\"carpet\":[{\"aaxis\":{\"endlinecolor\":\"#2a3f5f\",\"gridcolor\":\"white\",\"linecolor\":\"white\",\"minorgridcolor\":\"white\",\"startlinecolor\":\"#2a3f5f\"},\"baxis\":{\"endlinecolor\":\"#2a3f5f\",\"gridcolor\":\"white\",\"linecolor\":\"white\",\"minorgridcolor\":\"white\",\"startlinecolor\":\"#2a3f5f\"},\"type\":\"carpet\"}],\"choropleth\":[{\"colorbar\":{\"outlinewidth\":0,\"ticks\":\"\"},\"type\":\"choropleth\"}],\"contour\":[{\"colorbar\":{\"outlinewidth\":0,\"ticks\":\"\"},\"colorscale\":[[0.0,\"#0d0887\"],[0.1111111111111111,\"#46039f\"],[0.2222222222222222,\"#7201a8\"],[0.3333333333333333,\"#9c179e\"],[0.4444444444444444,\"#bd3786\"],[0.5555555555555556,\"#d8576b\"],[0.6666666666666666,\"#ed7953\"],[0.7777777777777778,\"#fb9f3a\"],[0.8888888888888888,\"#fdca26\"],[1.0,\"#f0f921\"]],\"type\":\"contour\"}],\"contourcarpet\":[{\"colorbar\":{\"outlinewidth\":0,\"ticks\":\"\"},\"type\":\"contourcarpet\"}],\"heatmap\":[{\"colorbar\":{\"outlinewidth\":0,\"ticks\":\"\"},\"colorscale\":[[0.0,\"#0d0887\"],[0.1111111111111111,\"#46039f\"],[0.2222222222222222,\"#7201a8\"],[0.3333333333333333,\"#9c179e\"],[0.4444444444444444,\"#bd3786\"],[0.5555555555555556,\"#d8576b\"],[0.6666666666666666,\"#ed7953\"],[0.7777777777777778,\"#fb9f3a\"],[0.8888888888888888,\"#fdca26\"],[1.0,\"#f0f921\"]],\"type\":\"heatmap\"}],\"heatmapgl\":[{\"colorbar\":{\"outlinewidth\":0,\"ticks\":\"\"},\"colorscale\":[[0.0,\"#0d0887\"],[0.1111111111111111,\"#46039f\"],[0.2222222222222222,\"#7201a8\"],[0.3333333333333333,\"#9c179e\"],[0.4444444444444444,\"#bd3786\"],[0.5555555555555556,\"#d8576b\"],[0.6666666666666666,\"#ed7953\"],[0.7777777777777778,\"#fb9f3a\"],[0.8888888888888888,\"#fdca26\"],[1.0,\"#f0f921\"]],\"type\":\"heatmapgl\"}],\"histogram\":[{\"marker\":{\"pattern\":{\"fillmode\":\"overlay\",\"size\":10,\"solidity\":0.2}},\"type\":\"histogram\"}],\"histogram2d\":[{\"colorbar\":{\"outlinewidth\":0,\"ticks\":\"\"},\"colorscale\":[[0.0,\"#0d0887\"],[0.1111111111111111,\"#46039f\"],[0.2222222222222222,\"#7201a8\"],[0.3333333333333333,\"#9c179e\"],[0.4444444444444444,\"#bd3786\"],[0.5555555555555556,\"#d8576b\"],[0.6666666666666666,\"#ed7953\"],[0.7777777777777778,\"#fb9f3a\"],[0.8888888888888888,\"#fdca26\"],[1.0,\"#f0f921\"]],\"type\":\"histogram2d\"}],\"histogram2dcontour\":[{\"colorbar\":{\"outlinewidth\":0,\"ticks\":\"\"},\"colorscale\":[[0.0,\"#0d0887\"],[0.1111111111111111,\"#46039f\"],[0.2222222222222222,\"#7201a8\"],[0.3333333333333333,\"#9c179e\"],[0.4444444444444444,\"#bd3786\"],[0.5555555555555556,\"#d8576b\"],[0.6666666666666666,\"#ed7953\"],[0.7777777777777778,\"#fb9f3a\"],[0.8888888888888888,\"#fdca26\"],[1.0,\"#f0f921\"]],\"type\":\"histogram2dcontour\"}],\"mesh3d\":[{\"colorbar\":{\"outlinewidth\":0,\"ticks\":\"\"},\"type\":\"mesh3d\"}],\"parcoords\":[{\"line\":{\"colorbar\":{\"outlinewidth\":0,\"ticks\":\"\"}},\"type\":\"parcoords\"}],\"pie\":[{\"automargin\":true,\"type\":\"pie\"}],\"scatter\":[{\"marker\":{\"colorbar\":{\"outlinewidth\":0,\"ticks\":\"\"}},\"type\":\"scatter\"}],\"scatter3d\":[{\"line\":{\"colorbar\":{\"outlinewidth\":0,\"ticks\":\"\"}},\"marker\":{\"colorbar\":{\"outlinewidth\":0,\"ticks\":\"\"}},\"type\":\"scatter3d\"}],\"scattercarpet\":[{\"marker\":{\"colorbar\":{\"outlinewidth\":0,\"ticks\":\"\"}},\"type\":\"scattercarpet\"}],\"scattergeo\":[{\"marker\":{\"colorbar\":{\"outlinewidth\":0,\"ticks\":\"\"}},\"type\":\"scattergeo\"}],\"scattergl\":[{\"marker\":{\"colorbar\":{\"outlinewidth\":0,\"ticks\":\"\"}},\"type\":\"scattergl\"}],\"scattermapbox\":[{\"marker\":{\"colorbar\":{\"outlinewidth\":0,\"ticks\":\"\"}},\"type\":\"scattermapbox\"}],\"scatterpolar\":[{\"marker\":{\"colorbar\":{\"outlinewidth\":0,\"ticks\":\"\"}},\"type\":\"scatterpolar\"}],\"scatterpolargl\":[{\"marker\":{\"colorbar\":{\"outlinewidth\":0,\"ticks\":\"\"}},\"type\":\"scatterpolargl\"}],\"scatterternary\":[{\"marker\":{\"colorbar\":{\"outlinewidth\":0,\"ticks\":\"\"}},\"type\":\"scatterternary\"}],\"surface\":[{\"colorbar\":{\"outlinewidth\":0,\"ticks\":\"\"},\"colorscale\":[[0.0,\"#0d0887\"],[0.1111111111111111,\"#46039f\"],[0.2222222222222222,\"#7201a8\"],[0.3333333333333333,\"#9c179e\"],[0.4444444444444444,\"#bd3786\"],[0.5555555555555556,\"#d8576b\"],[0.6666666666666666,\"#ed7953\"],[0.7777777777777778,\"#fb9f3a\"],[0.8888888888888888,\"#fdca26\"],[1.0,\"#f0f921\"]],\"type\":\"surface\"}],\"table\":[{\"cells\":{\"fill\":{\"color\":\"#EBF0F8\"},\"line\":{\"color\":\"white\"}},\"header\":{\"fill\":{\"color\":\"#C8D4E3\"},\"line\":{\"color\":\"white\"}},\"type\":\"table\"}]},\"layout\":{\"annotationdefaults\":{\"arrowcolor\":\"#2a3f5f\",\"arrowhead\":0,\"arrowwidth\":1},\"autotypenumbers\":\"strict\",\"coloraxis\":{\"colorbar\":{\"outlinewidth\":0,\"ticks\":\"\"}},\"colorscale\":{\"diverging\":[[0,\"#8e0152\"],[0.1,\"#c51b7d\"],[0.2,\"#de77ae\"],[0.3,\"#f1b6da\"],[0.4,\"#fde0ef\"],[0.5,\"#f7f7f7\"],[0.6,\"#e6f5d0\"],[0.7,\"#b8e186\"],[0.8,\"#7fbc41\"],[0.9,\"#4d9221\"],[1,\"#276419\"]],\"sequential\":[[0.0,\"#0d0887\"],[0.1111111111111111,\"#46039f\"],[0.2222222222222222,\"#7201a8\"],[0.3333333333333333,\"#9c179e\"],[0.4444444444444444,\"#bd3786\"],[0.5555555555555556,\"#d8576b\"],[0.6666666666666666,\"#ed7953\"],[0.7777777777777778,\"#fb9f3a\"],[0.8888888888888888,\"#fdca26\"],[1.0,\"#f0f921\"]],\"sequentialminus\":[[0.0,\"#0d0887\"],[0.1111111111111111,\"#46039f\"],[0.2222222222222222,\"#7201a8\"],[0.3333333333333333,\"#9c179e\"],[0.4444444444444444,\"#bd3786\"],[0.5555555555555556,\"#d8576b\"],[0.6666666666666666,\"#ed7953\"],[0.7777777777777778,\"#fb9f3a\"],[0.8888888888888888,\"#fdca26\"],[1.0,\"#f0f921\"]]},\"colorway\":[\"#636efa\",\"#EF553B\",\"#00cc96\",\"#ab63fa\",\"#FFA15A\",\"#19d3f3\",\"#FF6692\",\"#B6E880\",\"#FF97FF\",\"#FECB52\"],\"font\":{\"color\":\"#2a3f5f\"},\"geo\":{\"bgcolor\":\"white\",\"lakecolor\":\"white\",\"landcolor\":\"#E5ECF6\",\"showlakes\":true,\"showland\":true,\"subunitcolor\":\"white\"},\"hoverlabel\":{\"align\":\"left\"},\"hovermode\":\"closest\",\"mapbox\":{\"style\":\"light\"},\"paper_bgcolor\":\"white\",\"plot_bgcolor\":\"#E5ECF6\",\"polar\":{\"angularaxis\":{\"gridcolor\":\"white\",\"linecolor\":\"white\",\"ticks\":\"\"},\"bgcolor\":\"#E5ECF6\",\"radialaxis\":{\"gridcolor\":\"white\",\"linecolor\":\"white\",\"ticks\":\"\"}},\"scene\":{\"xaxis\":{\"backgroundcolor\":\"#E5ECF6\",\"gridcolor\":\"white\",\"gridwidth\":2,\"linecolor\":\"white\",\"showbackground\":true,\"ticks\":\"\",\"zerolinecolor\":\"white\"},\"yaxis\":{\"backgroundcolor\":\"#E5ECF6\",\"gridcolor\":\"white\",\"gridwidth\":2,\"linecolor\":\"white\",\"showbackground\":true,\"ticks\":\"\",\"zerolinecolor\":\"white\"},\"zaxis\":{\"backgroundcolor\":\"#E5ECF6\",\"gridcolor\":\"white\",\"gridwidth\":2,\"linecolor\":\"white\",\"showbackground\":true,\"ticks\":\"\",\"zerolinecolor\":\"white\"}},\"shapedefaults\":{\"line\":{\"color\":\"#2a3f5f\"}},\"ternary\":{\"aaxis\":{\"gridcolor\":\"white\",\"linecolor\":\"white\",\"ticks\":\"\"},\"baxis\":{\"gridcolor\":\"white\",\"linecolor\":\"white\",\"ticks\":\"\"},\"bgcolor\":\"#E5ECF6\",\"caxis\":{\"gridcolor\":\"white\",\"linecolor\":\"white\",\"ticks\":\"\"}},\"title\":{\"x\":0.05},\"xaxis\":{\"automargin\":true,\"gridcolor\":\"white\",\"linecolor\":\"white\",\"ticks\":\"\",\"title\":{\"standoff\":15},\"zerolinecolor\":\"white\",\"zerolinewidth\":2},\"yaxis\":{\"automargin\":true,\"gridcolor\":\"white\",\"linecolor\":\"white\",\"ticks\":\"\",\"title\":{\"standoff\":15},\"zerolinecolor\":\"white\",\"zerolinewidth\":2}}},\"title\":{\"font\":{\"color\":\"#4D5663\"}},\"xaxis\":{\"gridcolor\":\"#E1E5ED\",\"showgrid\":true,\"tickfont\":{\"color\":\"#4D5663\"},\"title\":{\"font\":{\"color\":\"#4D5663\"},\"text\":\"\"},\"zerolinecolor\":\"#E1E5ED\"},\"yaxis\":{\"gridcolor\":\"#E1E5ED\",\"showgrid\":true,\"tickfont\":{\"color\":\"#4D5663\"},\"title\":{\"font\":{\"color\":\"#4D5663\"},\"text\":\"\"},\"zerolinecolor\":\"#E1E5ED\"}},                        {\"showLink\": true, \"linkText\": \"Export to plot.ly\", \"plotlyServerURL\": \"https://plot.ly\", \"responsive\": true}                    ).then(function(){\n",
       "                            \n",
       "var gd = document.getElementById('05166826-a890-4010-ab44-01369b1a6ee4');\n",
       "var x = new MutationObserver(function (mutations, observer) {{\n",
       "        var display = window.getComputedStyle(gd).display;\n",
       "        if (!display || display === 'none') {{\n",
       "            console.log([gd, 'removed!']);\n",
       "            Plotly.purge(gd);\n",
       "            observer.disconnect();\n",
       "        }}\n",
       "}});\n",
       "\n",
       "// Listen for the removal of the full notebook cells\n",
       "var notebookContainer = gd.closest('#notebook-container');\n",
       "if (notebookContainer) {{\n",
       "    x.observe(notebookContainer, {childList: true});\n",
       "}}\n",
       "\n",
       "// Listen for the clearing of the current output cell\n",
       "var outputEl = gd.closest('.output');\n",
       "if (outputEl) {{\n",
       "    x.observe(outputEl, {childList: true});\n",
       "}}\n",
       "\n",
       "                        })                };                });            </script>        </div>"
      ]
     },
     "metadata": {},
     "output_type": "display_data"
    }
   ],
   "source": [
    "df.iplot(kind='box')"
   ]
  },
  {
   "cell_type": "markdown",
   "metadata": {},
   "source": [
    "## 3d Surface"
   ]
  },
  {
   "cell_type": "code",
   "execution_count": 15,
   "metadata": {},
   "outputs": [
    {
     "data": {
      "application/vnd.plotly.v1+json": {
       "config": {
        "linkText": "Export to plot.ly",
        "plotlyServerURL": "https://plot.ly",
        "showLink": true
       },
       "data": [
        {
         "colorscale": [
          [
           0,
           "rgb(165,0,38)"
          ],
          [
           0.1,
           "rgb(215,48,39)"
          ],
          [
           0.2,
           "rgb(244,109,67)"
          ],
          [
           0.3,
           "rgb(253,174,97)"
          ],
          [
           0.4,
           "rgb(254,224,144)"
          ],
          [
           0.5,
           "rgb(255,255,191)"
          ],
          [
           0.6,
           "rgb(224,243,248)"
          ],
          [
           0.7,
           "rgb(171,217,233)"
          ],
          [
           0.8,
           "rgb(116,173,209)"
          ],
          [
           0.9,
           "rgb(69,117,180)"
          ],
          [
           1,
           "rgb(49,54,149)"
          ]
         ],
         "type": "surface",
         "x": [
          0,
          1,
          2,
          3,
          4
         ],
         "y": [
          "x",
          "y",
          "z"
         ],
         "z": [
          [
           1,
           2,
           3,
           4,
           5
          ],
          [
           10,
           20,
           30,
           20,
           10
          ],
          [
           5,
           4,
           3,
           2,
           1
          ]
         ]
        }
       ],
       "layout": {
        "legend": {
         "bgcolor": "#F5F6F9",
         "font": {
          "color": "#4D5663"
         }
        },
        "paper_bgcolor": "#F5F6F9",
        "plot_bgcolor": "#F5F6F9",
        "template": {
         "data": {
          "bar": [
           {
            "error_x": {
             "color": "#2a3f5f"
            },
            "error_y": {
             "color": "#2a3f5f"
            },
            "marker": {
             "line": {
              "color": "#E5ECF6",
              "width": 0.5
             },
             "pattern": {
              "fillmode": "overlay",
              "size": 10,
              "solidity": 0.2
             }
            },
            "type": "bar"
           }
          ],
          "barpolar": [
           {
            "marker": {
             "line": {
              "color": "#E5ECF6",
              "width": 0.5
             },
             "pattern": {
              "fillmode": "overlay",
              "size": 10,
              "solidity": 0.2
             }
            },
            "type": "barpolar"
           }
          ],
          "carpet": [
           {
            "aaxis": {
             "endlinecolor": "#2a3f5f",
             "gridcolor": "white",
             "linecolor": "white",
             "minorgridcolor": "white",
             "startlinecolor": "#2a3f5f"
            },
            "baxis": {
             "endlinecolor": "#2a3f5f",
             "gridcolor": "white",
             "linecolor": "white",
             "minorgridcolor": "white",
             "startlinecolor": "#2a3f5f"
            },
            "type": "carpet"
           }
          ],
          "choropleth": [
           {
            "colorbar": {
             "outlinewidth": 0,
             "ticks": ""
            },
            "type": "choropleth"
           }
          ],
          "contour": [
           {
            "colorbar": {
             "outlinewidth": 0,
             "ticks": ""
            },
            "colorscale": [
             [
              0,
              "#0d0887"
             ],
             [
              0.1111111111111111,
              "#46039f"
             ],
             [
              0.2222222222222222,
              "#7201a8"
             ],
             [
              0.3333333333333333,
              "#9c179e"
             ],
             [
              0.4444444444444444,
              "#bd3786"
             ],
             [
              0.5555555555555556,
              "#d8576b"
             ],
             [
              0.6666666666666666,
              "#ed7953"
             ],
             [
              0.7777777777777778,
              "#fb9f3a"
             ],
             [
              0.8888888888888888,
              "#fdca26"
             ],
             [
              1,
              "#f0f921"
             ]
            ],
            "type": "contour"
           }
          ],
          "contourcarpet": [
           {
            "colorbar": {
             "outlinewidth": 0,
             "ticks": ""
            },
            "type": "contourcarpet"
           }
          ],
          "heatmap": [
           {
            "colorbar": {
             "outlinewidth": 0,
             "ticks": ""
            },
            "colorscale": [
             [
              0,
              "#0d0887"
             ],
             [
              0.1111111111111111,
              "#46039f"
             ],
             [
              0.2222222222222222,
              "#7201a8"
             ],
             [
              0.3333333333333333,
              "#9c179e"
             ],
             [
              0.4444444444444444,
              "#bd3786"
             ],
             [
              0.5555555555555556,
              "#d8576b"
             ],
             [
              0.6666666666666666,
              "#ed7953"
             ],
             [
              0.7777777777777778,
              "#fb9f3a"
             ],
             [
              0.8888888888888888,
              "#fdca26"
             ],
             [
              1,
              "#f0f921"
             ]
            ],
            "type": "heatmap"
           }
          ],
          "heatmapgl": [
           {
            "colorbar": {
             "outlinewidth": 0,
             "ticks": ""
            },
            "colorscale": [
             [
              0,
              "#0d0887"
             ],
             [
              0.1111111111111111,
              "#46039f"
             ],
             [
              0.2222222222222222,
              "#7201a8"
             ],
             [
              0.3333333333333333,
              "#9c179e"
             ],
             [
              0.4444444444444444,
              "#bd3786"
             ],
             [
              0.5555555555555556,
              "#d8576b"
             ],
             [
              0.6666666666666666,
              "#ed7953"
             ],
             [
              0.7777777777777778,
              "#fb9f3a"
             ],
             [
              0.8888888888888888,
              "#fdca26"
             ],
             [
              1,
              "#f0f921"
             ]
            ],
            "type": "heatmapgl"
           }
          ],
          "histogram": [
           {
            "marker": {
             "pattern": {
              "fillmode": "overlay",
              "size": 10,
              "solidity": 0.2
             }
            },
            "type": "histogram"
           }
          ],
          "histogram2d": [
           {
            "colorbar": {
             "outlinewidth": 0,
             "ticks": ""
            },
            "colorscale": [
             [
              0,
              "#0d0887"
             ],
             [
              0.1111111111111111,
              "#46039f"
             ],
             [
              0.2222222222222222,
              "#7201a8"
             ],
             [
              0.3333333333333333,
              "#9c179e"
             ],
             [
              0.4444444444444444,
              "#bd3786"
             ],
             [
              0.5555555555555556,
              "#d8576b"
             ],
             [
              0.6666666666666666,
              "#ed7953"
             ],
             [
              0.7777777777777778,
              "#fb9f3a"
             ],
             [
              0.8888888888888888,
              "#fdca26"
             ],
             [
              1,
              "#f0f921"
             ]
            ],
            "type": "histogram2d"
           }
          ],
          "histogram2dcontour": [
           {
            "colorbar": {
             "outlinewidth": 0,
             "ticks": ""
            },
            "colorscale": [
             [
              0,
              "#0d0887"
             ],
             [
              0.1111111111111111,
              "#46039f"
             ],
             [
              0.2222222222222222,
              "#7201a8"
             ],
             [
              0.3333333333333333,
              "#9c179e"
             ],
             [
              0.4444444444444444,
              "#bd3786"
             ],
             [
              0.5555555555555556,
              "#d8576b"
             ],
             [
              0.6666666666666666,
              "#ed7953"
             ],
             [
              0.7777777777777778,
              "#fb9f3a"
             ],
             [
              0.8888888888888888,
              "#fdca26"
             ],
             [
              1,
              "#f0f921"
             ]
            ],
            "type": "histogram2dcontour"
           }
          ],
          "mesh3d": [
           {
            "colorbar": {
             "outlinewidth": 0,
             "ticks": ""
            },
            "type": "mesh3d"
           }
          ],
          "parcoords": [
           {
            "line": {
             "colorbar": {
              "outlinewidth": 0,
              "ticks": ""
             }
            },
            "type": "parcoords"
           }
          ],
          "pie": [
           {
            "automargin": true,
            "type": "pie"
           }
          ],
          "scatter": [
           {
            "marker": {
             "colorbar": {
              "outlinewidth": 0,
              "ticks": ""
             }
            },
            "type": "scatter"
           }
          ],
          "scatter3d": [
           {
            "line": {
             "colorbar": {
              "outlinewidth": 0,
              "ticks": ""
             }
            },
            "marker": {
             "colorbar": {
              "outlinewidth": 0,
              "ticks": ""
             }
            },
            "type": "scatter3d"
           }
          ],
          "scattercarpet": [
           {
            "marker": {
             "colorbar": {
              "outlinewidth": 0,
              "ticks": ""
             }
            },
            "type": "scattercarpet"
           }
          ],
          "scattergeo": [
           {
            "marker": {
             "colorbar": {
              "outlinewidth": 0,
              "ticks": ""
             }
            },
            "type": "scattergeo"
           }
          ],
          "scattergl": [
           {
            "marker": {
             "colorbar": {
              "outlinewidth": 0,
              "ticks": ""
             }
            },
            "type": "scattergl"
           }
          ],
          "scattermapbox": [
           {
            "marker": {
             "colorbar": {
              "outlinewidth": 0,
              "ticks": ""
             }
            },
            "type": "scattermapbox"
           }
          ],
          "scatterpolar": [
           {
            "marker": {
             "colorbar": {
              "outlinewidth": 0,
              "ticks": ""
             }
            },
            "type": "scatterpolar"
           }
          ],
          "scatterpolargl": [
           {
            "marker": {
             "colorbar": {
              "outlinewidth": 0,
              "ticks": ""
             }
            },
            "type": "scatterpolargl"
           }
          ],
          "scatterternary": [
           {
            "marker": {
             "colorbar": {
              "outlinewidth": 0,
              "ticks": ""
             }
            },
            "type": "scatterternary"
           }
          ],
          "surface": [
           {
            "colorbar": {
             "outlinewidth": 0,
             "ticks": ""
            },
            "colorscale": [
             [
              0,
              "#0d0887"
             ],
             [
              0.1111111111111111,
              "#46039f"
             ],
             [
              0.2222222222222222,
              "#7201a8"
             ],
             [
              0.3333333333333333,
              "#9c179e"
             ],
             [
              0.4444444444444444,
              "#bd3786"
             ],
             [
              0.5555555555555556,
              "#d8576b"
             ],
             [
              0.6666666666666666,
              "#ed7953"
             ],
             [
              0.7777777777777778,
              "#fb9f3a"
             ],
             [
              0.8888888888888888,
              "#fdca26"
             ],
             [
              1,
              "#f0f921"
             ]
            ],
            "type": "surface"
           }
          ],
          "table": [
           {
            "cells": {
             "fill": {
              "color": "#EBF0F8"
             },
             "line": {
              "color": "white"
             }
            },
            "header": {
             "fill": {
              "color": "#C8D4E3"
             },
             "line": {
              "color": "white"
             }
            },
            "type": "table"
           }
          ]
         },
         "layout": {
          "annotationdefaults": {
           "arrowcolor": "#2a3f5f",
           "arrowhead": 0,
           "arrowwidth": 1
          },
          "autotypenumbers": "strict",
          "coloraxis": {
           "colorbar": {
            "outlinewidth": 0,
            "ticks": ""
           }
          },
          "colorscale": {
           "diverging": [
            [
             0,
             "#8e0152"
            ],
            [
             0.1,
             "#c51b7d"
            ],
            [
             0.2,
             "#de77ae"
            ],
            [
             0.3,
             "#f1b6da"
            ],
            [
             0.4,
             "#fde0ef"
            ],
            [
             0.5,
             "#f7f7f7"
            ],
            [
             0.6,
             "#e6f5d0"
            ],
            [
             0.7,
             "#b8e186"
            ],
            [
             0.8,
             "#7fbc41"
            ],
            [
             0.9,
             "#4d9221"
            ],
            [
             1,
             "#276419"
            ]
           ],
           "sequential": [
            [
             0,
             "#0d0887"
            ],
            [
             0.1111111111111111,
             "#46039f"
            ],
            [
             0.2222222222222222,
             "#7201a8"
            ],
            [
             0.3333333333333333,
             "#9c179e"
            ],
            [
             0.4444444444444444,
             "#bd3786"
            ],
            [
             0.5555555555555556,
             "#d8576b"
            ],
            [
             0.6666666666666666,
             "#ed7953"
            ],
            [
             0.7777777777777778,
             "#fb9f3a"
            ],
            [
             0.8888888888888888,
             "#fdca26"
            ],
            [
             1,
             "#f0f921"
            ]
           ],
           "sequentialminus": [
            [
             0,
             "#0d0887"
            ],
            [
             0.1111111111111111,
             "#46039f"
            ],
            [
             0.2222222222222222,
             "#7201a8"
            ],
            [
             0.3333333333333333,
             "#9c179e"
            ],
            [
             0.4444444444444444,
             "#bd3786"
            ],
            [
             0.5555555555555556,
             "#d8576b"
            ],
            [
             0.6666666666666666,
             "#ed7953"
            ],
            [
             0.7777777777777778,
             "#fb9f3a"
            ],
            [
             0.8888888888888888,
             "#fdca26"
            ],
            [
             1,
             "#f0f921"
            ]
           ]
          },
          "colorway": [
           "#636efa",
           "#EF553B",
           "#00cc96",
           "#ab63fa",
           "#FFA15A",
           "#19d3f3",
           "#FF6692",
           "#B6E880",
           "#FF97FF",
           "#FECB52"
          ],
          "font": {
           "color": "#2a3f5f"
          },
          "geo": {
           "bgcolor": "white",
           "lakecolor": "white",
           "landcolor": "#E5ECF6",
           "showlakes": true,
           "showland": true,
           "subunitcolor": "white"
          },
          "hoverlabel": {
           "align": "left"
          },
          "hovermode": "closest",
          "mapbox": {
           "style": "light"
          },
          "paper_bgcolor": "white",
          "plot_bgcolor": "#E5ECF6",
          "polar": {
           "angularaxis": {
            "gridcolor": "white",
            "linecolor": "white",
            "ticks": ""
           },
           "bgcolor": "#E5ECF6",
           "radialaxis": {
            "gridcolor": "white",
            "linecolor": "white",
            "ticks": ""
           }
          },
          "scene": {
           "xaxis": {
            "backgroundcolor": "#E5ECF6",
            "gridcolor": "white",
            "gridwidth": 2,
            "linecolor": "white",
            "showbackground": true,
            "ticks": "",
            "zerolinecolor": "white"
           },
           "yaxis": {
            "backgroundcolor": "#E5ECF6",
            "gridcolor": "white",
            "gridwidth": 2,
            "linecolor": "white",
            "showbackground": true,
            "ticks": "",
            "zerolinecolor": "white"
           },
           "zaxis": {
            "backgroundcolor": "#E5ECF6",
            "gridcolor": "white",
            "gridwidth": 2,
            "linecolor": "white",
            "showbackground": true,
            "ticks": "",
            "zerolinecolor": "white"
           }
          },
          "shapedefaults": {
           "line": {
            "color": "#2a3f5f"
           }
          },
          "ternary": {
           "aaxis": {
            "gridcolor": "white",
            "linecolor": "white",
            "ticks": ""
           },
           "baxis": {
            "gridcolor": "white",
            "linecolor": "white",
            "ticks": ""
           },
           "bgcolor": "#E5ECF6",
           "caxis": {
            "gridcolor": "white",
            "linecolor": "white",
            "ticks": ""
           }
          },
          "title": {
           "x": 0.05
          },
          "xaxis": {
           "automargin": true,
           "gridcolor": "white",
           "linecolor": "white",
           "ticks": "",
           "title": {
            "standoff": 15
           },
           "zerolinecolor": "white",
           "zerolinewidth": 2
          },
          "yaxis": {
           "automargin": true,
           "gridcolor": "white",
           "linecolor": "white",
           "ticks": "",
           "title": {
            "standoff": 15
           },
           "zerolinecolor": "white",
           "zerolinewidth": 2
          }
         }
        },
        "title": {
         "font": {
          "color": "#4D5663"
         }
        },
        "xaxis": {
         "gridcolor": "#E1E5ED",
         "showgrid": true,
         "tickfont": {
          "color": "#4D5663"
         },
         "title": {
          "font": {
           "color": "#4D5663"
          },
          "text": ""
         },
         "zerolinecolor": "#E1E5ED"
        },
        "yaxis": {
         "gridcolor": "#E1E5ED",
         "showgrid": true,
         "tickfont": {
          "color": "#4D5663"
         },
         "title": {
          "font": {
           "color": "#4D5663"
          },
          "text": ""
         },
         "zerolinecolor": "#E1E5ED"
        }
       }
      },
      "text/html": [
       "<div>                            <div id=\"ad1b35e0-8122-4da4-8262-e0098fdbd4c3\" class=\"plotly-graph-div\" style=\"height:525px; width:100%;\"></div>            <script type=\"text/javascript\">                require([\"plotly\"], function(Plotly) {                    window.PLOTLYENV=window.PLOTLYENV || {};\n",
       "                    window.PLOTLYENV.BASE_URL='https://plot.ly';                                    if (document.getElementById(\"ad1b35e0-8122-4da4-8262-e0098fdbd4c3\")) {                    Plotly.newPlot(                        \"ad1b35e0-8122-4da4-8262-e0098fdbd4c3\",                        [{\"colorscale\":[[0.0,\"rgb(165,0,38)\"],[0.1,\"rgb(215,48,39)\"],[0.2,\"rgb(244,109,67)\"],[0.3,\"rgb(253,174,97)\"],[0.4,\"rgb(254,224,144)\"],[0.5,\"rgb(255,255,191)\"],[0.6,\"rgb(224,243,248)\"],[0.7,\"rgb(171,217,233)\"],[0.8,\"rgb(116,173,209)\"],[0.9,\"rgb(69,117,180)\"],[1.0,\"rgb(49,54,149)\"]],\"type\":\"surface\",\"x\":[0,1,2,3,4],\"y\":[\"x\",\"y\",\"z\"],\"z\":[[1,2,3,4,5],[10,20,30,20,10],[5,4,3,2,1]]}],                        {\"legend\":{\"bgcolor\":\"#F5F6F9\",\"font\":{\"color\":\"#4D5663\"}},\"paper_bgcolor\":\"#F5F6F9\",\"plot_bgcolor\":\"#F5F6F9\",\"template\":{\"data\":{\"bar\":[{\"error_x\":{\"color\":\"#2a3f5f\"},\"error_y\":{\"color\":\"#2a3f5f\"},\"marker\":{\"line\":{\"color\":\"#E5ECF6\",\"width\":0.5},\"pattern\":{\"fillmode\":\"overlay\",\"size\":10,\"solidity\":0.2}},\"type\":\"bar\"}],\"barpolar\":[{\"marker\":{\"line\":{\"color\":\"#E5ECF6\",\"width\":0.5},\"pattern\":{\"fillmode\":\"overlay\",\"size\":10,\"solidity\":0.2}},\"type\":\"barpolar\"}],\"carpet\":[{\"aaxis\":{\"endlinecolor\":\"#2a3f5f\",\"gridcolor\":\"white\",\"linecolor\":\"white\",\"minorgridcolor\":\"white\",\"startlinecolor\":\"#2a3f5f\"},\"baxis\":{\"endlinecolor\":\"#2a3f5f\",\"gridcolor\":\"white\",\"linecolor\":\"white\",\"minorgridcolor\":\"white\",\"startlinecolor\":\"#2a3f5f\"},\"type\":\"carpet\"}],\"choropleth\":[{\"colorbar\":{\"outlinewidth\":0,\"ticks\":\"\"},\"type\":\"choropleth\"}],\"contour\":[{\"colorbar\":{\"outlinewidth\":0,\"ticks\":\"\"},\"colorscale\":[[0.0,\"#0d0887\"],[0.1111111111111111,\"#46039f\"],[0.2222222222222222,\"#7201a8\"],[0.3333333333333333,\"#9c179e\"],[0.4444444444444444,\"#bd3786\"],[0.5555555555555556,\"#d8576b\"],[0.6666666666666666,\"#ed7953\"],[0.7777777777777778,\"#fb9f3a\"],[0.8888888888888888,\"#fdca26\"],[1.0,\"#f0f921\"]],\"type\":\"contour\"}],\"contourcarpet\":[{\"colorbar\":{\"outlinewidth\":0,\"ticks\":\"\"},\"type\":\"contourcarpet\"}],\"heatmap\":[{\"colorbar\":{\"outlinewidth\":0,\"ticks\":\"\"},\"colorscale\":[[0.0,\"#0d0887\"],[0.1111111111111111,\"#46039f\"],[0.2222222222222222,\"#7201a8\"],[0.3333333333333333,\"#9c179e\"],[0.4444444444444444,\"#bd3786\"],[0.5555555555555556,\"#d8576b\"],[0.6666666666666666,\"#ed7953\"],[0.7777777777777778,\"#fb9f3a\"],[0.8888888888888888,\"#fdca26\"],[1.0,\"#f0f921\"]],\"type\":\"heatmap\"}],\"heatmapgl\":[{\"colorbar\":{\"outlinewidth\":0,\"ticks\":\"\"},\"colorscale\":[[0.0,\"#0d0887\"],[0.1111111111111111,\"#46039f\"],[0.2222222222222222,\"#7201a8\"],[0.3333333333333333,\"#9c179e\"],[0.4444444444444444,\"#bd3786\"],[0.5555555555555556,\"#d8576b\"],[0.6666666666666666,\"#ed7953\"],[0.7777777777777778,\"#fb9f3a\"],[0.8888888888888888,\"#fdca26\"],[1.0,\"#f0f921\"]],\"type\":\"heatmapgl\"}],\"histogram\":[{\"marker\":{\"pattern\":{\"fillmode\":\"overlay\",\"size\":10,\"solidity\":0.2}},\"type\":\"histogram\"}],\"histogram2d\":[{\"colorbar\":{\"outlinewidth\":0,\"ticks\":\"\"},\"colorscale\":[[0.0,\"#0d0887\"],[0.1111111111111111,\"#46039f\"],[0.2222222222222222,\"#7201a8\"],[0.3333333333333333,\"#9c179e\"],[0.4444444444444444,\"#bd3786\"],[0.5555555555555556,\"#d8576b\"],[0.6666666666666666,\"#ed7953\"],[0.7777777777777778,\"#fb9f3a\"],[0.8888888888888888,\"#fdca26\"],[1.0,\"#f0f921\"]],\"type\":\"histogram2d\"}],\"histogram2dcontour\":[{\"colorbar\":{\"outlinewidth\":0,\"ticks\":\"\"},\"colorscale\":[[0.0,\"#0d0887\"],[0.1111111111111111,\"#46039f\"],[0.2222222222222222,\"#7201a8\"],[0.3333333333333333,\"#9c179e\"],[0.4444444444444444,\"#bd3786\"],[0.5555555555555556,\"#d8576b\"],[0.6666666666666666,\"#ed7953\"],[0.7777777777777778,\"#fb9f3a\"],[0.8888888888888888,\"#fdca26\"],[1.0,\"#f0f921\"]],\"type\":\"histogram2dcontour\"}],\"mesh3d\":[{\"colorbar\":{\"outlinewidth\":0,\"ticks\":\"\"},\"type\":\"mesh3d\"}],\"parcoords\":[{\"line\":{\"colorbar\":{\"outlinewidth\":0,\"ticks\":\"\"}},\"type\":\"parcoords\"}],\"pie\":[{\"automargin\":true,\"type\":\"pie\"}],\"scatter\":[{\"marker\":{\"colorbar\":{\"outlinewidth\":0,\"ticks\":\"\"}},\"type\":\"scatter\"}],\"scatter3d\":[{\"line\":{\"colorbar\":{\"outlinewidth\":0,\"ticks\":\"\"}},\"marker\":{\"colorbar\":{\"outlinewidth\":0,\"ticks\":\"\"}},\"type\":\"scatter3d\"}],\"scattercarpet\":[{\"marker\":{\"colorbar\":{\"outlinewidth\":0,\"ticks\":\"\"}},\"type\":\"scattercarpet\"}],\"scattergeo\":[{\"marker\":{\"colorbar\":{\"outlinewidth\":0,\"ticks\":\"\"}},\"type\":\"scattergeo\"}],\"scattergl\":[{\"marker\":{\"colorbar\":{\"outlinewidth\":0,\"ticks\":\"\"}},\"type\":\"scattergl\"}],\"scattermapbox\":[{\"marker\":{\"colorbar\":{\"outlinewidth\":0,\"ticks\":\"\"}},\"type\":\"scattermapbox\"}],\"scatterpolar\":[{\"marker\":{\"colorbar\":{\"outlinewidth\":0,\"ticks\":\"\"}},\"type\":\"scatterpolar\"}],\"scatterpolargl\":[{\"marker\":{\"colorbar\":{\"outlinewidth\":0,\"ticks\":\"\"}},\"type\":\"scatterpolargl\"}],\"scatterternary\":[{\"marker\":{\"colorbar\":{\"outlinewidth\":0,\"ticks\":\"\"}},\"type\":\"scatterternary\"}],\"surface\":[{\"colorbar\":{\"outlinewidth\":0,\"ticks\":\"\"},\"colorscale\":[[0.0,\"#0d0887\"],[0.1111111111111111,\"#46039f\"],[0.2222222222222222,\"#7201a8\"],[0.3333333333333333,\"#9c179e\"],[0.4444444444444444,\"#bd3786\"],[0.5555555555555556,\"#d8576b\"],[0.6666666666666666,\"#ed7953\"],[0.7777777777777778,\"#fb9f3a\"],[0.8888888888888888,\"#fdca26\"],[1.0,\"#f0f921\"]],\"type\":\"surface\"}],\"table\":[{\"cells\":{\"fill\":{\"color\":\"#EBF0F8\"},\"line\":{\"color\":\"white\"}},\"header\":{\"fill\":{\"color\":\"#C8D4E3\"},\"line\":{\"color\":\"white\"}},\"type\":\"table\"}]},\"layout\":{\"annotationdefaults\":{\"arrowcolor\":\"#2a3f5f\",\"arrowhead\":0,\"arrowwidth\":1},\"autotypenumbers\":\"strict\",\"coloraxis\":{\"colorbar\":{\"outlinewidth\":0,\"ticks\":\"\"}},\"colorscale\":{\"diverging\":[[0,\"#8e0152\"],[0.1,\"#c51b7d\"],[0.2,\"#de77ae\"],[0.3,\"#f1b6da\"],[0.4,\"#fde0ef\"],[0.5,\"#f7f7f7\"],[0.6,\"#e6f5d0\"],[0.7,\"#b8e186\"],[0.8,\"#7fbc41\"],[0.9,\"#4d9221\"],[1,\"#276419\"]],\"sequential\":[[0.0,\"#0d0887\"],[0.1111111111111111,\"#46039f\"],[0.2222222222222222,\"#7201a8\"],[0.3333333333333333,\"#9c179e\"],[0.4444444444444444,\"#bd3786\"],[0.5555555555555556,\"#d8576b\"],[0.6666666666666666,\"#ed7953\"],[0.7777777777777778,\"#fb9f3a\"],[0.8888888888888888,\"#fdca26\"],[1.0,\"#f0f921\"]],\"sequentialminus\":[[0.0,\"#0d0887\"],[0.1111111111111111,\"#46039f\"],[0.2222222222222222,\"#7201a8\"],[0.3333333333333333,\"#9c179e\"],[0.4444444444444444,\"#bd3786\"],[0.5555555555555556,\"#d8576b\"],[0.6666666666666666,\"#ed7953\"],[0.7777777777777778,\"#fb9f3a\"],[0.8888888888888888,\"#fdca26\"],[1.0,\"#f0f921\"]]},\"colorway\":[\"#636efa\",\"#EF553B\",\"#00cc96\",\"#ab63fa\",\"#FFA15A\",\"#19d3f3\",\"#FF6692\",\"#B6E880\",\"#FF97FF\",\"#FECB52\"],\"font\":{\"color\":\"#2a3f5f\"},\"geo\":{\"bgcolor\":\"white\",\"lakecolor\":\"white\",\"landcolor\":\"#E5ECF6\",\"showlakes\":true,\"showland\":true,\"subunitcolor\":\"white\"},\"hoverlabel\":{\"align\":\"left\"},\"hovermode\":\"closest\",\"mapbox\":{\"style\":\"light\"},\"paper_bgcolor\":\"white\",\"plot_bgcolor\":\"#E5ECF6\",\"polar\":{\"angularaxis\":{\"gridcolor\":\"white\",\"linecolor\":\"white\",\"ticks\":\"\"},\"bgcolor\":\"#E5ECF6\",\"radialaxis\":{\"gridcolor\":\"white\",\"linecolor\":\"white\",\"ticks\":\"\"}},\"scene\":{\"xaxis\":{\"backgroundcolor\":\"#E5ECF6\",\"gridcolor\":\"white\",\"gridwidth\":2,\"linecolor\":\"white\",\"showbackground\":true,\"ticks\":\"\",\"zerolinecolor\":\"white\"},\"yaxis\":{\"backgroundcolor\":\"#E5ECF6\",\"gridcolor\":\"white\",\"gridwidth\":2,\"linecolor\":\"white\",\"showbackground\":true,\"ticks\":\"\",\"zerolinecolor\":\"white\"},\"zaxis\":{\"backgroundcolor\":\"#E5ECF6\",\"gridcolor\":\"white\",\"gridwidth\":2,\"linecolor\":\"white\",\"showbackground\":true,\"ticks\":\"\",\"zerolinecolor\":\"white\"}},\"shapedefaults\":{\"line\":{\"color\":\"#2a3f5f\"}},\"ternary\":{\"aaxis\":{\"gridcolor\":\"white\",\"linecolor\":\"white\",\"ticks\":\"\"},\"baxis\":{\"gridcolor\":\"white\",\"linecolor\":\"white\",\"ticks\":\"\"},\"bgcolor\":\"#E5ECF6\",\"caxis\":{\"gridcolor\":\"white\",\"linecolor\":\"white\",\"ticks\":\"\"}},\"title\":{\"x\":0.05},\"xaxis\":{\"automargin\":true,\"gridcolor\":\"white\",\"linecolor\":\"white\",\"ticks\":\"\",\"title\":{\"standoff\":15},\"zerolinecolor\":\"white\",\"zerolinewidth\":2},\"yaxis\":{\"automargin\":true,\"gridcolor\":\"white\",\"linecolor\":\"white\",\"ticks\":\"\",\"title\":{\"standoff\":15},\"zerolinecolor\":\"white\",\"zerolinewidth\":2}}},\"title\":{\"font\":{\"color\":\"#4D5663\"}},\"xaxis\":{\"gridcolor\":\"#E1E5ED\",\"showgrid\":true,\"tickfont\":{\"color\":\"#4D5663\"},\"title\":{\"font\":{\"color\":\"#4D5663\"},\"text\":\"\"},\"zerolinecolor\":\"#E1E5ED\"},\"yaxis\":{\"gridcolor\":\"#E1E5ED\",\"showgrid\":true,\"tickfont\":{\"color\":\"#4D5663\"},\"title\":{\"font\":{\"color\":\"#4D5663\"},\"text\":\"\"},\"zerolinecolor\":\"#E1E5ED\"}},                        {\"showLink\": true, \"linkText\": \"Export to plot.ly\", \"plotlyServerURL\": \"https://plot.ly\", \"responsive\": true}                    ).then(function(){\n",
       "                            \n",
       "var gd = document.getElementById('ad1b35e0-8122-4da4-8262-e0098fdbd4c3');\n",
       "var x = new MutationObserver(function (mutations, observer) {{\n",
       "        var display = window.getComputedStyle(gd).display;\n",
       "        if (!display || display === 'none') {{\n",
       "            console.log([gd, 'removed!']);\n",
       "            Plotly.purge(gd);\n",
       "            observer.disconnect();\n",
       "        }}\n",
       "}});\n",
       "\n",
       "// Listen for the removal of the full notebook cells\n",
       "var notebookContainer = gd.closest('#notebook-container');\n",
       "if (notebookContainer) {{\n",
       "    x.observe(notebookContainer, {childList: true});\n",
       "}}\n",
       "\n",
       "// Listen for the clearing of the current output cell\n",
       "var outputEl = gd.closest('.output');\n",
       "if (outputEl) {{\n",
       "    x.observe(outputEl, {childList: true});\n",
       "}}\n",
       "\n",
       "                        })                };                });            </script>        </div>"
      ]
     },
     "metadata": {},
     "output_type": "display_data"
    }
   ],
   "source": [
    "df3 = pd.DataFrame({'x':[1,2,3,4,5],'y':[10,20,30,20,10],'z':[5,4,3,2,1]})\n",
    "df3.iplot(kind='surface',colorscale='rdylbu')"
   ]
  },
  {
   "cell_type": "markdown",
   "metadata": {},
   "source": [
    "## Spread"
   ]
  },
  {
   "cell_type": "code",
   "execution_count": 16,
   "metadata": {},
   "outputs": [
    {
     "name": "stderr",
     "output_type": "stream",
     "text": [
      "C:\\Users\\07062962468\\Anaconda3\\lib\\site-packages\\cufflinks\\plotlytools.py:849: FutureWarning:\n",
      "\n",
      "The pandas.np module is deprecated and will be removed from pandas in a future version. Import numpy directly instead\n",
      "\n",
      "C:\\Users\\07062962468\\Anaconda3\\lib\\site-packages\\cufflinks\\plotlytools.py:850: FutureWarning:\n",
      "\n",
      "The pandas.np module is deprecated and will be removed from pandas in a future version. Import numpy directly instead\n",
      "\n"
     ]
    },
    {
     "data": {
      "application/vnd.plotly.v1+json": {
       "config": {
        "linkText": "Export to plot.ly",
        "plotlyServerURL": "https://plot.ly",
        "showLink": true
       },
       "data": [
        {
         "line": {
          "color": "rgba(255, 153, 51, 1.0)",
          "dash": "solid",
          "shape": "linear",
          "width": 1.3
         },
         "mode": "lines",
         "name": "A",
         "text": "",
         "type": "scatter",
         "x": [
          0,
          1,
          2,
          3,
          4,
          5,
          6,
          7,
          8,
          9,
          10,
          11,
          12,
          13,
          14,
          15,
          16,
          17,
          18,
          19,
          20,
          21,
          22,
          23,
          24,
          25,
          26,
          27,
          28,
          29,
          30,
          31,
          32,
          33,
          34,
          35,
          36,
          37,
          38,
          39,
          40,
          41,
          42,
          43,
          44,
          45,
          46,
          47,
          48,
          49,
          50,
          51,
          52,
          53,
          54,
          55,
          56,
          57,
          58,
          59,
          60,
          61,
          62,
          63,
          64,
          65,
          66,
          67,
          68,
          69,
          70,
          71,
          72,
          73,
          74,
          75,
          76,
          77,
          78,
          79,
          80,
          81,
          82,
          83,
          84,
          85,
          86,
          87,
          88,
          89,
          90,
          91,
          92,
          93,
          94,
          95,
          96,
          97,
          98,
          99
         ],
         "y": [
          0.027241215754599653,
          0.461466942154424,
          0.3737578251714141,
          -1.4560336370431364,
          0.05734000875052292,
          -0.6934160050389406,
          -0.12917756125043053,
          0.5419506235849016,
          -1.1012631192337687,
          0.24570141978914636,
          0.01087999684740408,
          0.8100012366208713,
          -0.7030304225159633,
          -0.5946926572342286,
          -0.44511995840997504,
          0.23427398696523208,
          0.4160578404859543,
          -3.2493969232153423,
          -0.4734991876936832,
          -0.07570748157761908,
          0.3528977639604107,
          -0.21581152640941356,
          0.13976768152913263,
          0.9467098790676365,
          -0.23273491103119384,
          0.0389850989077991,
          -0.22939906198068014,
          0.8637838686080933,
          -1.1369014503927326,
          0.7526257977466814,
          0.41974541451444486,
          -0.29463973256237136,
          -2.176829559215304,
          -1.5302922998315613,
          0.35842273997828183,
          1.7264403465548985,
          -0.3653450892096323,
          -0.31695509980092507,
          -1.0558192787782297,
          -1.304349636163735,
          2.257323133922572,
          -0.10041675052728624,
          -2.24397916062139,
          -0.5589838760811628,
          -1.20295960227409,
          0.0026320539461168204,
          -0.2865627041840873,
          0.541803777541615,
          0.6300582728619144,
          -2.5053795527591367,
          -0.46316045798202704,
          -1.8274300715054332,
          -0.5586514125300802,
          0.3189194724183755,
          -1.685811925308102,
          -0.8428118098322996,
          0.80016486621426,
          0.5459717323447757,
          0.8643649166999295,
          -0.5740222161144256,
          -0.7179033509334194,
          -2.5019769582607734,
          -0.03892926260196354,
          -0.5500802354222613,
          1.2596761814939812,
          0.7347475008736277,
          -0.48819951705315184,
          -0.7205060770260235,
          -0.38233687263659966,
          0.4165865401847979,
          0.08270946347414312,
          0.04582443872299958,
          -2.839154713525733,
          1.4345342033741435,
          0.2590541572647937,
          -0.7046726386164505,
          -0.9473258446696663,
          -0.6517931146311408,
          1.0110736188093266,
          -0.5833457105696599,
          0.8982890815734496,
          0.5013034542613344,
          2.464532736067224,
          1.2612335926418747,
          0.536455461831126,
          1.934995588665759,
          -2.5219462688804963,
          0.628745198471256,
          -2.4809074077695996,
          1.6053651644968228,
          -0.2464413181810761,
          -1.4132000544481975,
          0.1868646453584373,
          0.7744526830342858,
          -0.7831732804063224,
          -2.2172665385010206,
          0.6368751852482623,
          0.11593761473734172,
          0.6190387568185067,
          -1.2760951982159945
         ]
        },
        {
         "line": {
          "color": "rgba(55, 128, 191, 1.0)",
          "dash": "solid",
          "shape": "linear",
          "width": 1.3
         },
         "mode": "lines",
         "name": "B",
         "text": "",
         "type": "scatter",
         "x": [
          0,
          1,
          2,
          3,
          4,
          5,
          6,
          7,
          8,
          9,
          10,
          11,
          12,
          13,
          14,
          15,
          16,
          17,
          18,
          19,
          20,
          21,
          22,
          23,
          24,
          25,
          26,
          27,
          28,
          29,
          30,
          31,
          32,
          33,
          34,
          35,
          36,
          37,
          38,
          39,
          40,
          41,
          42,
          43,
          44,
          45,
          46,
          47,
          48,
          49,
          50,
          51,
          52,
          53,
          54,
          55,
          56,
          57,
          58,
          59,
          60,
          61,
          62,
          63,
          64,
          65,
          66,
          67,
          68,
          69,
          70,
          71,
          72,
          73,
          74,
          75,
          76,
          77,
          78,
          79,
          80,
          81,
          82,
          83,
          84,
          85,
          86,
          87,
          88,
          89,
          90,
          91,
          92,
          93,
          94,
          95,
          96,
          97,
          98,
          99
         ],
         "y": [
          -1.2299495303316792,
          0.5761251925679554,
          0.4439223748334115,
          0.4482693887595382,
          0.4391188657924199,
          -0.6090184804140729,
          0.7739033993514225,
          -0.1858044672741451,
          -1.5004542493562412,
          0.2661389565905993,
          -1.0307976300658042,
          -2.02562399847762,
          -0.7753946361284771,
          -0.024092807303725004,
          -1.5488851006659816,
          -0.40608690106156453,
          -1.7875493827221627,
          1.0978120233875932,
          1.2796131600904732,
          -0.24566124104260884,
          2.1512327284437016,
          1.0702943810199417,
          -0.16948194839928224,
          0.633425338273376,
          -0.12053714748320615,
          -0.7084391381390437,
          1.2122343306242827,
          -0.5531661180518929,
          0.6760646031687255,
          -0.8600719233782612,
          0.6307408183438546,
          0.736114624702335,
          0.8211645861435984,
          -0.9063307935843637,
          -0.4618678949453949,
          0.640819882423184,
          0.255985632683679,
          0.44050250308581096,
          -0.5098792189564512,
          0.6612370454506209,
          -0.4600852985179216,
          1.3928542342840358,
          0.8823525659375652,
          0.607283903701555,
          -2.4441288988197107,
          -0.8644188008705929,
          -0.532690495638404,
          0.12512387164939145,
          -0.7233303308661587,
          -0.23976137531649747,
          1.5587585887796735,
          -0.3530505109153326,
          -0.7056602818285378,
          0.4035688891271258,
          -0.8327362135840342,
          -1.313239469889929,
          -0.6277207975245217,
          -0.06658365119250485,
          -0.7808892284561406,
          -0.3748780636142635,
          -0.38299456605242604,
          -0.6325698902459843,
          -0.37089771726844656,
          0.32138636034575196,
          0.6727738971760795,
          -0.3945422734138908,
          2.9500615298764727,
          1.5519218449607535,
          0.4797694345031922,
          0.6423701460270103,
          -1.9708893650276542,
          1.1646789788732854,
          0.9515688528861517,
          1.4511554272385823,
          -0.20150822013810582,
          0.2606018888417338,
          -0.2510612853910099,
          2.130016703150938,
          1.63705915645,
          0.39847523494422377,
          1.0184562083723192,
          -0.5382357322422255,
          2.483246044560773,
          0.8526701202253368,
          -1.2948330224433153,
          1.3410500034685415,
          0.2624724820130176,
          0.42655832078624994,
          1.4132672701391868,
          -0.8391493300974192,
          -1.231514045828351,
          -2.0535105642667326,
          -0.8008456977267329,
          -0.38365075218860983,
          0.8430333327693967,
          1.1505882799513372,
          -1.3125282714743989,
          0.7942258301306302,
          -0.8030278933285362,
          0.023210838012871562
         ]
        },
        {
         "connectgaps": false,
         "fill": "tozeroy",
         "line": {
          "color": "green",
          "dash": "solid",
          "shape": "linear",
          "width": 0.5
         },
         "mode": "lines",
         "name": "Spread",
         "showlegend": false,
         "type": "scatter",
         "x": [
          0,
          1,
          2,
          3,
          4,
          5,
          6,
          7,
          8,
          9,
          10,
          11,
          12,
          13,
          14,
          15,
          16,
          17,
          18,
          19,
          20,
          21,
          22,
          23,
          24,
          25,
          26,
          27,
          28,
          29,
          30,
          31,
          32,
          33,
          34,
          35,
          36,
          37,
          38,
          39,
          40,
          41,
          42,
          43,
          44,
          45,
          46,
          47,
          48,
          49,
          50,
          51,
          52,
          53,
          54,
          55,
          56,
          57,
          58,
          59,
          60,
          61,
          62,
          63,
          64,
          65,
          66,
          67,
          68,
          69,
          70,
          71,
          72,
          73,
          74,
          75,
          76,
          77,
          78,
          79,
          80,
          81,
          82,
          83,
          84,
          85,
          86,
          87,
          88,
          89,
          90,
          91,
          92,
          93,
          94,
          95,
          96,
          97,
          98,
          99
         ],
         "xaxis": "x2",
         "y": [
          1.2571907460862788,
          "",
          "",
          "",
          "",
          "",
          "",
          0.7277550908590468,
          0.3991911301224724,
          "",
          1.0416776269132082,
          2.835625235098491,
          0.07236421361251388,
          "",
          1.1037651422560066,
          0.6403608880267966,
          2.2036072232081167,
          "",
          "",
          0.16995375946498975,
          "",
          "",
          0.30924962992841487,
          0.3132845407942605,
          "",
          0.7474242370468428,
          "",
          1.4169499866599862,
          "",
          1.6126977211249427,
          "",
          "",
          "",
          "",
          0.8202906349236767,
          1.0856204641317144,
          "",
          "",
          "",
          "",
          2.717408432440494,
          "",
          "",
          "",
          1.2411692965456207,
          0.8670508548167097,
          0.24612779145431668,
          0.4166799058922236,
          1.3533886037280731,
          "",
          "",
          "",
          0.14700886929845758,
          "",
          "",
          0.47042766005762937,
          1.4278856637387816,
          0.6125553835372806,
          1.6452541451560703,
          "",
          "",
          "",
          0.331968454666483,
          "",
          0.5869022843179017,
          1.1292897742875185,
          "",
          "",
          "",
          "",
          2.0535988285017974,
          "",
          "",
          "",
          0.4605623774028995,
          "",
          "",
          "",
          "",
          "",
          "",
          1.03953918650356,
          "",
          0.4085634724165379,
          1.8312884842744412,
          0.5939455851972175,
          "",
          0.20218687768500604,
          "",
          2.444514494594242,
          0.9850727276472748,
          0.6403105098185351,
          0.9877103430851701,
          1.1581034352228956,
          "",
          "",
          1.9494034567226612,
          "",
          1.422066650147043,
          ""
         ],
         "yaxis": "y2"
        },
        {
         "connectgaps": false,
         "fill": "tozeroy",
         "line": {
          "color": "red",
          "dash": "solid",
          "shape": "linear",
          "width": 0.5
         },
         "mode": "lines",
         "name": "Spread",
         "showlegend": false,
         "type": "scatter",
         "x": [
          0,
          1,
          2,
          3,
          4,
          5,
          6,
          7,
          8,
          9,
          10,
          11,
          12,
          13,
          14,
          15,
          16,
          17,
          18,
          19,
          20,
          21,
          22,
          23,
          24,
          25,
          26,
          27,
          28,
          29,
          30,
          31,
          32,
          33,
          34,
          35,
          36,
          37,
          38,
          39,
          40,
          41,
          42,
          43,
          44,
          45,
          46,
          47,
          48,
          49,
          50,
          51,
          52,
          53,
          54,
          55,
          56,
          57,
          58,
          59,
          60,
          61,
          62,
          63,
          64,
          65,
          66,
          67,
          68,
          69,
          70,
          71,
          72,
          73,
          74,
          75,
          76,
          77,
          78,
          79,
          80,
          81,
          82,
          83,
          84,
          85,
          86,
          87,
          88,
          89,
          90,
          91,
          92,
          93,
          94,
          95,
          96,
          97,
          98,
          99
         ],
         "xaxis": "x2",
         "y": [
          "",
          -0.11465825041353134,
          -0.07016454966199742,
          -1.9043030258026745,
          -0.38177885704189696,
          -0.08439752462486771,
          -0.9030809606018531,
          "",
          "",
          -0.02043753680145291,
          "",
          "",
          "",
          -0.5705998499305036,
          "",
          "",
          "",
          -4.347208946602936,
          -1.7531123477841564,
          "",
          -1.7983349644832909,
          -1.2861059074293553,
          "",
          "",
          -0.11219776354798769,
          "",
          -1.4416333926049627,
          "",
          -1.8129660535614582,
          "",
          -0.2109954038294098,
          -1.0307543572647064,
          -2.9979941453589025,
          -0.6239615062471976,
          "",
          "",
          -0.6213307218933113,
          -0.757457602886736,
          -0.5459400598217785,
          -1.965586681614356,
          "",
          -1.493270984811322,
          -3.126331726558955,
          -1.166267779782718,
          "",
          "",
          "",
          "",
          "",
          -2.265618177442639,
          -2.0219190467617008,
          -1.4743795605901007,
          "",
          -0.08464941670875031,
          -0.8530757117240679,
          "",
          "",
          "",
          "",
          -0.1991441525001621,
          -0.33490878488099335,
          -1.8694070680147892,
          "",
          -0.8714665957680132,
          "",
          "",
          -3.4382610469296244,
          -2.272427921986777,
          -0.8621063071397919,
          -0.22578360584221235,
          "",
          -1.1188545401502858,
          -3.7907235664118843,
          -0.01662122386443876,
          "",
          -0.9652745274581842,
          -0.6962645592786564,
          -2.7818098177820785,
          -0.6259855376406736,
          -0.9818209455138837,
          -0.12016712679886965,
          "",
          -0.018713308493549352,
          "",
          "",
          "",
          -2.784418750893514,
          "",
          -3.8941746779087865,
          "",
          "",
          "",
          "",
          "",
          -1.6262066131757191,
          -3.367854818452358,
          "",
          -0.6782882153932884,
          "",
          -1.299306036228866
         ],
         "yaxis": "y2"
        }
       ],
       "layout": {
        "hovermode": "x",
        "legend": {
         "bgcolor": "#F5F6F9",
         "font": {
          "color": "#4D5663"
         }
        },
        "paper_bgcolor": "#F5F6F9",
        "plot_bgcolor": "#F5F6F9",
        "template": {
         "data": {
          "bar": [
           {
            "error_x": {
             "color": "#2a3f5f"
            },
            "error_y": {
             "color": "#2a3f5f"
            },
            "marker": {
             "line": {
              "color": "#E5ECF6",
              "width": 0.5
             },
             "pattern": {
              "fillmode": "overlay",
              "size": 10,
              "solidity": 0.2
             }
            },
            "type": "bar"
           }
          ],
          "barpolar": [
           {
            "marker": {
             "line": {
              "color": "#E5ECF6",
              "width": 0.5
             },
             "pattern": {
              "fillmode": "overlay",
              "size": 10,
              "solidity": 0.2
             }
            },
            "type": "barpolar"
           }
          ],
          "carpet": [
           {
            "aaxis": {
             "endlinecolor": "#2a3f5f",
             "gridcolor": "white",
             "linecolor": "white",
             "minorgridcolor": "white",
             "startlinecolor": "#2a3f5f"
            },
            "baxis": {
             "endlinecolor": "#2a3f5f",
             "gridcolor": "white",
             "linecolor": "white",
             "minorgridcolor": "white",
             "startlinecolor": "#2a3f5f"
            },
            "type": "carpet"
           }
          ],
          "choropleth": [
           {
            "colorbar": {
             "outlinewidth": 0,
             "ticks": ""
            },
            "type": "choropleth"
           }
          ],
          "contour": [
           {
            "colorbar": {
             "outlinewidth": 0,
             "ticks": ""
            },
            "colorscale": [
             [
              0,
              "#0d0887"
             ],
             [
              0.1111111111111111,
              "#46039f"
             ],
             [
              0.2222222222222222,
              "#7201a8"
             ],
             [
              0.3333333333333333,
              "#9c179e"
             ],
             [
              0.4444444444444444,
              "#bd3786"
             ],
             [
              0.5555555555555556,
              "#d8576b"
             ],
             [
              0.6666666666666666,
              "#ed7953"
             ],
             [
              0.7777777777777778,
              "#fb9f3a"
             ],
             [
              0.8888888888888888,
              "#fdca26"
             ],
             [
              1,
              "#f0f921"
             ]
            ],
            "type": "contour"
           }
          ],
          "contourcarpet": [
           {
            "colorbar": {
             "outlinewidth": 0,
             "ticks": ""
            },
            "type": "contourcarpet"
           }
          ],
          "heatmap": [
           {
            "colorbar": {
             "outlinewidth": 0,
             "ticks": ""
            },
            "colorscale": [
             [
              0,
              "#0d0887"
             ],
             [
              0.1111111111111111,
              "#46039f"
             ],
             [
              0.2222222222222222,
              "#7201a8"
             ],
             [
              0.3333333333333333,
              "#9c179e"
             ],
             [
              0.4444444444444444,
              "#bd3786"
             ],
             [
              0.5555555555555556,
              "#d8576b"
             ],
             [
              0.6666666666666666,
              "#ed7953"
             ],
             [
              0.7777777777777778,
              "#fb9f3a"
             ],
             [
              0.8888888888888888,
              "#fdca26"
             ],
             [
              1,
              "#f0f921"
             ]
            ],
            "type": "heatmap"
           }
          ],
          "heatmapgl": [
           {
            "colorbar": {
             "outlinewidth": 0,
             "ticks": ""
            },
            "colorscale": [
             [
              0,
              "#0d0887"
             ],
             [
              0.1111111111111111,
              "#46039f"
             ],
             [
              0.2222222222222222,
              "#7201a8"
             ],
             [
              0.3333333333333333,
              "#9c179e"
             ],
             [
              0.4444444444444444,
              "#bd3786"
             ],
             [
              0.5555555555555556,
              "#d8576b"
             ],
             [
              0.6666666666666666,
              "#ed7953"
             ],
             [
              0.7777777777777778,
              "#fb9f3a"
             ],
             [
              0.8888888888888888,
              "#fdca26"
             ],
             [
              1,
              "#f0f921"
             ]
            ],
            "type": "heatmapgl"
           }
          ],
          "histogram": [
           {
            "marker": {
             "pattern": {
              "fillmode": "overlay",
              "size": 10,
              "solidity": 0.2
             }
            },
            "type": "histogram"
           }
          ],
          "histogram2d": [
           {
            "colorbar": {
             "outlinewidth": 0,
             "ticks": ""
            },
            "colorscale": [
             [
              0,
              "#0d0887"
             ],
             [
              0.1111111111111111,
              "#46039f"
             ],
             [
              0.2222222222222222,
              "#7201a8"
             ],
             [
              0.3333333333333333,
              "#9c179e"
             ],
             [
              0.4444444444444444,
              "#bd3786"
             ],
             [
              0.5555555555555556,
              "#d8576b"
             ],
             [
              0.6666666666666666,
              "#ed7953"
             ],
             [
              0.7777777777777778,
              "#fb9f3a"
             ],
             [
              0.8888888888888888,
              "#fdca26"
             ],
             [
              1,
              "#f0f921"
             ]
            ],
            "type": "histogram2d"
           }
          ],
          "histogram2dcontour": [
           {
            "colorbar": {
             "outlinewidth": 0,
             "ticks": ""
            },
            "colorscale": [
             [
              0,
              "#0d0887"
             ],
             [
              0.1111111111111111,
              "#46039f"
             ],
             [
              0.2222222222222222,
              "#7201a8"
             ],
             [
              0.3333333333333333,
              "#9c179e"
             ],
             [
              0.4444444444444444,
              "#bd3786"
             ],
             [
              0.5555555555555556,
              "#d8576b"
             ],
             [
              0.6666666666666666,
              "#ed7953"
             ],
             [
              0.7777777777777778,
              "#fb9f3a"
             ],
             [
              0.8888888888888888,
              "#fdca26"
             ],
             [
              1,
              "#f0f921"
             ]
            ],
            "type": "histogram2dcontour"
           }
          ],
          "mesh3d": [
           {
            "colorbar": {
             "outlinewidth": 0,
             "ticks": ""
            },
            "type": "mesh3d"
           }
          ],
          "parcoords": [
           {
            "line": {
             "colorbar": {
              "outlinewidth": 0,
              "ticks": ""
             }
            },
            "type": "parcoords"
           }
          ],
          "pie": [
           {
            "automargin": true,
            "type": "pie"
           }
          ],
          "scatter": [
           {
            "marker": {
             "colorbar": {
              "outlinewidth": 0,
              "ticks": ""
             }
            },
            "type": "scatter"
           }
          ],
          "scatter3d": [
           {
            "line": {
             "colorbar": {
              "outlinewidth": 0,
              "ticks": ""
             }
            },
            "marker": {
             "colorbar": {
              "outlinewidth": 0,
              "ticks": ""
             }
            },
            "type": "scatter3d"
           }
          ],
          "scattercarpet": [
           {
            "marker": {
             "colorbar": {
              "outlinewidth": 0,
              "ticks": ""
             }
            },
            "type": "scattercarpet"
           }
          ],
          "scattergeo": [
           {
            "marker": {
             "colorbar": {
              "outlinewidth": 0,
              "ticks": ""
             }
            },
            "type": "scattergeo"
           }
          ],
          "scattergl": [
           {
            "marker": {
             "colorbar": {
              "outlinewidth": 0,
              "ticks": ""
             }
            },
            "type": "scattergl"
           }
          ],
          "scattermapbox": [
           {
            "marker": {
             "colorbar": {
              "outlinewidth": 0,
              "ticks": ""
             }
            },
            "type": "scattermapbox"
           }
          ],
          "scatterpolar": [
           {
            "marker": {
             "colorbar": {
              "outlinewidth": 0,
              "ticks": ""
             }
            },
            "type": "scatterpolar"
           }
          ],
          "scatterpolargl": [
           {
            "marker": {
             "colorbar": {
              "outlinewidth": 0,
              "ticks": ""
             }
            },
            "type": "scatterpolargl"
           }
          ],
          "scatterternary": [
           {
            "marker": {
             "colorbar": {
              "outlinewidth": 0,
              "ticks": ""
             }
            },
            "type": "scatterternary"
           }
          ],
          "surface": [
           {
            "colorbar": {
             "outlinewidth": 0,
             "ticks": ""
            },
            "colorscale": [
             [
              0,
              "#0d0887"
             ],
             [
              0.1111111111111111,
              "#46039f"
             ],
             [
              0.2222222222222222,
              "#7201a8"
             ],
             [
              0.3333333333333333,
              "#9c179e"
             ],
             [
              0.4444444444444444,
              "#bd3786"
             ],
             [
              0.5555555555555556,
              "#d8576b"
             ],
             [
              0.6666666666666666,
              "#ed7953"
             ],
             [
              0.7777777777777778,
              "#fb9f3a"
             ],
             [
              0.8888888888888888,
              "#fdca26"
             ],
             [
              1,
              "#f0f921"
             ]
            ],
            "type": "surface"
           }
          ],
          "table": [
           {
            "cells": {
             "fill": {
              "color": "#EBF0F8"
             },
             "line": {
              "color": "white"
             }
            },
            "header": {
             "fill": {
              "color": "#C8D4E3"
             },
             "line": {
              "color": "white"
             }
            },
            "type": "table"
           }
          ]
         },
         "layout": {
          "annotationdefaults": {
           "arrowcolor": "#2a3f5f",
           "arrowhead": 0,
           "arrowwidth": 1
          },
          "autotypenumbers": "strict",
          "coloraxis": {
           "colorbar": {
            "outlinewidth": 0,
            "ticks": ""
           }
          },
          "colorscale": {
           "diverging": [
            [
             0,
             "#8e0152"
            ],
            [
             0.1,
             "#c51b7d"
            ],
            [
             0.2,
             "#de77ae"
            ],
            [
             0.3,
             "#f1b6da"
            ],
            [
             0.4,
             "#fde0ef"
            ],
            [
             0.5,
             "#f7f7f7"
            ],
            [
             0.6,
             "#e6f5d0"
            ],
            [
             0.7,
             "#b8e186"
            ],
            [
             0.8,
             "#7fbc41"
            ],
            [
             0.9,
             "#4d9221"
            ],
            [
             1,
             "#276419"
            ]
           ],
           "sequential": [
            [
             0,
             "#0d0887"
            ],
            [
             0.1111111111111111,
             "#46039f"
            ],
            [
             0.2222222222222222,
             "#7201a8"
            ],
            [
             0.3333333333333333,
             "#9c179e"
            ],
            [
             0.4444444444444444,
             "#bd3786"
            ],
            [
             0.5555555555555556,
             "#d8576b"
            ],
            [
             0.6666666666666666,
             "#ed7953"
            ],
            [
             0.7777777777777778,
             "#fb9f3a"
            ],
            [
             0.8888888888888888,
             "#fdca26"
            ],
            [
             1,
             "#f0f921"
            ]
           ],
           "sequentialminus": [
            [
             0,
             "#0d0887"
            ],
            [
             0.1111111111111111,
             "#46039f"
            ],
            [
             0.2222222222222222,
             "#7201a8"
            ],
            [
             0.3333333333333333,
             "#9c179e"
            ],
            [
             0.4444444444444444,
             "#bd3786"
            ],
            [
             0.5555555555555556,
             "#d8576b"
            ],
            [
             0.6666666666666666,
             "#ed7953"
            ],
            [
             0.7777777777777778,
             "#fb9f3a"
            ],
            [
             0.8888888888888888,
             "#fdca26"
            ],
            [
             1,
             "#f0f921"
            ]
           ]
          },
          "colorway": [
           "#636efa",
           "#EF553B",
           "#00cc96",
           "#ab63fa",
           "#FFA15A",
           "#19d3f3",
           "#FF6692",
           "#B6E880",
           "#FF97FF",
           "#FECB52"
          ],
          "font": {
           "color": "#2a3f5f"
          },
          "geo": {
           "bgcolor": "white",
           "lakecolor": "white",
           "landcolor": "#E5ECF6",
           "showlakes": true,
           "showland": true,
           "subunitcolor": "white"
          },
          "hoverlabel": {
           "align": "left"
          },
          "hovermode": "closest",
          "mapbox": {
           "style": "light"
          },
          "paper_bgcolor": "white",
          "plot_bgcolor": "#E5ECF6",
          "polar": {
           "angularaxis": {
            "gridcolor": "white",
            "linecolor": "white",
            "ticks": ""
           },
           "bgcolor": "#E5ECF6",
           "radialaxis": {
            "gridcolor": "white",
            "linecolor": "white",
            "ticks": ""
           }
          },
          "scene": {
           "xaxis": {
            "backgroundcolor": "#E5ECF6",
            "gridcolor": "white",
            "gridwidth": 2,
            "linecolor": "white",
            "showbackground": true,
            "ticks": "",
            "zerolinecolor": "white"
           },
           "yaxis": {
            "backgroundcolor": "#E5ECF6",
            "gridcolor": "white",
            "gridwidth": 2,
            "linecolor": "white",
            "showbackground": true,
            "ticks": "",
            "zerolinecolor": "white"
           },
           "zaxis": {
            "backgroundcolor": "#E5ECF6",
            "gridcolor": "white",
            "gridwidth": 2,
            "linecolor": "white",
            "showbackground": true,
            "ticks": "",
            "zerolinecolor": "white"
           }
          },
          "shapedefaults": {
           "line": {
            "color": "#2a3f5f"
           }
          },
          "ternary": {
           "aaxis": {
            "gridcolor": "white",
            "linecolor": "white",
            "ticks": ""
           },
           "baxis": {
            "gridcolor": "white",
            "linecolor": "white",
            "ticks": ""
           },
           "bgcolor": "#E5ECF6",
           "caxis": {
            "gridcolor": "white",
            "linecolor": "white",
            "ticks": ""
           }
          },
          "title": {
           "x": 0.05
          },
          "xaxis": {
           "automargin": true,
           "gridcolor": "white",
           "linecolor": "white",
           "ticks": "",
           "title": {
            "standoff": 15
           },
           "zerolinecolor": "white",
           "zerolinewidth": 2
          },
          "yaxis": {
           "automargin": true,
           "gridcolor": "white",
           "linecolor": "white",
           "ticks": "",
           "title": {
            "standoff": 15
           },
           "zerolinecolor": "white",
           "zerolinewidth": 2
          }
         }
        },
        "title": {
         "font": {
          "color": "#4D5663"
         }
        },
        "xaxis": {
         "gridcolor": "#E1E5ED",
         "showgrid": true,
         "tickfont": {
          "color": "#4D5663"
         },
         "title": {
          "font": {
           "color": "#4D5663"
          },
          "text": ""
         },
         "zerolinecolor": "#E1E5ED"
        },
        "xaxis2": {
         "anchor": "y2",
         "gridcolor": "#E1E5ED",
         "showgrid": true,
         "showticklabels": false,
         "tickfont": {
          "color": "#4D5663"
         },
         "title": {
          "font": {
           "color": "#4D5663"
          },
          "text": ""
         },
         "zerolinecolor": "#E1E5ED"
        },
        "yaxis": {
         "domain": [
          0.3,
          1
         ],
         "gridcolor": "#E1E5ED",
         "showgrid": true,
         "tickfont": {
          "color": "#4D5663"
         },
         "title": {
          "font": {
           "color": "#4D5663"
          },
          "text": ""
         },
         "zerolinecolor": "#E1E5ED"
        },
        "yaxis2": {
         "domain": [
          0,
          0.25
         ],
         "gridcolor": "#E1E5ED",
         "showgrid": true,
         "tickfont": {
          "color": "#4D5663"
         },
         "title": {
          "font": {
           "color": "#4D5663"
          },
          "text": "Spread"
         },
         "zerolinecolor": "#E1E5ED"
        }
       }
      },
      "text/html": [
       "<div>                            <div id=\"96529ad8-e6ae-4b24-9380-7d25a3af5e0b\" class=\"plotly-graph-div\" style=\"height:525px; width:100%;\"></div>            <script type=\"text/javascript\">                require([\"plotly\"], function(Plotly) {                    window.PLOTLYENV=window.PLOTLYENV || {};\n",
       "                    window.PLOTLYENV.BASE_URL='https://plot.ly';                                    if (document.getElementById(\"96529ad8-e6ae-4b24-9380-7d25a3af5e0b\")) {                    Plotly.newPlot(                        \"96529ad8-e6ae-4b24-9380-7d25a3af5e0b\",                        [{\"line\":{\"color\":\"rgba(255, 153, 51, 1.0)\",\"dash\":\"solid\",\"shape\":\"linear\",\"width\":1.3},\"mode\":\"lines\",\"name\":\"A\",\"text\":\"\",\"type\":\"scatter\",\"x\":[0,1,2,3,4,5,6,7,8,9,10,11,12,13,14,15,16,17,18,19,20,21,22,23,24,25,26,27,28,29,30,31,32,33,34,35,36,37,38,39,40,41,42,43,44,45,46,47,48,49,50,51,52,53,54,55,56,57,58,59,60,61,62,63,64,65,66,67,68,69,70,71,72,73,74,75,76,77,78,79,80,81,82,83,84,85,86,87,88,89,90,91,92,93,94,95,96,97,98,99],\"y\":[0.027241215754599653,0.461466942154424,0.3737578251714141,-1.4560336370431364,0.05734000875052292,-0.6934160050389406,-0.12917756125043053,0.5419506235849016,-1.1012631192337687,0.24570141978914636,0.01087999684740408,0.8100012366208713,-0.7030304225159633,-0.5946926572342286,-0.44511995840997504,0.23427398696523208,0.4160578404859543,-3.2493969232153423,-0.4734991876936832,-0.07570748157761908,0.3528977639604107,-0.21581152640941356,0.13976768152913263,0.9467098790676365,-0.23273491103119384,0.0389850989077991,-0.22939906198068014,0.8637838686080933,-1.1369014503927326,0.7526257977466814,0.41974541451444486,-0.29463973256237136,-2.176829559215304,-1.5302922998315613,0.35842273997828183,1.7264403465548985,-0.3653450892096323,-0.31695509980092507,-1.0558192787782297,-1.304349636163735,2.257323133922572,-0.10041675052728624,-2.24397916062139,-0.5589838760811628,-1.20295960227409,0.0026320539461168204,-0.2865627041840873,0.541803777541615,0.6300582728619144,-2.5053795527591367,-0.46316045798202704,-1.8274300715054332,-0.5586514125300802,0.3189194724183755,-1.685811925308102,-0.8428118098322996,0.80016486621426,0.5459717323447757,0.8643649166999295,-0.5740222161144256,-0.7179033509334194,-2.5019769582607734,-0.03892926260196354,-0.5500802354222613,1.2596761814939812,0.7347475008736277,-0.48819951705315184,-0.7205060770260235,-0.38233687263659966,0.4165865401847979,0.08270946347414312,0.04582443872299958,-2.839154713525733,1.4345342033741435,0.2590541572647937,-0.7046726386164505,-0.9473258446696663,-0.6517931146311408,1.0110736188093266,-0.5833457105696599,0.8982890815734496,0.5013034542613344,2.464532736067224,1.2612335926418747,0.536455461831126,1.934995588665759,-2.5219462688804963,0.628745198471256,-2.4809074077695996,1.6053651644968228,-0.2464413181810761,-1.4132000544481975,0.1868646453584373,0.7744526830342858,-0.7831732804063224,-2.2172665385010206,0.6368751852482623,0.11593761473734172,0.6190387568185067,-1.2760951982159945]},{\"line\":{\"color\":\"rgba(55, 128, 191, 1.0)\",\"dash\":\"solid\",\"shape\":\"linear\",\"width\":1.3},\"mode\":\"lines\",\"name\":\"B\",\"text\":\"\",\"type\":\"scatter\",\"x\":[0,1,2,3,4,5,6,7,8,9,10,11,12,13,14,15,16,17,18,19,20,21,22,23,24,25,26,27,28,29,30,31,32,33,34,35,36,37,38,39,40,41,42,43,44,45,46,47,48,49,50,51,52,53,54,55,56,57,58,59,60,61,62,63,64,65,66,67,68,69,70,71,72,73,74,75,76,77,78,79,80,81,82,83,84,85,86,87,88,89,90,91,92,93,94,95,96,97,98,99],\"y\":[-1.2299495303316792,0.5761251925679554,0.4439223748334115,0.4482693887595382,0.4391188657924199,-0.6090184804140729,0.7739033993514225,-0.1858044672741451,-1.5004542493562412,0.2661389565905993,-1.0307976300658042,-2.02562399847762,-0.7753946361284771,-0.024092807303725004,-1.5488851006659816,-0.40608690106156453,-1.7875493827221627,1.0978120233875932,1.2796131600904732,-0.24566124104260884,2.1512327284437016,1.0702943810199417,-0.16948194839928224,0.633425338273376,-0.12053714748320615,-0.7084391381390437,1.2122343306242827,-0.5531661180518929,0.6760646031687255,-0.8600719233782612,0.6307408183438546,0.736114624702335,0.8211645861435984,-0.9063307935843637,-0.4618678949453949,0.640819882423184,0.255985632683679,0.44050250308581096,-0.5098792189564512,0.6612370454506209,-0.4600852985179216,1.3928542342840358,0.8823525659375652,0.607283903701555,-2.4441288988197107,-0.8644188008705929,-0.532690495638404,0.12512387164939145,-0.7233303308661587,-0.23976137531649747,1.5587585887796735,-0.3530505109153326,-0.7056602818285378,0.4035688891271258,-0.8327362135840342,-1.313239469889929,-0.6277207975245217,-0.06658365119250485,-0.7808892284561406,-0.3748780636142635,-0.38299456605242604,-0.6325698902459843,-0.37089771726844656,0.32138636034575196,0.6727738971760795,-0.3945422734138908,2.9500615298764727,1.5519218449607535,0.4797694345031922,0.6423701460270103,-1.9708893650276542,1.1646789788732854,0.9515688528861517,1.4511554272385823,-0.20150822013810582,0.2606018888417338,-0.2510612853910099,2.130016703150938,1.63705915645,0.39847523494422377,1.0184562083723192,-0.5382357322422255,2.483246044560773,0.8526701202253368,-1.2948330224433153,1.3410500034685415,0.2624724820130176,0.42655832078624994,1.4132672701391868,-0.8391493300974192,-1.231514045828351,-2.0535105642667326,-0.8008456977267329,-0.38365075218860983,0.8430333327693967,1.1505882799513372,-1.3125282714743989,0.7942258301306302,-0.8030278933285362,0.023210838012871562]},{\"connectgaps\":false,\"fill\":\"tozeroy\",\"line\":{\"color\":\"green\",\"dash\":\"solid\",\"shape\":\"linear\",\"width\":0.5},\"mode\":\"lines\",\"name\":\"Spread\",\"showlegend\":false,\"type\":\"scatter\",\"x\":[0,1,2,3,4,5,6,7,8,9,10,11,12,13,14,15,16,17,18,19,20,21,22,23,24,25,26,27,28,29,30,31,32,33,34,35,36,37,38,39,40,41,42,43,44,45,46,47,48,49,50,51,52,53,54,55,56,57,58,59,60,61,62,63,64,65,66,67,68,69,70,71,72,73,74,75,76,77,78,79,80,81,82,83,84,85,86,87,88,89,90,91,92,93,94,95,96,97,98,99],\"xaxis\":\"x2\",\"y\":[1.2571907460862788,\"\",\"\",\"\",\"\",\"\",\"\",0.7277550908590468,0.3991911301224724,\"\",1.0416776269132082,2.835625235098491,0.07236421361251388,\"\",1.1037651422560066,0.6403608880267966,2.2036072232081167,\"\",\"\",0.16995375946498975,\"\",\"\",0.30924962992841487,0.3132845407942605,\"\",0.7474242370468428,\"\",1.4169499866599862,\"\",1.6126977211249427,\"\",\"\",\"\",\"\",0.8202906349236767,1.0856204641317144,\"\",\"\",\"\",\"\",2.717408432440494,\"\",\"\",\"\",1.2411692965456207,0.8670508548167097,0.24612779145431668,0.4166799058922236,1.3533886037280731,\"\",\"\",\"\",0.14700886929845758,\"\",\"\",0.47042766005762937,1.4278856637387816,0.6125553835372806,1.6452541451560703,\"\",\"\",\"\",0.331968454666483,\"\",0.5869022843179017,1.1292897742875185,\"\",\"\",\"\",\"\",2.0535988285017974,\"\",\"\",\"\",0.4605623774028995,\"\",\"\",\"\",\"\",\"\",\"\",1.03953918650356,\"\",0.4085634724165379,1.8312884842744412,0.5939455851972175,\"\",0.20218687768500604,\"\",2.444514494594242,0.9850727276472748,0.6403105098185351,0.9877103430851701,1.1581034352228956,\"\",\"\",1.9494034567226612,\"\",1.422066650147043,\"\"],\"yaxis\":\"y2\"},{\"connectgaps\":false,\"fill\":\"tozeroy\",\"line\":{\"color\":\"red\",\"dash\":\"solid\",\"shape\":\"linear\",\"width\":0.5},\"mode\":\"lines\",\"name\":\"Spread\",\"showlegend\":false,\"type\":\"scatter\",\"x\":[0,1,2,3,4,5,6,7,8,9,10,11,12,13,14,15,16,17,18,19,20,21,22,23,24,25,26,27,28,29,30,31,32,33,34,35,36,37,38,39,40,41,42,43,44,45,46,47,48,49,50,51,52,53,54,55,56,57,58,59,60,61,62,63,64,65,66,67,68,69,70,71,72,73,74,75,76,77,78,79,80,81,82,83,84,85,86,87,88,89,90,91,92,93,94,95,96,97,98,99],\"xaxis\":\"x2\",\"y\":[\"\",-0.11465825041353134,-0.07016454966199742,-1.9043030258026745,-0.38177885704189696,-0.08439752462486771,-0.9030809606018531,\"\",\"\",-0.02043753680145291,\"\",\"\",\"\",-0.5705998499305036,\"\",\"\",\"\",-4.347208946602936,-1.7531123477841564,\"\",-1.7983349644832909,-1.2861059074293553,\"\",\"\",-0.11219776354798769,\"\",-1.4416333926049627,\"\",-1.8129660535614582,\"\",-0.2109954038294098,-1.0307543572647064,-2.9979941453589025,-0.6239615062471976,\"\",\"\",-0.6213307218933113,-0.757457602886736,-0.5459400598217785,-1.965586681614356,\"\",-1.493270984811322,-3.126331726558955,-1.166267779782718,\"\",\"\",\"\",\"\",\"\",-2.265618177442639,-2.0219190467617008,-1.4743795605901007,\"\",-0.08464941670875031,-0.8530757117240679,\"\",\"\",\"\",\"\",-0.1991441525001621,-0.33490878488099335,-1.8694070680147892,\"\",-0.8714665957680132,\"\",\"\",-3.4382610469296244,-2.272427921986777,-0.8621063071397919,-0.22578360584221235,\"\",-1.1188545401502858,-3.7907235664118843,-0.01662122386443876,\"\",-0.9652745274581842,-0.6962645592786564,-2.7818098177820785,-0.6259855376406736,-0.9818209455138837,-0.12016712679886965,\"\",-0.018713308493549352,\"\",\"\",\"\",-2.784418750893514,\"\",-3.8941746779087865,\"\",\"\",\"\",\"\",\"\",-1.6262066131757191,-3.367854818452358,\"\",-0.6782882153932884,\"\",-1.299306036228866],\"yaxis\":\"y2\"}],                        {\"hovermode\":\"x\",\"legend\":{\"bgcolor\":\"#F5F6F9\",\"font\":{\"color\":\"#4D5663\"}},\"paper_bgcolor\":\"#F5F6F9\",\"plot_bgcolor\":\"#F5F6F9\",\"template\":{\"data\":{\"bar\":[{\"error_x\":{\"color\":\"#2a3f5f\"},\"error_y\":{\"color\":\"#2a3f5f\"},\"marker\":{\"line\":{\"color\":\"#E5ECF6\",\"width\":0.5},\"pattern\":{\"fillmode\":\"overlay\",\"size\":10,\"solidity\":0.2}},\"type\":\"bar\"}],\"barpolar\":[{\"marker\":{\"line\":{\"color\":\"#E5ECF6\",\"width\":0.5},\"pattern\":{\"fillmode\":\"overlay\",\"size\":10,\"solidity\":0.2}},\"type\":\"barpolar\"}],\"carpet\":[{\"aaxis\":{\"endlinecolor\":\"#2a3f5f\",\"gridcolor\":\"white\",\"linecolor\":\"white\",\"minorgridcolor\":\"white\",\"startlinecolor\":\"#2a3f5f\"},\"baxis\":{\"endlinecolor\":\"#2a3f5f\",\"gridcolor\":\"white\",\"linecolor\":\"white\",\"minorgridcolor\":\"white\",\"startlinecolor\":\"#2a3f5f\"},\"type\":\"carpet\"}],\"choropleth\":[{\"colorbar\":{\"outlinewidth\":0,\"ticks\":\"\"},\"type\":\"choropleth\"}],\"contour\":[{\"colorbar\":{\"outlinewidth\":0,\"ticks\":\"\"},\"colorscale\":[[0.0,\"#0d0887\"],[0.1111111111111111,\"#46039f\"],[0.2222222222222222,\"#7201a8\"],[0.3333333333333333,\"#9c179e\"],[0.4444444444444444,\"#bd3786\"],[0.5555555555555556,\"#d8576b\"],[0.6666666666666666,\"#ed7953\"],[0.7777777777777778,\"#fb9f3a\"],[0.8888888888888888,\"#fdca26\"],[1.0,\"#f0f921\"]],\"type\":\"contour\"}],\"contourcarpet\":[{\"colorbar\":{\"outlinewidth\":0,\"ticks\":\"\"},\"type\":\"contourcarpet\"}],\"heatmap\":[{\"colorbar\":{\"outlinewidth\":0,\"ticks\":\"\"},\"colorscale\":[[0.0,\"#0d0887\"],[0.1111111111111111,\"#46039f\"],[0.2222222222222222,\"#7201a8\"],[0.3333333333333333,\"#9c179e\"],[0.4444444444444444,\"#bd3786\"],[0.5555555555555556,\"#d8576b\"],[0.6666666666666666,\"#ed7953\"],[0.7777777777777778,\"#fb9f3a\"],[0.8888888888888888,\"#fdca26\"],[1.0,\"#f0f921\"]],\"type\":\"heatmap\"}],\"heatmapgl\":[{\"colorbar\":{\"outlinewidth\":0,\"ticks\":\"\"},\"colorscale\":[[0.0,\"#0d0887\"],[0.1111111111111111,\"#46039f\"],[0.2222222222222222,\"#7201a8\"],[0.3333333333333333,\"#9c179e\"],[0.4444444444444444,\"#bd3786\"],[0.5555555555555556,\"#d8576b\"],[0.6666666666666666,\"#ed7953\"],[0.7777777777777778,\"#fb9f3a\"],[0.8888888888888888,\"#fdca26\"],[1.0,\"#f0f921\"]],\"type\":\"heatmapgl\"}],\"histogram\":[{\"marker\":{\"pattern\":{\"fillmode\":\"overlay\",\"size\":10,\"solidity\":0.2}},\"type\":\"histogram\"}],\"histogram2d\":[{\"colorbar\":{\"outlinewidth\":0,\"ticks\":\"\"},\"colorscale\":[[0.0,\"#0d0887\"],[0.1111111111111111,\"#46039f\"],[0.2222222222222222,\"#7201a8\"],[0.3333333333333333,\"#9c179e\"],[0.4444444444444444,\"#bd3786\"],[0.5555555555555556,\"#d8576b\"],[0.6666666666666666,\"#ed7953\"],[0.7777777777777778,\"#fb9f3a\"],[0.8888888888888888,\"#fdca26\"],[1.0,\"#f0f921\"]],\"type\":\"histogram2d\"}],\"histogram2dcontour\":[{\"colorbar\":{\"outlinewidth\":0,\"ticks\":\"\"},\"colorscale\":[[0.0,\"#0d0887\"],[0.1111111111111111,\"#46039f\"],[0.2222222222222222,\"#7201a8\"],[0.3333333333333333,\"#9c179e\"],[0.4444444444444444,\"#bd3786\"],[0.5555555555555556,\"#d8576b\"],[0.6666666666666666,\"#ed7953\"],[0.7777777777777778,\"#fb9f3a\"],[0.8888888888888888,\"#fdca26\"],[1.0,\"#f0f921\"]],\"type\":\"histogram2dcontour\"}],\"mesh3d\":[{\"colorbar\":{\"outlinewidth\":0,\"ticks\":\"\"},\"type\":\"mesh3d\"}],\"parcoords\":[{\"line\":{\"colorbar\":{\"outlinewidth\":0,\"ticks\":\"\"}},\"type\":\"parcoords\"}],\"pie\":[{\"automargin\":true,\"type\":\"pie\"}],\"scatter\":[{\"marker\":{\"colorbar\":{\"outlinewidth\":0,\"ticks\":\"\"}},\"type\":\"scatter\"}],\"scatter3d\":[{\"line\":{\"colorbar\":{\"outlinewidth\":0,\"ticks\":\"\"}},\"marker\":{\"colorbar\":{\"outlinewidth\":0,\"ticks\":\"\"}},\"type\":\"scatter3d\"}],\"scattercarpet\":[{\"marker\":{\"colorbar\":{\"outlinewidth\":0,\"ticks\":\"\"}},\"type\":\"scattercarpet\"}],\"scattergeo\":[{\"marker\":{\"colorbar\":{\"outlinewidth\":0,\"ticks\":\"\"}},\"type\":\"scattergeo\"}],\"scattergl\":[{\"marker\":{\"colorbar\":{\"outlinewidth\":0,\"ticks\":\"\"}},\"type\":\"scattergl\"}],\"scattermapbox\":[{\"marker\":{\"colorbar\":{\"outlinewidth\":0,\"ticks\":\"\"}},\"type\":\"scattermapbox\"}],\"scatterpolar\":[{\"marker\":{\"colorbar\":{\"outlinewidth\":0,\"ticks\":\"\"}},\"type\":\"scatterpolar\"}],\"scatterpolargl\":[{\"marker\":{\"colorbar\":{\"outlinewidth\":0,\"ticks\":\"\"}},\"type\":\"scatterpolargl\"}],\"scatterternary\":[{\"marker\":{\"colorbar\":{\"outlinewidth\":0,\"ticks\":\"\"}},\"type\":\"scatterternary\"}],\"surface\":[{\"colorbar\":{\"outlinewidth\":0,\"ticks\":\"\"},\"colorscale\":[[0.0,\"#0d0887\"],[0.1111111111111111,\"#46039f\"],[0.2222222222222222,\"#7201a8\"],[0.3333333333333333,\"#9c179e\"],[0.4444444444444444,\"#bd3786\"],[0.5555555555555556,\"#d8576b\"],[0.6666666666666666,\"#ed7953\"],[0.7777777777777778,\"#fb9f3a\"],[0.8888888888888888,\"#fdca26\"],[1.0,\"#f0f921\"]],\"type\":\"surface\"}],\"table\":[{\"cells\":{\"fill\":{\"color\":\"#EBF0F8\"},\"line\":{\"color\":\"white\"}},\"header\":{\"fill\":{\"color\":\"#C8D4E3\"},\"line\":{\"color\":\"white\"}},\"type\":\"table\"}]},\"layout\":{\"annotationdefaults\":{\"arrowcolor\":\"#2a3f5f\",\"arrowhead\":0,\"arrowwidth\":1},\"autotypenumbers\":\"strict\",\"coloraxis\":{\"colorbar\":{\"outlinewidth\":0,\"ticks\":\"\"}},\"colorscale\":{\"diverging\":[[0,\"#8e0152\"],[0.1,\"#c51b7d\"],[0.2,\"#de77ae\"],[0.3,\"#f1b6da\"],[0.4,\"#fde0ef\"],[0.5,\"#f7f7f7\"],[0.6,\"#e6f5d0\"],[0.7,\"#b8e186\"],[0.8,\"#7fbc41\"],[0.9,\"#4d9221\"],[1,\"#276419\"]],\"sequential\":[[0.0,\"#0d0887\"],[0.1111111111111111,\"#46039f\"],[0.2222222222222222,\"#7201a8\"],[0.3333333333333333,\"#9c179e\"],[0.4444444444444444,\"#bd3786\"],[0.5555555555555556,\"#d8576b\"],[0.6666666666666666,\"#ed7953\"],[0.7777777777777778,\"#fb9f3a\"],[0.8888888888888888,\"#fdca26\"],[1.0,\"#f0f921\"]],\"sequentialminus\":[[0.0,\"#0d0887\"],[0.1111111111111111,\"#46039f\"],[0.2222222222222222,\"#7201a8\"],[0.3333333333333333,\"#9c179e\"],[0.4444444444444444,\"#bd3786\"],[0.5555555555555556,\"#d8576b\"],[0.6666666666666666,\"#ed7953\"],[0.7777777777777778,\"#fb9f3a\"],[0.8888888888888888,\"#fdca26\"],[1.0,\"#f0f921\"]]},\"colorway\":[\"#636efa\",\"#EF553B\",\"#00cc96\",\"#ab63fa\",\"#FFA15A\",\"#19d3f3\",\"#FF6692\",\"#B6E880\",\"#FF97FF\",\"#FECB52\"],\"font\":{\"color\":\"#2a3f5f\"},\"geo\":{\"bgcolor\":\"white\",\"lakecolor\":\"white\",\"landcolor\":\"#E5ECF6\",\"showlakes\":true,\"showland\":true,\"subunitcolor\":\"white\"},\"hoverlabel\":{\"align\":\"left\"},\"hovermode\":\"closest\",\"mapbox\":{\"style\":\"light\"},\"paper_bgcolor\":\"white\",\"plot_bgcolor\":\"#E5ECF6\",\"polar\":{\"angularaxis\":{\"gridcolor\":\"white\",\"linecolor\":\"white\",\"ticks\":\"\"},\"bgcolor\":\"#E5ECF6\",\"radialaxis\":{\"gridcolor\":\"white\",\"linecolor\":\"white\",\"ticks\":\"\"}},\"scene\":{\"xaxis\":{\"backgroundcolor\":\"#E5ECF6\",\"gridcolor\":\"white\",\"gridwidth\":2,\"linecolor\":\"white\",\"showbackground\":true,\"ticks\":\"\",\"zerolinecolor\":\"white\"},\"yaxis\":{\"backgroundcolor\":\"#E5ECF6\",\"gridcolor\":\"white\",\"gridwidth\":2,\"linecolor\":\"white\",\"showbackground\":true,\"ticks\":\"\",\"zerolinecolor\":\"white\"},\"zaxis\":{\"backgroundcolor\":\"#E5ECF6\",\"gridcolor\":\"white\",\"gridwidth\":2,\"linecolor\":\"white\",\"showbackground\":true,\"ticks\":\"\",\"zerolinecolor\":\"white\"}},\"shapedefaults\":{\"line\":{\"color\":\"#2a3f5f\"}},\"ternary\":{\"aaxis\":{\"gridcolor\":\"white\",\"linecolor\":\"white\",\"ticks\":\"\"},\"baxis\":{\"gridcolor\":\"white\",\"linecolor\":\"white\",\"ticks\":\"\"},\"bgcolor\":\"#E5ECF6\",\"caxis\":{\"gridcolor\":\"white\",\"linecolor\":\"white\",\"ticks\":\"\"}},\"title\":{\"x\":0.05},\"xaxis\":{\"automargin\":true,\"gridcolor\":\"white\",\"linecolor\":\"white\",\"ticks\":\"\",\"title\":{\"standoff\":15},\"zerolinecolor\":\"white\",\"zerolinewidth\":2},\"yaxis\":{\"automargin\":true,\"gridcolor\":\"white\",\"linecolor\":\"white\",\"ticks\":\"\",\"title\":{\"standoff\":15},\"zerolinecolor\":\"white\",\"zerolinewidth\":2}}},\"title\":{\"font\":{\"color\":\"#4D5663\"}},\"xaxis\":{\"gridcolor\":\"#E1E5ED\",\"showgrid\":true,\"tickfont\":{\"color\":\"#4D5663\"},\"title\":{\"font\":{\"color\":\"#4D5663\"},\"text\":\"\"},\"zerolinecolor\":\"#E1E5ED\"},\"xaxis2\":{\"anchor\":\"y2\",\"gridcolor\":\"#E1E5ED\",\"showgrid\":true,\"showticklabels\":false,\"tickfont\":{\"color\":\"#4D5663\"},\"title\":{\"font\":{\"color\":\"#4D5663\"},\"text\":\"\"},\"zerolinecolor\":\"#E1E5ED\"},\"yaxis\":{\"domain\":[0.3,1],\"gridcolor\":\"#E1E5ED\",\"showgrid\":true,\"tickfont\":{\"color\":\"#4D5663\"},\"title\":{\"font\":{\"color\":\"#4D5663\"},\"text\":\"\"},\"zerolinecolor\":\"#E1E5ED\"},\"yaxis2\":{\"domain\":[0,0.25],\"gridcolor\":\"#E1E5ED\",\"showgrid\":true,\"tickfont\":{\"color\":\"#4D5663\"},\"title\":{\"font\":{\"color\":\"#4D5663\"},\"text\":\"Spread\"},\"zerolinecolor\":\"#E1E5ED\"}},                        {\"showLink\": true, \"linkText\": \"Export to plot.ly\", \"plotlyServerURL\": \"https://plot.ly\", \"responsive\": true}                    ).then(function(){\n",
       "                            \n",
       "var gd = document.getElementById('96529ad8-e6ae-4b24-9380-7d25a3af5e0b');\n",
       "var x = new MutationObserver(function (mutations, observer) {{\n",
       "        var display = window.getComputedStyle(gd).display;\n",
       "        if (!display || display === 'none') {{\n",
       "            console.log([gd, 'removed!']);\n",
       "            Plotly.purge(gd);\n",
       "            observer.disconnect();\n",
       "        }}\n",
       "}});\n",
       "\n",
       "// Listen for the removal of the full notebook cells\n",
       "var notebookContainer = gd.closest('#notebook-container');\n",
       "if (notebookContainer) {{\n",
       "    x.observe(notebookContainer, {childList: true});\n",
       "}}\n",
       "\n",
       "// Listen for the clearing of the current output cell\n",
       "var outputEl = gd.closest('.output');\n",
       "if (outputEl) {{\n",
       "    x.observe(outputEl, {childList: true});\n",
       "}}\n",
       "\n",
       "                        })                };                });            </script>        </div>"
      ]
     },
     "metadata": {},
     "output_type": "display_data"
    }
   ],
   "source": [
    "df[['A','B']].iplot(kind='spread')"
   ]
  },
  {
   "cell_type": "markdown",
   "metadata": {},
   "source": [
    "## histogram"
   ]
  },
  {
   "cell_type": "code",
   "execution_count": 17,
   "metadata": {},
   "outputs": [
    {
     "data": {
      "application/vnd.plotly.v1+json": {
       "config": {
        "linkText": "Export to plot.ly",
        "plotlyServerURL": "https://plot.ly",
        "showLink": true
       },
       "data": [
        {
         "histfunc": "count",
         "histnorm": "",
         "marker": {
          "color": "rgba(255, 153, 51, 1.0)",
          "line": {
           "color": "#4D5663",
           "width": 1.3
          }
         },
         "name": "A",
         "nbinsx": 25,
         "opacity": 0.8,
         "orientation": "v",
         "type": "histogram",
         "x": [
          0.027241215754599653,
          0.461466942154424,
          0.3737578251714141,
          -1.4560336370431364,
          0.05734000875052292,
          -0.6934160050389406,
          -0.12917756125043053,
          0.5419506235849016,
          -1.1012631192337687,
          0.24570141978914636,
          0.01087999684740408,
          0.8100012366208713,
          -0.7030304225159633,
          -0.5946926572342286,
          -0.44511995840997504,
          0.23427398696523208,
          0.4160578404859543,
          -3.2493969232153423,
          -0.4734991876936832,
          -0.07570748157761908,
          0.3528977639604107,
          -0.21581152640941356,
          0.13976768152913263,
          0.9467098790676365,
          -0.23273491103119384,
          0.0389850989077991,
          -0.22939906198068014,
          0.8637838686080933,
          -1.1369014503927326,
          0.7526257977466814,
          0.41974541451444486,
          -0.29463973256237136,
          -2.176829559215304,
          -1.5302922998315613,
          0.35842273997828183,
          1.7264403465548985,
          -0.3653450892096323,
          -0.31695509980092507,
          -1.0558192787782297,
          -1.304349636163735,
          2.257323133922572,
          -0.10041675052728624,
          -2.24397916062139,
          -0.5589838760811628,
          -1.20295960227409,
          0.0026320539461168204,
          -0.2865627041840873,
          0.541803777541615,
          0.6300582728619144,
          -2.5053795527591367,
          -0.46316045798202704,
          -1.8274300715054332,
          -0.5586514125300802,
          0.3189194724183755,
          -1.685811925308102,
          -0.8428118098322996,
          0.80016486621426,
          0.5459717323447757,
          0.8643649166999295,
          -0.5740222161144256,
          -0.7179033509334194,
          -2.5019769582607734,
          -0.03892926260196354,
          -0.5500802354222613,
          1.2596761814939812,
          0.7347475008736277,
          -0.48819951705315184,
          -0.7205060770260235,
          -0.38233687263659966,
          0.4165865401847979,
          0.08270946347414312,
          0.04582443872299958,
          -2.839154713525733,
          1.4345342033741435,
          0.2590541572647937,
          -0.7046726386164505,
          -0.9473258446696663,
          -0.6517931146311408,
          1.0110736188093266,
          -0.5833457105696599,
          0.8982890815734496,
          0.5013034542613344,
          2.464532736067224,
          1.2612335926418747,
          0.536455461831126,
          1.934995588665759,
          -2.5219462688804963,
          0.628745198471256,
          -2.4809074077695996,
          1.6053651644968228,
          -0.2464413181810761,
          -1.4132000544481975,
          0.1868646453584373,
          0.7744526830342858,
          -0.7831732804063224,
          -2.2172665385010206,
          0.6368751852482623,
          0.11593761473734172,
          0.6190387568185067,
          -1.2760951982159945
         ]
        }
       ],
       "layout": {
        "barmode": "overlay",
        "legend": {
         "bgcolor": "#F5F6F9",
         "font": {
          "color": "#4D5663"
         }
        },
        "paper_bgcolor": "#F5F6F9",
        "plot_bgcolor": "#F5F6F9",
        "template": {
         "data": {
          "bar": [
           {
            "error_x": {
             "color": "#2a3f5f"
            },
            "error_y": {
             "color": "#2a3f5f"
            },
            "marker": {
             "line": {
              "color": "#E5ECF6",
              "width": 0.5
             },
             "pattern": {
              "fillmode": "overlay",
              "size": 10,
              "solidity": 0.2
             }
            },
            "type": "bar"
           }
          ],
          "barpolar": [
           {
            "marker": {
             "line": {
              "color": "#E5ECF6",
              "width": 0.5
             },
             "pattern": {
              "fillmode": "overlay",
              "size": 10,
              "solidity": 0.2
             }
            },
            "type": "barpolar"
           }
          ],
          "carpet": [
           {
            "aaxis": {
             "endlinecolor": "#2a3f5f",
             "gridcolor": "white",
             "linecolor": "white",
             "minorgridcolor": "white",
             "startlinecolor": "#2a3f5f"
            },
            "baxis": {
             "endlinecolor": "#2a3f5f",
             "gridcolor": "white",
             "linecolor": "white",
             "minorgridcolor": "white",
             "startlinecolor": "#2a3f5f"
            },
            "type": "carpet"
           }
          ],
          "choropleth": [
           {
            "colorbar": {
             "outlinewidth": 0,
             "ticks": ""
            },
            "type": "choropleth"
           }
          ],
          "contour": [
           {
            "colorbar": {
             "outlinewidth": 0,
             "ticks": ""
            },
            "colorscale": [
             [
              0,
              "#0d0887"
             ],
             [
              0.1111111111111111,
              "#46039f"
             ],
             [
              0.2222222222222222,
              "#7201a8"
             ],
             [
              0.3333333333333333,
              "#9c179e"
             ],
             [
              0.4444444444444444,
              "#bd3786"
             ],
             [
              0.5555555555555556,
              "#d8576b"
             ],
             [
              0.6666666666666666,
              "#ed7953"
             ],
             [
              0.7777777777777778,
              "#fb9f3a"
             ],
             [
              0.8888888888888888,
              "#fdca26"
             ],
             [
              1,
              "#f0f921"
             ]
            ],
            "type": "contour"
           }
          ],
          "contourcarpet": [
           {
            "colorbar": {
             "outlinewidth": 0,
             "ticks": ""
            },
            "type": "contourcarpet"
           }
          ],
          "heatmap": [
           {
            "colorbar": {
             "outlinewidth": 0,
             "ticks": ""
            },
            "colorscale": [
             [
              0,
              "#0d0887"
             ],
             [
              0.1111111111111111,
              "#46039f"
             ],
             [
              0.2222222222222222,
              "#7201a8"
             ],
             [
              0.3333333333333333,
              "#9c179e"
             ],
             [
              0.4444444444444444,
              "#bd3786"
             ],
             [
              0.5555555555555556,
              "#d8576b"
             ],
             [
              0.6666666666666666,
              "#ed7953"
             ],
             [
              0.7777777777777778,
              "#fb9f3a"
             ],
             [
              0.8888888888888888,
              "#fdca26"
             ],
             [
              1,
              "#f0f921"
             ]
            ],
            "type": "heatmap"
           }
          ],
          "heatmapgl": [
           {
            "colorbar": {
             "outlinewidth": 0,
             "ticks": ""
            },
            "colorscale": [
             [
              0,
              "#0d0887"
             ],
             [
              0.1111111111111111,
              "#46039f"
             ],
             [
              0.2222222222222222,
              "#7201a8"
             ],
             [
              0.3333333333333333,
              "#9c179e"
             ],
             [
              0.4444444444444444,
              "#bd3786"
             ],
             [
              0.5555555555555556,
              "#d8576b"
             ],
             [
              0.6666666666666666,
              "#ed7953"
             ],
             [
              0.7777777777777778,
              "#fb9f3a"
             ],
             [
              0.8888888888888888,
              "#fdca26"
             ],
             [
              1,
              "#f0f921"
             ]
            ],
            "type": "heatmapgl"
           }
          ],
          "histogram": [
           {
            "marker": {
             "pattern": {
              "fillmode": "overlay",
              "size": 10,
              "solidity": 0.2
             }
            },
            "type": "histogram"
           }
          ],
          "histogram2d": [
           {
            "colorbar": {
             "outlinewidth": 0,
             "ticks": ""
            },
            "colorscale": [
             [
              0,
              "#0d0887"
             ],
             [
              0.1111111111111111,
              "#46039f"
             ],
             [
              0.2222222222222222,
              "#7201a8"
             ],
             [
              0.3333333333333333,
              "#9c179e"
             ],
             [
              0.4444444444444444,
              "#bd3786"
             ],
             [
              0.5555555555555556,
              "#d8576b"
             ],
             [
              0.6666666666666666,
              "#ed7953"
             ],
             [
              0.7777777777777778,
              "#fb9f3a"
             ],
             [
              0.8888888888888888,
              "#fdca26"
             ],
             [
              1,
              "#f0f921"
             ]
            ],
            "type": "histogram2d"
           }
          ],
          "histogram2dcontour": [
           {
            "colorbar": {
             "outlinewidth": 0,
             "ticks": ""
            },
            "colorscale": [
             [
              0,
              "#0d0887"
             ],
             [
              0.1111111111111111,
              "#46039f"
             ],
             [
              0.2222222222222222,
              "#7201a8"
             ],
             [
              0.3333333333333333,
              "#9c179e"
             ],
             [
              0.4444444444444444,
              "#bd3786"
             ],
             [
              0.5555555555555556,
              "#d8576b"
             ],
             [
              0.6666666666666666,
              "#ed7953"
             ],
             [
              0.7777777777777778,
              "#fb9f3a"
             ],
             [
              0.8888888888888888,
              "#fdca26"
             ],
             [
              1,
              "#f0f921"
             ]
            ],
            "type": "histogram2dcontour"
           }
          ],
          "mesh3d": [
           {
            "colorbar": {
             "outlinewidth": 0,
             "ticks": ""
            },
            "type": "mesh3d"
           }
          ],
          "parcoords": [
           {
            "line": {
             "colorbar": {
              "outlinewidth": 0,
              "ticks": ""
             }
            },
            "type": "parcoords"
           }
          ],
          "pie": [
           {
            "automargin": true,
            "type": "pie"
           }
          ],
          "scatter": [
           {
            "marker": {
             "colorbar": {
              "outlinewidth": 0,
              "ticks": ""
             }
            },
            "type": "scatter"
           }
          ],
          "scatter3d": [
           {
            "line": {
             "colorbar": {
              "outlinewidth": 0,
              "ticks": ""
             }
            },
            "marker": {
             "colorbar": {
              "outlinewidth": 0,
              "ticks": ""
             }
            },
            "type": "scatter3d"
           }
          ],
          "scattercarpet": [
           {
            "marker": {
             "colorbar": {
              "outlinewidth": 0,
              "ticks": ""
             }
            },
            "type": "scattercarpet"
           }
          ],
          "scattergeo": [
           {
            "marker": {
             "colorbar": {
              "outlinewidth": 0,
              "ticks": ""
             }
            },
            "type": "scattergeo"
           }
          ],
          "scattergl": [
           {
            "marker": {
             "colorbar": {
              "outlinewidth": 0,
              "ticks": ""
             }
            },
            "type": "scattergl"
           }
          ],
          "scattermapbox": [
           {
            "marker": {
             "colorbar": {
              "outlinewidth": 0,
              "ticks": ""
             }
            },
            "type": "scattermapbox"
           }
          ],
          "scatterpolar": [
           {
            "marker": {
             "colorbar": {
              "outlinewidth": 0,
              "ticks": ""
             }
            },
            "type": "scatterpolar"
           }
          ],
          "scatterpolargl": [
           {
            "marker": {
             "colorbar": {
              "outlinewidth": 0,
              "ticks": ""
             }
            },
            "type": "scatterpolargl"
           }
          ],
          "scatterternary": [
           {
            "marker": {
             "colorbar": {
              "outlinewidth": 0,
              "ticks": ""
             }
            },
            "type": "scatterternary"
           }
          ],
          "surface": [
           {
            "colorbar": {
             "outlinewidth": 0,
             "ticks": ""
            },
            "colorscale": [
             [
              0,
              "#0d0887"
             ],
             [
              0.1111111111111111,
              "#46039f"
             ],
             [
              0.2222222222222222,
              "#7201a8"
             ],
             [
              0.3333333333333333,
              "#9c179e"
             ],
             [
              0.4444444444444444,
              "#bd3786"
             ],
             [
              0.5555555555555556,
              "#d8576b"
             ],
             [
              0.6666666666666666,
              "#ed7953"
             ],
             [
              0.7777777777777778,
              "#fb9f3a"
             ],
             [
              0.8888888888888888,
              "#fdca26"
             ],
             [
              1,
              "#f0f921"
             ]
            ],
            "type": "surface"
           }
          ],
          "table": [
           {
            "cells": {
             "fill": {
              "color": "#EBF0F8"
             },
             "line": {
              "color": "white"
             }
            },
            "header": {
             "fill": {
              "color": "#C8D4E3"
             },
             "line": {
              "color": "white"
             }
            },
            "type": "table"
           }
          ]
         },
         "layout": {
          "annotationdefaults": {
           "arrowcolor": "#2a3f5f",
           "arrowhead": 0,
           "arrowwidth": 1
          },
          "autotypenumbers": "strict",
          "coloraxis": {
           "colorbar": {
            "outlinewidth": 0,
            "ticks": ""
           }
          },
          "colorscale": {
           "diverging": [
            [
             0,
             "#8e0152"
            ],
            [
             0.1,
             "#c51b7d"
            ],
            [
             0.2,
             "#de77ae"
            ],
            [
             0.3,
             "#f1b6da"
            ],
            [
             0.4,
             "#fde0ef"
            ],
            [
             0.5,
             "#f7f7f7"
            ],
            [
             0.6,
             "#e6f5d0"
            ],
            [
             0.7,
             "#b8e186"
            ],
            [
             0.8,
             "#7fbc41"
            ],
            [
             0.9,
             "#4d9221"
            ],
            [
             1,
             "#276419"
            ]
           ],
           "sequential": [
            [
             0,
             "#0d0887"
            ],
            [
             0.1111111111111111,
             "#46039f"
            ],
            [
             0.2222222222222222,
             "#7201a8"
            ],
            [
             0.3333333333333333,
             "#9c179e"
            ],
            [
             0.4444444444444444,
             "#bd3786"
            ],
            [
             0.5555555555555556,
             "#d8576b"
            ],
            [
             0.6666666666666666,
             "#ed7953"
            ],
            [
             0.7777777777777778,
             "#fb9f3a"
            ],
            [
             0.8888888888888888,
             "#fdca26"
            ],
            [
             1,
             "#f0f921"
            ]
           ],
           "sequentialminus": [
            [
             0,
             "#0d0887"
            ],
            [
             0.1111111111111111,
             "#46039f"
            ],
            [
             0.2222222222222222,
             "#7201a8"
            ],
            [
             0.3333333333333333,
             "#9c179e"
            ],
            [
             0.4444444444444444,
             "#bd3786"
            ],
            [
             0.5555555555555556,
             "#d8576b"
            ],
            [
             0.6666666666666666,
             "#ed7953"
            ],
            [
             0.7777777777777778,
             "#fb9f3a"
            ],
            [
             0.8888888888888888,
             "#fdca26"
            ],
            [
             1,
             "#f0f921"
            ]
           ]
          },
          "colorway": [
           "#636efa",
           "#EF553B",
           "#00cc96",
           "#ab63fa",
           "#FFA15A",
           "#19d3f3",
           "#FF6692",
           "#B6E880",
           "#FF97FF",
           "#FECB52"
          ],
          "font": {
           "color": "#2a3f5f"
          },
          "geo": {
           "bgcolor": "white",
           "lakecolor": "white",
           "landcolor": "#E5ECF6",
           "showlakes": true,
           "showland": true,
           "subunitcolor": "white"
          },
          "hoverlabel": {
           "align": "left"
          },
          "hovermode": "closest",
          "mapbox": {
           "style": "light"
          },
          "paper_bgcolor": "white",
          "plot_bgcolor": "#E5ECF6",
          "polar": {
           "angularaxis": {
            "gridcolor": "white",
            "linecolor": "white",
            "ticks": ""
           },
           "bgcolor": "#E5ECF6",
           "radialaxis": {
            "gridcolor": "white",
            "linecolor": "white",
            "ticks": ""
           }
          },
          "scene": {
           "xaxis": {
            "backgroundcolor": "#E5ECF6",
            "gridcolor": "white",
            "gridwidth": 2,
            "linecolor": "white",
            "showbackground": true,
            "ticks": "",
            "zerolinecolor": "white"
           },
           "yaxis": {
            "backgroundcolor": "#E5ECF6",
            "gridcolor": "white",
            "gridwidth": 2,
            "linecolor": "white",
            "showbackground": true,
            "ticks": "",
            "zerolinecolor": "white"
           },
           "zaxis": {
            "backgroundcolor": "#E5ECF6",
            "gridcolor": "white",
            "gridwidth": 2,
            "linecolor": "white",
            "showbackground": true,
            "ticks": "",
            "zerolinecolor": "white"
           }
          },
          "shapedefaults": {
           "line": {
            "color": "#2a3f5f"
           }
          },
          "ternary": {
           "aaxis": {
            "gridcolor": "white",
            "linecolor": "white",
            "ticks": ""
           },
           "baxis": {
            "gridcolor": "white",
            "linecolor": "white",
            "ticks": ""
           },
           "bgcolor": "#E5ECF6",
           "caxis": {
            "gridcolor": "white",
            "linecolor": "white",
            "ticks": ""
           }
          },
          "title": {
           "x": 0.05
          },
          "xaxis": {
           "automargin": true,
           "gridcolor": "white",
           "linecolor": "white",
           "ticks": "",
           "title": {
            "standoff": 15
           },
           "zerolinecolor": "white",
           "zerolinewidth": 2
          },
          "yaxis": {
           "automargin": true,
           "gridcolor": "white",
           "linecolor": "white",
           "ticks": "",
           "title": {
            "standoff": 15
           },
           "zerolinecolor": "white",
           "zerolinewidth": 2
          }
         }
        },
        "title": {
         "font": {
          "color": "#4D5663"
         }
        },
        "xaxis": {
         "gridcolor": "#E1E5ED",
         "showgrid": true,
         "tickfont": {
          "color": "#4D5663"
         },
         "title": {
          "font": {
           "color": "#4D5663"
          },
          "text": ""
         },
         "zerolinecolor": "#E1E5ED"
        },
        "yaxis": {
         "gridcolor": "#E1E5ED",
         "showgrid": true,
         "tickfont": {
          "color": "#4D5663"
         },
         "title": {
          "font": {
           "color": "#4D5663"
          },
          "text": ""
         },
         "zerolinecolor": "#E1E5ED"
        }
       }
      },
      "text/html": [
       "<div>                            <div id=\"12747f3d-738f-414e-b9f6-decda92d6108\" class=\"plotly-graph-div\" style=\"height:525px; width:100%;\"></div>            <script type=\"text/javascript\">                require([\"plotly\"], function(Plotly) {                    window.PLOTLYENV=window.PLOTLYENV || {};\n",
       "                    window.PLOTLYENV.BASE_URL='https://plot.ly';                                    if (document.getElementById(\"12747f3d-738f-414e-b9f6-decda92d6108\")) {                    Plotly.newPlot(                        \"12747f3d-738f-414e-b9f6-decda92d6108\",                        [{\"histfunc\":\"count\",\"histnorm\":\"\",\"marker\":{\"color\":\"rgba(255, 153, 51, 1.0)\",\"line\":{\"color\":\"#4D5663\",\"width\":1.3}},\"name\":\"A\",\"nbinsx\":25,\"opacity\":0.8,\"orientation\":\"v\",\"type\":\"histogram\",\"x\":[0.027241215754599653,0.461466942154424,0.3737578251714141,-1.4560336370431364,0.05734000875052292,-0.6934160050389406,-0.12917756125043053,0.5419506235849016,-1.1012631192337687,0.24570141978914636,0.01087999684740408,0.8100012366208713,-0.7030304225159633,-0.5946926572342286,-0.44511995840997504,0.23427398696523208,0.4160578404859543,-3.2493969232153423,-0.4734991876936832,-0.07570748157761908,0.3528977639604107,-0.21581152640941356,0.13976768152913263,0.9467098790676365,-0.23273491103119384,0.0389850989077991,-0.22939906198068014,0.8637838686080933,-1.1369014503927326,0.7526257977466814,0.41974541451444486,-0.29463973256237136,-2.176829559215304,-1.5302922998315613,0.35842273997828183,1.7264403465548985,-0.3653450892096323,-0.31695509980092507,-1.0558192787782297,-1.304349636163735,2.257323133922572,-0.10041675052728624,-2.24397916062139,-0.5589838760811628,-1.20295960227409,0.0026320539461168204,-0.2865627041840873,0.541803777541615,0.6300582728619144,-2.5053795527591367,-0.46316045798202704,-1.8274300715054332,-0.5586514125300802,0.3189194724183755,-1.685811925308102,-0.8428118098322996,0.80016486621426,0.5459717323447757,0.8643649166999295,-0.5740222161144256,-0.7179033509334194,-2.5019769582607734,-0.03892926260196354,-0.5500802354222613,1.2596761814939812,0.7347475008736277,-0.48819951705315184,-0.7205060770260235,-0.38233687263659966,0.4165865401847979,0.08270946347414312,0.04582443872299958,-2.839154713525733,1.4345342033741435,0.2590541572647937,-0.7046726386164505,-0.9473258446696663,-0.6517931146311408,1.0110736188093266,-0.5833457105696599,0.8982890815734496,0.5013034542613344,2.464532736067224,1.2612335926418747,0.536455461831126,1.934995588665759,-2.5219462688804963,0.628745198471256,-2.4809074077695996,1.6053651644968228,-0.2464413181810761,-1.4132000544481975,0.1868646453584373,0.7744526830342858,-0.7831732804063224,-2.2172665385010206,0.6368751852482623,0.11593761473734172,0.6190387568185067,-1.2760951982159945]}],                        {\"barmode\":\"overlay\",\"legend\":{\"bgcolor\":\"#F5F6F9\",\"font\":{\"color\":\"#4D5663\"}},\"paper_bgcolor\":\"#F5F6F9\",\"plot_bgcolor\":\"#F5F6F9\",\"template\":{\"data\":{\"bar\":[{\"error_x\":{\"color\":\"#2a3f5f\"},\"error_y\":{\"color\":\"#2a3f5f\"},\"marker\":{\"line\":{\"color\":\"#E5ECF6\",\"width\":0.5},\"pattern\":{\"fillmode\":\"overlay\",\"size\":10,\"solidity\":0.2}},\"type\":\"bar\"}],\"barpolar\":[{\"marker\":{\"line\":{\"color\":\"#E5ECF6\",\"width\":0.5},\"pattern\":{\"fillmode\":\"overlay\",\"size\":10,\"solidity\":0.2}},\"type\":\"barpolar\"}],\"carpet\":[{\"aaxis\":{\"endlinecolor\":\"#2a3f5f\",\"gridcolor\":\"white\",\"linecolor\":\"white\",\"minorgridcolor\":\"white\",\"startlinecolor\":\"#2a3f5f\"},\"baxis\":{\"endlinecolor\":\"#2a3f5f\",\"gridcolor\":\"white\",\"linecolor\":\"white\",\"minorgridcolor\":\"white\",\"startlinecolor\":\"#2a3f5f\"},\"type\":\"carpet\"}],\"choropleth\":[{\"colorbar\":{\"outlinewidth\":0,\"ticks\":\"\"},\"type\":\"choropleth\"}],\"contour\":[{\"colorbar\":{\"outlinewidth\":0,\"ticks\":\"\"},\"colorscale\":[[0.0,\"#0d0887\"],[0.1111111111111111,\"#46039f\"],[0.2222222222222222,\"#7201a8\"],[0.3333333333333333,\"#9c179e\"],[0.4444444444444444,\"#bd3786\"],[0.5555555555555556,\"#d8576b\"],[0.6666666666666666,\"#ed7953\"],[0.7777777777777778,\"#fb9f3a\"],[0.8888888888888888,\"#fdca26\"],[1.0,\"#f0f921\"]],\"type\":\"contour\"}],\"contourcarpet\":[{\"colorbar\":{\"outlinewidth\":0,\"ticks\":\"\"},\"type\":\"contourcarpet\"}],\"heatmap\":[{\"colorbar\":{\"outlinewidth\":0,\"ticks\":\"\"},\"colorscale\":[[0.0,\"#0d0887\"],[0.1111111111111111,\"#46039f\"],[0.2222222222222222,\"#7201a8\"],[0.3333333333333333,\"#9c179e\"],[0.4444444444444444,\"#bd3786\"],[0.5555555555555556,\"#d8576b\"],[0.6666666666666666,\"#ed7953\"],[0.7777777777777778,\"#fb9f3a\"],[0.8888888888888888,\"#fdca26\"],[1.0,\"#f0f921\"]],\"type\":\"heatmap\"}],\"heatmapgl\":[{\"colorbar\":{\"outlinewidth\":0,\"ticks\":\"\"},\"colorscale\":[[0.0,\"#0d0887\"],[0.1111111111111111,\"#46039f\"],[0.2222222222222222,\"#7201a8\"],[0.3333333333333333,\"#9c179e\"],[0.4444444444444444,\"#bd3786\"],[0.5555555555555556,\"#d8576b\"],[0.6666666666666666,\"#ed7953\"],[0.7777777777777778,\"#fb9f3a\"],[0.8888888888888888,\"#fdca26\"],[1.0,\"#f0f921\"]],\"type\":\"heatmapgl\"}],\"histogram\":[{\"marker\":{\"pattern\":{\"fillmode\":\"overlay\",\"size\":10,\"solidity\":0.2}},\"type\":\"histogram\"}],\"histogram2d\":[{\"colorbar\":{\"outlinewidth\":0,\"ticks\":\"\"},\"colorscale\":[[0.0,\"#0d0887\"],[0.1111111111111111,\"#46039f\"],[0.2222222222222222,\"#7201a8\"],[0.3333333333333333,\"#9c179e\"],[0.4444444444444444,\"#bd3786\"],[0.5555555555555556,\"#d8576b\"],[0.6666666666666666,\"#ed7953\"],[0.7777777777777778,\"#fb9f3a\"],[0.8888888888888888,\"#fdca26\"],[1.0,\"#f0f921\"]],\"type\":\"histogram2d\"}],\"histogram2dcontour\":[{\"colorbar\":{\"outlinewidth\":0,\"ticks\":\"\"},\"colorscale\":[[0.0,\"#0d0887\"],[0.1111111111111111,\"#46039f\"],[0.2222222222222222,\"#7201a8\"],[0.3333333333333333,\"#9c179e\"],[0.4444444444444444,\"#bd3786\"],[0.5555555555555556,\"#d8576b\"],[0.6666666666666666,\"#ed7953\"],[0.7777777777777778,\"#fb9f3a\"],[0.8888888888888888,\"#fdca26\"],[1.0,\"#f0f921\"]],\"type\":\"histogram2dcontour\"}],\"mesh3d\":[{\"colorbar\":{\"outlinewidth\":0,\"ticks\":\"\"},\"type\":\"mesh3d\"}],\"parcoords\":[{\"line\":{\"colorbar\":{\"outlinewidth\":0,\"ticks\":\"\"}},\"type\":\"parcoords\"}],\"pie\":[{\"automargin\":true,\"type\":\"pie\"}],\"scatter\":[{\"marker\":{\"colorbar\":{\"outlinewidth\":0,\"ticks\":\"\"}},\"type\":\"scatter\"}],\"scatter3d\":[{\"line\":{\"colorbar\":{\"outlinewidth\":0,\"ticks\":\"\"}},\"marker\":{\"colorbar\":{\"outlinewidth\":0,\"ticks\":\"\"}},\"type\":\"scatter3d\"}],\"scattercarpet\":[{\"marker\":{\"colorbar\":{\"outlinewidth\":0,\"ticks\":\"\"}},\"type\":\"scattercarpet\"}],\"scattergeo\":[{\"marker\":{\"colorbar\":{\"outlinewidth\":0,\"ticks\":\"\"}},\"type\":\"scattergeo\"}],\"scattergl\":[{\"marker\":{\"colorbar\":{\"outlinewidth\":0,\"ticks\":\"\"}},\"type\":\"scattergl\"}],\"scattermapbox\":[{\"marker\":{\"colorbar\":{\"outlinewidth\":0,\"ticks\":\"\"}},\"type\":\"scattermapbox\"}],\"scatterpolar\":[{\"marker\":{\"colorbar\":{\"outlinewidth\":0,\"ticks\":\"\"}},\"type\":\"scatterpolar\"}],\"scatterpolargl\":[{\"marker\":{\"colorbar\":{\"outlinewidth\":0,\"ticks\":\"\"}},\"type\":\"scatterpolargl\"}],\"scatterternary\":[{\"marker\":{\"colorbar\":{\"outlinewidth\":0,\"ticks\":\"\"}},\"type\":\"scatterternary\"}],\"surface\":[{\"colorbar\":{\"outlinewidth\":0,\"ticks\":\"\"},\"colorscale\":[[0.0,\"#0d0887\"],[0.1111111111111111,\"#46039f\"],[0.2222222222222222,\"#7201a8\"],[0.3333333333333333,\"#9c179e\"],[0.4444444444444444,\"#bd3786\"],[0.5555555555555556,\"#d8576b\"],[0.6666666666666666,\"#ed7953\"],[0.7777777777777778,\"#fb9f3a\"],[0.8888888888888888,\"#fdca26\"],[1.0,\"#f0f921\"]],\"type\":\"surface\"}],\"table\":[{\"cells\":{\"fill\":{\"color\":\"#EBF0F8\"},\"line\":{\"color\":\"white\"}},\"header\":{\"fill\":{\"color\":\"#C8D4E3\"},\"line\":{\"color\":\"white\"}},\"type\":\"table\"}]},\"layout\":{\"annotationdefaults\":{\"arrowcolor\":\"#2a3f5f\",\"arrowhead\":0,\"arrowwidth\":1},\"autotypenumbers\":\"strict\",\"coloraxis\":{\"colorbar\":{\"outlinewidth\":0,\"ticks\":\"\"}},\"colorscale\":{\"diverging\":[[0,\"#8e0152\"],[0.1,\"#c51b7d\"],[0.2,\"#de77ae\"],[0.3,\"#f1b6da\"],[0.4,\"#fde0ef\"],[0.5,\"#f7f7f7\"],[0.6,\"#e6f5d0\"],[0.7,\"#b8e186\"],[0.8,\"#7fbc41\"],[0.9,\"#4d9221\"],[1,\"#276419\"]],\"sequential\":[[0.0,\"#0d0887\"],[0.1111111111111111,\"#46039f\"],[0.2222222222222222,\"#7201a8\"],[0.3333333333333333,\"#9c179e\"],[0.4444444444444444,\"#bd3786\"],[0.5555555555555556,\"#d8576b\"],[0.6666666666666666,\"#ed7953\"],[0.7777777777777778,\"#fb9f3a\"],[0.8888888888888888,\"#fdca26\"],[1.0,\"#f0f921\"]],\"sequentialminus\":[[0.0,\"#0d0887\"],[0.1111111111111111,\"#46039f\"],[0.2222222222222222,\"#7201a8\"],[0.3333333333333333,\"#9c179e\"],[0.4444444444444444,\"#bd3786\"],[0.5555555555555556,\"#d8576b\"],[0.6666666666666666,\"#ed7953\"],[0.7777777777777778,\"#fb9f3a\"],[0.8888888888888888,\"#fdca26\"],[1.0,\"#f0f921\"]]},\"colorway\":[\"#636efa\",\"#EF553B\",\"#00cc96\",\"#ab63fa\",\"#FFA15A\",\"#19d3f3\",\"#FF6692\",\"#B6E880\",\"#FF97FF\",\"#FECB52\"],\"font\":{\"color\":\"#2a3f5f\"},\"geo\":{\"bgcolor\":\"white\",\"lakecolor\":\"white\",\"landcolor\":\"#E5ECF6\",\"showlakes\":true,\"showland\":true,\"subunitcolor\":\"white\"},\"hoverlabel\":{\"align\":\"left\"},\"hovermode\":\"closest\",\"mapbox\":{\"style\":\"light\"},\"paper_bgcolor\":\"white\",\"plot_bgcolor\":\"#E5ECF6\",\"polar\":{\"angularaxis\":{\"gridcolor\":\"white\",\"linecolor\":\"white\",\"ticks\":\"\"},\"bgcolor\":\"#E5ECF6\",\"radialaxis\":{\"gridcolor\":\"white\",\"linecolor\":\"white\",\"ticks\":\"\"}},\"scene\":{\"xaxis\":{\"backgroundcolor\":\"#E5ECF6\",\"gridcolor\":\"white\",\"gridwidth\":2,\"linecolor\":\"white\",\"showbackground\":true,\"ticks\":\"\",\"zerolinecolor\":\"white\"},\"yaxis\":{\"backgroundcolor\":\"#E5ECF6\",\"gridcolor\":\"white\",\"gridwidth\":2,\"linecolor\":\"white\",\"showbackground\":true,\"ticks\":\"\",\"zerolinecolor\":\"white\"},\"zaxis\":{\"backgroundcolor\":\"#E5ECF6\",\"gridcolor\":\"white\",\"gridwidth\":2,\"linecolor\":\"white\",\"showbackground\":true,\"ticks\":\"\",\"zerolinecolor\":\"white\"}},\"shapedefaults\":{\"line\":{\"color\":\"#2a3f5f\"}},\"ternary\":{\"aaxis\":{\"gridcolor\":\"white\",\"linecolor\":\"white\",\"ticks\":\"\"},\"baxis\":{\"gridcolor\":\"white\",\"linecolor\":\"white\",\"ticks\":\"\"},\"bgcolor\":\"#E5ECF6\",\"caxis\":{\"gridcolor\":\"white\",\"linecolor\":\"white\",\"ticks\":\"\"}},\"title\":{\"x\":0.05},\"xaxis\":{\"automargin\":true,\"gridcolor\":\"white\",\"linecolor\":\"white\",\"ticks\":\"\",\"title\":{\"standoff\":15},\"zerolinecolor\":\"white\",\"zerolinewidth\":2},\"yaxis\":{\"automargin\":true,\"gridcolor\":\"white\",\"linecolor\":\"white\",\"ticks\":\"\",\"title\":{\"standoff\":15},\"zerolinecolor\":\"white\",\"zerolinewidth\":2}}},\"title\":{\"font\":{\"color\":\"#4D5663\"}},\"xaxis\":{\"gridcolor\":\"#E1E5ED\",\"showgrid\":true,\"tickfont\":{\"color\":\"#4D5663\"},\"title\":{\"font\":{\"color\":\"#4D5663\"},\"text\":\"\"},\"zerolinecolor\":\"#E1E5ED\"},\"yaxis\":{\"gridcolor\":\"#E1E5ED\",\"showgrid\":true,\"tickfont\":{\"color\":\"#4D5663\"},\"title\":{\"font\":{\"color\":\"#4D5663\"},\"text\":\"\"},\"zerolinecolor\":\"#E1E5ED\"}},                        {\"showLink\": true, \"linkText\": \"Export to plot.ly\", \"plotlyServerURL\": \"https://plot.ly\", \"responsive\": true}                    ).then(function(){\n",
       "                            \n",
       "var gd = document.getElementById('12747f3d-738f-414e-b9f6-decda92d6108');\n",
       "var x = new MutationObserver(function (mutations, observer) {{\n",
       "        var display = window.getComputedStyle(gd).display;\n",
       "        if (!display || display === 'none') {{\n",
       "            console.log([gd, 'removed!']);\n",
       "            Plotly.purge(gd);\n",
       "            observer.disconnect();\n",
       "        }}\n",
       "}});\n",
       "\n",
       "// Listen for the removal of the full notebook cells\n",
       "var notebookContainer = gd.closest('#notebook-container');\n",
       "if (notebookContainer) {{\n",
       "    x.observe(notebookContainer, {childList: true});\n",
       "}}\n",
       "\n",
       "// Listen for the clearing of the current output cell\n",
       "var outputEl = gd.closest('.output');\n",
       "if (outputEl) {{\n",
       "    x.observe(outputEl, {childList: true});\n",
       "}}\n",
       "\n",
       "                        })                };                });            </script>        </div>"
      ]
     },
     "metadata": {},
     "output_type": "display_data"
    }
   ],
   "source": [
    "df['A'].iplot(kind='hist',bins=25)"
   ]
  },
  {
   "cell_type": "code",
   "execution_count": 20,
   "metadata": {},
   "outputs": [
    {
     "data": {
      "application/vnd.plotly.v1+json": {
       "config": {
        "linkText": "Export to plot.ly",
        "plotlyServerURL": "https://plot.ly",
        "showLink": true
       },
       "data": [
        {
         "marker": {
          "color": [
           "rgb(255, 153, 51)",
           "rgb(55, 128, 191)",
           "rgb(50, 171, 96)",
           "rgb(128, 0, 128)",
           "rgb(219, 64, 82)",
           "rgb(0, 128, 128)",
           "rgb(255, 255, 51)",
           "rgb(128, 128, 0)",
           "rgb(251, 128, 114)",
           "rgb(128, 177, 211)"
          ],
          "line": {
           "width": 1.3
          },
          "size": [
           111,
           73,
           51,
           73,
           95,
           76,
           88,
           83,
           90,
           45,
           75,
           76,
           44,
           40,
           79,
           12,
           54,
           56,
           12,
           62,
           69,
           99,
           62,
           61,
           68,
           77,
           81,
           45,
           49,
           93,
           57,
           92,
           103,
           63,
           76,
           60,
           44,
           61,
           83,
           31,
           71,
           95,
           90,
           95,
           78,
           81,
           68,
           41,
           51,
           59,
           58,
           56,
           85,
           52,
           80,
           85,
           92,
           47,
           50,
           43,
           77,
           106,
           109,
           52,
           112,
           68,
           45,
           59,
           46,
           54,
           42,
           75,
           52,
           50,
           52,
           79,
           21,
           94,
           96,
           81,
           64,
           50,
           53,
           71,
           50,
           50,
           109,
           92,
           58,
           56,
           60,
           82,
           61,
           85,
           70,
           38,
           45,
           86,
           46,
           49
          ],
          "symbol": "circle"
         },
         "mode": "markers",
         "text": "",
         "type": "scatter",
         "x": [
          0.027241215754599653,
          0.461466942154424,
          0.3737578251714141,
          -1.4560336370431364,
          0.05734000875052292,
          -0.6934160050389406,
          -0.12917756125043053,
          0.5419506235849016,
          -1.1012631192337687,
          0.24570141978914636,
          0.01087999684740408,
          0.8100012366208713,
          -0.7030304225159633,
          -0.5946926572342286,
          -0.44511995840997504,
          0.23427398696523208,
          0.4160578404859543,
          -3.2493969232153423,
          -0.4734991876936832,
          -0.07570748157761908,
          0.3528977639604107,
          -0.21581152640941356,
          0.13976768152913263,
          0.9467098790676365,
          -0.23273491103119384,
          0.0389850989077991,
          -0.22939906198068014,
          0.8637838686080933,
          -1.1369014503927326,
          0.7526257977466814,
          0.41974541451444486,
          -0.29463973256237136,
          -2.176829559215304,
          -1.5302922998315613,
          0.35842273997828183,
          1.7264403465548985,
          -0.3653450892096323,
          -0.31695509980092507,
          -1.0558192787782297,
          -1.304349636163735,
          2.257323133922572,
          -0.10041675052728624,
          -2.24397916062139,
          -0.5589838760811628,
          -1.20295960227409,
          0.0026320539461168204,
          -0.2865627041840873,
          0.541803777541615,
          0.6300582728619144,
          -2.5053795527591367,
          -0.46316045798202704,
          -1.8274300715054332,
          -0.5586514125300802,
          0.3189194724183755,
          -1.685811925308102,
          -0.8428118098322996,
          0.80016486621426,
          0.5459717323447757,
          0.8643649166999295,
          -0.5740222161144256,
          -0.7179033509334194,
          -2.5019769582607734,
          -0.03892926260196354,
          -0.5500802354222613,
          1.2596761814939812,
          0.7347475008736277,
          -0.48819951705315184,
          -0.7205060770260235,
          -0.38233687263659966,
          0.4165865401847979,
          0.08270946347414312,
          0.04582443872299958,
          -2.839154713525733,
          1.4345342033741435,
          0.2590541572647937,
          -0.7046726386164505,
          -0.9473258446696663,
          -0.6517931146311408,
          1.0110736188093266,
          -0.5833457105696599,
          0.8982890815734496,
          0.5013034542613344,
          2.464532736067224,
          1.2612335926418747,
          0.536455461831126,
          1.934995588665759,
          -2.5219462688804963,
          0.628745198471256,
          -2.4809074077695996,
          1.6053651644968228,
          -0.2464413181810761,
          -1.4132000544481975,
          0.1868646453584373,
          0.7744526830342858,
          -0.7831732804063224,
          -2.2172665385010206,
          0.6368751852482623,
          0.11593761473734172,
          0.6190387568185067,
          -1.2760951982159945
         ],
         "y": [
          -1.2299495303316792,
          0.5761251925679554,
          0.4439223748334115,
          0.4482693887595382,
          0.4391188657924199,
          -0.6090184804140729,
          0.7739033993514225,
          -0.1858044672741451,
          -1.5004542493562412,
          0.2661389565905993,
          -1.0307976300658042,
          -2.02562399847762,
          -0.7753946361284771,
          -0.024092807303725004,
          -1.5488851006659816,
          -0.40608690106156453,
          -1.7875493827221627,
          1.0978120233875932,
          1.2796131600904732,
          -0.24566124104260884,
          2.1512327284437016,
          1.0702943810199417,
          -0.16948194839928224,
          0.633425338273376,
          -0.12053714748320615,
          -0.7084391381390437,
          1.2122343306242827,
          -0.5531661180518929,
          0.6760646031687255,
          -0.8600719233782612,
          0.6307408183438546,
          0.736114624702335,
          0.8211645861435984,
          -0.9063307935843637,
          -0.4618678949453949,
          0.640819882423184,
          0.255985632683679,
          0.44050250308581096,
          -0.5098792189564512,
          0.6612370454506209,
          -0.4600852985179216,
          1.3928542342840358,
          0.8823525659375652,
          0.607283903701555,
          -2.4441288988197107,
          -0.8644188008705929,
          -0.532690495638404,
          0.12512387164939145,
          -0.7233303308661587,
          -0.23976137531649747,
          1.5587585887796735,
          -0.3530505109153326,
          -0.7056602818285378,
          0.4035688891271258,
          -0.8327362135840342,
          -1.313239469889929,
          -0.6277207975245217,
          -0.06658365119250485,
          -0.7808892284561406,
          -0.3748780636142635,
          -0.38299456605242604,
          -0.6325698902459843,
          -0.37089771726844656,
          0.32138636034575196,
          0.6727738971760795,
          -0.3945422734138908,
          2.9500615298764727,
          1.5519218449607535,
          0.4797694345031922,
          0.6423701460270103,
          -1.9708893650276542,
          1.1646789788732854,
          0.9515688528861517,
          1.4511554272385823,
          -0.20150822013810582,
          0.2606018888417338,
          -0.2510612853910099,
          2.130016703150938,
          1.63705915645,
          0.39847523494422377,
          1.0184562083723192,
          -0.5382357322422255,
          2.483246044560773,
          0.8526701202253368,
          -1.2948330224433153,
          1.3410500034685415,
          0.2624724820130176,
          0.42655832078624994,
          1.4132672701391868,
          -0.8391493300974192,
          -1.231514045828351,
          -2.0535105642667326,
          -0.8008456977267329,
          -0.38365075218860983,
          0.8430333327693967,
          1.1505882799513372,
          -1.3125282714743989,
          0.7942258301306302,
          -0.8030278933285362,
          0.023210838012871562
         ]
        }
       ],
       "layout": {
        "legend": {
         "bgcolor": "#F5F6F9",
         "font": {
          "color": "#4D5663"
         }
        },
        "paper_bgcolor": "#F5F6F9",
        "plot_bgcolor": "#F5F6F9",
        "template": {
         "data": {
          "bar": [
           {
            "error_x": {
             "color": "#2a3f5f"
            },
            "error_y": {
             "color": "#2a3f5f"
            },
            "marker": {
             "line": {
              "color": "#E5ECF6",
              "width": 0.5
             },
             "pattern": {
              "fillmode": "overlay",
              "size": 10,
              "solidity": 0.2
             }
            },
            "type": "bar"
           }
          ],
          "barpolar": [
           {
            "marker": {
             "line": {
              "color": "#E5ECF6",
              "width": 0.5
             },
             "pattern": {
              "fillmode": "overlay",
              "size": 10,
              "solidity": 0.2
             }
            },
            "type": "barpolar"
           }
          ],
          "carpet": [
           {
            "aaxis": {
             "endlinecolor": "#2a3f5f",
             "gridcolor": "white",
             "linecolor": "white",
             "minorgridcolor": "white",
             "startlinecolor": "#2a3f5f"
            },
            "baxis": {
             "endlinecolor": "#2a3f5f",
             "gridcolor": "white",
             "linecolor": "white",
             "minorgridcolor": "white",
             "startlinecolor": "#2a3f5f"
            },
            "type": "carpet"
           }
          ],
          "choropleth": [
           {
            "colorbar": {
             "outlinewidth": 0,
             "ticks": ""
            },
            "type": "choropleth"
           }
          ],
          "contour": [
           {
            "colorbar": {
             "outlinewidth": 0,
             "ticks": ""
            },
            "colorscale": [
             [
              0,
              "#0d0887"
             ],
             [
              0.1111111111111111,
              "#46039f"
             ],
             [
              0.2222222222222222,
              "#7201a8"
             ],
             [
              0.3333333333333333,
              "#9c179e"
             ],
             [
              0.4444444444444444,
              "#bd3786"
             ],
             [
              0.5555555555555556,
              "#d8576b"
             ],
             [
              0.6666666666666666,
              "#ed7953"
             ],
             [
              0.7777777777777778,
              "#fb9f3a"
             ],
             [
              0.8888888888888888,
              "#fdca26"
             ],
             [
              1,
              "#f0f921"
             ]
            ],
            "type": "contour"
           }
          ],
          "contourcarpet": [
           {
            "colorbar": {
             "outlinewidth": 0,
             "ticks": ""
            },
            "type": "contourcarpet"
           }
          ],
          "heatmap": [
           {
            "colorbar": {
             "outlinewidth": 0,
             "ticks": ""
            },
            "colorscale": [
             [
              0,
              "#0d0887"
             ],
             [
              0.1111111111111111,
              "#46039f"
             ],
             [
              0.2222222222222222,
              "#7201a8"
             ],
             [
              0.3333333333333333,
              "#9c179e"
             ],
             [
              0.4444444444444444,
              "#bd3786"
             ],
             [
              0.5555555555555556,
              "#d8576b"
             ],
             [
              0.6666666666666666,
              "#ed7953"
             ],
             [
              0.7777777777777778,
              "#fb9f3a"
             ],
             [
              0.8888888888888888,
              "#fdca26"
             ],
             [
              1,
              "#f0f921"
             ]
            ],
            "type": "heatmap"
           }
          ],
          "heatmapgl": [
           {
            "colorbar": {
             "outlinewidth": 0,
             "ticks": ""
            },
            "colorscale": [
             [
              0,
              "#0d0887"
             ],
             [
              0.1111111111111111,
              "#46039f"
             ],
             [
              0.2222222222222222,
              "#7201a8"
             ],
             [
              0.3333333333333333,
              "#9c179e"
             ],
             [
              0.4444444444444444,
              "#bd3786"
             ],
             [
              0.5555555555555556,
              "#d8576b"
             ],
             [
              0.6666666666666666,
              "#ed7953"
             ],
             [
              0.7777777777777778,
              "#fb9f3a"
             ],
             [
              0.8888888888888888,
              "#fdca26"
             ],
             [
              1,
              "#f0f921"
             ]
            ],
            "type": "heatmapgl"
           }
          ],
          "histogram": [
           {
            "marker": {
             "pattern": {
              "fillmode": "overlay",
              "size": 10,
              "solidity": 0.2
             }
            },
            "type": "histogram"
           }
          ],
          "histogram2d": [
           {
            "colorbar": {
             "outlinewidth": 0,
             "ticks": ""
            },
            "colorscale": [
             [
              0,
              "#0d0887"
             ],
             [
              0.1111111111111111,
              "#46039f"
             ],
             [
              0.2222222222222222,
              "#7201a8"
             ],
             [
              0.3333333333333333,
              "#9c179e"
             ],
             [
              0.4444444444444444,
              "#bd3786"
             ],
             [
              0.5555555555555556,
              "#d8576b"
             ],
             [
              0.6666666666666666,
              "#ed7953"
             ],
             [
              0.7777777777777778,
              "#fb9f3a"
             ],
             [
              0.8888888888888888,
              "#fdca26"
             ],
             [
              1,
              "#f0f921"
             ]
            ],
            "type": "histogram2d"
           }
          ],
          "histogram2dcontour": [
           {
            "colorbar": {
             "outlinewidth": 0,
             "ticks": ""
            },
            "colorscale": [
             [
              0,
              "#0d0887"
             ],
             [
              0.1111111111111111,
              "#46039f"
             ],
             [
              0.2222222222222222,
              "#7201a8"
             ],
             [
              0.3333333333333333,
              "#9c179e"
             ],
             [
              0.4444444444444444,
              "#bd3786"
             ],
             [
              0.5555555555555556,
              "#d8576b"
             ],
             [
              0.6666666666666666,
              "#ed7953"
             ],
             [
              0.7777777777777778,
              "#fb9f3a"
             ],
             [
              0.8888888888888888,
              "#fdca26"
             ],
             [
              1,
              "#f0f921"
             ]
            ],
            "type": "histogram2dcontour"
           }
          ],
          "mesh3d": [
           {
            "colorbar": {
             "outlinewidth": 0,
             "ticks": ""
            },
            "type": "mesh3d"
           }
          ],
          "parcoords": [
           {
            "line": {
             "colorbar": {
              "outlinewidth": 0,
              "ticks": ""
             }
            },
            "type": "parcoords"
           }
          ],
          "pie": [
           {
            "automargin": true,
            "type": "pie"
           }
          ],
          "scatter": [
           {
            "marker": {
             "colorbar": {
              "outlinewidth": 0,
              "ticks": ""
             }
            },
            "type": "scatter"
           }
          ],
          "scatter3d": [
           {
            "line": {
             "colorbar": {
              "outlinewidth": 0,
              "ticks": ""
             }
            },
            "marker": {
             "colorbar": {
              "outlinewidth": 0,
              "ticks": ""
             }
            },
            "type": "scatter3d"
           }
          ],
          "scattercarpet": [
           {
            "marker": {
             "colorbar": {
              "outlinewidth": 0,
              "ticks": ""
             }
            },
            "type": "scattercarpet"
           }
          ],
          "scattergeo": [
           {
            "marker": {
             "colorbar": {
              "outlinewidth": 0,
              "ticks": ""
             }
            },
            "type": "scattergeo"
           }
          ],
          "scattergl": [
           {
            "marker": {
             "colorbar": {
              "outlinewidth": 0,
              "ticks": ""
             }
            },
            "type": "scattergl"
           }
          ],
          "scattermapbox": [
           {
            "marker": {
             "colorbar": {
              "outlinewidth": 0,
              "ticks": ""
             }
            },
            "type": "scattermapbox"
           }
          ],
          "scatterpolar": [
           {
            "marker": {
             "colorbar": {
              "outlinewidth": 0,
              "ticks": ""
             }
            },
            "type": "scatterpolar"
           }
          ],
          "scatterpolargl": [
           {
            "marker": {
             "colorbar": {
              "outlinewidth": 0,
              "ticks": ""
             }
            },
            "type": "scatterpolargl"
           }
          ],
          "scatterternary": [
           {
            "marker": {
             "colorbar": {
              "outlinewidth": 0,
              "ticks": ""
             }
            },
            "type": "scatterternary"
           }
          ],
          "surface": [
           {
            "colorbar": {
             "outlinewidth": 0,
             "ticks": ""
            },
            "colorscale": [
             [
              0,
              "#0d0887"
             ],
             [
              0.1111111111111111,
              "#46039f"
             ],
             [
              0.2222222222222222,
              "#7201a8"
             ],
             [
              0.3333333333333333,
              "#9c179e"
             ],
             [
              0.4444444444444444,
              "#bd3786"
             ],
             [
              0.5555555555555556,
              "#d8576b"
             ],
             [
              0.6666666666666666,
              "#ed7953"
             ],
             [
              0.7777777777777778,
              "#fb9f3a"
             ],
             [
              0.8888888888888888,
              "#fdca26"
             ],
             [
              1,
              "#f0f921"
             ]
            ],
            "type": "surface"
           }
          ],
          "table": [
           {
            "cells": {
             "fill": {
              "color": "#EBF0F8"
             },
             "line": {
              "color": "white"
             }
            },
            "header": {
             "fill": {
              "color": "#C8D4E3"
             },
             "line": {
              "color": "white"
             }
            },
            "type": "table"
           }
          ]
         },
         "layout": {
          "annotationdefaults": {
           "arrowcolor": "#2a3f5f",
           "arrowhead": 0,
           "arrowwidth": 1
          },
          "autotypenumbers": "strict",
          "coloraxis": {
           "colorbar": {
            "outlinewidth": 0,
            "ticks": ""
           }
          },
          "colorscale": {
           "diverging": [
            [
             0,
             "#8e0152"
            ],
            [
             0.1,
             "#c51b7d"
            ],
            [
             0.2,
             "#de77ae"
            ],
            [
             0.3,
             "#f1b6da"
            ],
            [
             0.4,
             "#fde0ef"
            ],
            [
             0.5,
             "#f7f7f7"
            ],
            [
             0.6,
             "#e6f5d0"
            ],
            [
             0.7,
             "#b8e186"
            ],
            [
             0.8,
             "#7fbc41"
            ],
            [
             0.9,
             "#4d9221"
            ],
            [
             1,
             "#276419"
            ]
           ],
           "sequential": [
            [
             0,
             "#0d0887"
            ],
            [
             0.1111111111111111,
             "#46039f"
            ],
            [
             0.2222222222222222,
             "#7201a8"
            ],
            [
             0.3333333333333333,
             "#9c179e"
            ],
            [
             0.4444444444444444,
             "#bd3786"
            ],
            [
             0.5555555555555556,
             "#d8576b"
            ],
            [
             0.6666666666666666,
             "#ed7953"
            ],
            [
             0.7777777777777778,
             "#fb9f3a"
            ],
            [
             0.8888888888888888,
             "#fdca26"
            ],
            [
             1,
             "#f0f921"
            ]
           ],
           "sequentialminus": [
            [
             0,
             "#0d0887"
            ],
            [
             0.1111111111111111,
             "#46039f"
            ],
            [
             0.2222222222222222,
             "#7201a8"
            ],
            [
             0.3333333333333333,
             "#9c179e"
            ],
            [
             0.4444444444444444,
             "#bd3786"
            ],
            [
             0.5555555555555556,
             "#d8576b"
            ],
            [
             0.6666666666666666,
             "#ed7953"
            ],
            [
             0.7777777777777778,
             "#fb9f3a"
            ],
            [
             0.8888888888888888,
             "#fdca26"
            ],
            [
             1,
             "#f0f921"
            ]
           ]
          },
          "colorway": [
           "#636efa",
           "#EF553B",
           "#00cc96",
           "#ab63fa",
           "#FFA15A",
           "#19d3f3",
           "#FF6692",
           "#B6E880",
           "#FF97FF",
           "#FECB52"
          ],
          "font": {
           "color": "#2a3f5f"
          },
          "geo": {
           "bgcolor": "white",
           "lakecolor": "white",
           "landcolor": "#E5ECF6",
           "showlakes": true,
           "showland": true,
           "subunitcolor": "white"
          },
          "hoverlabel": {
           "align": "left"
          },
          "hovermode": "closest",
          "mapbox": {
           "style": "light"
          },
          "paper_bgcolor": "white",
          "plot_bgcolor": "#E5ECF6",
          "polar": {
           "angularaxis": {
            "gridcolor": "white",
            "linecolor": "white",
            "ticks": ""
           },
           "bgcolor": "#E5ECF6",
           "radialaxis": {
            "gridcolor": "white",
            "linecolor": "white",
            "ticks": ""
           }
          },
          "scene": {
           "xaxis": {
            "backgroundcolor": "#E5ECF6",
            "gridcolor": "white",
            "gridwidth": 2,
            "linecolor": "white",
            "showbackground": true,
            "ticks": "",
            "zerolinecolor": "white"
           },
           "yaxis": {
            "backgroundcolor": "#E5ECF6",
            "gridcolor": "white",
            "gridwidth": 2,
            "linecolor": "white",
            "showbackground": true,
            "ticks": "",
            "zerolinecolor": "white"
           },
           "zaxis": {
            "backgroundcolor": "#E5ECF6",
            "gridcolor": "white",
            "gridwidth": 2,
            "linecolor": "white",
            "showbackground": true,
            "ticks": "",
            "zerolinecolor": "white"
           }
          },
          "shapedefaults": {
           "line": {
            "color": "#2a3f5f"
           }
          },
          "ternary": {
           "aaxis": {
            "gridcolor": "white",
            "linecolor": "white",
            "ticks": ""
           },
           "baxis": {
            "gridcolor": "white",
            "linecolor": "white",
            "ticks": ""
           },
           "bgcolor": "#E5ECF6",
           "caxis": {
            "gridcolor": "white",
            "linecolor": "white",
            "ticks": ""
           }
          },
          "title": {
           "x": 0.05
          },
          "xaxis": {
           "automargin": true,
           "gridcolor": "white",
           "linecolor": "white",
           "ticks": "",
           "title": {
            "standoff": 15
           },
           "zerolinecolor": "white",
           "zerolinewidth": 2
          },
          "yaxis": {
           "automargin": true,
           "gridcolor": "white",
           "linecolor": "white",
           "ticks": "",
           "title": {
            "standoff": 15
           },
           "zerolinecolor": "white",
           "zerolinewidth": 2
          }
         }
        },
        "title": {
         "font": {
          "color": "#4D5663"
         }
        },
        "xaxis": {
         "gridcolor": "#E1E5ED",
         "showgrid": true,
         "tickfont": {
          "color": "#4D5663"
         },
         "title": {
          "font": {
           "color": "#4D5663"
          },
          "text": ""
         },
         "zerolinecolor": "#E1E5ED"
        },
        "yaxis": {
         "gridcolor": "#E1E5ED",
         "showgrid": true,
         "tickfont": {
          "color": "#4D5663"
         },
         "title": {
          "font": {
           "color": "#4D5663"
          },
          "text": ""
         },
         "zerolinecolor": "#E1E5ED"
        }
       }
      },
      "text/html": [
       "<div>                            <div id=\"196a5fed-3d58-4dd5-b03a-82ae57cae966\" class=\"plotly-graph-div\" style=\"height:525px; width:100%;\"></div>            <script type=\"text/javascript\">                require([\"plotly\"], function(Plotly) {                    window.PLOTLYENV=window.PLOTLYENV || {};\n",
       "                    window.PLOTLYENV.BASE_URL='https://plot.ly';                                    if (document.getElementById(\"196a5fed-3d58-4dd5-b03a-82ae57cae966\")) {                    Plotly.newPlot(                        \"196a5fed-3d58-4dd5-b03a-82ae57cae966\",                        [{\"marker\":{\"color\":[\"rgb(255, 153, 51)\",\"rgb(55, 128, 191)\",\"rgb(50, 171, 96)\",\"rgb(128, 0, 128)\",\"rgb(219, 64, 82)\",\"rgb(0, 128, 128)\",\"rgb(255, 255, 51)\",\"rgb(128, 128, 0)\",\"rgb(251, 128, 114)\",\"rgb(128, 177, 211)\"],\"line\":{\"width\":1.3},\"size\":[111,73,51,73,95,76,88,83,90,45,75,76,44,40,79,12,54,56,12,62,69,99,62,61,68,77,81,45,49,93,57,92,103,63,76,60,44,61,83,31,71,95,90,95,78,81,68,41,51,59,58,56,85,52,80,85,92,47,50,43,77,106,109,52,112,68,45,59,46,54,42,75,52,50,52,79,21,94,96,81,64,50,53,71,50,50,109,92,58,56,60,82,61,85,70,38,45,86,46,49],\"symbol\":\"circle\"},\"mode\":\"markers\",\"text\":\"\",\"type\":\"scatter\",\"x\":[0.027241215754599653,0.461466942154424,0.3737578251714141,-1.4560336370431364,0.05734000875052292,-0.6934160050389406,-0.12917756125043053,0.5419506235849016,-1.1012631192337687,0.24570141978914636,0.01087999684740408,0.8100012366208713,-0.7030304225159633,-0.5946926572342286,-0.44511995840997504,0.23427398696523208,0.4160578404859543,-3.2493969232153423,-0.4734991876936832,-0.07570748157761908,0.3528977639604107,-0.21581152640941356,0.13976768152913263,0.9467098790676365,-0.23273491103119384,0.0389850989077991,-0.22939906198068014,0.8637838686080933,-1.1369014503927326,0.7526257977466814,0.41974541451444486,-0.29463973256237136,-2.176829559215304,-1.5302922998315613,0.35842273997828183,1.7264403465548985,-0.3653450892096323,-0.31695509980092507,-1.0558192787782297,-1.304349636163735,2.257323133922572,-0.10041675052728624,-2.24397916062139,-0.5589838760811628,-1.20295960227409,0.0026320539461168204,-0.2865627041840873,0.541803777541615,0.6300582728619144,-2.5053795527591367,-0.46316045798202704,-1.8274300715054332,-0.5586514125300802,0.3189194724183755,-1.685811925308102,-0.8428118098322996,0.80016486621426,0.5459717323447757,0.8643649166999295,-0.5740222161144256,-0.7179033509334194,-2.5019769582607734,-0.03892926260196354,-0.5500802354222613,1.2596761814939812,0.7347475008736277,-0.48819951705315184,-0.7205060770260235,-0.38233687263659966,0.4165865401847979,0.08270946347414312,0.04582443872299958,-2.839154713525733,1.4345342033741435,0.2590541572647937,-0.7046726386164505,-0.9473258446696663,-0.6517931146311408,1.0110736188093266,-0.5833457105696599,0.8982890815734496,0.5013034542613344,2.464532736067224,1.2612335926418747,0.536455461831126,1.934995588665759,-2.5219462688804963,0.628745198471256,-2.4809074077695996,1.6053651644968228,-0.2464413181810761,-1.4132000544481975,0.1868646453584373,0.7744526830342858,-0.7831732804063224,-2.2172665385010206,0.6368751852482623,0.11593761473734172,0.6190387568185067,-1.2760951982159945],\"y\":[-1.2299495303316792,0.5761251925679554,0.4439223748334115,0.4482693887595382,0.4391188657924199,-0.6090184804140729,0.7739033993514225,-0.1858044672741451,-1.5004542493562412,0.2661389565905993,-1.0307976300658042,-2.02562399847762,-0.7753946361284771,-0.024092807303725004,-1.5488851006659816,-0.40608690106156453,-1.7875493827221627,1.0978120233875932,1.2796131600904732,-0.24566124104260884,2.1512327284437016,1.0702943810199417,-0.16948194839928224,0.633425338273376,-0.12053714748320615,-0.7084391381390437,1.2122343306242827,-0.5531661180518929,0.6760646031687255,-0.8600719233782612,0.6307408183438546,0.736114624702335,0.8211645861435984,-0.9063307935843637,-0.4618678949453949,0.640819882423184,0.255985632683679,0.44050250308581096,-0.5098792189564512,0.6612370454506209,-0.4600852985179216,1.3928542342840358,0.8823525659375652,0.607283903701555,-2.4441288988197107,-0.8644188008705929,-0.532690495638404,0.12512387164939145,-0.7233303308661587,-0.23976137531649747,1.5587585887796735,-0.3530505109153326,-0.7056602818285378,0.4035688891271258,-0.8327362135840342,-1.313239469889929,-0.6277207975245217,-0.06658365119250485,-0.7808892284561406,-0.3748780636142635,-0.38299456605242604,-0.6325698902459843,-0.37089771726844656,0.32138636034575196,0.6727738971760795,-0.3945422734138908,2.9500615298764727,1.5519218449607535,0.4797694345031922,0.6423701460270103,-1.9708893650276542,1.1646789788732854,0.9515688528861517,1.4511554272385823,-0.20150822013810582,0.2606018888417338,-0.2510612853910099,2.130016703150938,1.63705915645,0.39847523494422377,1.0184562083723192,-0.5382357322422255,2.483246044560773,0.8526701202253368,-1.2948330224433153,1.3410500034685415,0.2624724820130176,0.42655832078624994,1.4132672701391868,-0.8391493300974192,-1.231514045828351,-2.0535105642667326,-0.8008456977267329,-0.38365075218860983,0.8430333327693967,1.1505882799513372,-1.3125282714743989,0.7942258301306302,-0.8030278933285362,0.023210838012871562]}],                        {\"legend\":{\"bgcolor\":\"#F5F6F9\",\"font\":{\"color\":\"#4D5663\"}},\"paper_bgcolor\":\"#F5F6F9\",\"plot_bgcolor\":\"#F5F6F9\",\"template\":{\"data\":{\"bar\":[{\"error_x\":{\"color\":\"#2a3f5f\"},\"error_y\":{\"color\":\"#2a3f5f\"},\"marker\":{\"line\":{\"color\":\"#E5ECF6\",\"width\":0.5},\"pattern\":{\"fillmode\":\"overlay\",\"size\":10,\"solidity\":0.2}},\"type\":\"bar\"}],\"barpolar\":[{\"marker\":{\"line\":{\"color\":\"#E5ECF6\",\"width\":0.5},\"pattern\":{\"fillmode\":\"overlay\",\"size\":10,\"solidity\":0.2}},\"type\":\"barpolar\"}],\"carpet\":[{\"aaxis\":{\"endlinecolor\":\"#2a3f5f\",\"gridcolor\":\"white\",\"linecolor\":\"white\",\"minorgridcolor\":\"white\",\"startlinecolor\":\"#2a3f5f\"},\"baxis\":{\"endlinecolor\":\"#2a3f5f\",\"gridcolor\":\"white\",\"linecolor\":\"white\",\"minorgridcolor\":\"white\",\"startlinecolor\":\"#2a3f5f\"},\"type\":\"carpet\"}],\"choropleth\":[{\"colorbar\":{\"outlinewidth\":0,\"ticks\":\"\"},\"type\":\"choropleth\"}],\"contour\":[{\"colorbar\":{\"outlinewidth\":0,\"ticks\":\"\"},\"colorscale\":[[0.0,\"#0d0887\"],[0.1111111111111111,\"#46039f\"],[0.2222222222222222,\"#7201a8\"],[0.3333333333333333,\"#9c179e\"],[0.4444444444444444,\"#bd3786\"],[0.5555555555555556,\"#d8576b\"],[0.6666666666666666,\"#ed7953\"],[0.7777777777777778,\"#fb9f3a\"],[0.8888888888888888,\"#fdca26\"],[1.0,\"#f0f921\"]],\"type\":\"contour\"}],\"contourcarpet\":[{\"colorbar\":{\"outlinewidth\":0,\"ticks\":\"\"},\"type\":\"contourcarpet\"}],\"heatmap\":[{\"colorbar\":{\"outlinewidth\":0,\"ticks\":\"\"},\"colorscale\":[[0.0,\"#0d0887\"],[0.1111111111111111,\"#46039f\"],[0.2222222222222222,\"#7201a8\"],[0.3333333333333333,\"#9c179e\"],[0.4444444444444444,\"#bd3786\"],[0.5555555555555556,\"#d8576b\"],[0.6666666666666666,\"#ed7953\"],[0.7777777777777778,\"#fb9f3a\"],[0.8888888888888888,\"#fdca26\"],[1.0,\"#f0f921\"]],\"type\":\"heatmap\"}],\"heatmapgl\":[{\"colorbar\":{\"outlinewidth\":0,\"ticks\":\"\"},\"colorscale\":[[0.0,\"#0d0887\"],[0.1111111111111111,\"#46039f\"],[0.2222222222222222,\"#7201a8\"],[0.3333333333333333,\"#9c179e\"],[0.4444444444444444,\"#bd3786\"],[0.5555555555555556,\"#d8576b\"],[0.6666666666666666,\"#ed7953\"],[0.7777777777777778,\"#fb9f3a\"],[0.8888888888888888,\"#fdca26\"],[1.0,\"#f0f921\"]],\"type\":\"heatmapgl\"}],\"histogram\":[{\"marker\":{\"pattern\":{\"fillmode\":\"overlay\",\"size\":10,\"solidity\":0.2}},\"type\":\"histogram\"}],\"histogram2d\":[{\"colorbar\":{\"outlinewidth\":0,\"ticks\":\"\"},\"colorscale\":[[0.0,\"#0d0887\"],[0.1111111111111111,\"#46039f\"],[0.2222222222222222,\"#7201a8\"],[0.3333333333333333,\"#9c179e\"],[0.4444444444444444,\"#bd3786\"],[0.5555555555555556,\"#d8576b\"],[0.6666666666666666,\"#ed7953\"],[0.7777777777777778,\"#fb9f3a\"],[0.8888888888888888,\"#fdca26\"],[1.0,\"#f0f921\"]],\"type\":\"histogram2d\"}],\"histogram2dcontour\":[{\"colorbar\":{\"outlinewidth\":0,\"ticks\":\"\"},\"colorscale\":[[0.0,\"#0d0887\"],[0.1111111111111111,\"#46039f\"],[0.2222222222222222,\"#7201a8\"],[0.3333333333333333,\"#9c179e\"],[0.4444444444444444,\"#bd3786\"],[0.5555555555555556,\"#d8576b\"],[0.6666666666666666,\"#ed7953\"],[0.7777777777777778,\"#fb9f3a\"],[0.8888888888888888,\"#fdca26\"],[1.0,\"#f0f921\"]],\"type\":\"histogram2dcontour\"}],\"mesh3d\":[{\"colorbar\":{\"outlinewidth\":0,\"ticks\":\"\"},\"type\":\"mesh3d\"}],\"parcoords\":[{\"line\":{\"colorbar\":{\"outlinewidth\":0,\"ticks\":\"\"}},\"type\":\"parcoords\"}],\"pie\":[{\"automargin\":true,\"type\":\"pie\"}],\"scatter\":[{\"marker\":{\"colorbar\":{\"outlinewidth\":0,\"ticks\":\"\"}},\"type\":\"scatter\"}],\"scatter3d\":[{\"line\":{\"colorbar\":{\"outlinewidth\":0,\"ticks\":\"\"}},\"marker\":{\"colorbar\":{\"outlinewidth\":0,\"ticks\":\"\"}},\"type\":\"scatter3d\"}],\"scattercarpet\":[{\"marker\":{\"colorbar\":{\"outlinewidth\":0,\"ticks\":\"\"}},\"type\":\"scattercarpet\"}],\"scattergeo\":[{\"marker\":{\"colorbar\":{\"outlinewidth\":0,\"ticks\":\"\"}},\"type\":\"scattergeo\"}],\"scattergl\":[{\"marker\":{\"colorbar\":{\"outlinewidth\":0,\"ticks\":\"\"}},\"type\":\"scattergl\"}],\"scattermapbox\":[{\"marker\":{\"colorbar\":{\"outlinewidth\":0,\"ticks\":\"\"}},\"type\":\"scattermapbox\"}],\"scatterpolar\":[{\"marker\":{\"colorbar\":{\"outlinewidth\":0,\"ticks\":\"\"}},\"type\":\"scatterpolar\"}],\"scatterpolargl\":[{\"marker\":{\"colorbar\":{\"outlinewidth\":0,\"ticks\":\"\"}},\"type\":\"scatterpolargl\"}],\"scatterternary\":[{\"marker\":{\"colorbar\":{\"outlinewidth\":0,\"ticks\":\"\"}},\"type\":\"scatterternary\"}],\"surface\":[{\"colorbar\":{\"outlinewidth\":0,\"ticks\":\"\"},\"colorscale\":[[0.0,\"#0d0887\"],[0.1111111111111111,\"#46039f\"],[0.2222222222222222,\"#7201a8\"],[0.3333333333333333,\"#9c179e\"],[0.4444444444444444,\"#bd3786\"],[0.5555555555555556,\"#d8576b\"],[0.6666666666666666,\"#ed7953\"],[0.7777777777777778,\"#fb9f3a\"],[0.8888888888888888,\"#fdca26\"],[1.0,\"#f0f921\"]],\"type\":\"surface\"}],\"table\":[{\"cells\":{\"fill\":{\"color\":\"#EBF0F8\"},\"line\":{\"color\":\"white\"}},\"header\":{\"fill\":{\"color\":\"#C8D4E3\"},\"line\":{\"color\":\"white\"}},\"type\":\"table\"}]},\"layout\":{\"annotationdefaults\":{\"arrowcolor\":\"#2a3f5f\",\"arrowhead\":0,\"arrowwidth\":1},\"autotypenumbers\":\"strict\",\"coloraxis\":{\"colorbar\":{\"outlinewidth\":0,\"ticks\":\"\"}},\"colorscale\":{\"diverging\":[[0,\"#8e0152\"],[0.1,\"#c51b7d\"],[0.2,\"#de77ae\"],[0.3,\"#f1b6da\"],[0.4,\"#fde0ef\"],[0.5,\"#f7f7f7\"],[0.6,\"#e6f5d0\"],[0.7,\"#b8e186\"],[0.8,\"#7fbc41\"],[0.9,\"#4d9221\"],[1,\"#276419\"]],\"sequential\":[[0.0,\"#0d0887\"],[0.1111111111111111,\"#46039f\"],[0.2222222222222222,\"#7201a8\"],[0.3333333333333333,\"#9c179e\"],[0.4444444444444444,\"#bd3786\"],[0.5555555555555556,\"#d8576b\"],[0.6666666666666666,\"#ed7953\"],[0.7777777777777778,\"#fb9f3a\"],[0.8888888888888888,\"#fdca26\"],[1.0,\"#f0f921\"]],\"sequentialminus\":[[0.0,\"#0d0887\"],[0.1111111111111111,\"#46039f\"],[0.2222222222222222,\"#7201a8\"],[0.3333333333333333,\"#9c179e\"],[0.4444444444444444,\"#bd3786\"],[0.5555555555555556,\"#d8576b\"],[0.6666666666666666,\"#ed7953\"],[0.7777777777777778,\"#fb9f3a\"],[0.8888888888888888,\"#fdca26\"],[1.0,\"#f0f921\"]]},\"colorway\":[\"#636efa\",\"#EF553B\",\"#00cc96\",\"#ab63fa\",\"#FFA15A\",\"#19d3f3\",\"#FF6692\",\"#B6E880\",\"#FF97FF\",\"#FECB52\"],\"font\":{\"color\":\"#2a3f5f\"},\"geo\":{\"bgcolor\":\"white\",\"lakecolor\":\"white\",\"landcolor\":\"#E5ECF6\",\"showlakes\":true,\"showland\":true,\"subunitcolor\":\"white\"},\"hoverlabel\":{\"align\":\"left\"},\"hovermode\":\"closest\",\"mapbox\":{\"style\":\"light\"},\"paper_bgcolor\":\"white\",\"plot_bgcolor\":\"#E5ECF6\",\"polar\":{\"angularaxis\":{\"gridcolor\":\"white\",\"linecolor\":\"white\",\"ticks\":\"\"},\"bgcolor\":\"#E5ECF6\",\"radialaxis\":{\"gridcolor\":\"white\",\"linecolor\":\"white\",\"ticks\":\"\"}},\"scene\":{\"xaxis\":{\"backgroundcolor\":\"#E5ECF6\",\"gridcolor\":\"white\",\"gridwidth\":2,\"linecolor\":\"white\",\"showbackground\":true,\"ticks\":\"\",\"zerolinecolor\":\"white\"},\"yaxis\":{\"backgroundcolor\":\"#E5ECF6\",\"gridcolor\":\"white\",\"gridwidth\":2,\"linecolor\":\"white\",\"showbackground\":true,\"ticks\":\"\",\"zerolinecolor\":\"white\"},\"zaxis\":{\"backgroundcolor\":\"#E5ECF6\",\"gridcolor\":\"white\",\"gridwidth\":2,\"linecolor\":\"white\",\"showbackground\":true,\"ticks\":\"\",\"zerolinecolor\":\"white\"}},\"shapedefaults\":{\"line\":{\"color\":\"#2a3f5f\"}},\"ternary\":{\"aaxis\":{\"gridcolor\":\"white\",\"linecolor\":\"white\",\"ticks\":\"\"},\"baxis\":{\"gridcolor\":\"white\",\"linecolor\":\"white\",\"ticks\":\"\"},\"bgcolor\":\"#E5ECF6\",\"caxis\":{\"gridcolor\":\"white\",\"linecolor\":\"white\",\"ticks\":\"\"}},\"title\":{\"x\":0.05},\"xaxis\":{\"automargin\":true,\"gridcolor\":\"white\",\"linecolor\":\"white\",\"ticks\":\"\",\"title\":{\"standoff\":15},\"zerolinecolor\":\"white\",\"zerolinewidth\":2},\"yaxis\":{\"automargin\":true,\"gridcolor\":\"white\",\"linecolor\":\"white\",\"ticks\":\"\",\"title\":{\"standoff\":15},\"zerolinecolor\":\"white\",\"zerolinewidth\":2}}},\"title\":{\"font\":{\"color\":\"#4D5663\"}},\"xaxis\":{\"gridcolor\":\"#E1E5ED\",\"showgrid\":true,\"tickfont\":{\"color\":\"#4D5663\"},\"title\":{\"font\":{\"color\":\"#4D5663\"},\"text\":\"\"},\"zerolinecolor\":\"#E1E5ED\"},\"yaxis\":{\"gridcolor\":\"#E1E5ED\",\"showgrid\":true,\"tickfont\":{\"color\":\"#4D5663\"},\"title\":{\"font\":{\"color\":\"#4D5663\"},\"text\":\"\"},\"zerolinecolor\":\"#E1E5ED\"}},                        {\"showLink\": true, \"linkText\": \"Export to plot.ly\", \"plotlyServerURL\": \"https://plot.ly\", \"responsive\": true}                    ).then(function(){\n",
       "                            \n",
       "var gd = document.getElementById('196a5fed-3d58-4dd5-b03a-82ae57cae966');\n",
       "var x = new MutationObserver(function (mutations, observer) {{\n",
       "        var display = window.getComputedStyle(gd).display;\n",
       "        if (!display || display === 'none') {{\n",
       "            console.log([gd, 'removed!']);\n",
       "            Plotly.purge(gd);\n",
       "            observer.disconnect();\n",
       "        }}\n",
       "}});\n",
       "\n",
       "// Listen for the removal of the full notebook cells\n",
       "var notebookContainer = gd.closest('#notebook-container');\n",
       "if (notebookContainer) {{\n",
       "    x.observe(notebookContainer, {childList: true});\n",
       "}}\n",
       "\n",
       "// Listen for the clearing of the current output cell\n",
       "var outputEl = gd.closest('.output');\n",
       "if (outputEl) {{\n",
       "    x.observe(outputEl, {childList: true});\n",
       "}}\n",
       "\n",
       "                        })                };                });            </script>        </div>"
      ]
     },
     "metadata": {},
     "output_type": "display_data"
    }
   ],
   "source": [
    "df.iplot(kind='bubble',x='A',y='B',size='C')"
   ]
  },
  {
   "cell_type": "markdown",
   "metadata": {},
   "source": [
    "## scatter_matrix()\n",
    "\n",
    "Similar to sns.pairplot()"
   ]
  },
  {
   "cell_type": "code",
   "execution_count": 21,
   "metadata": {},
   "outputs": [
    {
     "data": {
      "application/vnd.plotly.v1+json": {
       "config": {
        "linkText": "Export to plot.ly",
        "plotlyServerURL": "https://plot.ly",
        "showLink": true
       },
       "data": [
        {
         "histfunc": "count",
         "histnorm": "",
         "marker": {
          "color": "rgba(255, 153, 51, 1.0)",
          "line": {
           "color": "#4D5663",
           "width": 1.3
          }
         },
         "name": "A",
         "nbinsx": 10,
         "opacity": 0.8,
         "orientation": "v",
         "type": "histogram",
         "x": [
          0.027241215754599653,
          0.461466942154424,
          0.3737578251714141,
          -1.4560336370431364,
          0.05734000875052292,
          -0.6934160050389406,
          -0.12917756125043053,
          0.5419506235849016,
          -1.1012631192337687,
          0.24570141978914636,
          0.01087999684740408,
          0.8100012366208713,
          -0.7030304225159633,
          -0.5946926572342286,
          -0.44511995840997504,
          0.23427398696523208,
          0.4160578404859543,
          -3.2493969232153423,
          -0.4734991876936832,
          -0.07570748157761908,
          0.3528977639604107,
          -0.21581152640941356,
          0.13976768152913263,
          0.9467098790676365,
          -0.23273491103119384,
          0.0389850989077991,
          -0.22939906198068014,
          0.8637838686080933,
          -1.1369014503927326,
          0.7526257977466814,
          0.41974541451444486,
          -0.29463973256237136,
          -2.176829559215304,
          -1.5302922998315613,
          0.35842273997828183,
          1.7264403465548985,
          -0.3653450892096323,
          -0.31695509980092507,
          -1.0558192787782297,
          -1.304349636163735,
          2.257323133922572,
          -0.10041675052728624,
          -2.24397916062139,
          -0.5589838760811628,
          -1.20295960227409,
          0.0026320539461168204,
          -0.2865627041840873,
          0.541803777541615,
          0.6300582728619144,
          -2.5053795527591367,
          -0.46316045798202704,
          -1.8274300715054332,
          -0.5586514125300802,
          0.3189194724183755,
          -1.685811925308102,
          -0.8428118098322996,
          0.80016486621426,
          0.5459717323447757,
          0.8643649166999295,
          -0.5740222161144256,
          -0.7179033509334194,
          -2.5019769582607734,
          -0.03892926260196354,
          -0.5500802354222613,
          1.2596761814939812,
          0.7347475008736277,
          -0.48819951705315184,
          -0.7205060770260235,
          -0.38233687263659966,
          0.4165865401847979,
          0.08270946347414312,
          0.04582443872299958,
          -2.839154713525733,
          1.4345342033741435,
          0.2590541572647937,
          -0.7046726386164505,
          -0.9473258446696663,
          -0.6517931146311408,
          1.0110736188093266,
          -0.5833457105696599,
          0.8982890815734496,
          0.5013034542613344,
          2.464532736067224,
          1.2612335926418747,
          0.536455461831126,
          1.934995588665759,
          -2.5219462688804963,
          0.628745198471256,
          -2.4809074077695996,
          1.6053651644968228,
          -0.2464413181810761,
          -1.4132000544481975,
          0.1868646453584373,
          0.7744526830342858,
          -0.7831732804063224,
          -2.2172665385010206,
          0.6368751852482623,
          0.11593761473734172,
          0.6190387568185067,
          -1.2760951982159945
         ],
         "xaxis": "x",
         "yaxis": "y"
        },
        {
         "line": {
          "color": "rgba(128, 128, 128, 1.0)",
          "dash": "solid",
          "shape": "linear",
          "width": 1.3
         },
         "marker": {
          "size": 2,
          "symbol": "circle"
         },
         "mode": "markers",
         "name": "A",
         "text": "",
         "type": "scatter",
         "x": [
          -1.2299495303316792,
          0.5761251925679554,
          0.4439223748334115,
          0.4482693887595382,
          0.4391188657924199,
          -0.6090184804140729,
          0.7739033993514225,
          -0.1858044672741451,
          -1.5004542493562412,
          0.2661389565905993,
          -1.0307976300658042,
          -2.02562399847762,
          -0.7753946361284771,
          -0.024092807303725004,
          -1.5488851006659816,
          -0.40608690106156453,
          -1.7875493827221627,
          1.0978120233875932,
          1.2796131600904732,
          -0.24566124104260884,
          2.1512327284437016,
          1.0702943810199417,
          -0.16948194839928224,
          0.633425338273376,
          -0.12053714748320615,
          -0.7084391381390437,
          1.2122343306242827,
          -0.5531661180518929,
          0.6760646031687255,
          -0.8600719233782612,
          0.6307408183438546,
          0.736114624702335,
          0.8211645861435984,
          -0.9063307935843637,
          -0.4618678949453949,
          0.640819882423184,
          0.255985632683679,
          0.44050250308581096,
          -0.5098792189564512,
          0.6612370454506209,
          -0.4600852985179216,
          1.3928542342840358,
          0.8823525659375652,
          0.607283903701555,
          -2.4441288988197107,
          -0.8644188008705929,
          -0.532690495638404,
          0.12512387164939145,
          -0.7233303308661587,
          -0.23976137531649747,
          1.5587585887796735,
          -0.3530505109153326,
          -0.7056602818285378,
          0.4035688891271258,
          -0.8327362135840342,
          -1.313239469889929,
          -0.6277207975245217,
          -0.06658365119250485,
          -0.7808892284561406,
          -0.3748780636142635,
          -0.38299456605242604,
          -0.6325698902459843,
          -0.37089771726844656,
          0.32138636034575196,
          0.6727738971760795,
          -0.3945422734138908,
          2.9500615298764727,
          1.5519218449607535,
          0.4797694345031922,
          0.6423701460270103,
          -1.9708893650276542,
          1.1646789788732854,
          0.9515688528861517,
          1.4511554272385823,
          -0.20150822013810582,
          0.2606018888417338,
          -0.2510612853910099,
          2.130016703150938,
          1.63705915645,
          0.39847523494422377,
          1.0184562083723192,
          -0.5382357322422255,
          2.483246044560773,
          0.8526701202253368,
          -1.2948330224433153,
          1.3410500034685415,
          0.2624724820130176,
          0.42655832078624994,
          1.4132672701391868,
          -0.8391493300974192,
          -1.231514045828351,
          -2.0535105642667326,
          -0.8008456977267329,
          -0.38365075218860983,
          0.8430333327693967,
          1.1505882799513372,
          -1.3125282714743989,
          0.7942258301306302,
          -0.8030278933285362,
          0.023210838012871562
         ],
         "xaxis": "x2",
         "y": [
          0.027241215754599653,
          0.461466942154424,
          0.3737578251714141,
          -1.4560336370431364,
          0.05734000875052292,
          -0.6934160050389406,
          -0.12917756125043053,
          0.5419506235849016,
          -1.1012631192337687,
          0.24570141978914636,
          0.01087999684740408,
          0.8100012366208713,
          -0.7030304225159633,
          -0.5946926572342286,
          -0.44511995840997504,
          0.23427398696523208,
          0.4160578404859543,
          -3.2493969232153423,
          -0.4734991876936832,
          -0.07570748157761908,
          0.3528977639604107,
          -0.21581152640941356,
          0.13976768152913263,
          0.9467098790676365,
          -0.23273491103119384,
          0.0389850989077991,
          -0.22939906198068014,
          0.8637838686080933,
          -1.1369014503927326,
          0.7526257977466814,
          0.41974541451444486,
          -0.29463973256237136,
          -2.176829559215304,
          -1.5302922998315613,
          0.35842273997828183,
          1.7264403465548985,
          -0.3653450892096323,
          -0.31695509980092507,
          -1.0558192787782297,
          -1.304349636163735,
          2.257323133922572,
          -0.10041675052728624,
          -2.24397916062139,
          -0.5589838760811628,
          -1.20295960227409,
          0.0026320539461168204,
          -0.2865627041840873,
          0.541803777541615,
          0.6300582728619144,
          -2.5053795527591367,
          -0.46316045798202704,
          -1.8274300715054332,
          -0.5586514125300802,
          0.3189194724183755,
          -1.685811925308102,
          -0.8428118098322996,
          0.80016486621426,
          0.5459717323447757,
          0.8643649166999295,
          -0.5740222161144256,
          -0.7179033509334194,
          -2.5019769582607734,
          -0.03892926260196354,
          -0.5500802354222613,
          1.2596761814939812,
          0.7347475008736277,
          -0.48819951705315184,
          -0.7205060770260235,
          -0.38233687263659966,
          0.4165865401847979,
          0.08270946347414312,
          0.04582443872299958,
          -2.839154713525733,
          1.4345342033741435,
          0.2590541572647937,
          -0.7046726386164505,
          -0.9473258446696663,
          -0.6517931146311408,
          1.0110736188093266,
          -0.5833457105696599,
          0.8982890815734496,
          0.5013034542613344,
          2.464532736067224,
          1.2612335926418747,
          0.536455461831126,
          1.934995588665759,
          -2.5219462688804963,
          0.628745198471256,
          -2.4809074077695996,
          1.6053651644968228,
          -0.2464413181810761,
          -1.4132000544481975,
          0.1868646453584373,
          0.7744526830342858,
          -0.7831732804063224,
          -2.2172665385010206,
          0.6368751852482623,
          0.11593761473734172,
          0.6190387568185067,
          -1.2760951982159945
         ],
         "yaxis": "y2"
        },
        {
         "line": {
          "color": "rgba(128, 128, 128, 1.0)",
          "dash": "solid",
          "shape": "linear",
          "width": 1.3
         },
         "marker": {
          "size": 2,
          "symbol": "circle"
         },
         "mode": "markers",
         "name": "A",
         "text": "",
         "type": "scatter",
         "x": [
          2.0269316731802673,
          0.3900738440870191,
          -0.5509704357907378,
          0.41238086371051214,
          1.3300384472698463,
          0.5094694905062215,
          1.0536919301420062,
          0.8334293454329205,
          1.1495346482242275,
          -0.8161796856150146,
          0.4621058636690486,
          0.5294813648253962,
          -0.8540906796983768,
          -1.0185814721037045,
          0.6627503077156954,
          -2.2718238272262266,
          -0.4215552608509096,
          -0.3563238694174239,
          -2.235723176981178,
          -0.0727382904398685,
          0.20698870964541172,
          1.5050735780324862,
          -0.09206585334279284,
          -0.13800615635486052,
          0.19254933126935822,
          0.5754127438818876,
          0.760219269687592,
          -0.8187273135993184,
          -0.6278746156930031,
          1.2458098868830387,
          -0.3012839116102563,
          1.2315211639397226,
          1.6939271522092885,
          -0.02336099170503781,
          0.5468940772555165,
          -0.18112666047871426,
          -0.8670913328228448,
          -0.12303348374833262,
          0.827600075731781,
          -1.4126556937840686,
          0.2961505500818118,
          1.3707393938345103,
          1.1221808269822853,
          1.3375914046745596,
          0.6112363303316156,
          0.7554927668559361,
          0.18833222037663072,
          -0.9969144284594557,
          -0.5519265291687282,
          -0.22306353873462406,
          -0.2563451918380548,
          -0.3603452681361516,
          0.9011910994483247,
          -0.533939761106292,
          0.7071983930222037,
          0.9178877931296235,
          1.2179086647333313,
          -0.7150397928951028,
          -0.5829409809514536,
          -0.9061458306370328,
          0.5694329795337395,
          1.829626058008287,
          1.9429109542822776,
          -0.49476002069023667,
          2.066978384385359,
          0.17767635307027307,
          -0.8304743101055881,
          -0.2265963040959604,
          -0.7773926224598035,
          -0.44067000289883007,
          -0.9450696730766448,
          0.48128100200464896,
          -0.49487203558974524,
          -0.6018275073423531,
          -0.5179025798437809,
          0.6565329532524697,
          -1.8662061816335884,
          1.2949345333948852,
          1.4123076140162585,
          0.7524739263061787,
          -0.0031613521859595126,
          -0.5833576432659269,
          -0.4713320882377061,
          0.30712786965241107,
          -0.619678940804528,
          -0.5930332641931113,
          1.962935237824439,
          1.2176673108805502,
          -0.2411113726519649,
          -0.3527909849181242,
          -0.1527911735003672,
          0.7915524214048402,
          -0.12748782013816512,
          0.9105749360568643,
          0.25822859450953034,
          -1.125534337375841,
          -0.8310329535110081,
          0.9578111567739361,
          -0.788743587272034,
          -0.6557483895085895
         ],
         "xaxis": "x3",
         "y": [
          0.027241215754599653,
          0.461466942154424,
          0.3737578251714141,
          -1.4560336370431364,
          0.05734000875052292,
          -0.6934160050389406,
          -0.12917756125043053,
          0.5419506235849016,
          -1.1012631192337687,
          0.24570141978914636,
          0.01087999684740408,
          0.8100012366208713,
          -0.7030304225159633,
          -0.5946926572342286,
          -0.44511995840997504,
          0.23427398696523208,
          0.4160578404859543,
          -3.2493969232153423,
          -0.4734991876936832,
          -0.07570748157761908,
          0.3528977639604107,
          -0.21581152640941356,
          0.13976768152913263,
          0.9467098790676365,
          -0.23273491103119384,
          0.0389850989077991,
          -0.22939906198068014,
          0.8637838686080933,
          -1.1369014503927326,
          0.7526257977466814,
          0.41974541451444486,
          -0.29463973256237136,
          -2.176829559215304,
          -1.5302922998315613,
          0.35842273997828183,
          1.7264403465548985,
          -0.3653450892096323,
          -0.31695509980092507,
          -1.0558192787782297,
          -1.304349636163735,
          2.257323133922572,
          -0.10041675052728624,
          -2.24397916062139,
          -0.5589838760811628,
          -1.20295960227409,
          0.0026320539461168204,
          -0.2865627041840873,
          0.541803777541615,
          0.6300582728619144,
          -2.5053795527591367,
          -0.46316045798202704,
          -1.8274300715054332,
          -0.5586514125300802,
          0.3189194724183755,
          -1.685811925308102,
          -0.8428118098322996,
          0.80016486621426,
          0.5459717323447757,
          0.8643649166999295,
          -0.5740222161144256,
          -0.7179033509334194,
          -2.5019769582607734,
          -0.03892926260196354,
          -0.5500802354222613,
          1.2596761814939812,
          0.7347475008736277,
          -0.48819951705315184,
          -0.7205060770260235,
          -0.38233687263659966,
          0.4165865401847979,
          0.08270946347414312,
          0.04582443872299958,
          -2.839154713525733,
          1.4345342033741435,
          0.2590541572647937,
          -0.7046726386164505,
          -0.9473258446696663,
          -0.6517931146311408,
          1.0110736188093266,
          -0.5833457105696599,
          0.8982890815734496,
          0.5013034542613344,
          2.464532736067224,
          1.2612335926418747,
          0.536455461831126,
          1.934995588665759,
          -2.5219462688804963,
          0.628745198471256,
          -2.4809074077695996,
          1.6053651644968228,
          -0.2464413181810761,
          -1.4132000544481975,
          0.1868646453584373,
          0.7744526830342858,
          -0.7831732804063224,
          -2.2172665385010206,
          0.6368751852482623,
          0.11593761473734172,
          0.6190387568185067,
          -1.2760951982159945
         ],
         "yaxis": "y3"
        },
        {
         "line": {
          "color": "rgba(128, 128, 128, 1.0)",
          "dash": "solid",
          "shape": "linear",
          "width": 1.3
         },
         "marker": {
          "size": 2,
          "symbol": "circle"
         },
         "mode": "markers",
         "name": "A",
         "text": "",
         "type": "scatter",
         "x": [
          -0.34838642465310976,
          1.181842041223677,
          1.1274135164978363,
          -0.8505335468790323,
          -1.0545048061462534,
          0.9648968501508846,
          1.359512881108927,
          0.031319299346180704,
          -1.0544546453516068,
          -0.19415686511112226,
          -0.8782025088237447,
          0.2979572393155649,
          -0.25164257647585614,
          0.18006007456588874,
          1.5948180741168454,
          -0.11016365987717315,
          0.026912490823449833,
          -0.17314469919793413,
          -0.44698980561488744,
          -0.5223704821693409,
          1.2019422992338886,
          -0.9108856674435171,
          0.17289876018881567,
          0.9434915597651907,
          0.41427151570218734,
          0.18346300209250066,
          -1.045725467277624,
          1.0958361772136858,
          0.5154146534001802,
          0.7486792070848206,
          0.8061256766986518,
          0.2032447540621425,
          -1.6844965037132096,
          -1.0041452619752393,
          0.01302553469071673,
          -0.7734146255293952,
          0.2634141956378256,
          0.712908872570988,
          0.977766969094656,
          -0.35347025671809845,
          0.3319287536417015,
          0.19638539974491476,
          0.981980062458202,
          -1.4079859998371953,
          -0.1646834085274142,
          -0.3605965515725068,
          -0.1143569728769469,
          0.6485213215837613,
          -0.6296574194265816,
          -2.0186763437497297,
          0.9053199943270607,
          1.192836886917903,
          1.4661736115872215,
          -0.9820446114331933,
          0.4563239961336419,
          -1.3723818383770405,
          0.6094619537747207,
          -1.7935388851300191,
          -0.2507027537011104,
          1.3864089231885277,
          0.47037988777239864,
          -0.6018490239023988,
          -0.9625010436209301,
          0.2372870957932504,
          -0.09723830548886282,
          0.8069547308099078,
          -0.42105820077670625,
          1.0296767830467521,
          0.037600022632975905,
          0.07138464928075697,
          0.2796654273799903,
          -2.49408432595785,
          -0.30580333153477673,
          2.126316413474627,
          0.5927685525299955,
          0.013736794392062983,
          1.1106767069672834,
          -0.6773361907310395,
          -0.46290553372163307,
          1.2232290731098865,
          -0.14194727709821015,
          0.2707178806404906,
          -0.09855395233826988,
          -1.4312626397496775,
          -0.20452270125593489,
          -0.7052409656017552,
          -1.4274348225640827,
          0.7140966200329959,
          -0.9247066437972612,
          -0.26388909407647126,
          0.1041322303504204,
          0.7960006430313149,
          -0.05142318837511502,
          -0.6128088687539949,
          0.03981581787309479,
          -0.35908397951782045,
          -0.035824028085450044,
          -0.07966456102769102,
          0.23852400839790286,
          -1.0089027578041012
         ],
         "xaxis": "x4",
         "y": [
          0.027241215754599653,
          0.461466942154424,
          0.3737578251714141,
          -1.4560336370431364,
          0.05734000875052292,
          -0.6934160050389406,
          -0.12917756125043053,
          0.5419506235849016,
          -1.1012631192337687,
          0.24570141978914636,
          0.01087999684740408,
          0.8100012366208713,
          -0.7030304225159633,
          -0.5946926572342286,
          -0.44511995840997504,
          0.23427398696523208,
          0.4160578404859543,
          -3.2493969232153423,
          -0.4734991876936832,
          -0.07570748157761908,
          0.3528977639604107,
          -0.21581152640941356,
          0.13976768152913263,
          0.9467098790676365,
          -0.23273491103119384,
          0.0389850989077991,
          -0.22939906198068014,
          0.8637838686080933,
          -1.1369014503927326,
          0.7526257977466814,
          0.41974541451444486,
          -0.29463973256237136,
          -2.176829559215304,
          -1.5302922998315613,
          0.35842273997828183,
          1.7264403465548985,
          -0.3653450892096323,
          -0.31695509980092507,
          -1.0558192787782297,
          -1.304349636163735,
          2.257323133922572,
          -0.10041675052728624,
          -2.24397916062139,
          -0.5589838760811628,
          -1.20295960227409,
          0.0026320539461168204,
          -0.2865627041840873,
          0.541803777541615,
          0.6300582728619144,
          -2.5053795527591367,
          -0.46316045798202704,
          -1.8274300715054332,
          -0.5586514125300802,
          0.3189194724183755,
          -1.685811925308102,
          -0.8428118098322996,
          0.80016486621426,
          0.5459717323447757,
          0.8643649166999295,
          -0.5740222161144256,
          -0.7179033509334194,
          -2.5019769582607734,
          -0.03892926260196354,
          -0.5500802354222613,
          1.2596761814939812,
          0.7347475008736277,
          -0.48819951705315184,
          -0.7205060770260235,
          -0.38233687263659966,
          0.4165865401847979,
          0.08270946347414312,
          0.04582443872299958,
          -2.839154713525733,
          1.4345342033741435,
          0.2590541572647937,
          -0.7046726386164505,
          -0.9473258446696663,
          -0.6517931146311408,
          1.0110736188093266,
          -0.5833457105696599,
          0.8982890815734496,
          0.5013034542613344,
          2.464532736067224,
          1.2612335926418747,
          0.536455461831126,
          1.934995588665759,
          -2.5219462688804963,
          0.628745198471256,
          -2.4809074077695996,
          1.6053651644968228,
          -0.2464413181810761,
          -1.4132000544481975,
          0.1868646453584373,
          0.7744526830342858,
          -0.7831732804063224,
          -2.2172665385010206,
          0.6368751852482623,
          0.11593761473734172,
          0.6190387568185067,
          -1.2760951982159945
         ],
         "yaxis": "y4"
        },
        {
         "line": {
          "color": "rgba(128, 128, 128, 1.0)",
          "dash": "solid",
          "shape": "linear",
          "width": 1.3
         },
         "marker": {
          "size": 2,
          "symbol": "circle"
         },
         "mode": "markers",
         "name": "B",
         "text": "",
         "type": "scatter",
         "x": [
          0.027241215754599653,
          0.461466942154424,
          0.3737578251714141,
          -1.4560336370431364,
          0.05734000875052292,
          -0.6934160050389406,
          -0.12917756125043053,
          0.5419506235849016,
          -1.1012631192337687,
          0.24570141978914636,
          0.01087999684740408,
          0.8100012366208713,
          -0.7030304225159633,
          -0.5946926572342286,
          -0.44511995840997504,
          0.23427398696523208,
          0.4160578404859543,
          -3.2493969232153423,
          -0.4734991876936832,
          -0.07570748157761908,
          0.3528977639604107,
          -0.21581152640941356,
          0.13976768152913263,
          0.9467098790676365,
          -0.23273491103119384,
          0.0389850989077991,
          -0.22939906198068014,
          0.8637838686080933,
          -1.1369014503927326,
          0.7526257977466814,
          0.41974541451444486,
          -0.29463973256237136,
          -2.176829559215304,
          -1.5302922998315613,
          0.35842273997828183,
          1.7264403465548985,
          -0.3653450892096323,
          -0.31695509980092507,
          -1.0558192787782297,
          -1.304349636163735,
          2.257323133922572,
          -0.10041675052728624,
          -2.24397916062139,
          -0.5589838760811628,
          -1.20295960227409,
          0.0026320539461168204,
          -0.2865627041840873,
          0.541803777541615,
          0.6300582728619144,
          -2.5053795527591367,
          -0.46316045798202704,
          -1.8274300715054332,
          -0.5586514125300802,
          0.3189194724183755,
          -1.685811925308102,
          -0.8428118098322996,
          0.80016486621426,
          0.5459717323447757,
          0.8643649166999295,
          -0.5740222161144256,
          -0.7179033509334194,
          -2.5019769582607734,
          -0.03892926260196354,
          -0.5500802354222613,
          1.2596761814939812,
          0.7347475008736277,
          -0.48819951705315184,
          -0.7205060770260235,
          -0.38233687263659966,
          0.4165865401847979,
          0.08270946347414312,
          0.04582443872299958,
          -2.839154713525733,
          1.4345342033741435,
          0.2590541572647937,
          -0.7046726386164505,
          -0.9473258446696663,
          -0.6517931146311408,
          1.0110736188093266,
          -0.5833457105696599,
          0.8982890815734496,
          0.5013034542613344,
          2.464532736067224,
          1.2612335926418747,
          0.536455461831126,
          1.934995588665759,
          -2.5219462688804963,
          0.628745198471256,
          -2.4809074077695996,
          1.6053651644968228,
          -0.2464413181810761,
          -1.4132000544481975,
          0.1868646453584373,
          0.7744526830342858,
          -0.7831732804063224,
          -2.2172665385010206,
          0.6368751852482623,
          0.11593761473734172,
          0.6190387568185067,
          -1.2760951982159945
         ],
         "xaxis": "x5",
         "y": [
          -1.2299495303316792,
          0.5761251925679554,
          0.4439223748334115,
          0.4482693887595382,
          0.4391188657924199,
          -0.6090184804140729,
          0.7739033993514225,
          -0.1858044672741451,
          -1.5004542493562412,
          0.2661389565905993,
          -1.0307976300658042,
          -2.02562399847762,
          -0.7753946361284771,
          -0.024092807303725004,
          -1.5488851006659816,
          -0.40608690106156453,
          -1.7875493827221627,
          1.0978120233875932,
          1.2796131600904732,
          -0.24566124104260884,
          2.1512327284437016,
          1.0702943810199417,
          -0.16948194839928224,
          0.633425338273376,
          -0.12053714748320615,
          -0.7084391381390437,
          1.2122343306242827,
          -0.5531661180518929,
          0.6760646031687255,
          -0.8600719233782612,
          0.6307408183438546,
          0.736114624702335,
          0.8211645861435984,
          -0.9063307935843637,
          -0.4618678949453949,
          0.640819882423184,
          0.255985632683679,
          0.44050250308581096,
          -0.5098792189564512,
          0.6612370454506209,
          -0.4600852985179216,
          1.3928542342840358,
          0.8823525659375652,
          0.607283903701555,
          -2.4441288988197107,
          -0.8644188008705929,
          -0.532690495638404,
          0.12512387164939145,
          -0.7233303308661587,
          -0.23976137531649747,
          1.5587585887796735,
          -0.3530505109153326,
          -0.7056602818285378,
          0.4035688891271258,
          -0.8327362135840342,
          -1.313239469889929,
          -0.6277207975245217,
          -0.06658365119250485,
          -0.7808892284561406,
          -0.3748780636142635,
          -0.38299456605242604,
          -0.6325698902459843,
          -0.37089771726844656,
          0.32138636034575196,
          0.6727738971760795,
          -0.3945422734138908,
          2.9500615298764727,
          1.5519218449607535,
          0.4797694345031922,
          0.6423701460270103,
          -1.9708893650276542,
          1.1646789788732854,
          0.9515688528861517,
          1.4511554272385823,
          -0.20150822013810582,
          0.2606018888417338,
          -0.2510612853910099,
          2.130016703150938,
          1.63705915645,
          0.39847523494422377,
          1.0184562083723192,
          -0.5382357322422255,
          2.483246044560773,
          0.8526701202253368,
          -1.2948330224433153,
          1.3410500034685415,
          0.2624724820130176,
          0.42655832078624994,
          1.4132672701391868,
          -0.8391493300974192,
          -1.231514045828351,
          -2.0535105642667326,
          -0.8008456977267329,
          -0.38365075218860983,
          0.8430333327693967,
          1.1505882799513372,
          -1.3125282714743989,
          0.7942258301306302,
          -0.8030278933285362,
          0.023210838012871562
         ],
         "yaxis": "y5"
        },
        {
         "histfunc": "count",
         "histnorm": "",
         "marker": {
          "color": "rgba(55, 128, 191, 1.0)",
          "line": {
           "color": "#4D5663",
           "width": 1.3
          }
         },
         "name": "B",
         "nbinsx": 10,
         "opacity": 0.8,
         "orientation": "v",
         "type": "histogram",
         "x": [
          -1.2299495303316792,
          0.5761251925679554,
          0.4439223748334115,
          0.4482693887595382,
          0.4391188657924199,
          -0.6090184804140729,
          0.7739033993514225,
          -0.1858044672741451,
          -1.5004542493562412,
          0.2661389565905993,
          -1.0307976300658042,
          -2.02562399847762,
          -0.7753946361284771,
          -0.024092807303725004,
          -1.5488851006659816,
          -0.40608690106156453,
          -1.7875493827221627,
          1.0978120233875932,
          1.2796131600904732,
          -0.24566124104260884,
          2.1512327284437016,
          1.0702943810199417,
          -0.16948194839928224,
          0.633425338273376,
          -0.12053714748320615,
          -0.7084391381390437,
          1.2122343306242827,
          -0.5531661180518929,
          0.6760646031687255,
          -0.8600719233782612,
          0.6307408183438546,
          0.736114624702335,
          0.8211645861435984,
          -0.9063307935843637,
          -0.4618678949453949,
          0.640819882423184,
          0.255985632683679,
          0.44050250308581096,
          -0.5098792189564512,
          0.6612370454506209,
          -0.4600852985179216,
          1.3928542342840358,
          0.8823525659375652,
          0.607283903701555,
          -2.4441288988197107,
          -0.8644188008705929,
          -0.532690495638404,
          0.12512387164939145,
          -0.7233303308661587,
          -0.23976137531649747,
          1.5587585887796735,
          -0.3530505109153326,
          -0.7056602818285378,
          0.4035688891271258,
          -0.8327362135840342,
          -1.313239469889929,
          -0.6277207975245217,
          -0.06658365119250485,
          -0.7808892284561406,
          -0.3748780636142635,
          -0.38299456605242604,
          -0.6325698902459843,
          -0.37089771726844656,
          0.32138636034575196,
          0.6727738971760795,
          -0.3945422734138908,
          2.9500615298764727,
          1.5519218449607535,
          0.4797694345031922,
          0.6423701460270103,
          -1.9708893650276542,
          1.1646789788732854,
          0.9515688528861517,
          1.4511554272385823,
          -0.20150822013810582,
          0.2606018888417338,
          -0.2510612853910099,
          2.130016703150938,
          1.63705915645,
          0.39847523494422377,
          1.0184562083723192,
          -0.5382357322422255,
          2.483246044560773,
          0.8526701202253368,
          -1.2948330224433153,
          1.3410500034685415,
          0.2624724820130176,
          0.42655832078624994,
          1.4132672701391868,
          -0.8391493300974192,
          -1.231514045828351,
          -2.0535105642667326,
          -0.8008456977267329,
          -0.38365075218860983,
          0.8430333327693967,
          1.1505882799513372,
          -1.3125282714743989,
          0.7942258301306302,
          -0.8030278933285362,
          0.023210838012871562
         ],
         "xaxis": "x6",
         "yaxis": "y6"
        },
        {
         "line": {
          "color": "rgba(128, 128, 128, 1.0)",
          "dash": "solid",
          "shape": "linear",
          "width": 1.3
         },
         "marker": {
          "size": 2,
          "symbol": "circle"
         },
         "mode": "markers",
         "name": "B",
         "text": "",
         "type": "scatter",
         "x": [
          2.0269316731802673,
          0.3900738440870191,
          -0.5509704357907378,
          0.41238086371051214,
          1.3300384472698463,
          0.5094694905062215,
          1.0536919301420062,
          0.8334293454329205,
          1.1495346482242275,
          -0.8161796856150146,
          0.4621058636690486,
          0.5294813648253962,
          -0.8540906796983768,
          -1.0185814721037045,
          0.6627503077156954,
          -2.2718238272262266,
          -0.4215552608509096,
          -0.3563238694174239,
          -2.235723176981178,
          -0.0727382904398685,
          0.20698870964541172,
          1.5050735780324862,
          -0.09206585334279284,
          -0.13800615635486052,
          0.19254933126935822,
          0.5754127438818876,
          0.760219269687592,
          -0.8187273135993184,
          -0.6278746156930031,
          1.2458098868830387,
          -0.3012839116102563,
          1.2315211639397226,
          1.6939271522092885,
          -0.02336099170503781,
          0.5468940772555165,
          -0.18112666047871426,
          -0.8670913328228448,
          -0.12303348374833262,
          0.827600075731781,
          -1.4126556937840686,
          0.2961505500818118,
          1.3707393938345103,
          1.1221808269822853,
          1.3375914046745596,
          0.6112363303316156,
          0.7554927668559361,
          0.18833222037663072,
          -0.9969144284594557,
          -0.5519265291687282,
          -0.22306353873462406,
          -0.2563451918380548,
          -0.3603452681361516,
          0.9011910994483247,
          -0.533939761106292,
          0.7071983930222037,
          0.9178877931296235,
          1.2179086647333313,
          -0.7150397928951028,
          -0.5829409809514536,
          -0.9061458306370328,
          0.5694329795337395,
          1.829626058008287,
          1.9429109542822776,
          -0.49476002069023667,
          2.066978384385359,
          0.17767635307027307,
          -0.8304743101055881,
          -0.2265963040959604,
          -0.7773926224598035,
          -0.44067000289883007,
          -0.9450696730766448,
          0.48128100200464896,
          -0.49487203558974524,
          -0.6018275073423531,
          -0.5179025798437809,
          0.6565329532524697,
          -1.8662061816335884,
          1.2949345333948852,
          1.4123076140162585,
          0.7524739263061787,
          -0.0031613521859595126,
          -0.5833576432659269,
          -0.4713320882377061,
          0.30712786965241107,
          -0.619678940804528,
          -0.5930332641931113,
          1.962935237824439,
          1.2176673108805502,
          -0.2411113726519649,
          -0.3527909849181242,
          -0.1527911735003672,
          0.7915524214048402,
          -0.12748782013816512,
          0.9105749360568643,
          0.25822859450953034,
          -1.125534337375841,
          -0.8310329535110081,
          0.9578111567739361,
          -0.788743587272034,
          -0.6557483895085895
         ],
         "xaxis": "x7",
         "y": [
          -1.2299495303316792,
          0.5761251925679554,
          0.4439223748334115,
          0.4482693887595382,
          0.4391188657924199,
          -0.6090184804140729,
          0.7739033993514225,
          -0.1858044672741451,
          -1.5004542493562412,
          0.2661389565905993,
          -1.0307976300658042,
          -2.02562399847762,
          -0.7753946361284771,
          -0.024092807303725004,
          -1.5488851006659816,
          -0.40608690106156453,
          -1.7875493827221627,
          1.0978120233875932,
          1.2796131600904732,
          -0.24566124104260884,
          2.1512327284437016,
          1.0702943810199417,
          -0.16948194839928224,
          0.633425338273376,
          -0.12053714748320615,
          -0.7084391381390437,
          1.2122343306242827,
          -0.5531661180518929,
          0.6760646031687255,
          -0.8600719233782612,
          0.6307408183438546,
          0.736114624702335,
          0.8211645861435984,
          -0.9063307935843637,
          -0.4618678949453949,
          0.640819882423184,
          0.255985632683679,
          0.44050250308581096,
          -0.5098792189564512,
          0.6612370454506209,
          -0.4600852985179216,
          1.3928542342840358,
          0.8823525659375652,
          0.607283903701555,
          -2.4441288988197107,
          -0.8644188008705929,
          -0.532690495638404,
          0.12512387164939145,
          -0.7233303308661587,
          -0.23976137531649747,
          1.5587585887796735,
          -0.3530505109153326,
          -0.7056602818285378,
          0.4035688891271258,
          -0.8327362135840342,
          -1.313239469889929,
          -0.6277207975245217,
          -0.06658365119250485,
          -0.7808892284561406,
          -0.3748780636142635,
          -0.38299456605242604,
          -0.6325698902459843,
          -0.37089771726844656,
          0.32138636034575196,
          0.6727738971760795,
          -0.3945422734138908,
          2.9500615298764727,
          1.5519218449607535,
          0.4797694345031922,
          0.6423701460270103,
          -1.9708893650276542,
          1.1646789788732854,
          0.9515688528861517,
          1.4511554272385823,
          -0.20150822013810582,
          0.2606018888417338,
          -0.2510612853910099,
          2.130016703150938,
          1.63705915645,
          0.39847523494422377,
          1.0184562083723192,
          -0.5382357322422255,
          2.483246044560773,
          0.8526701202253368,
          -1.2948330224433153,
          1.3410500034685415,
          0.2624724820130176,
          0.42655832078624994,
          1.4132672701391868,
          -0.8391493300974192,
          -1.231514045828351,
          -2.0535105642667326,
          -0.8008456977267329,
          -0.38365075218860983,
          0.8430333327693967,
          1.1505882799513372,
          -1.3125282714743989,
          0.7942258301306302,
          -0.8030278933285362,
          0.023210838012871562
         ],
         "yaxis": "y7"
        },
        {
         "line": {
          "color": "rgba(128, 128, 128, 1.0)",
          "dash": "solid",
          "shape": "linear",
          "width": 1.3
         },
         "marker": {
          "size": 2,
          "symbol": "circle"
         },
         "mode": "markers",
         "name": "B",
         "text": "",
         "type": "scatter",
         "x": [
          -0.34838642465310976,
          1.181842041223677,
          1.1274135164978363,
          -0.8505335468790323,
          -1.0545048061462534,
          0.9648968501508846,
          1.359512881108927,
          0.031319299346180704,
          -1.0544546453516068,
          -0.19415686511112226,
          -0.8782025088237447,
          0.2979572393155649,
          -0.25164257647585614,
          0.18006007456588874,
          1.5948180741168454,
          -0.11016365987717315,
          0.026912490823449833,
          -0.17314469919793413,
          -0.44698980561488744,
          -0.5223704821693409,
          1.2019422992338886,
          -0.9108856674435171,
          0.17289876018881567,
          0.9434915597651907,
          0.41427151570218734,
          0.18346300209250066,
          -1.045725467277624,
          1.0958361772136858,
          0.5154146534001802,
          0.7486792070848206,
          0.8061256766986518,
          0.2032447540621425,
          -1.6844965037132096,
          -1.0041452619752393,
          0.01302553469071673,
          -0.7734146255293952,
          0.2634141956378256,
          0.712908872570988,
          0.977766969094656,
          -0.35347025671809845,
          0.3319287536417015,
          0.19638539974491476,
          0.981980062458202,
          -1.4079859998371953,
          -0.1646834085274142,
          -0.3605965515725068,
          -0.1143569728769469,
          0.6485213215837613,
          -0.6296574194265816,
          -2.0186763437497297,
          0.9053199943270607,
          1.192836886917903,
          1.4661736115872215,
          -0.9820446114331933,
          0.4563239961336419,
          -1.3723818383770405,
          0.6094619537747207,
          -1.7935388851300191,
          -0.2507027537011104,
          1.3864089231885277,
          0.47037988777239864,
          -0.6018490239023988,
          -0.9625010436209301,
          0.2372870957932504,
          -0.09723830548886282,
          0.8069547308099078,
          -0.42105820077670625,
          1.0296767830467521,
          0.037600022632975905,
          0.07138464928075697,
          0.2796654273799903,
          -2.49408432595785,
          -0.30580333153477673,
          2.126316413474627,
          0.5927685525299955,
          0.013736794392062983,
          1.1106767069672834,
          -0.6773361907310395,
          -0.46290553372163307,
          1.2232290731098865,
          -0.14194727709821015,
          0.2707178806404906,
          -0.09855395233826988,
          -1.4312626397496775,
          -0.20452270125593489,
          -0.7052409656017552,
          -1.4274348225640827,
          0.7140966200329959,
          -0.9247066437972612,
          -0.26388909407647126,
          0.1041322303504204,
          0.7960006430313149,
          -0.05142318837511502,
          -0.6128088687539949,
          0.03981581787309479,
          -0.35908397951782045,
          -0.035824028085450044,
          -0.07966456102769102,
          0.23852400839790286,
          -1.0089027578041012
         ],
         "xaxis": "x8",
         "y": [
          -1.2299495303316792,
          0.5761251925679554,
          0.4439223748334115,
          0.4482693887595382,
          0.4391188657924199,
          -0.6090184804140729,
          0.7739033993514225,
          -0.1858044672741451,
          -1.5004542493562412,
          0.2661389565905993,
          -1.0307976300658042,
          -2.02562399847762,
          -0.7753946361284771,
          -0.024092807303725004,
          -1.5488851006659816,
          -0.40608690106156453,
          -1.7875493827221627,
          1.0978120233875932,
          1.2796131600904732,
          -0.24566124104260884,
          2.1512327284437016,
          1.0702943810199417,
          -0.16948194839928224,
          0.633425338273376,
          -0.12053714748320615,
          -0.7084391381390437,
          1.2122343306242827,
          -0.5531661180518929,
          0.6760646031687255,
          -0.8600719233782612,
          0.6307408183438546,
          0.736114624702335,
          0.8211645861435984,
          -0.9063307935843637,
          -0.4618678949453949,
          0.640819882423184,
          0.255985632683679,
          0.44050250308581096,
          -0.5098792189564512,
          0.6612370454506209,
          -0.4600852985179216,
          1.3928542342840358,
          0.8823525659375652,
          0.607283903701555,
          -2.4441288988197107,
          -0.8644188008705929,
          -0.532690495638404,
          0.12512387164939145,
          -0.7233303308661587,
          -0.23976137531649747,
          1.5587585887796735,
          -0.3530505109153326,
          -0.7056602818285378,
          0.4035688891271258,
          -0.8327362135840342,
          -1.313239469889929,
          -0.6277207975245217,
          -0.06658365119250485,
          -0.7808892284561406,
          -0.3748780636142635,
          -0.38299456605242604,
          -0.6325698902459843,
          -0.37089771726844656,
          0.32138636034575196,
          0.6727738971760795,
          -0.3945422734138908,
          2.9500615298764727,
          1.5519218449607535,
          0.4797694345031922,
          0.6423701460270103,
          -1.9708893650276542,
          1.1646789788732854,
          0.9515688528861517,
          1.4511554272385823,
          -0.20150822013810582,
          0.2606018888417338,
          -0.2510612853910099,
          2.130016703150938,
          1.63705915645,
          0.39847523494422377,
          1.0184562083723192,
          -0.5382357322422255,
          2.483246044560773,
          0.8526701202253368,
          -1.2948330224433153,
          1.3410500034685415,
          0.2624724820130176,
          0.42655832078624994,
          1.4132672701391868,
          -0.8391493300974192,
          -1.231514045828351,
          -2.0535105642667326,
          -0.8008456977267329,
          -0.38365075218860983,
          0.8430333327693967,
          1.1505882799513372,
          -1.3125282714743989,
          0.7942258301306302,
          -0.8030278933285362,
          0.023210838012871562
         ],
         "yaxis": "y8"
        },
        {
         "line": {
          "color": "rgba(128, 128, 128, 1.0)",
          "dash": "solid",
          "shape": "linear",
          "width": 1.3
         },
         "marker": {
          "size": 2,
          "symbol": "circle"
         },
         "mode": "markers",
         "name": "C",
         "text": "",
         "type": "scatter",
         "x": [
          0.027241215754599653,
          0.461466942154424,
          0.3737578251714141,
          -1.4560336370431364,
          0.05734000875052292,
          -0.6934160050389406,
          -0.12917756125043053,
          0.5419506235849016,
          -1.1012631192337687,
          0.24570141978914636,
          0.01087999684740408,
          0.8100012366208713,
          -0.7030304225159633,
          -0.5946926572342286,
          -0.44511995840997504,
          0.23427398696523208,
          0.4160578404859543,
          -3.2493969232153423,
          -0.4734991876936832,
          -0.07570748157761908,
          0.3528977639604107,
          -0.21581152640941356,
          0.13976768152913263,
          0.9467098790676365,
          -0.23273491103119384,
          0.0389850989077991,
          -0.22939906198068014,
          0.8637838686080933,
          -1.1369014503927326,
          0.7526257977466814,
          0.41974541451444486,
          -0.29463973256237136,
          -2.176829559215304,
          -1.5302922998315613,
          0.35842273997828183,
          1.7264403465548985,
          -0.3653450892096323,
          -0.31695509980092507,
          -1.0558192787782297,
          -1.304349636163735,
          2.257323133922572,
          -0.10041675052728624,
          -2.24397916062139,
          -0.5589838760811628,
          -1.20295960227409,
          0.0026320539461168204,
          -0.2865627041840873,
          0.541803777541615,
          0.6300582728619144,
          -2.5053795527591367,
          -0.46316045798202704,
          -1.8274300715054332,
          -0.5586514125300802,
          0.3189194724183755,
          -1.685811925308102,
          -0.8428118098322996,
          0.80016486621426,
          0.5459717323447757,
          0.8643649166999295,
          -0.5740222161144256,
          -0.7179033509334194,
          -2.5019769582607734,
          -0.03892926260196354,
          -0.5500802354222613,
          1.2596761814939812,
          0.7347475008736277,
          -0.48819951705315184,
          -0.7205060770260235,
          -0.38233687263659966,
          0.4165865401847979,
          0.08270946347414312,
          0.04582443872299958,
          -2.839154713525733,
          1.4345342033741435,
          0.2590541572647937,
          -0.7046726386164505,
          -0.9473258446696663,
          -0.6517931146311408,
          1.0110736188093266,
          -0.5833457105696599,
          0.8982890815734496,
          0.5013034542613344,
          2.464532736067224,
          1.2612335926418747,
          0.536455461831126,
          1.934995588665759,
          -2.5219462688804963,
          0.628745198471256,
          -2.4809074077695996,
          1.6053651644968228,
          -0.2464413181810761,
          -1.4132000544481975,
          0.1868646453584373,
          0.7744526830342858,
          -0.7831732804063224,
          -2.2172665385010206,
          0.6368751852482623,
          0.11593761473734172,
          0.6190387568185067,
          -1.2760951982159945
         ],
         "xaxis": "x9",
         "y": [
          2.0269316731802673,
          0.3900738440870191,
          -0.5509704357907378,
          0.41238086371051214,
          1.3300384472698463,
          0.5094694905062215,
          1.0536919301420062,
          0.8334293454329205,
          1.1495346482242275,
          -0.8161796856150146,
          0.4621058636690486,
          0.5294813648253962,
          -0.8540906796983768,
          -1.0185814721037045,
          0.6627503077156954,
          -2.2718238272262266,
          -0.4215552608509096,
          -0.3563238694174239,
          -2.235723176981178,
          -0.0727382904398685,
          0.20698870964541172,
          1.5050735780324862,
          -0.09206585334279284,
          -0.13800615635486052,
          0.19254933126935822,
          0.5754127438818876,
          0.760219269687592,
          -0.8187273135993184,
          -0.6278746156930031,
          1.2458098868830387,
          -0.3012839116102563,
          1.2315211639397226,
          1.6939271522092885,
          -0.02336099170503781,
          0.5468940772555165,
          -0.18112666047871426,
          -0.8670913328228448,
          -0.12303348374833262,
          0.827600075731781,
          -1.4126556937840686,
          0.2961505500818118,
          1.3707393938345103,
          1.1221808269822853,
          1.3375914046745596,
          0.6112363303316156,
          0.7554927668559361,
          0.18833222037663072,
          -0.9969144284594557,
          -0.5519265291687282,
          -0.22306353873462406,
          -0.2563451918380548,
          -0.3603452681361516,
          0.9011910994483247,
          -0.533939761106292,
          0.7071983930222037,
          0.9178877931296235,
          1.2179086647333313,
          -0.7150397928951028,
          -0.5829409809514536,
          -0.9061458306370328,
          0.5694329795337395,
          1.829626058008287,
          1.9429109542822776,
          -0.49476002069023667,
          2.066978384385359,
          0.17767635307027307,
          -0.8304743101055881,
          -0.2265963040959604,
          -0.7773926224598035,
          -0.44067000289883007,
          -0.9450696730766448,
          0.48128100200464896,
          -0.49487203558974524,
          -0.6018275073423531,
          -0.5179025798437809,
          0.6565329532524697,
          -1.8662061816335884,
          1.2949345333948852,
          1.4123076140162585,
          0.7524739263061787,
          -0.0031613521859595126,
          -0.5833576432659269,
          -0.4713320882377061,
          0.30712786965241107,
          -0.619678940804528,
          -0.5930332641931113,
          1.962935237824439,
          1.2176673108805502,
          -0.2411113726519649,
          -0.3527909849181242,
          -0.1527911735003672,
          0.7915524214048402,
          -0.12748782013816512,
          0.9105749360568643,
          0.25822859450953034,
          -1.125534337375841,
          -0.8310329535110081,
          0.9578111567739361,
          -0.788743587272034,
          -0.6557483895085895
         ],
         "yaxis": "y9"
        },
        {
         "line": {
          "color": "rgba(128, 128, 128, 1.0)",
          "dash": "solid",
          "shape": "linear",
          "width": 1.3
         },
         "marker": {
          "size": 2,
          "symbol": "circle"
         },
         "mode": "markers",
         "name": "C",
         "text": "",
         "type": "scatter",
         "x": [
          -1.2299495303316792,
          0.5761251925679554,
          0.4439223748334115,
          0.4482693887595382,
          0.4391188657924199,
          -0.6090184804140729,
          0.7739033993514225,
          -0.1858044672741451,
          -1.5004542493562412,
          0.2661389565905993,
          -1.0307976300658042,
          -2.02562399847762,
          -0.7753946361284771,
          -0.024092807303725004,
          -1.5488851006659816,
          -0.40608690106156453,
          -1.7875493827221627,
          1.0978120233875932,
          1.2796131600904732,
          -0.24566124104260884,
          2.1512327284437016,
          1.0702943810199417,
          -0.16948194839928224,
          0.633425338273376,
          -0.12053714748320615,
          -0.7084391381390437,
          1.2122343306242827,
          -0.5531661180518929,
          0.6760646031687255,
          -0.8600719233782612,
          0.6307408183438546,
          0.736114624702335,
          0.8211645861435984,
          -0.9063307935843637,
          -0.4618678949453949,
          0.640819882423184,
          0.255985632683679,
          0.44050250308581096,
          -0.5098792189564512,
          0.6612370454506209,
          -0.4600852985179216,
          1.3928542342840358,
          0.8823525659375652,
          0.607283903701555,
          -2.4441288988197107,
          -0.8644188008705929,
          -0.532690495638404,
          0.12512387164939145,
          -0.7233303308661587,
          -0.23976137531649747,
          1.5587585887796735,
          -0.3530505109153326,
          -0.7056602818285378,
          0.4035688891271258,
          -0.8327362135840342,
          -1.313239469889929,
          -0.6277207975245217,
          -0.06658365119250485,
          -0.7808892284561406,
          -0.3748780636142635,
          -0.38299456605242604,
          -0.6325698902459843,
          -0.37089771726844656,
          0.32138636034575196,
          0.6727738971760795,
          -0.3945422734138908,
          2.9500615298764727,
          1.5519218449607535,
          0.4797694345031922,
          0.6423701460270103,
          -1.9708893650276542,
          1.1646789788732854,
          0.9515688528861517,
          1.4511554272385823,
          -0.20150822013810582,
          0.2606018888417338,
          -0.2510612853910099,
          2.130016703150938,
          1.63705915645,
          0.39847523494422377,
          1.0184562083723192,
          -0.5382357322422255,
          2.483246044560773,
          0.8526701202253368,
          -1.2948330224433153,
          1.3410500034685415,
          0.2624724820130176,
          0.42655832078624994,
          1.4132672701391868,
          -0.8391493300974192,
          -1.231514045828351,
          -2.0535105642667326,
          -0.8008456977267329,
          -0.38365075218860983,
          0.8430333327693967,
          1.1505882799513372,
          -1.3125282714743989,
          0.7942258301306302,
          -0.8030278933285362,
          0.023210838012871562
         ],
         "xaxis": "x10",
         "y": [
          2.0269316731802673,
          0.3900738440870191,
          -0.5509704357907378,
          0.41238086371051214,
          1.3300384472698463,
          0.5094694905062215,
          1.0536919301420062,
          0.8334293454329205,
          1.1495346482242275,
          -0.8161796856150146,
          0.4621058636690486,
          0.5294813648253962,
          -0.8540906796983768,
          -1.0185814721037045,
          0.6627503077156954,
          -2.2718238272262266,
          -0.4215552608509096,
          -0.3563238694174239,
          -2.235723176981178,
          -0.0727382904398685,
          0.20698870964541172,
          1.5050735780324862,
          -0.09206585334279284,
          -0.13800615635486052,
          0.19254933126935822,
          0.5754127438818876,
          0.760219269687592,
          -0.8187273135993184,
          -0.6278746156930031,
          1.2458098868830387,
          -0.3012839116102563,
          1.2315211639397226,
          1.6939271522092885,
          -0.02336099170503781,
          0.5468940772555165,
          -0.18112666047871426,
          -0.8670913328228448,
          -0.12303348374833262,
          0.827600075731781,
          -1.4126556937840686,
          0.2961505500818118,
          1.3707393938345103,
          1.1221808269822853,
          1.3375914046745596,
          0.6112363303316156,
          0.7554927668559361,
          0.18833222037663072,
          -0.9969144284594557,
          -0.5519265291687282,
          -0.22306353873462406,
          -0.2563451918380548,
          -0.3603452681361516,
          0.9011910994483247,
          -0.533939761106292,
          0.7071983930222037,
          0.9178877931296235,
          1.2179086647333313,
          -0.7150397928951028,
          -0.5829409809514536,
          -0.9061458306370328,
          0.5694329795337395,
          1.829626058008287,
          1.9429109542822776,
          -0.49476002069023667,
          2.066978384385359,
          0.17767635307027307,
          -0.8304743101055881,
          -0.2265963040959604,
          -0.7773926224598035,
          -0.44067000289883007,
          -0.9450696730766448,
          0.48128100200464896,
          -0.49487203558974524,
          -0.6018275073423531,
          -0.5179025798437809,
          0.6565329532524697,
          -1.8662061816335884,
          1.2949345333948852,
          1.4123076140162585,
          0.7524739263061787,
          -0.0031613521859595126,
          -0.5833576432659269,
          -0.4713320882377061,
          0.30712786965241107,
          -0.619678940804528,
          -0.5930332641931113,
          1.962935237824439,
          1.2176673108805502,
          -0.2411113726519649,
          -0.3527909849181242,
          -0.1527911735003672,
          0.7915524214048402,
          -0.12748782013816512,
          0.9105749360568643,
          0.25822859450953034,
          -1.125534337375841,
          -0.8310329535110081,
          0.9578111567739361,
          -0.788743587272034,
          -0.6557483895085895
         ],
         "yaxis": "y10"
        },
        {
         "histfunc": "count",
         "histnorm": "",
         "marker": {
          "color": "rgba(50, 171, 96, 1.0)",
          "line": {
           "color": "#4D5663",
           "width": 1.3
          }
         },
         "name": "C",
         "nbinsx": 10,
         "opacity": 0.8,
         "orientation": "v",
         "type": "histogram",
         "x": [
          2.0269316731802673,
          0.3900738440870191,
          -0.5509704357907378,
          0.41238086371051214,
          1.3300384472698463,
          0.5094694905062215,
          1.0536919301420062,
          0.8334293454329205,
          1.1495346482242275,
          -0.8161796856150146,
          0.4621058636690486,
          0.5294813648253962,
          -0.8540906796983768,
          -1.0185814721037045,
          0.6627503077156954,
          -2.2718238272262266,
          -0.4215552608509096,
          -0.3563238694174239,
          -2.235723176981178,
          -0.0727382904398685,
          0.20698870964541172,
          1.5050735780324862,
          -0.09206585334279284,
          -0.13800615635486052,
          0.19254933126935822,
          0.5754127438818876,
          0.760219269687592,
          -0.8187273135993184,
          -0.6278746156930031,
          1.2458098868830387,
          -0.3012839116102563,
          1.2315211639397226,
          1.6939271522092885,
          -0.02336099170503781,
          0.5468940772555165,
          -0.18112666047871426,
          -0.8670913328228448,
          -0.12303348374833262,
          0.827600075731781,
          -1.4126556937840686,
          0.2961505500818118,
          1.3707393938345103,
          1.1221808269822853,
          1.3375914046745596,
          0.6112363303316156,
          0.7554927668559361,
          0.18833222037663072,
          -0.9969144284594557,
          -0.5519265291687282,
          -0.22306353873462406,
          -0.2563451918380548,
          -0.3603452681361516,
          0.9011910994483247,
          -0.533939761106292,
          0.7071983930222037,
          0.9178877931296235,
          1.2179086647333313,
          -0.7150397928951028,
          -0.5829409809514536,
          -0.9061458306370328,
          0.5694329795337395,
          1.829626058008287,
          1.9429109542822776,
          -0.49476002069023667,
          2.066978384385359,
          0.17767635307027307,
          -0.8304743101055881,
          -0.2265963040959604,
          -0.7773926224598035,
          -0.44067000289883007,
          -0.9450696730766448,
          0.48128100200464896,
          -0.49487203558974524,
          -0.6018275073423531,
          -0.5179025798437809,
          0.6565329532524697,
          -1.8662061816335884,
          1.2949345333948852,
          1.4123076140162585,
          0.7524739263061787,
          -0.0031613521859595126,
          -0.5833576432659269,
          -0.4713320882377061,
          0.30712786965241107,
          -0.619678940804528,
          -0.5930332641931113,
          1.962935237824439,
          1.2176673108805502,
          -0.2411113726519649,
          -0.3527909849181242,
          -0.1527911735003672,
          0.7915524214048402,
          -0.12748782013816512,
          0.9105749360568643,
          0.25822859450953034,
          -1.125534337375841,
          -0.8310329535110081,
          0.9578111567739361,
          -0.788743587272034,
          -0.6557483895085895
         ],
         "xaxis": "x11",
         "yaxis": "y11"
        },
        {
         "line": {
          "color": "rgba(128, 128, 128, 1.0)",
          "dash": "solid",
          "shape": "linear",
          "width": 1.3
         },
         "marker": {
          "size": 2,
          "symbol": "circle"
         },
         "mode": "markers",
         "name": "C",
         "text": "",
         "type": "scatter",
         "x": [
          -0.34838642465310976,
          1.181842041223677,
          1.1274135164978363,
          -0.8505335468790323,
          -1.0545048061462534,
          0.9648968501508846,
          1.359512881108927,
          0.031319299346180704,
          -1.0544546453516068,
          -0.19415686511112226,
          -0.8782025088237447,
          0.2979572393155649,
          -0.25164257647585614,
          0.18006007456588874,
          1.5948180741168454,
          -0.11016365987717315,
          0.026912490823449833,
          -0.17314469919793413,
          -0.44698980561488744,
          -0.5223704821693409,
          1.2019422992338886,
          -0.9108856674435171,
          0.17289876018881567,
          0.9434915597651907,
          0.41427151570218734,
          0.18346300209250066,
          -1.045725467277624,
          1.0958361772136858,
          0.5154146534001802,
          0.7486792070848206,
          0.8061256766986518,
          0.2032447540621425,
          -1.6844965037132096,
          -1.0041452619752393,
          0.01302553469071673,
          -0.7734146255293952,
          0.2634141956378256,
          0.712908872570988,
          0.977766969094656,
          -0.35347025671809845,
          0.3319287536417015,
          0.19638539974491476,
          0.981980062458202,
          -1.4079859998371953,
          -0.1646834085274142,
          -0.3605965515725068,
          -0.1143569728769469,
          0.6485213215837613,
          -0.6296574194265816,
          -2.0186763437497297,
          0.9053199943270607,
          1.192836886917903,
          1.4661736115872215,
          -0.9820446114331933,
          0.4563239961336419,
          -1.3723818383770405,
          0.6094619537747207,
          -1.7935388851300191,
          -0.2507027537011104,
          1.3864089231885277,
          0.47037988777239864,
          -0.6018490239023988,
          -0.9625010436209301,
          0.2372870957932504,
          -0.09723830548886282,
          0.8069547308099078,
          -0.42105820077670625,
          1.0296767830467521,
          0.037600022632975905,
          0.07138464928075697,
          0.2796654273799903,
          -2.49408432595785,
          -0.30580333153477673,
          2.126316413474627,
          0.5927685525299955,
          0.013736794392062983,
          1.1106767069672834,
          -0.6773361907310395,
          -0.46290553372163307,
          1.2232290731098865,
          -0.14194727709821015,
          0.2707178806404906,
          -0.09855395233826988,
          -1.4312626397496775,
          -0.20452270125593489,
          -0.7052409656017552,
          -1.4274348225640827,
          0.7140966200329959,
          -0.9247066437972612,
          -0.26388909407647126,
          0.1041322303504204,
          0.7960006430313149,
          -0.05142318837511502,
          -0.6128088687539949,
          0.03981581787309479,
          -0.35908397951782045,
          -0.035824028085450044,
          -0.07966456102769102,
          0.23852400839790286,
          -1.0089027578041012
         ],
         "xaxis": "x12",
         "y": [
          2.0269316731802673,
          0.3900738440870191,
          -0.5509704357907378,
          0.41238086371051214,
          1.3300384472698463,
          0.5094694905062215,
          1.0536919301420062,
          0.8334293454329205,
          1.1495346482242275,
          -0.8161796856150146,
          0.4621058636690486,
          0.5294813648253962,
          -0.8540906796983768,
          -1.0185814721037045,
          0.6627503077156954,
          -2.2718238272262266,
          -0.4215552608509096,
          -0.3563238694174239,
          -2.235723176981178,
          -0.0727382904398685,
          0.20698870964541172,
          1.5050735780324862,
          -0.09206585334279284,
          -0.13800615635486052,
          0.19254933126935822,
          0.5754127438818876,
          0.760219269687592,
          -0.8187273135993184,
          -0.6278746156930031,
          1.2458098868830387,
          -0.3012839116102563,
          1.2315211639397226,
          1.6939271522092885,
          -0.02336099170503781,
          0.5468940772555165,
          -0.18112666047871426,
          -0.8670913328228448,
          -0.12303348374833262,
          0.827600075731781,
          -1.4126556937840686,
          0.2961505500818118,
          1.3707393938345103,
          1.1221808269822853,
          1.3375914046745596,
          0.6112363303316156,
          0.7554927668559361,
          0.18833222037663072,
          -0.9969144284594557,
          -0.5519265291687282,
          -0.22306353873462406,
          -0.2563451918380548,
          -0.3603452681361516,
          0.9011910994483247,
          -0.533939761106292,
          0.7071983930222037,
          0.9178877931296235,
          1.2179086647333313,
          -0.7150397928951028,
          -0.5829409809514536,
          -0.9061458306370328,
          0.5694329795337395,
          1.829626058008287,
          1.9429109542822776,
          -0.49476002069023667,
          2.066978384385359,
          0.17767635307027307,
          -0.8304743101055881,
          -0.2265963040959604,
          -0.7773926224598035,
          -0.44067000289883007,
          -0.9450696730766448,
          0.48128100200464896,
          -0.49487203558974524,
          -0.6018275073423531,
          -0.5179025798437809,
          0.6565329532524697,
          -1.8662061816335884,
          1.2949345333948852,
          1.4123076140162585,
          0.7524739263061787,
          -0.0031613521859595126,
          -0.5833576432659269,
          -0.4713320882377061,
          0.30712786965241107,
          -0.619678940804528,
          -0.5930332641931113,
          1.962935237824439,
          1.2176673108805502,
          -0.2411113726519649,
          -0.3527909849181242,
          -0.1527911735003672,
          0.7915524214048402,
          -0.12748782013816512,
          0.9105749360568643,
          0.25822859450953034,
          -1.125534337375841,
          -0.8310329535110081,
          0.9578111567739361,
          -0.788743587272034,
          -0.6557483895085895
         ],
         "yaxis": "y12"
        },
        {
         "line": {
          "color": "rgba(128, 128, 128, 1.0)",
          "dash": "solid",
          "shape": "linear",
          "width": 1.3
         },
         "marker": {
          "size": 2,
          "symbol": "circle"
         },
         "mode": "markers",
         "name": "D",
         "text": "",
         "type": "scatter",
         "x": [
          0.027241215754599653,
          0.461466942154424,
          0.3737578251714141,
          -1.4560336370431364,
          0.05734000875052292,
          -0.6934160050389406,
          -0.12917756125043053,
          0.5419506235849016,
          -1.1012631192337687,
          0.24570141978914636,
          0.01087999684740408,
          0.8100012366208713,
          -0.7030304225159633,
          -0.5946926572342286,
          -0.44511995840997504,
          0.23427398696523208,
          0.4160578404859543,
          -3.2493969232153423,
          -0.4734991876936832,
          -0.07570748157761908,
          0.3528977639604107,
          -0.21581152640941356,
          0.13976768152913263,
          0.9467098790676365,
          -0.23273491103119384,
          0.0389850989077991,
          -0.22939906198068014,
          0.8637838686080933,
          -1.1369014503927326,
          0.7526257977466814,
          0.41974541451444486,
          -0.29463973256237136,
          -2.176829559215304,
          -1.5302922998315613,
          0.35842273997828183,
          1.7264403465548985,
          -0.3653450892096323,
          -0.31695509980092507,
          -1.0558192787782297,
          -1.304349636163735,
          2.257323133922572,
          -0.10041675052728624,
          -2.24397916062139,
          -0.5589838760811628,
          -1.20295960227409,
          0.0026320539461168204,
          -0.2865627041840873,
          0.541803777541615,
          0.6300582728619144,
          -2.5053795527591367,
          -0.46316045798202704,
          -1.8274300715054332,
          -0.5586514125300802,
          0.3189194724183755,
          -1.685811925308102,
          -0.8428118098322996,
          0.80016486621426,
          0.5459717323447757,
          0.8643649166999295,
          -0.5740222161144256,
          -0.7179033509334194,
          -2.5019769582607734,
          -0.03892926260196354,
          -0.5500802354222613,
          1.2596761814939812,
          0.7347475008736277,
          -0.48819951705315184,
          -0.7205060770260235,
          -0.38233687263659966,
          0.4165865401847979,
          0.08270946347414312,
          0.04582443872299958,
          -2.839154713525733,
          1.4345342033741435,
          0.2590541572647937,
          -0.7046726386164505,
          -0.9473258446696663,
          -0.6517931146311408,
          1.0110736188093266,
          -0.5833457105696599,
          0.8982890815734496,
          0.5013034542613344,
          2.464532736067224,
          1.2612335926418747,
          0.536455461831126,
          1.934995588665759,
          -2.5219462688804963,
          0.628745198471256,
          -2.4809074077695996,
          1.6053651644968228,
          -0.2464413181810761,
          -1.4132000544481975,
          0.1868646453584373,
          0.7744526830342858,
          -0.7831732804063224,
          -2.2172665385010206,
          0.6368751852482623,
          0.11593761473734172,
          0.6190387568185067,
          -1.2760951982159945
         ],
         "xaxis": "x13",
         "y": [
          -0.34838642465310976,
          1.181842041223677,
          1.1274135164978363,
          -0.8505335468790323,
          -1.0545048061462534,
          0.9648968501508846,
          1.359512881108927,
          0.031319299346180704,
          -1.0544546453516068,
          -0.19415686511112226,
          -0.8782025088237447,
          0.2979572393155649,
          -0.25164257647585614,
          0.18006007456588874,
          1.5948180741168454,
          -0.11016365987717315,
          0.026912490823449833,
          -0.17314469919793413,
          -0.44698980561488744,
          -0.5223704821693409,
          1.2019422992338886,
          -0.9108856674435171,
          0.17289876018881567,
          0.9434915597651907,
          0.41427151570218734,
          0.18346300209250066,
          -1.045725467277624,
          1.0958361772136858,
          0.5154146534001802,
          0.7486792070848206,
          0.8061256766986518,
          0.2032447540621425,
          -1.6844965037132096,
          -1.0041452619752393,
          0.01302553469071673,
          -0.7734146255293952,
          0.2634141956378256,
          0.712908872570988,
          0.977766969094656,
          -0.35347025671809845,
          0.3319287536417015,
          0.19638539974491476,
          0.981980062458202,
          -1.4079859998371953,
          -0.1646834085274142,
          -0.3605965515725068,
          -0.1143569728769469,
          0.6485213215837613,
          -0.6296574194265816,
          -2.0186763437497297,
          0.9053199943270607,
          1.192836886917903,
          1.4661736115872215,
          -0.9820446114331933,
          0.4563239961336419,
          -1.3723818383770405,
          0.6094619537747207,
          -1.7935388851300191,
          -0.2507027537011104,
          1.3864089231885277,
          0.47037988777239864,
          -0.6018490239023988,
          -0.9625010436209301,
          0.2372870957932504,
          -0.09723830548886282,
          0.8069547308099078,
          -0.42105820077670625,
          1.0296767830467521,
          0.037600022632975905,
          0.07138464928075697,
          0.2796654273799903,
          -2.49408432595785,
          -0.30580333153477673,
          2.126316413474627,
          0.5927685525299955,
          0.013736794392062983,
          1.1106767069672834,
          -0.6773361907310395,
          -0.46290553372163307,
          1.2232290731098865,
          -0.14194727709821015,
          0.2707178806404906,
          -0.09855395233826988,
          -1.4312626397496775,
          -0.20452270125593489,
          -0.7052409656017552,
          -1.4274348225640827,
          0.7140966200329959,
          -0.9247066437972612,
          -0.26388909407647126,
          0.1041322303504204,
          0.7960006430313149,
          -0.05142318837511502,
          -0.6128088687539949,
          0.03981581787309479,
          -0.35908397951782045,
          -0.035824028085450044,
          -0.07966456102769102,
          0.23852400839790286,
          -1.0089027578041012
         ],
         "yaxis": "y13"
        },
        {
         "line": {
          "color": "rgba(128, 128, 128, 1.0)",
          "dash": "solid",
          "shape": "linear",
          "width": 1.3
         },
         "marker": {
          "size": 2,
          "symbol": "circle"
         },
         "mode": "markers",
         "name": "D",
         "text": "",
         "type": "scatter",
         "x": [
          -1.2299495303316792,
          0.5761251925679554,
          0.4439223748334115,
          0.4482693887595382,
          0.4391188657924199,
          -0.6090184804140729,
          0.7739033993514225,
          -0.1858044672741451,
          -1.5004542493562412,
          0.2661389565905993,
          -1.0307976300658042,
          -2.02562399847762,
          -0.7753946361284771,
          -0.024092807303725004,
          -1.5488851006659816,
          -0.40608690106156453,
          -1.7875493827221627,
          1.0978120233875932,
          1.2796131600904732,
          -0.24566124104260884,
          2.1512327284437016,
          1.0702943810199417,
          -0.16948194839928224,
          0.633425338273376,
          -0.12053714748320615,
          -0.7084391381390437,
          1.2122343306242827,
          -0.5531661180518929,
          0.6760646031687255,
          -0.8600719233782612,
          0.6307408183438546,
          0.736114624702335,
          0.8211645861435984,
          -0.9063307935843637,
          -0.4618678949453949,
          0.640819882423184,
          0.255985632683679,
          0.44050250308581096,
          -0.5098792189564512,
          0.6612370454506209,
          -0.4600852985179216,
          1.3928542342840358,
          0.8823525659375652,
          0.607283903701555,
          -2.4441288988197107,
          -0.8644188008705929,
          -0.532690495638404,
          0.12512387164939145,
          -0.7233303308661587,
          -0.23976137531649747,
          1.5587585887796735,
          -0.3530505109153326,
          -0.7056602818285378,
          0.4035688891271258,
          -0.8327362135840342,
          -1.313239469889929,
          -0.6277207975245217,
          -0.06658365119250485,
          -0.7808892284561406,
          -0.3748780636142635,
          -0.38299456605242604,
          -0.6325698902459843,
          -0.37089771726844656,
          0.32138636034575196,
          0.6727738971760795,
          -0.3945422734138908,
          2.9500615298764727,
          1.5519218449607535,
          0.4797694345031922,
          0.6423701460270103,
          -1.9708893650276542,
          1.1646789788732854,
          0.9515688528861517,
          1.4511554272385823,
          -0.20150822013810582,
          0.2606018888417338,
          -0.2510612853910099,
          2.130016703150938,
          1.63705915645,
          0.39847523494422377,
          1.0184562083723192,
          -0.5382357322422255,
          2.483246044560773,
          0.8526701202253368,
          -1.2948330224433153,
          1.3410500034685415,
          0.2624724820130176,
          0.42655832078624994,
          1.4132672701391868,
          -0.8391493300974192,
          -1.231514045828351,
          -2.0535105642667326,
          -0.8008456977267329,
          -0.38365075218860983,
          0.8430333327693967,
          1.1505882799513372,
          -1.3125282714743989,
          0.7942258301306302,
          -0.8030278933285362,
          0.023210838012871562
         ],
         "xaxis": "x14",
         "y": [
          -0.34838642465310976,
          1.181842041223677,
          1.1274135164978363,
          -0.8505335468790323,
          -1.0545048061462534,
          0.9648968501508846,
          1.359512881108927,
          0.031319299346180704,
          -1.0544546453516068,
          -0.19415686511112226,
          -0.8782025088237447,
          0.2979572393155649,
          -0.25164257647585614,
          0.18006007456588874,
          1.5948180741168454,
          -0.11016365987717315,
          0.026912490823449833,
          -0.17314469919793413,
          -0.44698980561488744,
          -0.5223704821693409,
          1.2019422992338886,
          -0.9108856674435171,
          0.17289876018881567,
          0.9434915597651907,
          0.41427151570218734,
          0.18346300209250066,
          -1.045725467277624,
          1.0958361772136858,
          0.5154146534001802,
          0.7486792070848206,
          0.8061256766986518,
          0.2032447540621425,
          -1.6844965037132096,
          -1.0041452619752393,
          0.01302553469071673,
          -0.7734146255293952,
          0.2634141956378256,
          0.712908872570988,
          0.977766969094656,
          -0.35347025671809845,
          0.3319287536417015,
          0.19638539974491476,
          0.981980062458202,
          -1.4079859998371953,
          -0.1646834085274142,
          -0.3605965515725068,
          -0.1143569728769469,
          0.6485213215837613,
          -0.6296574194265816,
          -2.0186763437497297,
          0.9053199943270607,
          1.192836886917903,
          1.4661736115872215,
          -0.9820446114331933,
          0.4563239961336419,
          -1.3723818383770405,
          0.6094619537747207,
          -1.7935388851300191,
          -0.2507027537011104,
          1.3864089231885277,
          0.47037988777239864,
          -0.6018490239023988,
          -0.9625010436209301,
          0.2372870957932504,
          -0.09723830548886282,
          0.8069547308099078,
          -0.42105820077670625,
          1.0296767830467521,
          0.037600022632975905,
          0.07138464928075697,
          0.2796654273799903,
          -2.49408432595785,
          -0.30580333153477673,
          2.126316413474627,
          0.5927685525299955,
          0.013736794392062983,
          1.1106767069672834,
          -0.6773361907310395,
          -0.46290553372163307,
          1.2232290731098865,
          -0.14194727709821015,
          0.2707178806404906,
          -0.09855395233826988,
          -1.4312626397496775,
          -0.20452270125593489,
          -0.7052409656017552,
          -1.4274348225640827,
          0.7140966200329959,
          -0.9247066437972612,
          -0.26388909407647126,
          0.1041322303504204,
          0.7960006430313149,
          -0.05142318837511502,
          -0.6128088687539949,
          0.03981581787309479,
          -0.35908397951782045,
          -0.035824028085450044,
          -0.07966456102769102,
          0.23852400839790286,
          -1.0089027578041012
         ],
         "yaxis": "y14"
        },
        {
         "line": {
          "color": "rgba(128, 128, 128, 1.0)",
          "dash": "solid",
          "shape": "linear",
          "width": 1.3
         },
         "marker": {
          "size": 2,
          "symbol": "circle"
         },
         "mode": "markers",
         "name": "D",
         "text": "",
         "type": "scatter",
         "x": [
          2.0269316731802673,
          0.3900738440870191,
          -0.5509704357907378,
          0.41238086371051214,
          1.3300384472698463,
          0.5094694905062215,
          1.0536919301420062,
          0.8334293454329205,
          1.1495346482242275,
          -0.8161796856150146,
          0.4621058636690486,
          0.5294813648253962,
          -0.8540906796983768,
          -1.0185814721037045,
          0.6627503077156954,
          -2.2718238272262266,
          -0.4215552608509096,
          -0.3563238694174239,
          -2.235723176981178,
          -0.0727382904398685,
          0.20698870964541172,
          1.5050735780324862,
          -0.09206585334279284,
          -0.13800615635486052,
          0.19254933126935822,
          0.5754127438818876,
          0.760219269687592,
          -0.8187273135993184,
          -0.6278746156930031,
          1.2458098868830387,
          -0.3012839116102563,
          1.2315211639397226,
          1.6939271522092885,
          -0.02336099170503781,
          0.5468940772555165,
          -0.18112666047871426,
          -0.8670913328228448,
          -0.12303348374833262,
          0.827600075731781,
          -1.4126556937840686,
          0.2961505500818118,
          1.3707393938345103,
          1.1221808269822853,
          1.3375914046745596,
          0.6112363303316156,
          0.7554927668559361,
          0.18833222037663072,
          -0.9969144284594557,
          -0.5519265291687282,
          -0.22306353873462406,
          -0.2563451918380548,
          -0.3603452681361516,
          0.9011910994483247,
          -0.533939761106292,
          0.7071983930222037,
          0.9178877931296235,
          1.2179086647333313,
          -0.7150397928951028,
          -0.5829409809514536,
          -0.9061458306370328,
          0.5694329795337395,
          1.829626058008287,
          1.9429109542822776,
          -0.49476002069023667,
          2.066978384385359,
          0.17767635307027307,
          -0.8304743101055881,
          -0.2265963040959604,
          -0.7773926224598035,
          -0.44067000289883007,
          -0.9450696730766448,
          0.48128100200464896,
          -0.49487203558974524,
          -0.6018275073423531,
          -0.5179025798437809,
          0.6565329532524697,
          -1.8662061816335884,
          1.2949345333948852,
          1.4123076140162585,
          0.7524739263061787,
          -0.0031613521859595126,
          -0.5833576432659269,
          -0.4713320882377061,
          0.30712786965241107,
          -0.619678940804528,
          -0.5930332641931113,
          1.962935237824439,
          1.2176673108805502,
          -0.2411113726519649,
          -0.3527909849181242,
          -0.1527911735003672,
          0.7915524214048402,
          -0.12748782013816512,
          0.9105749360568643,
          0.25822859450953034,
          -1.125534337375841,
          -0.8310329535110081,
          0.9578111567739361,
          -0.788743587272034,
          -0.6557483895085895
         ],
         "xaxis": "x15",
         "y": [
          -0.34838642465310976,
          1.181842041223677,
          1.1274135164978363,
          -0.8505335468790323,
          -1.0545048061462534,
          0.9648968501508846,
          1.359512881108927,
          0.031319299346180704,
          -1.0544546453516068,
          -0.19415686511112226,
          -0.8782025088237447,
          0.2979572393155649,
          -0.25164257647585614,
          0.18006007456588874,
          1.5948180741168454,
          -0.11016365987717315,
          0.026912490823449833,
          -0.17314469919793413,
          -0.44698980561488744,
          -0.5223704821693409,
          1.2019422992338886,
          -0.9108856674435171,
          0.17289876018881567,
          0.9434915597651907,
          0.41427151570218734,
          0.18346300209250066,
          -1.045725467277624,
          1.0958361772136858,
          0.5154146534001802,
          0.7486792070848206,
          0.8061256766986518,
          0.2032447540621425,
          -1.6844965037132096,
          -1.0041452619752393,
          0.01302553469071673,
          -0.7734146255293952,
          0.2634141956378256,
          0.712908872570988,
          0.977766969094656,
          -0.35347025671809845,
          0.3319287536417015,
          0.19638539974491476,
          0.981980062458202,
          -1.4079859998371953,
          -0.1646834085274142,
          -0.3605965515725068,
          -0.1143569728769469,
          0.6485213215837613,
          -0.6296574194265816,
          -2.0186763437497297,
          0.9053199943270607,
          1.192836886917903,
          1.4661736115872215,
          -0.9820446114331933,
          0.4563239961336419,
          -1.3723818383770405,
          0.6094619537747207,
          -1.7935388851300191,
          -0.2507027537011104,
          1.3864089231885277,
          0.47037988777239864,
          -0.6018490239023988,
          -0.9625010436209301,
          0.2372870957932504,
          -0.09723830548886282,
          0.8069547308099078,
          -0.42105820077670625,
          1.0296767830467521,
          0.037600022632975905,
          0.07138464928075697,
          0.2796654273799903,
          -2.49408432595785,
          -0.30580333153477673,
          2.126316413474627,
          0.5927685525299955,
          0.013736794392062983,
          1.1106767069672834,
          -0.6773361907310395,
          -0.46290553372163307,
          1.2232290731098865,
          -0.14194727709821015,
          0.2707178806404906,
          -0.09855395233826988,
          -1.4312626397496775,
          -0.20452270125593489,
          -0.7052409656017552,
          -1.4274348225640827,
          0.7140966200329959,
          -0.9247066437972612,
          -0.26388909407647126,
          0.1041322303504204,
          0.7960006430313149,
          -0.05142318837511502,
          -0.6128088687539949,
          0.03981581787309479,
          -0.35908397951782045,
          -0.035824028085450044,
          -0.07966456102769102,
          0.23852400839790286,
          -1.0089027578041012
         ],
         "yaxis": "y15"
        },
        {
         "histfunc": "count",
         "histnorm": "",
         "marker": {
          "color": "rgba(128, 0, 128, 1.0)",
          "line": {
           "color": "#4D5663",
           "width": 1.3
          }
         },
         "name": "D",
         "nbinsx": 10,
         "opacity": 0.8,
         "orientation": "v",
         "type": "histogram",
         "x": [
          -0.34838642465310976,
          1.181842041223677,
          1.1274135164978363,
          -0.8505335468790323,
          -1.0545048061462534,
          0.9648968501508846,
          1.359512881108927,
          0.031319299346180704,
          -1.0544546453516068,
          -0.19415686511112226,
          -0.8782025088237447,
          0.2979572393155649,
          -0.25164257647585614,
          0.18006007456588874,
          1.5948180741168454,
          -0.11016365987717315,
          0.026912490823449833,
          -0.17314469919793413,
          -0.44698980561488744,
          -0.5223704821693409,
          1.2019422992338886,
          -0.9108856674435171,
          0.17289876018881567,
          0.9434915597651907,
          0.41427151570218734,
          0.18346300209250066,
          -1.045725467277624,
          1.0958361772136858,
          0.5154146534001802,
          0.7486792070848206,
          0.8061256766986518,
          0.2032447540621425,
          -1.6844965037132096,
          -1.0041452619752393,
          0.01302553469071673,
          -0.7734146255293952,
          0.2634141956378256,
          0.712908872570988,
          0.977766969094656,
          -0.35347025671809845,
          0.3319287536417015,
          0.19638539974491476,
          0.981980062458202,
          -1.4079859998371953,
          -0.1646834085274142,
          -0.3605965515725068,
          -0.1143569728769469,
          0.6485213215837613,
          -0.6296574194265816,
          -2.0186763437497297,
          0.9053199943270607,
          1.192836886917903,
          1.4661736115872215,
          -0.9820446114331933,
          0.4563239961336419,
          -1.3723818383770405,
          0.6094619537747207,
          -1.7935388851300191,
          -0.2507027537011104,
          1.3864089231885277,
          0.47037988777239864,
          -0.6018490239023988,
          -0.9625010436209301,
          0.2372870957932504,
          -0.09723830548886282,
          0.8069547308099078,
          -0.42105820077670625,
          1.0296767830467521,
          0.037600022632975905,
          0.07138464928075697,
          0.2796654273799903,
          -2.49408432595785,
          -0.30580333153477673,
          2.126316413474627,
          0.5927685525299955,
          0.013736794392062983,
          1.1106767069672834,
          -0.6773361907310395,
          -0.46290553372163307,
          1.2232290731098865,
          -0.14194727709821015,
          0.2707178806404906,
          -0.09855395233826988,
          -1.4312626397496775,
          -0.20452270125593489,
          -0.7052409656017552,
          -1.4274348225640827,
          0.7140966200329959,
          -0.9247066437972612,
          -0.26388909407647126,
          0.1041322303504204,
          0.7960006430313149,
          -0.05142318837511502,
          -0.6128088687539949,
          0.03981581787309479,
          -0.35908397951782045,
          -0.035824028085450044,
          -0.07966456102769102,
          0.23852400839790286,
          -1.0089027578041012
         ],
         "xaxis": "x16",
         "yaxis": "y16"
        }
       ],
       "layout": {
        "bargap": 0.02,
        "legend": {
         "bgcolor": "#F5F6F9",
         "font": {
          "color": "#4D5663"
         }
        },
        "paper_bgcolor": "#F5F6F9",
        "plot_bgcolor": "#F5F6F9",
        "showlegend": false,
        "template": {
         "data": {
          "bar": [
           {
            "error_x": {
             "color": "#2a3f5f"
            },
            "error_y": {
             "color": "#2a3f5f"
            },
            "marker": {
             "line": {
              "color": "#E5ECF6",
              "width": 0.5
             },
             "pattern": {
              "fillmode": "overlay",
              "size": 10,
              "solidity": 0.2
             }
            },
            "type": "bar"
           }
          ],
          "barpolar": [
           {
            "marker": {
             "line": {
              "color": "#E5ECF6",
              "width": 0.5
             },
             "pattern": {
              "fillmode": "overlay",
              "size": 10,
              "solidity": 0.2
             }
            },
            "type": "barpolar"
           }
          ],
          "carpet": [
           {
            "aaxis": {
             "endlinecolor": "#2a3f5f",
             "gridcolor": "white",
             "linecolor": "white",
             "minorgridcolor": "white",
             "startlinecolor": "#2a3f5f"
            },
            "baxis": {
             "endlinecolor": "#2a3f5f",
             "gridcolor": "white",
             "linecolor": "white",
             "minorgridcolor": "white",
             "startlinecolor": "#2a3f5f"
            },
            "type": "carpet"
           }
          ],
          "choropleth": [
           {
            "colorbar": {
             "outlinewidth": 0,
             "ticks": ""
            },
            "type": "choropleth"
           }
          ],
          "contour": [
           {
            "colorbar": {
             "outlinewidth": 0,
             "ticks": ""
            },
            "colorscale": [
             [
              0,
              "#0d0887"
             ],
             [
              0.1111111111111111,
              "#46039f"
             ],
             [
              0.2222222222222222,
              "#7201a8"
             ],
             [
              0.3333333333333333,
              "#9c179e"
             ],
             [
              0.4444444444444444,
              "#bd3786"
             ],
             [
              0.5555555555555556,
              "#d8576b"
             ],
             [
              0.6666666666666666,
              "#ed7953"
             ],
             [
              0.7777777777777778,
              "#fb9f3a"
             ],
             [
              0.8888888888888888,
              "#fdca26"
             ],
             [
              1,
              "#f0f921"
             ]
            ],
            "type": "contour"
           }
          ],
          "contourcarpet": [
           {
            "colorbar": {
             "outlinewidth": 0,
             "ticks": ""
            },
            "type": "contourcarpet"
           }
          ],
          "heatmap": [
           {
            "colorbar": {
             "outlinewidth": 0,
             "ticks": ""
            },
            "colorscale": [
             [
              0,
              "#0d0887"
             ],
             [
              0.1111111111111111,
              "#46039f"
             ],
             [
              0.2222222222222222,
              "#7201a8"
             ],
             [
              0.3333333333333333,
              "#9c179e"
             ],
             [
              0.4444444444444444,
              "#bd3786"
             ],
             [
              0.5555555555555556,
              "#d8576b"
             ],
             [
              0.6666666666666666,
              "#ed7953"
             ],
             [
              0.7777777777777778,
              "#fb9f3a"
             ],
             [
              0.8888888888888888,
              "#fdca26"
             ],
             [
              1,
              "#f0f921"
             ]
            ],
            "type": "heatmap"
           }
          ],
          "heatmapgl": [
           {
            "colorbar": {
             "outlinewidth": 0,
             "ticks": ""
            },
            "colorscale": [
             [
              0,
              "#0d0887"
             ],
             [
              0.1111111111111111,
              "#46039f"
             ],
             [
              0.2222222222222222,
              "#7201a8"
             ],
             [
              0.3333333333333333,
              "#9c179e"
             ],
             [
              0.4444444444444444,
              "#bd3786"
             ],
             [
              0.5555555555555556,
              "#d8576b"
             ],
             [
              0.6666666666666666,
              "#ed7953"
             ],
             [
              0.7777777777777778,
              "#fb9f3a"
             ],
             [
              0.8888888888888888,
              "#fdca26"
             ],
             [
              1,
              "#f0f921"
             ]
            ],
            "type": "heatmapgl"
           }
          ],
          "histogram": [
           {
            "marker": {
             "pattern": {
              "fillmode": "overlay",
              "size": 10,
              "solidity": 0.2
             }
            },
            "type": "histogram"
           }
          ],
          "histogram2d": [
           {
            "colorbar": {
             "outlinewidth": 0,
             "ticks": ""
            },
            "colorscale": [
             [
              0,
              "#0d0887"
             ],
             [
              0.1111111111111111,
              "#46039f"
             ],
             [
              0.2222222222222222,
              "#7201a8"
             ],
             [
              0.3333333333333333,
              "#9c179e"
             ],
             [
              0.4444444444444444,
              "#bd3786"
             ],
             [
              0.5555555555555556,
              "#d8576b"
             ],
             [
              0.6666666666666666,
              "#ed7953"
             ],
             [
              0.7777777777777778,
              "#fb9f3a"
             ],
             [
              0.8888888888888888,
              "#fdca26"
             ],
             [
              1,
              "#f0f921"
             ]
            ],
            "type": "histogram2d"
           }
          ],
          "histogram2dcontour": [
           {
            "colorbar": {
             "outlinewidth": 0,
             "ticks": ""
            },
            "colorscale": [
             [
              0,
              "#0d0887"
             ],
             [
              0.1111111111111111,
              "#46039f"
             ],
             [
              0.2222222222222222,
              "#7201a8"
             ],
             [
              0.3333333333333333,
              "#9c179e"
             ],
             [
              0.4444444444444444,
              "#bd3786"
             ],
             [
              0.5555555555555556,
              "#d8576b"
             ],
             [
              0.6666666666666666,
              "#ed7953"
             ],
             [
              0.7777777777777778,
              "#fb9f3a"
             ],
             [
              0.8888888888888888,
              "#fdca26"
             ],
             [
              1,
              "#f0f921"
             ]
            ],
            "type": "histogram2dcontour"
           }
          ],
          "mesh3d": [
           {
            "colorbar": {
             "outlinewidth": 0,
             "ticks": ""
            },
            "type": "mesh3d"
           }
          ],
          "parcoords": [
           {
            "line": {
             "colorbar": {
              "outlinewidth": 0,
              "ticks": ""
             }
            },
            "type": "parcoords"
           }
          ],
          "pie": [
           {
            "automargin": true,
            "type": "pie"
           }
          ],
          "scatter": [
           {
            "marker": {
             "colorbar": {
              "outlinewidth": 0,
              "ticks": ""
             }
            },
            "type": "scatter"
           }
          ],
          "scatter3d": [
           {
            "line": {
             "colorbar": {
              "outlinewidth": 0,
              "ticks": ""
             }
            },
            "marker": {
             "colorbar": {
              "outlinewidth": 0,
              "ticks": ""
             }
            },
            "type": "scatter3d"
           }
          ],
          "scattercarpet": [
           {
            "marker": {
             "colorbar": {
              "outlinewidth": 0,
              "ticks": ""
             }
            },
            "type": "scattercarpet"
           }
          ],
          "scattergeo": [
           {
            "marker": {
             "colorbar": {
              "outlinewidth": 0,
              "ticks": ""
             }
            },
            "type": "scattergeo"
           }
          ],
          "scattergl": [
           {
            "marker": {
             "colorbar": {
              "outlinewidth": 0,
              "ticks": ""
             }
            },
            "type": "scattergl"
           }
          ],
          "scattermapbox": [
           {
            "marker": {
             "colorbar": {
              "outlinewidth": 0,
              "ticks": ""
             }
            },
            "type": "scattermapbox"
           }
          ],
          "scatterpolar": [
           {
            "marker": {
             "colorbar": {
              "outlinewidth": 0,
              "ticks": ""
             }
            },
            "type": "scatterpolar"
           }
          ],
          "scatterpolargl": [
           {
            "marker": {
             "colorbar": {
              "outlinewidth": 0,
              "ticks": ""
             }
            },
            "type": "scatterpolargl"
           }
          ],
          "scatterternary": [
           {
            "marker": {
             "colorbar": {
              "outlinewidth": 0,
              "ticks": ""
             }
            },
            "type": "scatterternary"
           }
          ],
          "surface": [
           {
            "colorbar": {
             "outlinewidth": 0,
             "ticks": ""
            },
            "colorscale": [
             [
              0,
              "#0d0887"
             ],
             [
              0.1111111111111111,
              "#46039f"
             ],
             [
              0.2222222222222222,
              "#7201a8"
             ],
             [
              0.3333333333333333,
              "#9c179e"
             ],
             [
              0.4444444444444444,
              "#bd3786"
             ],
             [
              0.5555555555555556,
              "#d8576b"
             ],
             [
              0.6666666666666666,
              "#ed7953"
             ],
             [
              0.7777777777777778,
              "#fb9f3a"
             ],
             [
              0.8888888888888888,
              "#fdca26"
             ],
             [
              1,
              "#f0f921"
             ]
            ],
            "type": "surface"
           }
          ],
          "table": [
           {
            "cells": {
             "fill": {
              "color": "#EBF0F8"
             },
             "line": {
              "color": "white"
             }
            },
            "header": {
             "fill": {
              "color": "#C8D4E3"
             },
             "line": {
              "color": "white"
             }
            },
            "type": "table"
           }
          ]
         },
         "layout": {
          "annotationdefaults": {
           "arrowcolor": "#2a3f5f",
           "arrowhead": 0,
           "arrowwidth": 1
          },
          "autotypenumbers": "strict",
          "coloraxis": {
           "colorbar": {
            "outlinewidth": 0,
            "ticks": ""
           }
          },
          "colorscale": {
           "diverging": [
            [
             0,
             "#8e0152"
            ],
            [
             0.1,
             "#c51b7d"
            ],
            [
             0.2,
             "#de77ae"
            ],
            [
             0.3,
             "#f1b6da"
            ],
            [
             0.4,
             "#fde0ef"
            ],
            [
             0.5,
             "#f7f7f7"
            ],
            [
             0.6,
             "#e6f5d0"
            ],
            [
             0.7,
             "#b8e186"
            ],
            [
             0.8,
             "#7fbc41"
            ],
            [
             0.9,
             "#4d9221"
            ],
            [
             1,
             "#276419"
            ]
           ],
           "sequential": [
            [
             0,
             "#0d0887"
            ],
            [
             0.1111111111111111,
             "#46039f"
            ],
            [
             0.2222222222222222,
             "#7201a8"
            ],
            [
             0.3333333333333333,
             "#9c179e"
            ],
            [
             0.4444444444444444,
             "#bd3786"
            ],
            [
             0.5555555555555556,
             "#d8576b"
            ],
            [
             0.6666666666666666,
             "#ed7953"
            ],
            [
             0.7777777777777778,
             "#fb9f3a"
            ],
            [
             0.8888888888888888,
             "#fdca26"
            ],
            [
             1,
             "#f0f921"
            ]
           ],
           "sequentialminus": [
            [
             0,
             "#0d0887"
            ],
            [
             0.1111111111111111,
             "#46039f"
            ],
            [
             0.2222222222222222,
             "#7201a8"
            ],
            [
             0.3333333333333333,
             "#9c179e"
            ],
            [
             0.4444444444444444,
             "#bd3786"
            ],
            [
             0.5555555555555556,
             "#d8576b"
            ],
            [
             0.6666666666666666,
             "#ed7953"
            ],
            [
             0.7777777777777778,
             "#fb9f3a"
            ],
            [
             0.8888888888888888,
             "#fdca26"
            ],
            [
             1,
             "#f0f921"
            ]
           ]
          },
          "colorway": [
           "#636efa",
           "#EF553B",
           "#00cc96",
           "#ab63fa",
           "#FFA15A",
           "#19d3f3",
           "#FF6692",
           "#B6E880",
           "#FF97FF",
           "#FECB52"
          ],
          "font": {
           "color": "#2a3f5f"
          },
          "geo": {
           "bgcolor": "white",
           "lakecolor": "white",
           "landcolor": "#E5ECF6",
           "showlakes": true,
           "showland": true,
           "subunitcolor": "white"
          },
          "hoverlabel": {
           "align": "left"
          },
          "hovermode": "closest",
          "mapbox": {
           "style": "light"
          },
          "paper_bgcolor": "white",
          "plot_bgcolor": "#E5ECF6",
          "polar": {
           "angularaxis": {
            "gridcolor": "white",
            "linecolor": "white",
            "ticks": ""
           },
           "bgcolor": "#E5ECF6",
           "radialaxis": {
            "gridcolor": "white",
            "linecolor": "white",
            "ticks": ""
           }
          },
          "scene": {
           "xaxis": {
            "backgroundcolor": "#E5ECF6",
            "gridcolor": "white",
            "gridwidth": 2,
            "linecolor": "white",
            "showbackground": true,
            "ticks": "",
            "zerolinecolor": "white"
           },
           "yaxis": {
            "backgroundcolor": "#E5ECF6",
            "gridcolor": "white",
            "gridwidth": 2,
            "linecolor": "white",
            "showbackground": true,
            "ticks": "",
            "zerolinecolor": "white"
           },
           "zaxis": {
            "backgroundcolor": "#E5ECF6",
            "gridcolor": "white",
            "gridwidth": 2,
            "linecolor": "white",
            "showbackground": true,
            "ticks": "",
            "zerolinecolor": "white"
           }
          },
          "shapedefaults": {
           "line": {
            "color": "#2a3f5f"
           }
          },
          "ternary": {
           "aaxis": {
            "gridcolor": "white",
            "linecolor": "white",
            "ticks": ""
           },
           "baxis": {
            "gridcolor": "white",
            "linecolor": "white",
            "ticks": ""
           },
           "bgcolor": "#E5ECF6",
           "caxis": {
            "gridcolor": "white",
            "linecolor": "white",
            "ticks": ""
           }
          },
          "title": {
           "x": 0.05
          },
          "xaxis": {
           "automargin": true,
           "gridcolor": "white",
           "linecolor": "white",
           "ticks": "",
           "title": {
            "standoff": 15
           },
           "zerolinecolor": "white",
           "zerolinewidth": 2
          },
          "yaxis": {
           "automargin": true,
           "gridcolor": "white",
           "linecolor": "white",
           "ticks": "",
           "title": {
            "standoff": 15
           },
           "zerolinecolor": "white",
           "zerolinewidth": 2
          }
         }
        },
        "title": {
         "font": {
          "color": "#4D5663"
         }
        },
        "xaxis": {
         "anchor": "y",
         "domain": [
          0,
          0.2125
         ],
         "gridcolor": "#E1E5ED",
         "showgrid": false,
         "tickfont": {
          "color": "#4D5663"
         },
         "title": {
          "font": {
           "color": "#4D5663"
          },
          "text": ""
         },
         "zerolinecolor": "#E1E5ED"
        },
        "xaxis10": {
         "anchor": "y10",
         "domain": [
          0.2625,
          0.475
         ],
         "gridcolor": "#E1E5ED",
         "showgrid": false,
         "tickfont": {
          "color": "#4D5663"
         },
         "title": {
          "font": {
           "color": "#4D5663"
          },
          "text": ""
         },
         "zerolinecolor": "#E1E5ED"
        },
        "xaxis11": {
         "anchor": "y11",
         "domain": [
          0.525,
          0.7375
         ],
         "gridcolor": "#E1E5ED",
         "showgrid": false,
         "tickfont": {
          "color": "#4D5663"
         },
         "title": {
          "font": {
           "color": "#4D5663"
          },
          "text": ""
         },
         "zerolinecolor": "#E1E5ED"
        },
        "xaxis12": {
         "anchor": "y12",
         "domain": [
          0.7875,
          1
         ],
         "gridcolor": "#E1E5ED",
         "showgrid": false,
         "tickfont": {
          "color": "#4D5663"
         },
         "title": {
          "font": {
           "color": "#4D5663"
          },
          "text": ""
         },
         "zerolinecolor": "#E1E5ED"
        },
        "xaxis13": {
         "anchor": "y13",
         "domain": [
          0,
          0.2125
         ],
         "gridcolor": "#E1E5ED",
         "showgrid": false,
         "tickfont": {
          "color": "#4D5663"
         },
         "title": {
          "font": {
           "color": "#4D5663"
          },
          "text": ""
         },
         "zerolinecolor": "#E1E5ED"
        },
        "xaxis14": {
         "anchor": "y14",
         "domain": [
          0.2625,
          0.475
         ],
         "gridcolor": "#E1E5ED",
         "showgrid": false,
         "tickfont": {
          "color": "#4D5663"
         },
         "title": {
          "font": {
           "color": "#4D5663"
          },
          "text": ""
         },
         "zerolinecolor": "#E1E5ED"
        },
        "xaxis15": {
         "anchor": "y15",
         "domain": [
          0.525,
          0.7375
         ],
         "gridcolor": "#E1E5ED",
         "showgrid": false,
         "tickfont": {
          "color": "#4D5663"
         },
         "title": {
          "font": {
           "color": "#4D5663"
          },
          "text": ""
         },
         "zerolinecolor": "#E1E5ED"
        },
        "xaxis16": {
         "anchor": "y16",
         "domain": [
          0.7875,
          1
         ],
         "gridcolor": "#E1E5ED",
         "showgrid": false,
         "tickfont": {
          "color": "#4D5663"
         },
         "title": {
          "font": {
           "color": "#4D5663"
          },
          "text": ""
         },
         "zerolinecolor": "#E1E5ED"
        },
        "xaxis2": {
         "anchor": "y2",
         "domain": [
          0.2625,
          0.475
         ],
         "gridcolor": "#E1E5ED",
         "showgrid": false,
         "tickfont": {
          "color": "#4D5663"
         },
         "title": {
          "font": {
           "color": "#4D5663"
          },
          "text": ""
         },
         "zerolinecolor": "#E1E5ED"
        },
        "xaxis3": {
         "anchor": "y3",
         "domain": [
          0.525,
          0.7375
         ],
         "gridcolor": "#E1E5ED",
         "showgrid": false,
         "tickfont": {
          "color": "#4D5663"
         },
         "title": {
          "font": {
           "color": "#4D5663"
          },
          "text": ""
         },
         "zerolinecolor": "#E1E5ED"
        },
        "xaxis4": {
         "anchor": "y4",
         "domain": [
          0.7875,
          1
         ],
         "gridcolor": "#E1E5ED",
         "showgrid": false,
         "tickfont": {
          "color": "#4D5663"
         },
         "title": {
          "font": {
           "color": "#4D5663"
          },
          "text": ""
         },
         "zerolinecolor": "#E1E5ED"
        },
        "xaxis5": {
         "anchor": "y5",
         "domain": [
          0,
          0.2125
         ],
         "gridcolor": "#E1E5ED",
         "showgrid": false,
         "tickfont": {
          "color": "#4D5663"
         },
         "title": {
          "font": {
           "color": "#4D5663"
          },
          "text": ""
         },
         "zerolinecolor": "#E1E5ED"
        },
        "xaxis6": {
         "anchor": "y6",
         "domain": [
          0.2625,
          0.475
         ],
         "gridcolor": "#E1E5ED",
         "showgrid": false,
         "tickfont": {
          "color": "#4D5663"
         },
         "title": {
          "font": {
           "color": "#4D5663"
          },
          "text": ""
         },
         "zerolinecolor": "#E1E5ED"
        },
        "xaxis7": {
         "anchor": "y7",
         "domain": [
          0.525,
          0.7375
         ],
         "gridcolor": "#E1E5ED",
         "showgrid": false,
         "tickfont": {
          "color": "#4D5663"
         },
         "title": {
          "font": {
           "color": "#4D5663"
          },
          "text": ""
         },
         "zerolinecolor": "#E1E5ED"
        },
        "xaxis8": {
         "anchor": "y8",
         "domain": [
          0.7875,
          1
         ],
         "gridcolor": "#E1E5ED",
         "showgrid": false,
         "tickfont": {
          "color": "#4D5663"
         },
         "title": {
          "font": {
           "color": "#4D5663"
          },
          "text": ""
         },
         "zerolinecolor": "#E1E5ED"
        },
        "xaxis9": {
         "anchor": "y9",
         "domain": [
          0,
          0.2125
         ],
         "gridcolor": "#E1E5ED",
         "showgrid": false,
         "tickfont": {
          "color": "#4D5663"
         },
         "title": {
          "font": {
           "color": "#4D5663"
          },
          "text": ""
         },
         "zerolinecolor": "#E1E5ED"
        },
        "yaxis": {
         "anchor": "x",
         "domain": [
          0.8025,
          1
         ],
         "gridcolor": "#E1E5ED",
         "showgrid": false,
         "tickfont": {
          "color": "#4D5663"
         },
         "title": {
          "font": {
           "color": "#4D5663"
          },
          "text": ""
         },
         "zerolinecolor": "#E1E5ED"
        },
        "yaxis10": {
         "anchor": "x10",
         "domain": [
          0.2675,
          0.465
         ],
         "gridcolor": "#E1E5ED",
         "showgrid": false,
         "tickfont": {
          "color": "#4D5663"
         },
         "title": {
          "font": {
           "color": "#4D5663"
          },
          "text": ""
         },
         "zerolinecolor": "#E1E5ED"
        },
        "yaxis11": {
         "anchor": "x11",
         "domain": [
          0.2675,
          0.465
         ],
         "gridcolor": "#E1E5ED",
         "showgrid": false,
         "tickfont": {
          "color": "#4D5663"
         },
         "title": {
          "font": {
           "color": "#4D5663"
          },
          "text": ""
         },
         "zerolinecolor": "#E1E5ED"
        },
        "yaxis12": {
         "anchor": "x12",
         "domain": [
          0.2675,
          0.465
         ],
         "gridcolor": "#E1E5ED",
         "showgrid": false,
         "tickfont": {
          "color": "#4D5663"
         },
         "title": {
          "font": {
           "color": "#4D5663"
          },
          "text": ""
         },
         "zerolinecolor": "#E1E5ED"
        },
        "yaxis13": {
         "anchor": "x13",
         "domain": [
          0,
          0.1975
         ],
         "gridcolor": "#E1E5ED",
         "showgrid": false,
         "tickfont": {
          "color": "#4D5663"
         },
         "title": {
          "font": {
           "color": "#4D5663"
          },
          "text": ""
         },
         "zerolinecolor": "#E1E5ED"
        },
        "yaxis14": {
         "anchor": "x14",
         "domain": [
          0,
          0.1975
         ],
         "gridcolor": "#E1E5ED",
         "showgrid": false,
         "tickfont": {
          "color": "#4D5663"
         },
         "title": {
          "font": {
           "color": "#4D5663"
          },
          "text": ""
         },
         "zerolinecolor": "#E1E5ED"
        },
        "yaxis15": {
         "anchor": "x15",
         "domain": [
          0,
          0.1975
         ],
         "gridcolor": "#E1E5ED",
         "showgrid": false,
         "tickfont": {
          "color": "#4D5663"
         },
         "title": {
          "font": {
           "color": "#4D5663"
          },
          "text": ""
         },
         "zerolinecolor": "#E1E5ED"
        },
        "yaxis16": {
         "anchor": "x16",
         "domain": [
          0,
          0.1975
         ],
         "gridcolor": "#E1E5ED",
         "showgrid": false,
         "tickfont": {
          "color": "#4D5663"
         },
         "title": {
          "font": {
           "color": "#4D5663"
          },
          "text": ""
         },
         "zerolinecolor": "#E1E5ED"
        },
        "yaxis2": {
         "anchor": "x2",
         "domain": [
          0.8025,
          1
         ],
         "gridcolor": "#E1E5ED",
         "showgrid": false,
         "tickfont": {
          "color": "#4D5663"
         },
         "title": {
          "font": {
           "color": "#4D5663"
          },
          "text": ""
         },
         "zerolinecolor": "#E1E5ED"
        },
        "yaxis3": {
         "anchor": "x3",
         "domain": [
          0.8025,
          1
         ],
         "gridcolor": "#E1E5ED",
         "showgrid": false,
         "tickfont": {
          "color": "#4D5663"
         },
         "title": {
          "font": {
           "color": "#4D5663"
          },
          "text": ""
         },
         "zerolinecolor": "#E1E5ED"
        },
        "yaxis4": {
         "anchor": "x4",
         "domain": [
          0.8025,
          1
         ],
         "gridcolor": "#E1E5ED",
         "showgrid": false,
         "tickfont": {
          "color": "#4D5663"
         },
         "title": {
          "font": {
           "color": "#4D5663"
          },
          "text": ""
         },
         "zerolinecolor": "#E1E5ED"
        },
        "yaxis5": {
         "anchor": "x5",
         "domain": [
          0.535,
          0.7325
         ],
         "gridcolor": "#E1E5ED",
         "showgrid": false,
         "tickfont": {
          "color": "#4D5663"
         },
         "title": {
          "font": {
           "color": "#4D5663"
          },
          "text": ""
         },
         "zerolinecolor": "#E1E5ED"
        },
        "yaxis6": {
         "anchor": "x6",
         "domain": [
          0.535,
          0.7325
         ],
         "gridcolor": "#E1E5ED",
         "showgrid": false,
         "tickfont": {
          "color": "#4D5663"
         },
         "title": {
          "font": {
           "color": "#4D5663"
          },
          "text": ""
         },
         "zerolinecolor": "#E1E5ED"
        },
        "yaxis7": {
         "anchor": "x7",
         "domain": [
          0.535,
          0.7325
         ],
         "gridcolor": "#E1E5ED",
         "showgrid": false,
         "tickfont": {
          "color": "#4D5663"
         },
         "title": {
          "font": {
           "color": "#4D5663"
          },
          "text": ""
         },
         "zerolinecolor": "#E1E5ED"
        },
        "yaxis8": {
         "anchor": "x8",
         "domain": [
          0.535,
          0.7325
         ],
         "gridcolor": "#E1E5ED",
         "showgrid": false,
         "tickfont": {
          "color": "#4D5663"
         },
         "title": {
          "font": {
           "color": "#4D5663"
          },
          "text": ""
         },
         "zerolinecolor": "#E1E5ED"
        },
        "yaxis9": {
         "anchor": "x9",
         "domain": [
          0.2675,
          0.465
         ],
         "gridcolor": "#E1E5ED",
         "showgrid": false,
         "tickfont": {
          "color": "#4D5663"
         },
         "title": {
          "font": {
           "color": "#4D5663"
          },
          "text": ""
         },
         "zerolinecolor": "#E1E5ED"
        }
       }
      },
      "text/html": [
       "<div>                            <div id=\"673f81e7-aacf-40b5-a222-88f5891d1273\" class=\"plotly-graph-div\" style=\"height:525px; width:100%;\"></div>            <script type=\"text/javascript\">                require([\"plotly\"], function(Plotly) {                    window.PLOTLYENV=window.PLOTLYENV || {};\n",
       "                    window.PLOTLYENV.BASE_URL='https://plot.ly';                                    if (document.getElementById(\"673f81e7-aacf-40b5-a222-88f5891d1273\")) {                    Plotly.newPlot(                        \"673f81e7-aacf-40b5-a222-88f5891d1273\",                        [{\"histfunc\":\"count\",\"histnorm\":\"\",\"marker\":{\"color\":\"rgba(255, 153, 51, 1.0)\",\"line\":{\"color\":\"#4D5663\",\"width\":1.3}},\"name\":\"A\",\"nbinsx\":10,\"opacity\":0.8,\"orientation\":\"v\",\"type\":\"histogram\",\"x\":[0.027241215754599653,0.461466942154424,0.3737578251714141,-1.4560336370431364,0.05734000875052292,-0.6934160050389406,-0.12917756125043053,0.5419506235849016,-1.1012631192337687,0.24570141978914636,0.01087999684740408,0.8100012366208713,-0.7030304225159633,-0.5946926572342286,-0.44511995840997504,0.23427398696523208,0.4160578404859543,-3.2493969232153423,-0.4734991876936832,-0.07570748157761908,0.3528977639604107,-0.21581152640941356,0.13976768152913263,0.9467098790676365,-0.23273491103119384,0.0389850989077991,-0.22939906198068014,0.8637838686080933,-1.1369014503927326,0.7526257977466814,0.41974541451444486,-0.29463973256237136,-2.176829559215304,-1.5302922998315613,0.35842273997828183,1.7264403465548985,-0.3653450892096323,-0.31695509980092507,-1.0558192787782297,-1.304349636163735,2.257323133922572,-0.10041675052728624,-2.24397916062139,-0.5589838760811628,-1.20295960227409,0.0026320539461168204,-0.2865627041840873,0.541803777541615,0.6300582728619144,-2.5053795527591367,-0.46316045798202704,-1.8274300715054332,-0.5586514125300802,0.3189194724183755,-1.685811925308102,-0.8428118098322996,0.80016486621426,0.5459717323447757,0.8643649166999295,-0.5740222161144256,-0.7179033509334194,-2.5019769582607734,-0.03892926260196354,-0.5500802354222613,1.2596761814939812,0.7347475008736277,-0.48819951705315184,-0.7205060770260235,-0.38233687263659966,0.4165865401847979,0.08270946347414312,0.04582443872299958,-2.839154713525733,1.4345342033741435,0.2590541572647937,-0.7046726386164505,-0.9473258446696663,-0.6517931146311408,1.0110736188093266,-0.5833457105696599,0.8982890815734496,0.5013034542613344,2.464532736067224,1.2612335926418747,0.536455461831126,1.934995588665759,-2.5219462688804963,0.628745198471256,-2.4809074077695996,1.6053651644968228,-0.2464413181810761,-1.4132000544481975,0.1868646453584373,0.7744526830342858,-0.7831732804063224,-2.2172665385010206,0.6368751852482623,0.11593761473734172,0.6190387568185067,-1.2760951982159945],\"xaxis\":\"x\",\"yaxis\":\"y\"},{\"line\":{\"color\":\"rgba(128, 128, 128, 1.0)\",\"dash\":\"solid\",\"shape\":\"linear\",\"width\":1.3},\"marker\":{\"size\":2,\"symbol\":\"circle\"},\"mode\":\"markers\",\"name\":\"A\",\"text\":\"\",\"type\":\"scatter\",\"x\":[-1.2299495303316792,0.5761251925679554,0.4439223748334115,0.4482693887595382,0.4391188657924199,-0.6090184804140729,0.7739033993514225,-0.1858044672741451,-1.5004542493562412,0.2661389565905993,-1.0307976300658042,-2.02562399847762,-0.7753946361284771,-0.024092807303725004,-1.5488851006659816,-0.40608690106156453,-1.7875493827221627,1.0978120233875932,1.2796131600904732,-0.24566124104260884,2.1512327284437016,1.0702943810199417,-0.16948194839928224,0.633425338273376,-0.12053714748320615,-0.7084391381390437,1.2122343306242827,-0.5531661180518929,0.6760646031687255,-0.8600719233782612,0.6307408183438546,0.736114624702335,0.8211645861435984,-0.9063307935843637,-0.4618678949453949,0.640819882423184,0.255985632683679,0.44050250308581096,-0.5098792189564512,0.6612370454506209,-0.4600852985179216,1.3928542342840358,0.8823525659375652,0.607283903701555,-2.4441288988197107,-0.8644188008705929,-0.532690495638404,0.12512387164939145,-0.7233303308661587,-0.23976137531649747,1.5587585887796735,-0.3530505109153326,-0.7056602818285378,0.4035688891271258,-0.8327362135840342,-1.313239469889929,-0.6277207975245217,-0.06658365119250485,-0.7808892284561406,-0.3748780636142635,-0.38299456605242604,-0.6325698902459843,-0.37089771726844656,0.32138636034575196,0.6727738971760795,-0.3945422734138908,2.9500615298764727,1.5519218449607535,0.4797694345031922,0.6423701460270103,-1.9708893650276542,1.1646789788732854,0.9515688528861517,1.4511554272385823,-0.20150822013810582,0.2606018888417338,-0.2510612853910099,2.130016703150938,1.63705915645,0.39847523494422377,1.0184562083723192,-0.5382357322422255,2.483246044560773,0.8526701202253368,-1.2948330224433153,1.3410500034685415,0.2624724820130176,0.42655832078624994,1.4132672701391868,-0.8391493300974192,-1.231514045828351,-2.0535105642667326,-0.8008456977267329,-0.38365075218860983,0.8430333327693967,1.1505882799513372,-1.3125282714743989,0.7942258301306302,-0.8030278933285362,0.023210838012871562],\"xaxis\":\"x2\",\"y\":[0.027241215754599653,0.461466942154424,0.3737578251714141,-1.4560336370431364,0.05734000875052292,-0.6934160050389406,-0.12917756125043053,0.5419506235849016,-1.1012631192337687,0.24570141978914636,0.01087999684740408,0.8100012366208713,-0.7030304225159633,-0.5946926572342286,-0.44511995840997504,0.23427398696523208,0.4160578404859543,-3.2493969232153423,-0.4734991876936832,-0.07570748157761908,0.3528977639604107,-0.21581152640941356,0.13976768152913263,0.9467098790676365,-0.23273491103119384,0.0389850989077991,-0.22939906198068014,0.8637838686080933,-1.1369014503927326,0.7526257977466814,0.41974541451444486,-0.29463973256237136,-2.176829559215304,-1.5302922998315613,0.35842273997828183,1.7264403465548985,-0.3653450892096323,-0.31695509980092507,-1.0558192787782297,-1.304349636163735,2.257323133922572,-0.10041675052728624,-2.24397916062139,-0.5589838760811628,-1.20295960227409,0.0026320539461168204,-0.2865627041840873,0.541803777541615,0.6300582728619144,-2.5053795527591367,-0.46316045798202704,-1.8274300715054332,-0.5586514125300802,0.3189194724183755,-1.685811925308102,-0.8428118098322996,0.80016486621426,0.5459717323447757,0.8643649166999295,-0.5740222161144256,-0.7179033509334194,-2.5019769582607734,-0.03892926260196354,-0.5500802354222613,1.2596761814939812,0.7347475008736277,-0.48819951705315184,-0.7205060770260235,-0.38233687263659966,0.4165865401847979,0.08270946347414312,0.04582443872299958,-2.839154713525733,1.4345342033741435,0.2590541572647937,-0.7046726386164505,-0.9473258446696663,-0.6517931146311408,1.0110736188093266,-0.5833457105696599,0.8982890815734496,0.5013034542613344,2.464532736067224,1.2612335926418747,0.536455461831126,1.934995588665759,-2.5219462688804963,0.628745198471256,-2.4809074077695996,1.6053651644968228,-0.2464413181810761,-1.4132000544481975,0.1868646453584373,0.7744526830342858,-0.7831732804063224,-2.2172665385010206,0.6368751852482623,0.11593761473734172,0.6190387568185067,-1.2760951982159945],\"yaxis\":\"y2\"},{\"line\":{\"color\":\"rgba(128, 128, 128, 1.0)\",\"dash\":\"solid\",\"shape\":\"linear\",\"width\":1.3},\"marker\":{\"size\":2,\"symbol\":\"circle\"},\"mode\":\"markers\",\"name\":\"A\",\"text\":\"\",\"type\":\"scatter\",\"x\":[2.0269316731802673,0.3900738440870191,-0.5509704357907378,0.41238086371051214,1.3300384472698463,0.5094694905062215,1.0536919301420062,0.8334293454329205,1.1495346482242275,-0.8161796856150146,0.4621058636690486,0.5294813648253962,-0.8540906796983768,-1.0185814721037045,0.6627503077156954,-2.2718238272262266,-0.4215552608509096,-0.3563238694174239,-2.235723176981178,-0.0727382904398685,0.20698870964541172,1.5050735780324862,-0.09206585334279284,-0.13800615635486052,0.19254933126935822,0.5754127438818876,0.760219269687592,-0.8187273135993184,-0.6278746156930031,1.2458098868830387,-0.3012839116102563,1.2315211639397226,1.6939271522092885,-0.02336099170503781,0.5468940772555165,-0.18112666047871426,-0.8670913328228448,-0.12303348374833262,0.827600075731781,-1.4126556937840686,0.2961505500818118,1.3707393938345103,1.1221808269822853,1.3375914046745596,0.6112363303316156,0.7554927668559361,0.18833222037663072,-0.9969144284594557,-0.5519265291687282,-0.22306353873462406,-0.2563451918380548,-0.3603452681361516,0.9011910994483247,-0.533939761106292,0.7071983930222037,0.9178877931296235,1.2179086647333313,-0.7150397928951028,-0.5829409809514536,-0.9061458306370328,0.5694329795337395,1.829626058008287,1.9429109542822776,-0.49476002069023667,2.066978384385359,0.17767635307027307,-0.8304743101055881,-0.2265963040959604,-0.7773926224598035,-0.44067000289883007,-0.9450696730766448,0.48128100200464896,-0.49487203558974524,-0.6018275073423531,-0.5179025798437809,0.6565329532524697,-1.8662061816335884,1.2949345333948852,1.4123076140162585,0.7524739263061787,-0.0031613521859595126,-0.5833576432659269,-0.4713320882377061,0.30712786965241107,-0.619678940804528,-0.5930332641931113,1.962935237824439,1.2176673108805502,-0.2411113726519649,-0.3527909849181242,-0.1527911735003672,0.7915524214048402,-0.12748782013816512,0.9105749360568643,0.25822859450953034,-1.125534337375841,-0.8310329535110081,0.9578111567739361,-0.788743587272034,-0.6557483895085895],\"xaxis\":\"x3\",\"y\":[0.027241215754599653,0.461466942154424,0.3737578251714141,-1.4560336370431364,0.05734000875052292,-0.6934160050389406,-0.12917756125043053,0.5419506235849016,-1.1012631192337687,0.24570141978914636,0.01087999684740408,0.8100012366208713,-0.7030304225159633,-0.5946926572342286,-0.44511995840997504,0.23427398696523208,0.4160578404859543,-3.2493969232153423,-0.4734991876936832,-0.07570748157761908,0.3528977639604107,-0.21581152640941356,0.13976768152913263,0.9467098790676365,-0.23273491103119384,0.0389850989077991,-0.22939906198068014,0.8637838686080933,-1.1369014503927326,0.7526257977466814,0.41974541451444486,-0.29463973256237136,-2.176829559215304,-1.5302922998315613,0.35842273997828183,1.7264403465548985,-0.3653450892096323,-0.31695509980092507,-1.0558192787782297,-1.304349636163735,2.257323133922572,-0.10041675052728624,-2.24397916062139,-0.5589838760811628,-1.20295960227409,0.0026320539461168204,-0.2865627041840873,0.541803777541615,0.6300582728619144,-2.5053795527591367,-0.46316045798202704,-1.8274300715054332,-0.5586514125300802,0.3189194724183755,-1.685811925308102,-0.8428118098322996,0.80016486621426,0.5459717323447757,0.8643649166999295,-0.5740222161144256,-0.7179033509334194,-2.5019769582607734,-0.03892926260196354,-0.5500802354222613,1.2596761814939812,0.7347475008736277,-0.48819951705315184,-0.7205060770260235,-0.38233687263659966,0.4165865401847979,0.08270946347414312,0.04582443872299958,-2.839154713525733,1.4345342033741435,0.2590541572647937,-0.7046726386164505,-0.9473258446696663,-0.6517931146311408,1.0110736188093266,-0.5833457105696599,0.8982890815734496,0.5013034542613344,2.464532736067224,1.2612335926418747,0.536455461831126,1.934995588665759,-2.5219462688804963,0.628745198471256,-2.4809074077695996,1.6053651644968228,-0.2464413181810761,-1.4132000544481975,0.1868646453584373,0.7744526830342858,-0.7831732804063224,-2.2172665385010206,0.6368751852482623,0.11593761473734172,0.6190387568185067,-1.2760951982159945],\"yaxis\":\"y3\"},{\"line\":{\"color\":\"rgba(128, 128, 128, 1.0)\",\"dash\":\"solid\",\"shape\":\"linear\",\"width\":1.3},\"marker\":{\"size\":2,\"symbol\":\"circle\"},\"mode\":\"markers\",\"name\":\"A\",\"text\":\"\",\"type\":\"scatter\",\"x\":[-0.34838642465310976,1.181842041223677,1.1274135164978363,-0.8505335468790323,-1.0545048061462534,0.9648968501508846,1.359512881108927,0.031319299346180704,-1.0544546453516068,-0.19415686511112226,-0.8782025088237447,0.2979572393155649,-0.25164257647585614,0.18006007456588874,1.5948180741168454,-0.11016365987717315,0.026912490823449833,-0.17314469919793413,-0.44698980561488744,-0.5223704821693409,1.2019422992338886,-0.9108856674435171,0.17289876018881567,0.9434915597651907,0.41427151570218734,0.18346300209250066,-1.045725467277624,1.0958361772136858,0.5154146534001802,0.7486792070848206,0.8061256766986518,0.2032447540621425,-1.6844965037132096,-1.0041452619752393,0.01302553469071673,-0.7734146255293952,0.2634141956378256,0.712908872570988,0.977766969094656,-0.35347025671809845,0.3319287536417015,0.19638539974491476,0.981980062458202,-1.4079859998371953,-0.1646834085274142,-0.3605965515725068,-0.1143569728769469,0.6485213215837613,-0.6296574194265816,-2.0186763437497297,0.9053199943270607,1.192836886917903,1.4661736115872215,-0.9820446114331933,0.4563239961336419,-1.3723818383770405,0.6094619537747207,-1.7935388851300191,-0.2507027537011104,1.3864089231885277,0.47037988777239864,-0.6018490239023988,-0.9625010436209301,0.2372870957932504,-0.09723830548886282,0.8069547308099078,-0.42105820077670625,1.0296767830467521,0.037600022632975905,0.07138464928075697,0.2796654273799903,-2.49408432595785,-0.30580333153477673,2.126316413474627,0.5927685525299955,0.013736794392062983,1.1106767069672834,-0.6773361907310395,-0.46290553372163307,1.2232290731098865,-0.14194727709821015,0.2707178806404906,-0.09855395233826988,-1.4312626397496775,-0.20452270125593489,-0.7052409656017552,-1.4274348225640827,0.7140966200329959,-0.9247066437972612,-0.26388909407647126,0.1041322303504204,0.7960006430313149,-0.05142318837511502,-0.6128088687539949,0.03981581787309479,-0.35908397951782045,-0.035824028085450044,-0.07966456102769102,0.23852400839790286,-1.0089027578041012],\"xaxis\":\"x4\",\"y\":[0.027241215754599653,0.461466942154424,0.3737578251714141,-1.4560336370431364,0.05734000875052292,-0.6934160050389406,-0.12917756125043053,0.5419506235849016,-1.1012631192337687,0.24570141978914636,0.01087999684740408,0.8100012366208713,-0.7030304225159633,-0.5946926572342286,-0.44511995840997504,0.23427398696523208,0.4160578404859543,-3.2493969232153423,-0.4734991876936832,-0.07570748157761908,0.3528977639604107,-0.21581152640941356,0.13976768152913263,0.9467098790676365,-0.23273491103119384,0.0389850989077991,-0.22939906198068014,0.8637838686080933,-1.1369014503927326,0.7526257977466814,0.41974541451444486,-0.29463973256237136,-2.176829559215304,-1.5302922998315613,0.35842273997828183,1.7264403465548985,-0.3653450892096323,-0.31695509980092507,-1.0558192787782297,-1.304349636163735,2.257323133922572,-0.10041675052728624,-2.24397916062139,-0.5589838760811628,-1.20295960227409,0.0026320539461168204,-0.2865627041840873,0.541803777541615,0.6300582728619144,-2.5053795527591367,-0.46316045798202704,-1.8274300715054332,-0.5586514125300802,0.3189194724183755,-1.685811925308102,-0.8428118098322996,0.80016486621426,0.5459717323447757,0.8643649166999295,-0.5740222161144256,-0.7179033509334194,-2.5019769582607734,-0.03892926260196354,-0.5500802354222613,1.2596761814939812,0.7347475008736277,-0.48819951705315184,-0.7205060770260235,-0.38233687263659966,0.4165865401847979,0.08270946347414312,0.04582443872299958,-2.839154713525733,1.4345342033741435,0.2590541572647937,-0.7046726386164505,-0.9473258446696663,-0.6517931146311408,1.0110736188093266,-0.5833457105696599,0.8982890815734496,0.5013034542613344,2.464532736067224,1.2612335926418747,0.536455461831126,1.934995588665759,-2.5219462688804963,0.628745198471256,-2.4809074077695996,1.6053651644968228,-0.2464413181810761,-1.4132000544481975,0.1868646453584373,0.7744526830342858,-0.7831732804063224,-2.2172665385010206,0.6368751852482623,0.11593761473734172,0.6190387568185067,-1.2760951982159945],\"yaxis\":\"y4\"},{\"line\":{\"color\":\"rgba(128, 128, 128, 1.0)\",\"dash\":\"solid\",\"shape\":\"linear\",\"width\":1.3},\"marker\":{\"size\":2,\"symbol\":\"circle\"},\"mode\":\"markers\",\"name\":\"B\",\"text\":\"\",\"type\":\"scatter\",\"x\":[0.027241215754599653,0.461466942154424,0.3737578251714141,-1.4560336370431364,0.05734000875052292,-0.6934160050389406,-0.12917756125043053,0.5419506235849016,-1.1012631192337687,0.24570141978914636,0.01087999684740408,0.8100012366208713,-0.7030304225159633,-0.5946926572342286,-0.44511995840997504,0.23427398696523208,0.4160578404859543,-3.2493969232153423,-0.4734991876936832,-0.07570748157761908,0.3528977639604107,-0.21581152640941356,0.13976768152913263,0.9467098790676365,-0.23273491103119384,0.0389850989077991,-0.22939906198068014,0.8637838686080933,-1.1369014503927326,0.7526257977466814,0.41974541451444486,-0.29463973256237136,-2.176829559215304,-1.5302922998315613,0.35842273997828183,1.7264403465548985,-0.3653450892096323,-0.31695509980092507,-1.0558192787782297,-1.304349636163735,2.257323133922572,-0.10041675052728624,-2.24397916062139,-0.5589838760811628,-1.20295960227409,0.0026320539461168204,-0.2865627041840873,0.541803777541615,0.6300582728619144,-2.5053795527591367,-0.46316045798202704,-1.8274300715054332,-0.5586514125300802,0.3189194724183755,-1.685811925308102,-0.8428118098322996,0.80016486621426,0.5459717323447757,0.8643649166999295,-0.5740222161144256,-0.7179033509334194,-2.5019769582607734,-0.03892926260196354,-0.5500802354222613,1.2596761814939812,0.7347475008736277,-0.48819951705315184,-0.7205060770260235,-0.38233687263659966,0.4165865401847979,0.08270946347414312,0.04582443872299958,-2.839154713525733,1.4345342033741435,0.2590541572647937,-0.7046726386164505,-0.9473258446696663,-0.6517931146311408,1.0110736188093266,-0.5833457105696599,0.8982890815734496,0.5013034542613344,2.464532736067224,1.2612335926418747,0.536455461831126,1.934995588665759,-2.5219462688804963,0.628745198471256,-2.4809074077695996,1.6053651644968228,-0.2464413181810761,-1.4132000544481975,0.1868646453584373,0.7744526830342858,-0.7831732804063224,-2.2172665385010206,0.6368751852482623,0.11593761473734172,0.6190387568185067,-1.2760951982159945],\"xaxis\":\"x5\",\"y\":[-1.2299495303316792,0.5761251925679554,0.4439223748334115,0.4482693887595382,0.4391188657924199,-0.6090184804140729,0.7739033993514225,-0.1858044672741451,-1.5004542493562412,0.2661389565905993,-1.0307976300658042,-2.02562399847762,-0.7753946361284771,-0.024092807303725004,-1.5488851006659816,-0.40608690106156453,-1.7875493827221627,1.0978120233875932,1.2796131600904732,-0.24566124104260884,2.1512327284437016,1.0702943810199417,-0.16948194839928224,0.633425338273376,-0.12053714748320615,-0.7084391381390437,1.2122343306242827,-0.5531661180518929,0.6760646031687255,-0.8600719233782612,0.6307408183438546,0.736114624702335,0.8211645861435984,-0.9063307935843637,-0.4618678949453949,0.640819882423184,0.255985632683679,0.44050250308581096,-0.5098792189564512,0.6612370454506209,-0.4600852985179216,1.3928542342840358,0.8823525659375652,0.607283903701555,-2.4441288988197107,-0.8644188008705929,-0.532690495638404,0.12512387164939145,-0.7233303308661587,-0.23976137531649747,1.5587585887796735,-0.3530505109153326,-0.7056602818285378,0.4035688891271258,-0.8327362135840342,-1.313239469889929,-0.6277207975245217,-0.06658365119250485,-0.7808892284561406,-0.3748780636142635,-0.38299456605242604,-0.6325698902459843,-0.37089771726844656,0.32138636034575196,0.6727738971760795,-0.3945422734138908,2.9500615298764727,1.5519218449607535,0.4797694345031922,0.6423701460270103,-1.9708893650276542,1.1646789788732854,0.9515688528861517,1.4511554272385823,-0.20150822013810582,0.2606018888417338,-0.2510612853910099,2.130016703150938,1.63705915645,0.39847523494422377,1.0184562083723192,-0.5382357322422255,2.483246044560773,0.8526701202253368,-1.2948330224433153,1.3410500034685415,0.2624724820130176,0.42655832078624994,1.4132672701391868,-0.8391493300974192,-1.231514045828351,-2.0535105642667326,-0.8008456977267329,-0.38365075218860983,0.8430333327693967,1.1505882799513372,-1.3125282714743989,0.7942258301306302,-0.8030278933285362,0.023210838012871562],\"yaxis\":\"y5\"},{\"histfunc\":\"count\",\"histnorm\":\"\",\"marker\":{\"color\":\"rgba(55, 128, 191, 1.0)\",\"line\":{\"color\":\"#4D5663\",\"width\":1.3}},\"name\":\"B\",\"nbinsx\":10,\"opacity\":0.8,\"orientation\":\"v\",\"type\":\"histogram\",\"x\":[-1.2299495303316792,0.5761251925679554,0.4439223748334115,0.4482693887595382,0.4391188657924199,-0.6090184804140729,0.7739033993514225,-0.1858044672741451,-1.5004542493562412,0.2661389565905993,-1.0307976300658042,-2.02562399847762,-0.7753946361284771,-0.024092807303725004,-1.5488851006659816,-0.40608690106156453,-1.7875493827221627,1.0978120233875932,1.2796131600904732,-0.24566124104260884,2.1512327284437016,1.0702943810199417,-0.16948194839928224,0.633425338273376,-0.12053714748320615,-0.7084391381390437,1.2122343306242827,-0.5531661180518929,0.6760646031687255,-0.8600719233782612,0.6307408183438546,0.736114624702335,0.8211645861435984,-0.9063307935843637,-0.4618678949453949,0.640819882423184,0.255985632683679,0.44050250308581096,-0.5098792189564512,0.6612370454506209,-0.4600852985179216,1.3928542342840358,0.8823525659375652,0.607283903701555,-2.4441288988197107,-0.8644188008705929,-0.532690495638404,0.12512387164939145,-0.7233303308661587,-0.23976137531649747,1.5587585887796735,-0.3530505109153326,-0.7056602818285378,0.4035688891271258,-0.8327362135840342,-1.313239469889929,-0.6277207975245217,-0.06658365119250485,-0.7808892284561406,-0.3748780636142635,-0.38299456605242604,-0.6325698902459843,-0.37089771726844656,0.32138636034575196,0.6727738971760795,-0.3945422734138908,2.9500615298764727,1.5519218449607535,0.4797694345031922,0.6423701460270103,-1.9708893650276542,1.1646789788732854,0.9515688528861517,1.4511554272385823,-0.20150822013810582,0.2606018888417338,-0.2510612853910099,2.130016703150938,1.63705915645,0.39847523494422377,1.0184562083723192,-0.5382357322422255,2.483246044560773,0.8526701202253368,-1.2948330224433153,1.3410500034685415,0.2624724820130176,0.42655832078624994,1.4132672701391868,-0.8391493300974192,-1.231514045828351,-2.0535105642667326,-0.8008456977267329,-0.38365075218860983,0.8430333327693967,1.1505882799513372,-1.3125282714743989,0.7942258301306302,-0.8030278933285362,0.023210838012871562],\"xaxis\":\"x6\",\"yaxis\":\"y6\"},{\"line\":{\"color\":\"rgba(128, 128, 128, 1.0)\",\"dash\":\"solid\",\"shape\":\"linear\",\"width\":1.3},\"marker\":{\"size\":2,\"symbol\":\"circle\"},\"mode\":\"markers\",\"name\":\"B\",\"text\":\"\",\"type\":\"scatter\",\"x\":[2.0269316731802673,0.3900738440870191,-0.5509704357907378,0.41238086371051214,1.3300384472698463,0.5094694905062215,1.0536919301420062,0.8334293454329205,1.1495346482242275,-0.8161796856150146,0.4621058636690486,0.5294813648253962,-0.8540906796983768,-1.0185814721037045,0.6627503077156954,-2.2718238272262266,-0.4215552608509096,-0.3563238694174239,-2.235723176981178,-0.0727382904398685,0.20698870964541172,1.5050735780324862,-0.09206585334279284,-0.13800615635486052,0.19254933126935822,0.5754127438818876,0.760219269687592,-0.8187273135993184,-0.6278746156930031,1.2458098868830387,-0.3012839116102563,1.2315211639397226,1.6939271522092885,-0.02336099170503781,0.5468940772555165,-0.18112666047871426,-0.8670913328228448,-0.12303348374833262,0.827600075731781,-1.4126556937840686,0.2961505500818118,1.3707393938345103,1.1221808269822853,1.3375914046745596,0.6112363303316156,0.7554927668559361,0.18833222037663072,-0.9969144284594557,-0.5519265291687282,-0.22306353873462406,-0.2563451918380548,-0.3603452681361516,0.9011910994483247,-0.533939761106292,0.7071983930222037,0.9178877931296235,1.2179086647333313,-0.7150397928951028,-0.5829409809514536,-0.9061458306370328,0.5694329795337395,1.829626058008287,1.9429109542822776,-0.49476002069023667,2.066978384385359,0.17767635307027307,-0.8304743101055881,-0.2265963040959604,-0.7773926224598035,-0.44067000289883007,-0.9450696730766448,0.48128100200464896,-0.49487203558974524,-0.6018275073423531,-0.5179025798437809,0.6565329532524697,-1.8662061816335884,1.2949345333948852,1.4123076140162585,0.7524739263061787,-0.0031613521859595126,-0.5833576432659269,-0.4713320882377061,0.30712786965241107,-0.619678940804528,-0.5930332641931113,1.962935237824439,1.2176673108805502,-0.2411113726519649,-0.3527909849181242,-0.1527911735003672,0.7915524214048402,-0.12748782013816512,0.9105749360568643,0.25822859450953034,-1.125534337375841,-0.8310329535110081,0.9578111567739361,-0.788743587272034,-0.6557483895085895],\"xaxis\":\"x7\",\"y\":[-1.2299495303316792,0.5761251925679554,0.4439223748334115,0.4482693887595382,0.4391188657924199,-0.6090184804140729,0.7739033993514225,-0.1858044672741451,-1.5004542493562412,0.2661389565905993,-1.0307976300658042,-2.02562399847762,-0.7753946361284771,-0.024092807303725004,-1.5488851006659816,-0.40608690106156453,-1.7875493827221627,1.0978120233875932,1.2796131600904732,-0.24566124104260884,2.1512327284437016,1.0702943810199417,-0.16948194839928224,0.633425338273376,-0.12053714748320615,-0.7084391381390437,1.2122343306242827,-0.5531661180518929,0.6760646031687255,-0.8600719233782612,0.6307408183438546,0.736114624702335,0.8211645861435984,-0.9063307935843637,-0.4618678949453949,0.640819882423184,0.255985632683679,0.44050250308581096,-0.5098792189564512,0.6612370454506209,-0.4600852985179216,1.3928542342840358,0.8823525659375652,0.607283903701555,-2.4441288988197107,-0.8644188008705929,-0.532690495638404,0.12512387164939145,-0.7233303308661587,-0.23976137531649747,1.5587585887796735,-0.3530505109153326,-0.7056602818285378,0.4035688891271258,-0.8327362135840342,-1.313239469889929,-0.6277207975245217,-0.06658365119250485,-0.7808892284561406,-0.3748780636142635,-0.38299456605242604,-0.6325698902459843,-0.37089771726844656,0.32138636034575196,0.6727738971760795,-0.3945422734138908,2.9500615298764727,1.5519218449607535,0.4797694345031922,0.6423701460270103,-1.9708893650276542,1.1646789788732854,0.9515688528861517,1.4511554272385823,-0.20150822013810582,0.2606018888417338,-0.2510612853910099,2.130016703150938,1.63705915645,0.39847523494422377,1.0184562083723192,-0.5382357322422255,2.483246044560773,0.8526701202253368,-1.2948330224433153,1.3410500034685415,0.2624724820130176,0.42655832078624994,1.4132672701391868,-0.8391493300974192,-1.231514045828351,-2.0535105642667326,-0.8008456977267329,-0.38365075218860983,0.8430333327693967,1.1505882799513372,-1.3125282714743989,0.7942258301306302,-0.8030278933285362,0.023210838012871562],\"yaxis\":\"y7\"},{\"line\":{\"color\":\"rgba(128, 128, 128, 1.0)\",\"dash\":\"solid\",\"shape\":\"linear\",\"width\":1.3},\"marker\":{\"size\":2,\"symbol\":\"circle\"},\"mode\":\"markers\",\"name\":\"B\",\"text\":\"\",\"type\":\"scatter\",\"x\":[-0.34838642465310976,1.181842041223677,1.1274135164978363,-0.8505335468790323,-1.0545048061462534,0.9648968501508846,1.359512881108927,0.031319299346180704,-1.0544546453516068,-0.19415686511112226,-0.8782025088237447,0.2979572393155649,-0.25164257647585614,0.18006007456588874,1.5948180741168454,-0.11016365987717315,0.026912490823449833,-0.17314469919793413,-0.44698980561488744,-0.5223704821693409,1.2019422992338886,-0.9108856674435171,0.17289876018881567,0.9434915597651907,0.41427151570218734,0.18346300209250066,-1.045725467277624,1.0958361772136858,0.5154146534001802,0.7486792070848206,0.8061256766986518,0.2032447540621425,-1.6844965037132096,-1.0041452619752393,0.01302553469071673,-0.7734146255293952,0.2634141956378256,0.712908872570988,0.977766969094656,-0.35347025671809845,0.3319287536417015,0.19638539974491476,0.981980062458202,-1.4079859998371953,-0.1646834085274142,-0.3605965515725068,-0.1143569728769469,0.6485213215837613,-0.6296574194265816,-2.0186763437497297,0.9053199943270607,1.192836886917903,1.4661736115872215,-0.9820446114331933,0.4563239961336419,-1.3723818383770405,0.6094619537747207,-1.7935388851300191,-0.2507027537011104,1.3864089231885277,0.47037988777239864,-0.6018490239023988,-0.9625010436209301,0.2372870957932504,-0.09723830548886282,0.8069547308099078,-0.42105820077670625,1.0296767830467521,0.037600022632975905,0.07138464928075697,0.2796654273799903,-2.49408432595785,-0.30580333153477673,2.126316413474627,0.5927685525299955,0.013736794392062983,1.1106767069672834,-0.6773361907310395,-0.46290553372163307,1.2232290731098865,-0.14194727709821015,0.2707178806404906,-0.09855395233826988,-1.4312626397496775,-0.20452270125593489,-0.7052409656017552,-1.4274348225640827,0.7140966200329959,-0.9247066437972612,-0.26388909407647126,0.1041322303504204,0.7960006430313149,-0.05142318837511502,-0.6128088687539949,0.03981581787309479,-0.35908397951782045,-0.035824028085450044,-0.07966456102769102,0.23852400839790286,-1.0089027578041012],\"xaxis\":\"x8\",\"y\":[-1.2299495303316792,0.5761251925679554,0.4439223748334115,0.4482693887595382,0.4391188657924199,-0.6090184804140729,0.7739033993514225,-0.1858044672741451,-1.5004542493562412,0.2661389565905993,-1.0307976300658042,-2.02562399847762,-0.7753946361284771,-0.024092807303725004,-1.5488851006659816,-0.40608690106156453,-1.7875493827221627,1.0978120233875932,1.2796131600904732,-0.24566124104260884,2.1512327284437016,1.0702943810199417,-0.16948194839928224,0.633425338273376,-0.12053714748320615,-0.7084391381390437,1.2122343306242827,-0.5531661180518929,0.6760646031687255,-0.8600719233782612,0.6307408183438546,0.736114624702335,0.8211645861435984,-0.9063307935843637,-0.4618678949453949,0.640819882423184,0.255985632683679,0.44050250308581096,-0.5098792189564512,0.6612370454506209,-0.4600852985179216,1.3928542342840358,0.8823525659375652,0.607283903701555,-2.4441288988197107,-0.8644188008705929,-0.532690495638404,0.12512387164939145,-0.7233303308661587,-0.23976137531649747,1.5587585887796735,-0.3530505109153326,-0.7056602818285378,0.4035688891271258,-0.8327362135840342,-1.313239469889929,-0.6277207975245217,-0.06658365119250485,-0.7808892284561406,-0.3748780636142635,-0.38299456605242604,-0.6325698902459843,-0.37089771726844656,0.32138636034575196,0.6727738971760795,-0.3945422734138908,2.9500615298764727,1.5519218449607535,0.4797694345031922,0.6423701460270103,-1.9708893650276542,1.1646789788732854,0.9515688528861517,1.4511554272385823,-0.20150822013810582,0.2606018888417338,-0.2510612853910099,2.130016703150938,1.63705915645,0.39847523494422377,1.0184562083723192,-0.5382357322422255,2.483246044560773,0.8526701202253368,-1.2948330224433153,1.3410500034685415,0.2624724820130176,0.42655832078624994,1.4132672701391868,-0.8391493300974192,-1.231514045828351,-2.0535105642667326,-0.8008456977267329,-0.38365075218860983,0.8430333327693967,1.1505882799513372,-1.3125282714743989,0.7942258301306302,-0.8030278933285362,0.023210838012871562],\"yaxis\":\"y8\"},{\"line\":{\"color\":\"rgba(128, 128, 128, 1.0)\",\"dash\":\"solid\",\"shape\":\"linear\",\"width\":1.3},\"marker\":{\"size\":2,\"symbol\":\"circle\"},\"mode\":\"markers\",\"name\":\"C\",\"text\":\"\",\"type\":\"scatter\",\"x\":[0.027241215754599653,0.461466942154424,0.3737578251714141,-1.4560336370431364,0.05734000875052292,-0.6934160050389406,-0.12917756125043053,0.5419506235849016,-1.1012631192337687,0.24570141978914636,0.01087999684740408,0.8100012366208713,-0.7030304225159633,-0.5946926572342286,-0.44511995840997504,0.23427398696523208,0.4160578404859543,-3.2493969232153423,-0.4734991876936832,-0.07570748157761908,0.3528977639604107,-0.21581152640941356,0.13976768152913263,0.9467098790676365,-0.23273491103119384,0.0389850989077991,-0.22939906198068014,0.8637838686080933,-1.1369014503927326,0.7526257977466814,0.41974541451444486,-0.29463973256237136,-2.176829559215304,-1.5302922998315613,0.35842273997828183,1.7264403465548985,-0.3653450892096323,-0.31695509980092507,-1.0558192787782297,-1.304349636163735,2.257323133922572,-0.10041675052728624,-2.24397916062139,-0.5589838760811628,-1.20295960227409,0.0026320539461168204,-0.2865627041840873,0.541803777541615,0.6300582728619144,-2.5053795527591367,-0.46316045798202704,-1.8274300715054332,-0.5586514125300802,0.3189194724183755,-1.685811925308102,-0.8428118098322996,0.80016486621426,0.5459717323447757,0.8643649166999295,-0.5740222161144256,-0.7179033509334194,-2.5019769582607734,-0.03892926260196354,-0.5500802354222613,1.2596761814939812,0.7347475008736277,-0.48819951705315184,-0.7205060770260235,-0.38233687263659966,0.4165865401847979,0.08270946347414312,0.04582443872299958,-2.839154713525733,1.4345342033741435,0.2590541572647937,-0.7046726386164505,-0.9473258446696663,-0.6517931146311408,1.0110736188093266,-0.5833457105696599,0.8982890815734496,0.5013034542613344,2.464532736067224,1.2612335926418747,0.536455461831126,1.934995588665759,-2.5219462688804963,0.628745198471256,-2.4809074077695996,1.6053651644968228,-0.2464413181810761,-1.4132000544481975,0.1868646453584373,0.7744526830342858,-0.7831732804063224,-2.2172665385010206,0.6368751852482623,0.11593761473734172,0.6190387568185067,-1.2760951982159945],\"xaxis\":\"x9\",\"y\":[2.0269316731802673,0.3900738440870191,-0.5509704357907378,0.41238086371051214,1.3300384472698463,0.5094694905062215,1.0536919301420062,0.8334293454329205,1.1495346482242275,-0.8161796856150146,0.4621058636690486,0.5294813648253962,-0.8540906796983768,-1.0185814721037045,0.6627503077156954,-2.2718238272262266,-0.4215552608509096,-0.3563238694174239,-2.235723176981178,-0.0727382904398685,0.20698870964541172,1.5050735780324862,-0.09206585334279284,-0.13800615635486052,0.19254933126935822,0.5754127438818876,0.760219269687592,-0.8187273135993184,-0.6278746156930031,1.2458098868830387,-0.3012839116102563,1.2315211639397226,1.6939271522092885,-0.02336099170503781,0.5468940772555165,-0.18112666047871426,-0.8670913328228448,-0.12303348374833262,0.827600075731781,-1.4126556937840686,0.2961505500818118,1.3707393938345103,1.1221808269822853,1.3375914046745596,0.6112363303316156,0.7554927668559361,0.18833222037663072,-0.9969144284594557,-0.5519265291687282,-0.22306353873462406,-0.2563451918380548,-0.3603452681361516,0.9011910994483247,-0.533939761106292,0.7071983930222037,0.9178877931296235,1.2179086647333313,-0.7150397928951028,-0.5829409809514536,-0.9061458306370328,0.5694329795337395,1.829626058008287,1.9429109542822776,-0.49476002069023667,2.066978384385359,0.17767635307027307,-0.8304743101055881,-0.2265963040959604,-0.7773926224598035,-0.44067000289883007,-0.9450696730766448,0.48128100200464896,-0.49487203558974524,-0.6018275073423531,-0.5179025798437809,0.6565329532524697,-1.8662061816335884,1.2949345333948852,1.4123076140162585,0.7524739263061787,-0.0031613521859595126,-0.5833576432659269,-0.4713320882377061,0.30712786965241107,-0.619678940804528,-0.5930332641931113,1.962935237824439,1.2176673108805502,-0.2411113726519649,-0.3527909849181242,-0.1527911735003672,0.7915524214048402,-0.12748782013816512,0.9105749360568643,0.25822859450953034,-1.125534337375841,-0.8310329535110081,0.9578111567739361,-0.788743587272034,-0.6557483895085895],\"yaxis\":\"y9\"},{\"line\":{\"color\":\"rgba(128, 128, 128, 1.0)\",\"dash\":\"solid\",\"shape\":\"linear\",\"width\":1.3},\"marker\":{\"size\":2,\"symbol\":\"circle\"},\"mode\":\"markers\",\"name\":\"C\",\"text\":\"\",\"type\":\"scatter\",\"x\":[-1.2299495303316792,0.5761251925679554,0.4439223748334115,0.4482693887595382,0.4391188657924199,-0.6090184804140729,0.7739033993514225,-0.1858044672741451,-1.5004542493562412,0.2661389565905993,-1.0307976300658042,-2.02562399847762,-0.7753946361284771,-0.024092807303725004,-1.5488851006659816,-0.40608690106156453,-1.7875493827221627,1.0978120233875932,1.2796131600904732,-0.24566124104260884,2.1512327284437016,1.0702943810199417,-0.16948194839928224,0.633425338273376,-0.12053714748320615,-0.7084391381390437,1.2122343306242827,-0.5531661180518929,0.6760646031687255,-0.8600719233782612,0.6307408183438546,0.736114624702335,0.8211645861435984,-0.9063307935843637,-0.4618678949453949,0.640819882423184,0.255985632683679,0.44050250308581096,-0.5098792189564512,0.6612370454506209,-0.4600852985179216,1.3928542342840358,0.8823525659375652,0.607283903701555,-2.4441288988197107,-0.8644188008705929,-0.532690495638404,0.12512387164939145,-0.7233303308661587,-0.23976137531649747,1.5587585887796735,-0.3530505109153326,-0.7056602818285378,0.4035688891271258,-0.8327362135840342,-1.313239469889929,-0.6277207975245217,-0.06658365119250485,-0.7808892284561406,-0.3748780636142635,-0.38299456605242604,-0.6325698902459843,-0.37089771726844656,0.32138636034575196,0.6727738971760795,-0.3945422734138908,2.9500615298764727,1.5519218449607535,0.4797694345031922,0.6423701460270103,-1.9708893650276542,1.1646789788732854,0.9515688528861517,1.4511554272385823,-0.20150822013810582,0.2606018888417338,-0.2510612853910099,2.130016703150938,1.63705915645,0.39847523494422377,1.0184562083723192,-0.5382357322422255,2.483246044560773,0.8526701202253368,-1.2948330224433153,1.3410500034685415,0.2624724820130176,0.42655832078624994,1.4132672701391868,-0.8391493300974192,-1.231514045828351,-2.0535105642667326,-0.8008456977267329,-0.38365075218860983,0.8430333327693967,1.1505882799513372,-1.3125282714743989,0.7942258301306302,-0.8030278933285362,0.023210838012871562],\"xaxis\":\"x10\",\"y\":[2.0269316731802673,0.3900738440870191,-0.5509704357907378,0.41238086371051214,1.3300384472698463,0.5094694905062215,1.0536919301420062,0.8334293454329205,1.1495346482242275,-0.8161796856150146,0.4621058636690486,0.5294813648253962,-0.8540906796983768,-1.0185814721037045,0.6627503077156954,-2.2718238272262266,-0.4215552608509096,-0.3563238694174239,-2.235723176981178,-0.0727382904398685,0.20698870964541172,1.5050735780324862,-0.09206585334279284,-0.13800615635486052,0.19254933126935822,0.5754127438818876,0.760219269687592,-0.8187273135993184,-0.6278746156930031,1.2458098868830387,-0.3012839116102563,1.2315211639397226,1.6939271522092885,-0.02336099170503781,0.5468940772555165,-0.18112666047871426,-0.8670913328228448,-0.12303348374833262,0.827600075731781,-1.4126556937840686,0.2961505500818118,1.3707393938345103,1.1221808269822853,1.3375914046745596,0.6112363303316156,0.7554927668559361,0.18833222037663072,-0.9969144284594557,-0.5519265291687282,-0.22306353873462406,-0.2563451918380548,-0.3603452681361516,0.9011910994483247,-0.533939761106292,0.7071983930222037,0.9178877931296235,1.2179086647333313,-0.7150397928951028,-0.5829409809514536,-0.9061458306370328,0.5694329795337395,1.829626058008287,1.9429109542822776,-0.49476002069023667,2.066978384385359,0.17767635307027307,-0.8304743101055881,-0.2265963040959604,-0.7773926224598035,-0.44067000289883007,-0.9450696730766448,0.48128100200464896,-0.49487203558974524,-0.6018275073423531,-0.5179025798437809,0.6565329532524697,-1.8662061816335884,1.2949345333948852,1.4123076140162585,0.7524739263061787,-0.0031613521859595126,-0.5833576432659269,-0.4713320882377061,0.30712786965241107,-0.619678940804528,-0.5930332641931113,1.962935237824439,1.2176673108805502,-0.2411113726519649,-0.3527909849181242,-0.1527911735003672,0.7915524214048402,-0.12748782013816512,0.9105749360568643,0.25822859450953034,-1.125534337375841,-0.8310329535110081,0.9578111567739361,-0.788743587272034,-0.6557483895085895],\"yaxis\":\"y10\"},{\"histfunc\":\"count\",\"histnorm\":\"\",\"marker\":{\"color\":\"rgba(50, 171, 96, 1.0)\",\"line\":{\"color\":\"#4D5663\",\"width\":1.3}},\"name\":\"C\",\"nbinsx\":10,\"opacity\":0.8,\"orientation\":\"v\",\"type\":\"histogram\",\"x\":[2.0269316731802673,0.3900738440870191,-0.5509704357907378,0.41238086371051214,1.3300384472698463,0.5094694905062215,1.0536919301420062,0.8334293454329205,1.1495346482242275,-0.8161796856150146,0.4621058636690486,0.5294813648253962,-0.8540906796983768,-1.0185814721037045,0.6627503077156954,-2.2718238272262266,-0.4215552608509096,-0.3563238694174239,-2.235723176981178,-0.0727382904398685,0.20698870964541172,1.5050735780324862,-0.09206585334279284,-0.13800615635486052,0.19254933126935822,0.5754127438818876,0.760219269687592,-0.8187273135993184,-0.6278746156930031,1.2458098868830387,-0.3012839116102563,1.2315211639397226,1.6939271522092885,-0.02336099170503781,0.5468940772555165,-0.18112666047871426,-0.8670913328228448,-0.12303348374833262,0.827600075731781,-1.4126556937840686,0.2961505500818118,1.3707393938345103,1.1221808269822853,1.3375914046745596,0.6112363303316156,0.7554927668559361,0.18833222037663072,-0.9969144284594557,-0.5519265291687282,-0.22306353873462406,-0.2563451918380548,-0.3603452681361516,0.9011910994483247,-0.533939761106292,0.7071983930222037,0.9178877931296235,1.2179086647333313,-0.7150397928951028,-0.5829409809514536,-0.9061458306370328,0.5694329795337395,1.829626058008287,1.9429109542822776,-0.49476002069023667,2.066978384385359,0.17767635307027307,-0.8304743101055881,-0.2265963040959604,-0.7773926224598035,-0.44067000289883007,-0.9450696730766448,0.48128100200464896,-0.49487203558974524,-0.6018275073423531,-0.5179025798437809,0.6565329532524697,-1.8662061816335884,1.2949345333948852,1.4123076140162585,0.7524739263061787,-0.0031613521859595126,-0.5833576432659269,-0.4713320882377061,0.30712786965241107,-0.619678940804528,-0.5930332641931113,1.962935237824439,1.2176673108805502,-0.2411113726519649,-0.3527909849181242,-0.1527911735003672,0.7915524214048402,-0.12748782013816512,0.9105749360568643,0.25822859450953034,-1.125534337375841,-0.8310329535110081,0.9578111567739361,-0.788743587272034,-0.6557483895085895],\"xaxis\":\"x11\",\"yaxis\":\"y11\"},{\"line\":{\"color\":\"rgba(128, 128, 128, 1.0)\",\"dash\":\"solid\",\"shape\":\"linear\",\"width\":1.3},\"marker\":{\"size\":2,\"symbol\":\"circle\"},\"mode\":\"markers\",\"name\":\"C\",\"text\":\"\",\"type\":\"scatter\",\"x\":[-0.34838642465310976,1.181842041223677,1.1274135164978363,-0.8505335468790323,-1.0545048061462534,0.9648968501508846,1.359512881108927,0.031319299346180704,-1.0544546453516068,-0.19415686511112226,-0.8782025088237447,0.2979572393155649,-0.25164257647585614,0.18006007456588874,1.5948180741168454,-0.11016365987717315,0.026912490823449833,-0.17314469919793413,-0.44698980561488744,-0.5223704821693409,1.2019422992338886,-0.9108856674435171,0.17289876018881567,0.9434915597651907,0.41427151570218734,0.18346300209250066,-1.045725467277624,1.0958361772136858,0.5154146534001802,0.7486792070848206,0.8061256766986518,0.2032447540621425,-1.6844965037132096,-1.0041452619752393,0.01302553469071673,-0.7734146255293952,0.2634141956378256,0.712908872570988,0.977766969094656,-0.35347025671809845,0.3319287536417015,0.19638539974491476,0.981980062458202,-1.4079859998371953,-0.1646834085274142,-0.3605965515725068,-0.1143569728769469,0.6485213215837613,-0.6296574194265816,-2.0186763437497297,0.9053199943270607,1.192836886917903,1.4661736115872215,-0.9820446114331933,0.4563239961336419,-1.3723818383770405,0.6094619537747207,-1.7935388851300191,-0.2507027537011104,1.3864089231885277,0.47037988777239864,-0.6018490239023988,-0.9625010436209301,0.2372870957932504,-0.09723830548886282,0.8069547308099078,-0.42105820077670625,1.0296767830467521,0.037600022632975905,0.07138464928075697,0.2796654273799903,-2.49408432595785,-0.30580333153477673,2.126316413474627,0.5927685525299955,0.013736794392062983,1.1106767069672834,-0.6773361907310395,-0.46290553372163307,1.2232290731098865,-0.14194727709821015,0.2707178806404906,-0.09855395233826988,-1.4312626397496775,-0.20452270125593489,-0.7052409656017552,-1.4274348225640827,0.7140966200329959,-0.9247066437972612,-0.26388909407647126,0.1041322303504204,0.7960006430313149,-0.05142318837511502,-0.6128088687539949,0.03981581787309479,-0.35908397951782045,-0.035824028085450044,-0.07966456102769102,0.23852400839790286,-1.0089027578041012],\"xaxis\":\"x12\",\"y\":[2.0269316731802673,0.3900738440870191,-0.5509704357907378,0.41238086371051214,1.3300384472698463,0.5094694905062215,1.0536919301420062,0.8334293454329205,1.1495346482242275,-0.8161796856150146,0.4621058636690486,0.5294813648253962,-0.8540906796983768,-1.0185814721037045,0.6627503077156954,-2.2718238272262266,-0.4215552608509096,-0.3563238694174239,-2.235723176981178,-0.0727382904398685,0.20698870964541172,1.5050735780324862,-0.09206585334279284,-0.13800615635486052,0.19254933126935822,0.5754127438818876,0.760219269687592,-0.8187273135993184,-0.6278746156930031,1.2458098868830387,-0.3012839116102563,1.2315211639397226,1.6939271522092885,-0.02336099170503781,0.5468940772555165,-0.18112666047871426,-0.8670913328228448,-0.12303348374833262,0.827600075731781,-1.4126556937840686,0.2961505500818118,1.3707393938345103,1.1221808269822853,1.3375914046745596,0.6112363303316156,0.7554927668559361,0.18833222037663072,-0.9969144284594557,-0.5519265291687282,-0.22306353873462406,-0.2563451918380548,-0.3603452681361516,0.9011910994483247,-0.533939761106292,0.7071983930222037,0.9178877931296235,1.2179086647333313,-0.7150397928951028,-0.5829409809514536,-0.9061458306370328,0.5694329795337395,1.829626058008287,1.9429109542822776,-0.49476002069023667,2.066978384385359,0.17767635307027307,-0.8304743101055881,-0.2265963040959604,-0.7773926224598035,-0.44067000289883007,-0.9450696730766448,0.48128100200464896,-0.49487203558974524,-0.6018275073423531,-0.5179025798437809,0.6565329532524697,-1.8662061816335884,1.2949345333948852,1.4123076140162585,0.7524739263061787,-0.0031613521859595126,-0.5833576432659269,-0.4713320882377061,0.30712786965241107,-0.619678940804528,-0.5930332641931113,1.962935237824439,1.2176673108805502,-0.2411113726519649,-0.3527909849181242,-0.1527911735003672,0.7915524214048402,-0.12748782013816512,0.9105749360568643,0.25822859450953034,-1.125534337375841,-0.8310329535110081,0.9578111567739361,-0.788743587272034,-0.6557483895085895],\"yaxis\":\"y12\"},{\"line\":{\"color\":\"rgba(128, 128, 128, 1.0)\",\"dash\":\"solid\",\"shape\":\"linear\",\"width\":1.3},\"marker\":{\"size\":2,\"symbol\":\"circle\"},\"mode\":\"markers\",\"name\":\"D\",\"text\":\"\",\"type\":\"scatter\",\"x\":[0.027241215754599653,0.461466942154424,0.3737578251714141,-1.4560336370431364,0.05734000875052292,-0.6934160050389406,-0.12917756125043053,0.5419506235849016,-1.1012631192337687,0.24570141978914636,0.01087999684740408,0.8100012366208713,-0.7030304225159633,-0.5946926572342286,-0.44511995840997504,0.23427398696523208,0.4160578404859543,-3.2493969232153423,-0.4734991876936832,-0.07570748157761908,0.3528977639604107,-0.21581152640941356,0.13976768152913263,0.9467098790676365,-0.23273491103119384,0.0389850989077991,-0.22939906198068014,0.8637838686080933,-1.1369014503927326,0.7526257977466814,0.41974541451444486,-0.29463973256237136,-2.176829559215304,-1.5302922998315613,0.35842273997828183,1.7264403465548985,-0.3653450892096323,-0.31695509980092507,-1.0558192787782297,-1.304349636163735,2.257323133922572,-0.10041675052728624,-2.24397916062139,-0.5589838760811628,-1.20295960227409,0.0026320539461168204,-0.2865627041840873,0.541803777541615,0.6300582728619144,-2.5053795527591367,-0.46316045798202704,-1.8274300715054332,-0.5586514125300802,0.3189194724183755,-1.685811925308102,-0.8428118098322996,0.80016486621426,0.5459717323447757,0.8643649166999295,-0.5740222161144256,-0.7179033509334194,-2.5019769582607734,-0.03892926260196354,-0.5500802354222613,1.2596761814939812,0.7347475008736277,-0.48819951705315184,-0.7205060770260235,-0.38233687263659966,0.4165865401847979,0.08270946347414312,0.04582443872299958,-2.839154713525733,1.4345342033741435,0.2590541572647937,-0.7046726386164505,-0.9473258446696663,-0.6517931146311408,1.0110736188093266,-0.5833457105696599,0.8982890815734496,0.5013034542613344,2.464532736067224,1.2612335926418747,0.536455461831126,1.934995588665759,-2.5219462688804963,0.628745198471256,-2.4809074077695996,1.6053651644968228,-0.2464413181810761,-1.4132000544481975,0.1868646453584373,0.7744526830342858,-0.7831732804063224,-2.2172665385010206,0.6368751852482623,0.11593761473734172,0.6190387568185067,-1.2760951982159945],\"xaxis\":\"x13\",\"y\":[-0.34838642465310976,1.181842041223677,1.1274135164978363,-0.8505335468790323,-1.0545048061462534,0.9648968501508846,1.359512881108927,0.031319299346180704,-1.0544546453516068,-0.19415686511112226,-0.8782025088237447,0.2979572393155649,-0.25164257647585614,0.18006007456588874,1.5948180741168454,-0.11016365987717315,0.026912490823449833,-0.17314469919793413,-0.44698980561488744,-0.5223704821693409,1.2019422992338886,-0.9108856674435171,0.17289876018881567,0.9434915597651907,0.41427151570218734,0.18346300209250066,-1.045725467277624,1.0958361772136858,0.5154146534001802,0.7486792070848206,0.8061256766986518,0.2032447540621425,-1.6844965037132096,-1.0041452619752393,0.01302553469071673,-0.7734146255293952,0.2634141956378256,0.712908872570988,0.977766969094656,-0.35347025671809845,0.3319287536417015,0.19638539974491476,0.981980062458202,-1.4079859998371953,-0.1646834085274142,-0.3605965515725068,-0.1143569728769469,0.6485213215837613,-0.6296574194265816,-2.0186763437497297,0.9053199943270607,1.192836886917903,1.4661736115872215,-0.9820446114331933,0.4563239961336419,-1.3723818383770405,0.6094619537747207,-1.7935388851300191,-0.2507027537011104,1.3864089231885277,0.47037988777239864,-0.6018490239023988,-0.9625010436209301,0.2372870957932504,-0.09723830548886282,0.8069547308099078,-0.42105820077670625,1.0296767830467521,0.037600022632975905,0.07138464928075697,0.2796654273799903,-2.49408432595785,-0.30580333153477673,2.126316413474627,0.5927685525299955,0.013736794392062983,1.1106767069672834,-0.6773361907310395,-0.46290553372163307,1.2232290731098865,-0.14194727709821015,0.2707178806404906,-0.09855395233826988,-1.4312626397496775,-0.20452270125593489,-0.7052409656017552,-1.4274348225640827,0.7140966200329959,-0.9247066437972612,-0.26388909407647126,0.1041322303504204,0.7960006430313149,-0.05142318837511502,-0.6128088687539949,0.03981581787309479,-0.35908397951782045,-0.035824028085450044,-0.07966456102769102,0.23852400839790286,-1.0089027578041012],\"yaxis\":\"y13\"},{\"line\":{\"color\":\"rgba(128, 128, 128, 1.0)\",\"dash\":\"solid\",\"shape\":\"linear\",\"width\":1.3},\"marker\":{\"size\":2,\"symbol\":\"circle\"},\"mode\":\"markers\",\"name\":\"D\",\"text\":\"\",\"type\":\"scatter\",\"x\":[-1.2299495303316792,0.5761251925679554,0.4439223748334115,0.4482693887595382,0.4391188657924199,-0.6090184804140729,0.7739033993514225,-0.1858044672741451,-1.5004542493562412,0.2661389565905993,-1.0307976300658042,-2.02562399847762,-0.7753946361284771,-0.024092807303725004,-1.5488851006659816,-0.40608690106156453,-1.7875493827221627,1.0978120233875932,1.2796131600904732,-0.24566124104260884,2.1512327284437016,1.0702943810199417,-0.16948194839928224,0.633425338273376,-0.12053714748320615,-0.7084391381390437,1.2122343306242827,-0.5531661180518929,0.6760646031687255,-0.8600719233782612,0.6307408183438546,0.736114624702335,0.8211645861435984,-0.9063307935843637,-0.4618678949453949,0.640819882423184,0.255985632683679,0.44050250308581096,-0.5098792189564512,0.6612370454506209,-0.4600852985179216,1.3928542342840358,0.8823525659375652,0.607283903701555,-2.4441288988197107,-0.8644188008705929,-0.532690495638404,0.12512387164939145,-0.7233303308661587,-0.23976137531649747,1.5587585887796735,-0.3530505109153326,-0.7056602818285378,0.4035688891271258,-0.8327362135840342,-1.313239469889929,-0.6277207975245217,-0.06658365119250485,-0.7808892284561406,-0.3748780636142635,-0.38299456605242604,-0.6325698902459843,-0.37089771726844656,0.32138636034575196,0.6727738971760795,-0.3945422734138908,2.9500615298764727,1.5519218449607535,0.4797694345031922,0.6423701460270103,-1.9708893650276542,1.1646789788732854,0.9515688528861517,1.4511554272385823,-0.20150822013810582,0.2606018888417338,-0.2510612853910099,2.130016703150938,1.63705915645,0.39847523494422377,1.0184562083723192,-0.5382357322422255,2.483246044560773,0.8526701202253368,-1.2948330224433153,1.3410500034685415,0.2624724820130176,0.42655832078624994,1.4132672701391868,-0.8391493300974192,-1.231514045828351,-2.0535105642667326,-0.8008456977267329,-0.38365075218860983,0.8430333327693967,1.1505882799513372,-1.3125282714743989,0.7942258301306302,-0.8030278933285362,0.023210838012871562],\"xaxis\":\"x14\",\"y\":[-0.34838642465310976,1.181842041223677,1.1274135164978363,-0.8505335468790323,-1.0545048061462534,0.9648968501508846,1.359512881108927,0.031319299346180704,-1.0544546453516068,-0.19415686511112226,-0.8782025088237447,0.2979572393155649,-0.25164257647585614,0.18006007456588874,1.5948180741168454,-0.11016365987717315,0.026912490823449833,-0.17314469919793413,-0.44698980561488744,-0.5223704821693409,1.2019422992338886,-0.9108856674435171,0.17289876018881567,0.9434915597651907,0.41427151570218734,0.18346300209250066,-1.045725467277624,1.0958361772136858,0.5154146534001802,0.7486792070848206,0.8061256766986518,0.2032447540621425,-1.6844965037132096,-1.0041452619752393,0.01302553469071673,-0.7734146255293952,0.2634141956378256,0.712908872570988,0.977766969094656,-0.35347025671809845,0.3319287536417015,0.19638539974491476,0.981980062458202,-1.4079859998371953,-0.1646834085274142,-0.3605965515725068,-0.1143569728769469,0.6485213215837613,-0.6296574194265816,-2.0186763437497297,0.9053199943270607,1.192836886917903,1.4661736115872215,-0.9820446114331933,0.4563239961336419,-1.3723818383770405,0.6094619537747207,-1.7935388851300191,-0.2507027537011104,1.3864089231885277,0.47037988777239864,-0.6018490239023988,-0.9625010436209301,0.2372870957932504,-0.09723830548886282,0.8069547308099078,-0.42105820077670625,1.0296767830467521,0.037600022632975905,0.07138464928075697,0.2796654273799903,-2.49408432595785,-0.30580333153477673,2.126316413474627,0.5927685525299955,0.013736794392062983,1.1106767069672834,-0.6773361907310395,-0.46290553372163307,1.2232290731098865,-0.14194727709821015,0.2707178806404906,-0.09855395233826988,-1.4312626397496775,-0.20452270125593489,-0.7052409656017552,-1.4274348225640827,0.7140966200329959,-0.9247066437972612,-0.26388909407647126,0.1041322303504204,0.7960006430313149,-0.05142318837511502,-0.6128088687539949,0.03981581787309479,-0.35908397951782045,-0.035824028085450044,-0.07966456102769102,0.23852400839790286,-1.0089027578041012],\"yaxis\":\"y14\"},{\"line\":{\"color\":\"rgba(128, 128, 128, 1.0)\",\"dash\":\"solid\",\"shape\":\"linear\",\"width\":1.3},\"marker\":{\"size\":2,\"symbol\":\"circle\"},\"mode\":\"markers\",\"name\":\"D\",\"text\":\"\",\"type\":\"scatter\",\"x\":[2.0269316731802673,0.3900738440870191,-0.5509704357907378,0.41238086371051214,1.3300384472698463,0.5094694905062215,1.0536919301420062,0.8334293454329205,1.1495346482242275,-0.8161796856150146,0.4621058636690486,0.5294813648253962,-0.8540906796983768,-1.0185814721037045,0.6627503077156954,-2.2718238272262266,-0.4215552608509096,-0.3563238694174239,-2.235723176981178,-0.0727382904398685,0.20698870964541172,1.5050735780324862,-0.09206585334279284,-0.13800615635486052,0.19254933126935822,0.5754127438818876,0.760219269687592,-0.8187273135993184,-0.6278746156930031,1.2458098868830387,-0.3012839116102563,1.2315211639397226,1.6939271522092885,-0.02336099170503781,0.5468940772555165,-0.18112666047871426,-0.8670913328228448,-0.12303348374833262,0.827600075731781,-1.4126556937840686,0.2961505500818118,1.3707393938345103,1.1221808269822853,1.3375914046745596,0.6112363303316156,0.7554927668559361,0.18833222037663072,-0.9969144284594557,-0.5519265291687282,-0.22306353873462406,-0.2563451918380548,-0.3603452681361516,0.9011910994483247,-0.533939761106292,0.7071983930222037,0.9178877931296235,1.2179086647333313,-0.7150397928951028,-0.5829409809514536,-0.9061458306370328,0.5694329795337395,1.829626058008287,1.9429109542822776,-0.49476002069023667,2.066978384385359,0.17767635307027307,-0.8304743101055881,-0.2265963040959604,-0.7773926224598035,-0.44067000289883007,-0.9450696730766448,0.48128100200464896,-0.49487203558974524,-0.6018275073423531,-0.5179025798437809,0.6565329532524697,-1.8662061816335884,1.2949345333948852,1.4123076140162585,0.7524739263061787,-0.0031613521859595126,-0.5833576432659269,-0.4713320882377061,0.30712786965241107,-0.619678940804528,-0.5930332641931113,1.962935237824439,1.2176673108805502,-0.2411113726519649,-0.3527909849181242,-0.1527911735003672,0.7915524214048402,-0.12748782013816512,0.9105749360568643,0.25822859450953034,-1.125534337375841,-0.8310329535110081,0.9578111567739361,-0.788743587272034,-0.6557483895085895],\"xaxis\":\"x15\",\"y\":[-0.34838642465310976,1.181842041223677,1.1274135164978363,-0.8505335468790323,-1.0545048061462534,0.9648968501508846,1.359512881108927,0.031319299346180704,-1.0544546453516068,-0.19415686511112226,-0.8782025088237447,0.2979572393155649,-0.25164257647585614,0.18006007456588874,1.5948180741168454,-0.11016365987717315,0.026912490823449833,-0.17314469919793413,-0.44698980561488744,-0.5223704821693409,1.2019422992338886,-0.9108856674435171,0.17289876018881567,0.9434915597651907,0.41427151570218734,0.18346300209250066,-1.045725467277624,1.0958361772136858,0.5154146534001802,0.7486792070848206,0.8061256766986518,0.2032447540621425,-1.6844965037132096,-1.0041452619752393,0.01302553469071673,-0.7734146255293952,0.2634141956378256,0.712908872570988,0.977766969094656,-0.35347025671809845,0.3319287536417015,0.19638539974491476,0.981980062458202,-1.4079859998371953,-0.1646834085274142,-0.3605965515725068,-0.1143569728769469,0.6485213215837613,-0.6296574194265816,-2.0186763437497297,0.9053199943270607,1.192836886917903,1.4661736115872215,-0.9820446114331933,0.4563239961336419,-1.3723818383770405,0.6094619537747207,-1.7935388851300191,-0.2507027537011104,1.3864089231885277,0.47037988777239864,-0.6018490239023988,-0.9625010436209301,0.2372870957932504,-0.09723830548886282,0.8069547308099078,-0.42105820077670625,1.0296767830467521,0.037600022632975905,0.07138464928075697,0.2796654273799903,-2.49408432595785,-0.30580333153477673,2.126316413474627,0.5927685525299955,0.013736794392062983,1.1106767069672834,-0.6773361907310395,-0.46290553372163307,1.2232290731098865,-0.14194727709821015,0.2707178806404906,-0.09855395233826988,-1.4312626397496775,-0.20452270125593489,-0.7052409656017552,-1.4274348225640827,0.7140966200329959,-0.9247066437972612,-0.26388909407647126,0.1041322303504204,0.7960006430313149,-0.05142318837511502,-0.6128088687539949,0.03981581787309479,-0.35908397951782045,-0.035824028085450044,-0.07966456102769102,0.23852400839790286,-1.0089027578041012],\"yaxis\":\"y15\"},{\"histfunc\":\"count\",\"histnorm\":\"\",\"marker\":{\"color\":\"rgba(128, 0, 128, 1.0)\",\"line\":{\"color\":\"#4D5663\",\"width\":1.3}},\"name\":\"D\",\"nbinsx\":10,\"opacity\":0.8,\"orientation\":\"v\",\"type\":\"histogram\",\"x\":[-0.34838642465310976,1.181842041223677,1.1274135164978363,-0.8505335468790323,-1.0545048061462534,0.9648968501508846,1.359512881108927,0.031319299346180704,-1.0544546453516068,-0.19415686511112226,-0.8782025088237447,0.2979572393155649,-0.25164257647585614,0.18006007456588874,1.5948180741168454,-0.11016365987717315,0.026912490823449833,-0.17314469919793413,-0.44698980561488744,-0.5223704821693409,1.2019422992338886,-0.9108856674435171,0.17289876018881567,0.9434915597651907,0.41427151570218734,0.18346300209250066,-1.045725467277624,1.0958361772136858,0.5154146534001802,0.7486792070848206,0.8061256766986518,0.2032447540621425,-1.6844965037132096,-1.0041452619752393,0.01302553469071673,-0.7734146255293952,0.2634141956378256,0.712908872570988,0.977766969094656,-0.35347025671809845,0.3319287536417015,0.19638539974491476,0.981980062458202,-1.4079859998371953,-0.1646834085274142,-0.3605965515725068,-0.1143569728769469,0.6485213215837613,-0.6296574194265816,-2.0186763437497297,0.9053199943270607,1.192836886917903,1.4661736115872215,-0.9820446114331933,0.4563239961336419,-1.3723818383770405,0.6094619537747207,-1.7935388851300191,-0.2507027537011104,1.3864089231885277,0.47037988777239864,-0.6018490239023988,-0.9625010436209301,0.2372870957932504,-0.09723830548886282,0.8069547308099078,-0.42105820077670625,1.0296767830467521,0.037600022632975905,0.07138464928075697,0.2796654273799903,-2.49408432595785,-0.30580333153477673,2.126316413474627,0.5927685525299955,0.013736794392062983,1.1106767069672834,-0.6773361907310395,-0.46290553372163307,1.2232290731098865,-0.14194727709821015,0.2707178806404906,-0.09855395233826988,-1.4312626397496775,-0.20452270125593489,-0.7052409656017552,-1.4274348225640827,0.7140966200329959,-0.9247066437972612,-0.26388909407647126,0.1041322303504204,0.7960006430313149,-0.05142318837511502,-0.6128088687539949,0.03981581787309479,-0.35908397951782045,-0.035824028085450044,-0.07966456102769102,0.23852400839790286,-1.0089027578041012],\"xaxis\":\"x16\",\"yaxis\":\"y16\"}],                        {\"bargap\":0.02,\"legend\":{\"bgcolor\":\"#F5F6F9\",\"font\":{\"color\":\"#4D5663\"}},\"paper_bgcolor\":\"#F5F6F9\",\"plot_bgcolor\":\"#F5F6F9\",\"showlegend\":false,\"template\":{\"data\":{\"bar\":[{\"error_x\":{\"color\":\"#2a3f5f\"},\"error_y\":{\"color\":\"#2a3f5f\"},\"marker\":{\"line\":{\"color\":\"#E5ECF6\",\"width\":0.5},\"pattern\":{\"fillmode\":\"overlay\",\"size\":10,\"solidity\":0.2}},\"type\":\"bar\"}],\"barpolar\":[{\"marker\":{\"line\":{\"color\":\"#E5ECF6\",\"width\":0.5},\"pattern\":{\"fillmode\":\"overlay\",\"size\":10,\"solidity\":0.2}},\"type\":\"barpolar\"}],\"carpet\":[{\"aaxis\":{\"endlinecolor\":\"#2a3f5f\",\"gridcolor\":\"white\",\"linecolor\":\"white\",\"minorgridcolor\":\"white\",\"startlinecolor\":\"#2a3f5f\"},\"baxis\":{\"endlinecolor\":\"#2a3f5f\",\"gridcolor\":\"white\",\"linecolor\":\"white\",\"minorgridcolor\":\"white\",\"startlinecolor\":\"#2a3f5f\"},\"type\":\"carpet\"}],\"choropleth\":[{\"colorbar\":{\"outlinewidth\":0,\"ticks\":\"\"},\"type\":\"choropleth\"}],\"contour\":[{\"colorbar\":{\"outlinewidth\":0,\"ticks\":\"\"},\"colorscale\":[[0.0,\"#0d0887\"],[0.1111111111111111,\"#46039f\"],[0.2222222222222222,\"#7201a8\"],[0.3333333333333333,\"#9c179e\"],[0.4444444444444444,\"#bd3786\"],[0.5555555555555556,\"#d8576b\"],[0.6666666666666666,\"#ed7953\"],[0.7777777777777778,\"#fb9f3a\"],[0.8888888888888888,\"#fdca26\"],[1.0,\"#f0f921\"]],\"type\":\"contour\"}],\"contourcarpet\":[{\"colorbar\":{\"outlinewidth\":0,\"ticks\":\"\"},\"type\":\"contourcarpet\"}],\"heatmap\":[{\"colorbar\":{\"outlinewidth\":0,\"ticks\":\"\"},\"colorscale\":[[0.0,\"#0d0887\"],[0.1111111111111111,\"#46039f\"],[0.2222222222222222,\"#7201a8\"],[0.3333333333333333,\"#9c179e\"],[0.4444444444444444,\"#bd3786\"],[0.5555555555555556,\"#d8576b\"],[0.6666666666666666,\"#ed7953\"],[0.7777777777777778,\"#fb9f3a\"],[0.8888888888888888,\"#fdca26\"],[1.0,\"#f0f921\"]],\"type\":\"heatmap\"}],\"heatmapgl\":[{\"colorbar\":{\"outlinewidth\":0,\"ticks\":\"\"},\"colorscale\":[[0.0,\"#0d0887\"],[0.1111111111111111,\"#46039f\"],[0.2222222222222222,\"#7201a8\"],[0.3333333333333333,\"#9c179e\"],[0.4444444444444444,\"#bd3786\"],[0.5555555555555556,\"#d8576b\"],[0.6666666666666666,\"#ed7953\"],[0.7777777777777778,\"#fb9f3a\"],[0.8888888888888888,\"#fdca26\"],[1.0,\"#f0f921\"]],\"type\":\"heatmapgl\"}],\"histogram\":[{\"marker\":{\"pattern\":{\"fillmode\":\"overlay\",\"size\":10,\"solidity\":0.2}},\"type\":\"histogram\"}],\"histogram2d\":[{\"colorbar\":{\"outlinewidth\":0,\"ticks\":\"\"},\"colorscale\":[[0.0,\"#0d0887\"],[0.1111111111111111,\"#46039f\"],[0.2222222222222222,\"#7201a8\"],[0.3333333333333333,\"#9c179e\"],[0.4444444444444444,\"#bd3786\"],[0.5555555555555556,\"#d8576b\"],[0.6666666666666666,\"#ed7953\"],[0.7777777777777778,\"#fb9f3a\"],[0.8888888888888888,\"#fdca26\"],[1.0,\"#f0f921\"]],\"type\":\"histogram2d\"}],\"histogram2dcontour\":[{\"colorbar\":{\"outlinewidth\":0,\"ticks\":\"\"},\"colorscale\":[[0.0,\"#0d0887\"],[0.1111111111111111,\"#46039f\"],[0.2222222222222222,\"#7201a8\"],[0.3333333333333333,\"#9c179e\"],[0.4444444444444444,\"#bd3786\"],[0.5555555555555556,\"#d8576b\"],[0.6666666666666666,\"#ed7953\"],[0.7777777777777778,\"#fb9f3a\"],[0.8888888888888888,\"#fdca26\"],[1.0,\"#f0f921\"]],\"type\":\"histogram2dcontour\"}],\"mesh3d\":[{\"colorbar\":{\"outlinewidth\":0,\"ticks\":\"\"},\"type\":\"mesh3d\"}],\"parcoords\":[{\"line\":{\"colorbar\":{\"outlinewidth\":0,\"ticks\":\"\"}},\"type\":\"parcoords\"}],\"pie\":[{\"automargin\":true,\"type\":\"pie\"}],\"scatter\":[{\"marker\":{\"colorbar\":{\"outlinewidth\":0,\"ticks\":\"\"}},\"type\":\"scatter\"}],\"scatter3d\":[{\"line\":{\"colorbar\":{\"outlinewidth\":0,\"ticks\":\"\"}},\"marker\":{\"colorbar\":{\"outlinewidth\":0,\"ticks\":\"\"}},\"type\":\"scatter3d\"}],\"scattercarpet\":[{\"marker\":{\"colorbar\":{\"outlinewidth\":0,\"ticks\":\"\"}},\"type\":\"scattercarpet\"}],\"scattergeo\":[{\"marker\":{\"colorbar\":{\"outlinewidth\":0,\"ticks\":\"\"}},\"type\":\"scattergeo\"}],\"scattergl\":[{\"marker\":{\"colorbar\":{\"outlinewidth\":0,\"ticks\":\"\"}},\"type\":\"scattergl\"}],\"scattermapbox\":[{\"marker\":{\"colorbar\":{\"outlinewidth\":0,\"ticks\":\"\"}},\"type\":\"scattermapbox\"}],\"scatterpolar\":[{\"marker\":{\"colorbar\":{\"outlinewidth\":0,\"ticks\":\"\"}},\"type\":\"scatterpolar\"}],\"scatterpolargl\":[{\"marker\":{\"colorbar\":{\"outlinewidth\":0,\"ticks\":\"\"}},\"type\":\"scatterpolargl\"}],\"scatterternary\":[{\"marker\":{\"colorbar\":{\"outlinewidth\":0,\"ticks\":\"\"}},\"type\":\"scatterternary\"}],\"surface\":[{\"colorbar\":{\"outlinewidth\":0,\"ticks\":\"\"},\"colorscale\":[[0.0,\"#0d0887\"],[0.1111111111111111,\"#46039f\"],[0.2222222222222222,\"#7201a8\"],[0.3333333333333333,\"#9c179e\"],[0.4444444444444444,\"#bd3786\"],[0.5555555555555556,\"#d8576b\"],[0.6666666666666666,\"#ed7953\"],[0.7777777777777778,\"#fb9f3a\"],[0.8888888888888888,\"#fdca26\"],[1.0,\"#f0f921\"]],\"type\":\"surface\"}],\"table\":[{\"cells\":{\"fill\":{\"color\":\"#EBF0F8\"},\"line\":{\"color\":\"white\"}},\"header\":{\"fill\":{\"color\":\"#C8D4E3\"},\"line\":{\"color\":\"white\"}},\"type\":\"table\"}]},\"layout\":{\"annotationdefaults\":{\"arrowcolor\":\"#2a3f5f\",\"arrowhead\":0,\"arrowwidth\":1},\"autotypenumbers\":\"strict\",\"coloraxis\":{\"colorbar\":{\"outlinewidth\":0,\"ticks\":\"\"}},\"colorscale\":{\"diverging\":[[0,\"#8e0152\"],[0.1,\"#c51b7d\"],[0.2,\"#de77ae\"],[0.3,\"#f1b6da\"],[0.4,\"#fde0ef\"],[0.5,\"#f7f7f7\"],[0.6,\"#e6f5d0\"],[0.7,\"#b8e186\"],[0.8,\"#7fbc41\"],[0.9,\"#4d9221\"],[1,\"#276419\"]],\"sequential\":[[0.0,\"#0d0887\"],[0.1111111111111111,\"#46039f\"],[0.2222222222222222,\"#7201a8\"],[0.3333333333333333,\"#9c179e\"],[0.4444444444444444,\"#bd3786\"],[0.5555555555555556,\"#d8576b\"],[0.6666666666666666,\"#ed7953\"],[0.7777777777777778,\"#fb9f3a\"],[0.8888888888888888,\"#fdca26\"],[1.0,\"#f0f921\"]],\"sequentialminus\":[[0.0,\"#0d0887\"],[0.1111111111111111,\"#46039f\"],[0.2222222222222222,\"#7201a8\"],[0.3333333333333333,\"#9c179e\"],[0.4444444444444444,\"#bd3786\"],[0.5555555555555556,\"#d8576b\"],[0.6666666666666666,\"#ed7953\"],[0.7777777777777778,\"#fb9f3a\"],[0.8888888888888888,\"#fdca26\"],[1.0,\"#f0f921\"]]},\"colorway\":[\"#636efa\",\"#EF553B\",\"#00cc96\",\"#ab63fa\",\"#FFA15A\",\"#19d3f3\",\"#FF6692\",\"#B6E880\",\"#FF97FF\",\"#FECB52\"],\"font\":{\"color\":\"#2a3f5f\"},\"geo\":{\"bgcolor\":\"white\",\"lakecolor\":\"white\",\"landcolor\":\"#E5ECF6\",\"showlakes\":true,\"showland\":true,\"subunitcolor\":\"white\"},\"hoverlabel\":{\"align\":\"left\"},\"hovermode\":\"closest\",\"mapbox\":{\"style\":\"light\"},\"paper_bgcolor\":\"white\",\"plot_bgcolor\":\"#E5ECF6\",\"polar\":{\"angularaxis\":{\"gridcolor\":\"white\",\"linecolor\":\"white\",\"ticks\":\"\"},\"bgcolor\":\"#E5ECF6\",\"radialaxis\":{\"gridcolor\":\"white\",\"linecolor\":\"white\",\"ticks\":\"\"}},\"scene\":{\"xaxis\":{\"backgroundcolor\":\"#E5ECF6\",\"gridcolor\":\"white\",\"gridwidth\":2,\"linecolor\":\"white\",\"showbackground\":true,\"ticks\":\"\",\"zerolinecolor\":\"white\"},\"yaxis\":{\"backgroundcolor\":\"#E5ECF6\",\"gridcolor\":\"white\",\"gridwidth\":2,\"linecolor\":\"white\",\"showbackground\":true,\"ticks\":\"\",\"zerolinecolor\":\"white\"},\"zaxis\":{\"backgroundcolor\":\"#E5ECF6\",\"gridcolor\":\"white\",\"gridwidth\":2,\"linecolor\":\"white\",\"showbackground\":true,\"ticks\":\"\",\"zerolinecolor\":\"white\"}},\"shapedefaults\":{\"line\":{\"color\":\"#2a3f5f\"}},\"ternary\":{\"aaxis\":{\"gridcolor\":\"white\",\"linecolor\":\"white\",\"ticks\":\"\"},\"baxis\":{\"gridcolor\":\"white\",\"linecolor\":\"white\",\"ticks\":\"\"},\"bgcolor\":\"#E5ECF6\",\"caxis\":{\"gridcolor\":\"white\",\"linecolor\":\"white\",\"ticks\":\"\"}},\"title\":{\"x\":0.05},\"xaxis\":{\"automargin\":true,\"gridcolor\":\"white\",\"linecolor\":\"white\",\"ticks\":\"\",\"title\":{\"standoff\":15},\"zerolinecolor\":\"white\",\"zerolinewidth\":2},\"yaxis\":{\"automargin\":true,\"gridcolor\":\"white\",\"linecolor\":\"white\",\"ticks\":\"\",\"title\":{\"standoff\":15},\"zerolinecolor\":\"white\",\"zerolinewidth\":2}}},\"title\":{\"font\":{\"color\":\"#4D5663\"}},\"xaxis\":{\"anchor\":\"y\",\"domain\":[0.0,0.2125],\"gridcolor\":\"#E1E5ED\",\"showgrid\":false,\"tickfont\":{\"color\":\"#4D5663\"},\"title\":{\"font\":{\"color\":\"#4D5663\"},\"text\":\"\"},\"zerolinecolor\":\"#E1E5ED\"},\"xaxis10\":{\"anchor\":\"y10\",\"domain\":[0.2625,0.475],\"gridcolor\":\"#E1E5ED\",\"showgrid\":false,\"tickfont\":{\"color\":\"#4D5663\"},\"title\":{\"font\":{\"color\":\"#4D5663\"},\"text\":\"\"},\"zerolinecolor\":\"#E1E5ED\"},\"xaxis11\":{\"anchor\":\"y11\",\"domain\":[0.525,0.7375],\"gridcolor\":\"#E1E5ED\",\"showgrid\":false,\"tickfont\":{\"color\":\"#4D5663\"},\"title\":{\"font\":{\"color\":\"#4D5663\"},\"text\":\"\"},\"zerolinecolor\":\"#E1E5ED\"},\"xaxis12\":{\"anchor\":\"y12\",\"domain\":[0.7875,1.0],\"gridcolor\":\"#E1E5ED\",\"showgrid\":false,\"tickfont\":{\"color\":\"#4D5663\"},\"title\":{\"font\":{\"color\":\"#4D5663\"},\"text\":\"\"},\"zerolinecolor\":\"#E1E5ED\"},\"xaxis13\":{\"anchor\":\"y13\",\"domain\":[0.0,0.2125],\"gridcolor\":\"#E1E5ED\",\"showgrid\":false,\"tickfont\":{\"color\":\"#4D5663\"},\"title\":{\"font\":{\"color\":\"#4D5663\"},\"text\":\"\"},\"zerolinecolor\":\"#E1E5ED\"},\"xaxis14\":{\"anchor\":\"y14\",\"domain\":[0.2625,0.475],\"gridcolor\":\"#E1E5ED\",\"showgrid\":false,\"tickfont\":{\"color\":\"#4D5663\"},\"title\":{\"font\":{\"color\":\"#4D5663\"},\"text\":\"\"},\"zerolinecolor\":\"#E1E5ED\"},\"xaxis15\":{\"anchor\":\"y15\",\"domain\":[0.525,0.7375],\"gridcolor\":\"#E1E5ED\",\"showgrid\":false,\"tickfont\":{\"color\":\"#4D5663\"},\"title\":{\"font\":{\"color\":\"#4D5663\"},\"text\":\"\"},\"zerolinecolor\":\"#E1E5ED\"},\"xaxis16\":{\"anchor\":\"y16\",\"domain\":[0.7875,1.0],\"gridcolor\":\"#E1E5ED\",\"showgrid\":false,\"tickfont\":{\"color\":\"#4D5663\"},\"title\":{\"font\":{\"color\":\"#4D5663\"},\"text\":\"\"},\"zerolinecolor\":\"#E1E5ED\"},\"xaxis2\":{\"anchor\":\"y2\",\"domain\":[0.2625,0.475],\"gridcolor\":\"#E1E5ED\",\"showgrid\":false,\"tickfont\":{\"color\":\"#4D5663\"},\"title\":{\"font\":{\"color\":\"#4D5663\"},\"text\":\"\"},\"zerolinecolor\":\"#E1E5ED\"},\"xaxis3\":{\"anchor\":\"y3\",\"domain\":[0.525,0.7375],\"gridcolor\":\"#E1E5ED\",\"showgrid\":false,\"tickfont\":{\"color\":\"#4D5663\"},\"title\":{\"font\":{\"color\":\"#4D5663\"},\"text\":\"\"},\"zerolinecolor\":\"#E1E5ED\"},\"xaxis4\":{\"anchor\":\"y4\",\"domain\":[0.7875,1.0],\"gridcolor\":\"#E1E5ED\",\"showgrid\":false,\"tickfont\":{\"color\":\"#4D5663\"},\"title\":{\"font\":{\"color\":\"#4D5663\"},\"text\":\"\"},\"zerolinecolor\":\"#E1E5ED\"},\"xaxis5\":{\"anchor\":\"y5\",\"domain\":[0.0,0.2125],\"gridcolor\":\"#E1E5ED\",\"showgrid\":false,\"tickfont\":{\"color\":\"#4D5663\"},\"title\":{\"font\":{\"color\":\"#4D5663\"},\"text\":\"\"},\"zerolinecolor\":\"#E1E5ED\"},\"xaxis6\":{\"anchor\":\"y6\",\"domain\":[0.2625,0.475],\"gridcolor\":\"#E1E5ED\",\"showgrid\":false,\"tickfont\":{\"color\":\"#4D5663\"},\"title\":{\"font\":{\"color\":\"#4D5663\"},\"text\":\"\"},\"zerolinecolor\":\"#E1E5ED\"},\"xaxis7\":{\"anchor\":\"y7\",\"domain\":[0.525,0.7375],\"gridcolor\":\"#E1E5ED\",\"showgrid\":false,\"tickfont\":{\"color\":\"#4D5663\"},\"title\":{\"font\":{\"color\":\"#4D5663\"},\"text\":\"\"},\"zerolinecolor\":\"#E1E5ED\"},\"xaxis8\":{\"anchor\":\"y8\",\"domain\":[0.7875,1.0],\"gridcolor\":\"#E1E5ED\",\"showgrid\":false,\"tickfont\":{\"color\":\"#4D5663\"},\"title\":{\"font\":{\"color\":\"#4D5663\"},\"text\":\"\"},\"zerolinecolor\":\"#E1E5ED\"},\"xaxis9\":{\"anchor\":\"y9\",\"domain\":[0.0,0.2125],\"gridcolor\":\"#E1E5ED\",\"showgrid\":false,\"tickfont\":{\"color\":\"#4D5663\"},\"title\":{\"font\":{\"color\":\"#4D5663\"},\"text\":\"\"},\"zerolinecolor\":\"#E1E5ED\"},\"yaxis\":{\"anchor\":\"x\",\"domain\":[0.8025,1.0],\"gridcolor\":\"#E1E5ED\",\"showgrid\":false,\"tickfont\":{\"color\":\"#4D5663\"},\"title\":{\"font\":{\"color\":\"#4D5663\"},\"text\":\"\"},\"zerolinecolor\":\"#E1E5ED\"},\"yaxis10\":{\"anchor\":\"x10\",\"domain\":[0.2675,0.465],\"gridcolor\":\"#E1E5ED\",\"showgrid\":false,\"tickfont\":{\"color\":\"#4D5663\"},\"title\":{\"font\":{\"color\":\"#4D5663\"},\"text\":\"\"},\"zerolinecolor\":\"#E1E5ED\"},\"yaxis11\":{\"anchor\":\"x11\",\"domain\":[0.2675,0.465],\"gridcolor\":\"#E1E5ED\",\"showgrid\":false,\"tickfont\":{\"color\":\"#4D5663\"},\"title\":{\"font\":{\"color\":\"#4D5663\"},\"text\":\"\"},\"zerolinecolor\":\"#E1E5ED\"},\"yaxis12\":{\"anchor\":\"x12\",\"domain\":[0.2675,0.465],\"gridcolor\":\"#E1E5ED\",\"showgrid\":false,\"tickfont\":{\"color\":\"#4D5663\"},\"title\":{\"font\":{\"color\":\"#4D5663\"},\"text\":\"\"},\"zerolinecolor\":\"#E1E5ED\"},\"yaxis13\":{\"anchor\":\"x13\",\"domain\":[0.0,0.1975],\"gridcolor\":\"#E1E5ED\",\"showgrid\":false,\"tickfont\":{\"color\":\"#4D5663\"},\"title\":{\"font\":{\"color\":\"#4D5663\"},\"text\":\"\"},\"zerolinecolor\":\"#E1E5ED\"},\"yaxis14\":{\"anchor\":\"x14\",\"domain\":[0.0,0.1975],\"gridcolor\":\"#E1E5ED\",\"showgrid\":false,\"tickfont\":{\"color\":\"#4D5663\"},\"title\":{\"font\":{\"color\":\"#4D5663\"},\"text\":\"\"},\"zerolinecolor\":\"#E1E5ED\"},\"yaxis15\":{\"anchor\":\"x15\",\"domain\":[0.0,0.1975],\"gridcolor\":\"#E1E5ED\",\"showgrid\":false,\"tickfont\":{\"color\":\"#4D5663\"},\"title\":{\"font\":{\"color\":\"#4D5663\"},\"text\":\"\"},\"zerolinecolor\":\"#E1E5ED\"},\"yaxis16\":{\"anchor\":\"x16\",\"domain\":[0.0,0.1975],\"gridcolor\":\"#E1E5ED\",\"showgrid\":false,\"tickfont\":{\"color\":\"#4D5663\"},\"title\":{\"font\":{\"color\":\"#4D5663\"},\"text\":\"\"},\"zerolinecolor\":\"#E1E5ED\"},\"yaxis2\":{\"anchor\":\"x2\",\"domain\":[0.8025,1.0],\"gridcolor\":\"#E1E5ED\",\"showgrid\":false,\"tickfont\":{\"color\":\"#4D5663\"},\"title\":{\"font\":{\"color\":\"#4D5663\"},\"text\":\"\"},\"zerolinecolor\":\"#E1E5ED\"},\"yaxis3\":{\"anchor\":\"x3\",\"domain\":[0.8025,1.0],\"gridcolor\":\"#E1E5ED\",\"showgrid\":false,\"tickfont\":{\"color\":\"#4D5663\"},\"title\":{\"font\":{\"color\":\"#4D5663\"},\"text\":\"\"},\"zerolinecolor\":\"#E1E5ED\"},\"yaxis4\":{\"anchor\":\"x4\",\"domain\":[0.8025,1.0],\"gridcolor\":\"#E1E5ED\",\"showgrid\":false,\"tickfont\":{\"color\":\"#4D5663\"},\"title\":{\"font\":{\"color\":\"#4D5663\"},\"text\":\"\"},\"zerolinecolor\":\"#E1E5ED\"},\"yaxis5\":{\"anchor\":\"x5\",\"domain\":[0.535,0.7325],\"gridcolor\":\"#E1E5ED\",\"showgrid\":false,\"tickfont\":{\"color\":\"#4D5663\"},\"title\":{\"font\":{\"color\":\"#4D5663\"},\"text\":\"\"},\"zerolinecolor\":\"#E1E5ED\"},\"yaxis6\":{\"anchor\":\"x6\",\"domain\":[0.535,0.7325],\"gridcolor\":\"#E1E5ED\",\"showgrid\":false,\"tickfont\":{\"color\":\"#4D5663\"},\"title\":{\"font\":{\"color\":\"#4D5663\"},\"text\":\"\"},\"zerolinecolor\":\"#E1E5ED\"},\"yaxis7\":{\"anchor\":\"x7\",\"domain\":[0.535,0.7325],\"gridcolor\":\"#E1E5ED\",\"showgrid\":false,\"tickfont\":{\"color\":\"#4D5663\"},\"title\":{\"font\":{\"color\":\"#4D5663\"},\"text\":\"\"},\"zerolinecolor\":\"#E1E5ED\"},\"yaxis8\":{\"anchor\":\"x8\",\"domain\":[0.535,0.7325],\"gridcolor\":\"#E1E5ED\",\"showgrid\":false,\"tickfont\":{\"color\":\"#4D5663\"},\"title\":{\"font\":{\"color\":\"#4D5663\"},\"text\":\"\"},\"zerolinecolor\":\"#E1E5ED\"},\"yaxis9\":{\"anchor\":\"x9\",\"domain\":[0.2675,0.465],\"gridcolor\":\"#E1E5ED\",\"showgrid\":false,\"tickfont\":{\"color\":\"#4D5663\"},\"title\":{\"font\":{\"color\":\"#4D5663\"},\"text\":\"\"},\"zerolinecolor\":\"#E1E5ED\"}},                        {\"showLink\": true, \"linkText\": \"Export to plot.ly\", \"plotlyServerURL\": \"https://plot.ly\", \"responsive\": true}                    ).then(function(){\n",
       "                            \n",
       "var gd = document.getElementById('673f81e7-aacf-40b5-a222-88f5891d1273');\n",
       "var x = new MutationObserver(function (mutations, observer) {{\n",
       "        var display = window.getComputedStyle(gd).display;\n",
       "        if (!display || display === 'none') {{\n",
       "            console.log([gd, 'removed!']);\n",
       "            Plotly.purge(gd);\n",
       "            observer.disconnect();\n",
       "        }}\n",
       "}});\n",
       "\n",
       "// Listen for the removal of the full notebook cells\n",
       "var notebookContainer = gd.closest('#notebook-container');\n",
       "if (notebookContainer) {{\n",
       "    x.observe(notebookContainer, {childList: true});\n",
       "}}\n",
       "\n",
       "// Listen for the clearing of the current output cell\n",
       "var outputEl = gd.closest('.output');\n",
       "if (outputEl) {{\n",
       "    x.observe(outputEl, {childList: true});\n",
       "}}\n",
       "\n",
       "                        })                };                });            </script>        </div>"
      ]
     },
     "metadata": {},
     "output_type": "display_data"
    }
   ],
   "source": [
    "df.scatter_matrix()"
   ]
  },
  {
   "cell_type": "markdown",
   "metadata": {
    "collapsed": true
   },
   "source": [
    "# Great Job!"
   ]
  }
 ],
 "metadata": {
  "kernelspec": {
   "display_name": "Python 3 (ipykernel)",
   "language": "python",
   "name": "python3"
  },
  "language_info": {
   "codemirror_mode": {
    "name": "ipython",
    "version": 3
   },
   "file_extension": ".py",
   "mimetype": "text/x-python",
   "name": "python",
   "nbconvert_exporter": "python",
   "pygments_lexer": "ipython3",
   "version": "3.8.11"
  }
 },
 "nbformat": 4,
 "nbformat_minor": 1
}
